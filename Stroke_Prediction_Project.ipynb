{
  "nbformat": 4,
  "nbformat_minor": 0,
  "metadata": {
    "colab": {
      "name": "Stroke_Prediction_Project",
      "provenance": [],
      "collapsed_sections": [
        "tDYpX0rJY0ne",
        "YdqhBxweahDB",
        "281P5JKP5WWo",
        "1jpKjkla5shf",
        "RagPC4Y151tj",
        "UsoLW_6c59X4",
        "1rQGoAflY9nA",
        "Ao2WXBmfaz2z",
        "ncQLwlrB6Vuh",
        "A_Kf231C6cVR",
        "NZN84DBB6hQP",
        "AmVj7t576xPn",
        "CN26UsPI67Sz",
        "EXNVM1EjJJRG",
        "wtn8TKCFIy7L",
        "CqkR4eH6Jnzn",
        "Dc2HhSayJ4F-",
        "TAoxgNbs7Th5",
        "pioMbrVsnlds",
        "NVD9KYcht-Aw",
        "m22VOuVMux4E",
        "DaNHws_g6kIt",
        "-86NFsVQ61gk",
        "MOvaewBmJ5ct",
        "WoeSocK0vcke",
        "O5U4OOu0MgHC",
        "QOzHkrK3vJJf"
      ]
    },
    "kernelspec": {
      "name": "python3",
      "display_name": "Python 3"
    },
    "language_info": {
      "name": "python"
    }
  },
  "cells": [
    {
      "cell_type": "markdown",
      "source": [
        "# **Data Science Machine Learning Project 2**\n",
        "\n",
        "For this Project I was tasked to find my own dataset that not only fit certain criteria, but also something that interests me or my future endeavors.\n",
        "\n",
        "I chose a dataset that pertains to the healthcare industry. As I come from a pharmacy background, and would like to work in data science in the healthcare industry this dataset uncompases both these goals.\n",
        "\n",
        "**Context**\n",
        "\n",
        "According to the World Health Organization (WHO) stroke is the 2nd leading cause of death globally, responsible for approximately 11% of total deaths.\n",
        "This dataset is used to predict whether a patient is likely to get stroke based on the input parameters like gender, age, various diseases, and smoking status. Each row in the data provides relavant information about the patient."
      ],
      "metadata": {
        "id": "_UwMUCcOcOlL"
      }
    },
    {
      "cell_type": "markdown",
      "source": [
        "# Part 1 Choosing a Dataset"
      ],
      "metadata": {
        "id": "tDYpX0rJY0ne"
      }
    },
    {
      "cell_type": "markdown",
      "source": [
        "**Project 2 - Part 1** \n",
        "\n",
        "For this task:\n",
        "\n",
        "Create a Colab notebook where you have uploaded and shown the .head() of each of your data sets.  For each of the proposed datasets, answer the following questions:\n",
        "\n",
        "**1) Source of data**\n",
        "\n",
        "Kaggle: https://www.kaggle.com/datasets/fedesoriano/stroke-prediction-dataset?resource=download\n",
        "\n",
        "**2) Brief description of data**\n",
        "\n",
        "This dataset is used to predict whether a patient is likely to get stroke based on the input parameters like gender, age, and smoking status. Each row in the data provides relavant information about the patient.\n",
        "\n",
        "**3) What is the target?**\n",
        "\n",
        "If a patient will have a stroke or not\n",
        "\n",
        "**4) Is this a classification or regression problem?**\n",
        "\n",
        "Classification\n",
        "\n",
        "**5) How many features?**\n",
        "\n",
        "12\n",
        "\n",
        "**6) How many rows of data.**\n",
        "\n",
        "583\n",
        "\n",
        "**7) What, if any, challenges do your foresee in cleaning, exploring, or modeling with this dataset?**\n",
        "\n",
        "Being able to tune the data to be accurate and precicise enough to be able to evaluate if a patient will have a stroke. Being able to explore and explain the data in a way that makes sense and leads to logical conclusions."
      ],
      "metadata": {
        "id": "wS8pV9G2YgB-"
      }
    },
    {
      "cell_type": "markdown",
      "source": [
        "# Mount Drive / Import Libraries / Load Dataset / Check Info"
      ],
      "metadata": {
        "id": "YdqhBxweahDB"
      }
    },
    {
      "cell_type": "markdown",
      "source": [
        "## Mount Drive\n"
      ],
      "metadata": {
        "id": "281P5JKP5WWo"
      }
    },
    {
      "cell_type": "code",
      "source": [
        "# Mount Drive\n",
        "from google.colab import drive\n",
        "drive.mount('/content/drive')"
      ],
      "metadata": {
        "colab": {
          "base_uri": "https://localhost:8080/"
        },
        "id": "LdFk40uraLnv",
        "outputId": "9809882c-34da-4cbe-ad18-90fead322c15"
      },
      "execution_count": 405,
      "outputs": [
        {
          "output_type": "stream",
          "name": "stdout",
          "text": [
            "Drive already mounted at /content/drive; to attempt to forcibly remount, call drive.mount(\"/content/drive\", force_remount=True).\n"
          ]
        }
      ]
    },
    {
      "cell_type": "markdown",
      "source": [
        "## Import Libraries"
      ],
      "metadata": {
        "id": "1jpKjkla5shf"
      }
    },
    {
      "cell_type": "code",
      "source": [
        "# Import libraries\n",
        "import pandas as pd\n",
        "import numpy as np\n",
        "import matplotlib.pyplot as plt\n",
        "import seaborn as sns\n",
        "import plotly.express as px\n",
        "import plotly.graph_objects as go\n",
        "from lightgbm import LGBMClassifier\n",
        "from xgboost import XGBClassifier\n",
        "from sklearn.model_selection import train_test_split, cross_val_score\n",
        "from sklearn.preprocessing import StandardScaler, OneHotEncoder, LabelEncoder\n",
        "from sklearn.pipeline import make_pipeline\n",
        "from sklearn.neighbors import KNeighborsClassifier\n",
        "from sklearn.ensemble import RandomForestClassifier, AdaBoostClassifier, GradientBoostingClassifier, VotingClassifier\n",
        "from sklearn.tree import DecisionTreeClassifier\n",
        "from sklearn.svm import SVC\n",
        "from sklearn.linear_model import LogisticRegression\n",
        "from sklearn.compose import make_column_selector, make_column_transformer\n",
        "from sklearn.tree import plot_tree, DecisionTreeClassifier\n",
        "from sklearn.dummy import DummyClassifier\n",
        "from sklearn import metrics\n",
        "from sklearn.metrics import confusion_matrix, silhouette_score\n",
        "from sklearn.metrics import classification_report, accuracy_score, plot_confusion_matrix, ConfusionMatrixDisplay, precision_score, recall_score\n",
        "from sklearn import preprocessing\n",
        "from sklearn.decomposition import PCA\n",
        "from sklearn.cluster import KMeans\n",
        "from sklearn import set_config\n",
        "set_config(display='diagram')"
      ],
      "metadata": {
        "id": "ajRjTMjWaPKk"
      },
      "execution_count": 406,
      "outputs": []
    },
    {
      "cell_type": "markdown",
      "source": [
        "## Load Dataset"
      ],
      "metadata": {
        "id": "RagPC4Y151tj"
      }
    },
    {
      "cell_type": "code",
      "source": [
        "# Load dataset \n",
        "df= '/content/healthcare-dataset-stroke-data.csv'\n",
        "df= pd.read_csv(df, index_col=0)\n",
        "df.head()"
      ],
      "metadata": {
        "colab": {
          "base_uri": "https://localhost:8080/",
          "height": 0
        },
        "id": "UHZMiAQeB-Kf",
        "outputId": "8fb55fc3-38e7-452b-838b-a829bfdeb8fd"
      },
      "execution_count": 407,
      "outputs": [
        {
          "output_type": "execute_result",
          "data": {
            "text/plain": [
              "       gender   age  hypertension  heart_disease ever_married      work_type  \\\n",
              "id                                                                             \n",
              "9046     Male  67.0             0              1          Yes        Private   \n",
              "51676  Female  61.0             0              0          Yes  Self-employed   \n",
              "31112    Male  80.0             0              1          Yes        Private   \n",
              "60182  Female  49.0             0              0          Yes        Private   \n",
              "1665   Female  79.0             1              0          Yes  Self-employed   \n",
              "\n",
              "      Residence_type  avg_glucose_level   bmi   smoking_status  stroke  \n",
              "id                                                                      \n",
              "9046           Urban             228.69  36.6  formerly smoked       1  \n",
              "51676          Rural             202.21   NaN     never smoked       1  \n",
              "31112          Rural             105.92  32.5     never smoked       1  \n",
              "60182          Urban             171.23  34.4           smokes       1  \n",
              "1665           Rural             174.12  24.0     never smoked       1  "
            ],
            "text/html": [
              "\n",
              "  <div id=\"df-7e94e427-5958-422d-a61c-85b83c5302b7\">\n",
              "    <div class=\"colab-df-container\">\n",
              "      <div>\n",
              "<style scoped>\n",
              "    .dataframe tbody tr th:only-of-type {\n",
              "        vertical-align: middle;\n",
              "    }\n",
              "\n",
              "    .dataframe tbody tr th {\n",
              "        vertical-align: top;\n",
              "    }\n",
              "\n",
              "    .dataframe thead th {\n",
              "        text-align: right;\n",
              "    }\n",
              "</style>\n",
              "<table border=\"1\" class=\"dataframe\">\n",
              "  <thead>\n",
              "    <tr style=\"text-align: right;\">\n",
              "      <th></th>\n",
              "      <th>gender</th>\n",
              "      <th>age</th>\n",
              "      <th>hypertension</th>\n",
              "      <th>heart_disease</th>\n",
              "      <th>ever_married</th>\n",
              "      <th>work_type</th>\n",
              "      <th>Residence_type</th>\n",
              "      <th>avg_glucose_level</th>\n",
              "      <th>bmi</th>\n",
              "      <th>smoking_status</th>\n",
              "      <th>stroke</th>\n",
              "    </tr>\n",
              "    <tr>\n",
              "      <th>id</th>\n",
              "      <th></th>\n",
              "      <th></th>\n",
              "      <th></th>\n",
              "      <th></th>\n",
              "      <th></th>\n",
              "      <th></th>\n",
              "      <th></th>\n",
              "      <th></th>\n",
              "      <th></th>\n",
              "      <th></th>\n",
              "      <th></th>\n",
              "    </tr>\n",
              "  </thead>\n",
              "  <tbody>\n",
              "    <tr>\n",
              "      <th>9046</th>\n",
              "      <td>Male</td>\n",
              "      <td>67.0</td>\n",
              "      <td>0</td>\n",
              "      <td>1</td>\n",
              "      <td>Yes</td>\n",
              "      <td>Private</td>\n",
              "      <td>Urban</td>\n",
              "      <td>228.69</td>\n",
              "      <td>36.6</td>\n",
              "      <td>formerly smoked</td>\n",
              "      <td>1</td>\n",
              "    </tr>\n",
              "    <tr>\n",
              "      <th>51676</th>\n",
              "      <td>Female</td>\n",
              "      <td>61.0</td>\n",
              "      <td>0</td>\n",
              "      <td>0</td>\n",
              "      <td>Yes</td>\n",
              "      <td>Self-employed</td>\n",
              "      <td>Rural</td>\n",
              "      <td>202.21</td>\n",
              "      <td>NaN</td>\n",
              "      <td>never smoked</td>\n",
              "      <td>1</td>\n",
              "    </tr>\n",
              "    <tr>\n",
              "      <th>31112</th>\n",
              "      <td>Male</td>\n",
              "      <td>80.0</td>\n",
              "      <td>0</td>\n",
              "      <td>1</td>\n",
              "      <td>Yes</td>\n",
              "      <td>Private</td>\n",
              "      <td>Rural</td>\n",
              "      <td>105.92</td>\n",
              "      <td>32.5</td>\n",
              "      <td>never smoked</td>\n",
              "      <td>1</td>\n",
              "    </tr>\n",
              "    <tr>\n",
              "      <th>60182</th>\n",
              "      <td>Female</td>\n",
              "      <td>49.0</td>\n",
              "      <td>0</td>\n",
              "      <td>0</td>\n",
              "      <td>Yes</td>\n",
              "      <td>Private</td>\n",
              "      <td>Urban</td>\n",
              "      <td>171.23</td>\n",
              "      <td>34.4</td>\n",
              "      <td>smokes</td>\n",
              "      <td>1</td>\n",
              "    </tr>\n",
              "    <tr>\n",
              "      <th>1665</th>\n",
              "      <td>Female</td>\n",
              "      <td>79.0</td>\n",
              "      <td>1</td>\n",
              "      <td>0</td>\n",
              "      <td>Yes</td>\n",
              "      <td>Self-employed</td>\n",
              "      <td>Rural</td>\n",
              "      <td>174.12</td>\n",
              "      <td>24.0</td>\n",
              "      <td>never smoked</td>\n",
              "      <td>1</td>\n",
              "    </tr>\n",
              "  </tbody>\n",
              "</table>\n",
              "</div>\n",
              "      <button class=\"colab-df-convert\" onclick=\"convertToInteractive('df-7e94e427-5958-422d-a61c-85b83c5302b7')\"\n",
              "              title=\"Convert this dataframe to an interactive table.\"\n",
              "              style=\"display:none;\">\n",
              "        \n",
              "  <svg xmlns=\"http://www.w3.org/2000/svg\" height=\"24px\"viewBox=\"0 0 24 24\"\n",
              "       width=\"24px\">\n",
              "    <path d=\"M0 0h24v24H0V0z\" fill=\"none\"/>\n",
              "    <path d=\"M18.56 5.44l.94 2.06.94-2.06 2.06-.94-2.06-.94-.94-2.06-.94 2.06-2.06.94zm-11 1L8.5 8.5l.94-2.06 2.06-.94-2.06-.94L8.5 2.5l-.94 2.06-2.06.94zm10 10l.94 2.06.94-2.06 2.06-.94-2.06-.94-.94-2.06-.94 2.06-2.06.94z\"/><path d=\"M17.41 7.96l-1.37-1.37c-.4-.4-.92-.59-1.43-.59-.52 0-1.04.2-1.43.59L10.3 9.45l-7.72 7.72c-.78.78-.78 2.05 0 2.83L4 21.41c.39.39.9.59 1.41.59.51 0 1.02-.2 1.41-.59l7.78-7.78 2.81-2.81c.8-.78.8-2.07 0-2.86zM5.41 20L4 18.59l7.72-7.72 1.47 1.35L5.41 20z\"/>\n",
              "  </svg>\n",
              "      </button>\n",
              "      \n",
              "  <style>\n",
              "    .colab-df-container {\n",
              "      display:flex;\n",
              "      flex-wrap:wrap;\n",
              "      gap: 12px;\n",
              "    }\n",
              "\n",
              "    .colab-df-convert {\n",
              "      background-color: #E8F0FE;\n",
              "      border: none;\n",
              "      border-radius: 50%;\n",
              "      cursor: pointer;\n",
              "      display: none;\n",
              "      fill: #1967D2;\n",
              "      height: 32px;\n",
              "      padding: 0 0 0 0;\n",
              "      width: 32px;\n",
              "    }\n",
              "\n",
              "    .colab-df-convert:hover {\n",
              "      background-color: #E2EBFA;\n",
              "      box-shadow: 0px 1px 2px rgba(60, 64, 67, 0.3), 0px 1px 3px 1px rgba(60, 64, 67, 0.15);\n",
              "      fill: #174EA6;\n",
              "    }\n",
              "\n",
              "    [theme=dark] .colab-df-convert {\n",
              "      background-color: #3B4455;\n",
              "      fill: #D2E3FC;\n",
              "    }\n",
              "\n",
              "    [theme=dark] .colab-df-convert:hover {\n",
              "      background-color: #434B5C;\n",
              "      box-shadow: 0px 1px 3px 1px rgba(0, 0, 0, 0.15);\n",
              "      filter: drop-shadow(0px 1px 2px rgba(0, 0, 0, 0.3));\n",
              "      fill: #FFFFFF;\n",
              "    }\n",
              "  </style>\n",
              "\n",
              "      <script>\n",
              "        const buttonEl =\n",
              "          document.querySelector('#df-7e94e427-5958-422d-a61c-85b83c5302b7 button.colab-df-convert');\n",
              "        buttonEl.style.display =\n",
              "          google.colab.kernel.accessAllowed ? 'block' : 'none';\n",
              "\n",
              "        async function convertToInteractive(key) {\n",
              "          const element = document.querySelector('#df-7e94e427-5958-422d-a61c-85b83c5302b7');\n",
              "          const dataTable =\n",
              "            await google.colab.kernel.invokeFunction('convertToInteractive',\n",
              "                                                     [key], {});\n",
              "          if (!dataTable) return;\n",
              "\n",
              "          const docLinkHtml = 'Like what you see? Visit the ' +\n",
              "            '<a target=\"_blank\" href=https://colab.research.google.com/notebooks/data_table.ipynb>data table notebook</a>'\n",
              "            + ' to learn more about interactive tables.';\n",
              "          element.innerHTML = '';\n",
              "          dataTable['output_type'] = 'display_data';\n",
              "          await google.colab.output.renderOutput(dataTable, element);\n",
              "          const docLink = document.createElement('div');\n",
              "          docLink.innerHTML = docLinkHtml;\n",
              "          element.appendChild(docLink);\n",
              "        }\n",
              "      </script>\n",
              "    </div>\n",
              "  </div>\n",
              "  "
            ]
          },
          "metadata": {},
          "execution_count": 407
        }
      ]
    },
    {
      "cell_type": "markdown",
      "source": [
        "## Check Info"
      ],
      "metadata": {
        "id": "UsoLW_6c59X4"
      }
    },
    {
      "cell_type": "code",
      "source": [
        "# Get a quick overview of the data within the columns and what data type the column provides\n",
        "df.info()"
      ],
      "metadata": {
        "colab": {
          "base_uri": "https://localhost:8080/"
        },
        "id": "pkyF3gCBIEXG",
        "outputId": "1f513970-a510-4e61-d5a4-4c5e6289a0cf"
      },
      "execution_count": 408,
      "outputs": [
        {
          "output_type": "stream",
          "name": "stdout",
          "text": [
            "<class 'pandas.core.frame.DataFrame'>\n",
            "Int64Index: 5110 entries, 9046 to 44679\n",
            "Data columns (total 11 columns):\n",
            " #   Column             Non-Null Count  Dtype  \n",
            "---  ------             --------------  -----  \n",
            " 0   gender             5110 non-null   object \n",
            " 1   age                5110 non-null   float64\n",
            " 2   hypertension       5110 non-null   int64  \n",
            " 3   heart_disease      5110 non-null   int64  \n",
            " 4   ever_married       5110 non-null   object \n",
            " 5   work_type          5110 non-null   object \n",
            " 6   Residence_type     5110 non-null   object \n",
            " 7   avg_glucose_level  5110 non-null   float64\n",
            " 8   bmi                4909 non-null   float64\n",
            " 9   smoking_status     5110 non-null   object \n",
            " 10  stroke             5110 non-null   int64  \n",
            "dtypes: float64(3), int64(3), object(5)\n",
            "memory usage: 479.1+ KB\n"
          ]
        }
      ]
    },
    {
      "cell_type": "code",
      "source": [
        "# Get a quick overview of the numeric data columns\n",
        "df.describe()"
      ],
      "metadata": {
        "colab": {
          "base_uri": "https://localhost:8080/",
          "height": 0
        },
        "id": "2Png3CUW8eV-",
        "outputId": "acc3027b-216f-4796-88ea-582e1e7e046d"
      },
      "execution_count": 409,
      "outputs": [
        {
          "output_type": "execute_result",
          "data": {
            "text/plain": [
              "               age  hypertension  heart_disease  avg_glucose_level  \\\n",
              "count  5110.000000   5110.000000    5110.000000        5110.000000   \n",
              "mean     43.226614      0.097456       0.054012         106.147677   \n",
              "std      22.612647      0.296607       0.226063          45.283560   \n",
              "min       0.080000      0.000000       0.000000          55.120000   \n",
              "25%      25.000000      0.000000       0.000000          77.245000   \n",
              "50%      45.000000      0.000000       0.000000          91.885000   \n",
              "75%      61.000000      0.000000       0.000000         114.090000   \n",
              "max      82.000000      1.000000       1.000000         271.740000   \n",
              "\n",
              "               bmi       stroke  \n",
              "count  4909.000000  5110.000000  \n",
              "mean     28.893237     0.048728  \n",
              "std       7.854067     0.215320  \n",
              "min      10.300000     0.000000  \n",
              "25%      23.500000     0.000000  \n",
              "50%      28.100000     0.000000  \n",
              "75%      33.100000     0.000000  \n",
              "max      97.600000     1.000000  "
            ],
            "text/html": [
              "\n",
              "  <div id=\"df-d3081390-6e4b-4fe7-8da9-b5134d7b977d\">\n",
              "    <div class=\"colab-df-container\">\n",
              "      <div>\n",
              "<style scoped>\n",
              "    .dataframe tbody tr th:only-of-type {\n",
              "        vertical-align: middle;\n",
              "    }\n",
              "\n",
              "    .dataframe tbody tr th {\n",
              "        vertical-align: top;\n",
              "    }\n",
              "\n",
              "    .dataframe thead th {\n",
              "        text-align: right;\n",
              "    }\n",
              "</style>\n",
              "<table border=\"1\" class=\"dataframe\">\n",
              "  <thead>\n",
              "    <tr style=\"text-align: right;\">\n",
              "      <th></th>\n",
              "      <th>age</th>\n",
              "      <th>hypertension</th>\n",
              "      <th>heart_disease</th>\n",
              "      <th>avg_glucose_level</th>\n",
              "      <th>bmi</th>\n",
              "      <th>stroke</th>\n",
              "    </tr>\n",
              "  </thead>\n",
              "  <tbody>\n",
              "    <tr>\n",
              "      <th>count</th>\n",
              "      <td>5110.000000</td>\n",
              "      <td>5110.000000</td>\n",
              "      <td>5110.000000</td>\n",
              "      <td>5110.000000</td>\n",
              "      <td>4909.000000</td>\n",
              "      <td>5110.000000</td>\n",
              "    </tr>\n",
              "    <tr>\n",
              "      <th>mean</th>\n",
              "      <td>43.226614</td>\n",
              "      <td>0.097456</td>\n",
              "      <td>0.054012</td>\n",
              "      <td>106.147677</td>\n",
              "      <td>28.893237</td>\n",
              "      <td>0.048728</td>\n",
              "    </tr>\n",
              "    <tr>\n",
              "      <th>std</th>\n",
              "      <td>22.612647</td>\n",
              "      <td>0.296607</td>\n",
              "      <td>0.226063</td>\n",
              "      <td>45.283560</td>\n",
              "      <td>7.854067</td>\n",
              "      <td>0.215320</td>\n",
              "    </tr>\n",
              "    <tr>\n",
              "      <th>min</th>\n",
              "      <td>0.080000</td>\n",
              "      <td>0.000000</td>\n",
              "      <td>0.000000</td>\n",
              "      <td>55.120000</td>\n",
              "      <td>10.300000</td>\n",
              "      <td>0.000000</td>\n",
              "    </tr>\n",
              "    <tr>\n",
              "      <th>25%</th>\n",
              "      <td>25.000000</td>\n",
              "      <td>0.000000</td>\n",
              "      <td>0.000000</td>\n",
              "      <td>77.245000</td>\n",
              "      <td>23.500000</td>\n",
              "      <td>0.000000</td>\n",
              "    </tr>\n",
              "    <tr>\n",
              "      <th>50%</th>\n",
              "      <td>45.000000</td>\n",
              "      <td>0.000000</td>\n",
              "      <td>0.000000</td>\n",
              "      <td>91.885000</td>\n",
              "      <td>28.100000</td>\n",
              "      <td>0.000000</td>\n",
              "    </tr>\n",
              "    <tr>\n",
              "      <th>75%</th>\n",
              "      <td>61.000000</td>\n",
              "      <td>0.000000</td>\n",
              "      <td>0.000000</td>\n",
              "      <td>114.090000</td>\n",
              "      <td>33.100000</td>\n",
              "      <td>0.000000</td>\n",
              "    </tr>\n",
              "    <tr>\n",
              "      <th>max</th>\n",
              "      <td>82.000000</td>\n",
              "      <td>1.000000</td>\n",
              "      <td>1.000000</td>\n",
              "      <td>271.740000</td>\n",
              "      <td>97.600000</td>\n",
              "      <td>1.000000</td>\n",
              "    </tr>\n",
              "  </tbody>\n",
              "</table>\n",
              "</div>\n",
              "      <button class=\"colab-df-convert\" onclick=\"convertToInteractive('df-d3081390-6e4b-4fe7-8da9-b5134d7b977d')\"\n",
              "              title=\"Convert this dataframe to an interactive table.\"\n",
              "              style=\"display:none;\">\n",
              "        \n",
              "  <svg xmlns=\"http://www.w3.org/2000/svg\" height=\"24px\"viewBox=\"0 0 24 24\"\n",
              "       width=\"24px\">\n",
              "    <path d=\"M0 0h24v24H0V0z\" fill=\"none\"/>\n",
              "    <path d=\"M18.56 5.44l.94 2.06.94-2.06 2.06-.94-2.06-.94-.94-2.06-.94 2.06-2.06.94zm-11 1L8.5 8.5l.94-2.06 2.06-.94-2.06-.94L8.5 2.5l-.94 2.06-2.06.94zm10 10l.94 2.06.94-2.06 2.06-.94-2.06-.94-.94-2.06-.94 2.06-2.06.94z\"/><path d=\"M17.41 7.96l-1.37-1.37c-.4-.4-.92-.59-1.43-.59-.52 0-1.04.2-1.43.59L10.3 9.45l-7.72 7.72c-.78.78-.78 2.05 0 2.83L4 21.41c.39.39.9.59 1.41.59.51 0 1.02-.2 1.41-.59l7.78-7.78 2.81-2.81c.8-.78.8-2.07 0-2.86zM5.41 20L4 18.59l7.72-7.72 1.47 1.35L5.41 20z\"/>\n",
              "  </svg>\n",
              "      </button>\n",
              "      \n",
              "  <style>\n",
              "    .colab-df-container {\n",
              "      display:flex;\n",
              "      flex-wrap:wrap;\n",
              "      gap: 12px;\n",
              "    }\n",
              "\n",
              "    .colab-df-convert {\n",
              "      background-color: #E8F0FE;\n",
              "      border: none;\n",
              "      border-radius: 50%;\n",
              "      cursor: pointer;\n",
              "      display: none;\n",
              "      fill: #1967D2;\n",
              "      height: 32px;\n",
              "      padding: 0 0 0 0;\n",
              "      width: 32px;\n",
              "    }\n",
              "\n",
              "    .colab-df-convert:hover {\n",
              "      background-color: #E2EBFA;\n",
              "      box-shadow: 0px 1px 2px rgba(60, 64, 67, 0.3), 0px 1px 3px 1px rgba(60, 64, 67, 0.15);\n",
              "      fill: #174EA6;\n",
              "    }\n",
              "\n",
              "    [theme=dark] .colab-df-convert {\n",
              "      background-color: #3B4455;\n",
              "      fill: #D2E3FC;\n",
              "    }\n",
              "\n",
              "    [theme=dark] .colab-df-convert:hover {\n",
              "      background-color: #434B5C;\n",
              "      box-shadow: 0px 1px 3px 1px rgba(0, 0, 0, 0.15);\n",
              "      filter: drop-shadow(0px 1px 2px rgba(0, 0, 0, 0.3));\n",
              "      fill: #FFFFFF;\n",
              "    }\n",
              "  </style>\n",
              "\n",
              "      <script>\n",
              "        const buttonEl =\n",
              "          document.querySelector('#df-d3081390-6e4b-4fe7-8da9-b5134d7b977d button.colab-df-convert');\n",
              "        buttonEl.style.display =\n",
              "          google.colab.kernel.accessAllowed ? 'block' : 'none';\n",
              "\n",
              "        async function convertToInteractive(key) {\n",
              "          const element = document.querySelector('#df-d3081390-6e4b-4fe7-8da9-b5134d7b977d');\n",
              "          const dataTable =\n",
              "            await google.colab.kernel.invokeFunction('convertToInteractive',\n",
              "                                                     [key], {});\n",
              "          if (!dataTable) return;\n",
              "\n",
              "          const docLinkHtml = 'Like what you see? Visit the ' +\n",
              "            '<a target=\"_blank\" href=https://colab.research.google.com/notebooks/data_table.ipynb>data table notebook</a>'\n",
              "            + ' to learn more about interactive tables.';\n",
              "          element.innerHTML = '';\n",
              "          dataTable['output_type'] = 'display_data';\n",
              "          await google.colab.output.renderOutput(dataTable, element);\n",
              "          const docLink = document.createElement('div');\n",
              "          docLink.innerHTML = docLinkHtml;\n",
              "          element.appendChild(docLink);\n",
              "        }\n",
              "      </script>\n",
              "    </div>\n",
              "  </div>\n",
              "  "
            ]
          },
          "metadata": {},
          "execution_count": 409
        }
      ]
    },
    {
      "cell_type": "markdown",
      "source": [
        "# Part 2 Clean the Data"
      ],
      "metadata": {
        "id": "1rQGoAflY9nA"
      }
    },
    {
      "cell_type": "markdown",
      "source": [
        "**Project 2 - Part 2** \n",
        "\n",
        "Using the approved dataset you proposed for project 2 part 1 last week, you will clean and explore the data set.  \n",
        "\n",
        "To meet the requirements for this week you must have:\n",
        "\n",
        "- Deleted unnecessary columns\n",
        "\n",
        "- Deleted duplicate rows\n",
        "\n",
        "- Identified and addressed missing values \n",
        "\n",
        "- Identified and corrected inconsistencies in data for categorical values (i.e. Cat, cat, cats)\n",
        "\n",
        "- Identified outliers\n",
        "\n",
        "- Clearly commented all of your cleaning steps and described any decisions you made  \n"
      ],
      "metadata": {
        "id": "JjOxOYCOZPTS"
      }
    },
    {
      "cell_type": "markdown",
      "source": [
        "# Data Cleaning"
      ],
      "metadata": {
        "id": "Ao2WXBmfaz2z"
      }
    },
    {
      "cell_type": "markdown",
      "source": [
        "## Rename Columns"
      ],
      "metadata": {
        "id": "ncQLwlrB6Vuh"
      }
    },
    {
      "cell_type": "code",
      "source": [
        "# Rename Columns to Clean Things Up\n",
        "df.rename(columns = {'gender':'Gender', 'age':'Age', 'hypertension':'Hypertension', 'heart_disease':'Heart_Disease', 'ever_married':'Ever_Married', 'work_type':'Work_Type', 'Residence_type':'Residence_Type', 'avg_glucose_level':'Avg_Glucose_Level', 'bmi':'BMI', 'smoking_status':'Smoking_Status', 'stroke':'Stroke'}, inplace = True)\n",
        "df.info()"
      ],
      "metadata": {
        "colab": {
          "base_uri": "https://localhost:8080/"
        },
        "id": "u_lu5oNssdKs",
        "outputId": "662e0fe4-e9ed-41a4-ed71-a1541003d1b7"
      },
      "execution_count": 410,
      "outputs": [
        {
          "output_type": "stream",
          "name": "stdout",
          "text": [
            "<class 'pandas.core.frame.DataFrame'>\n",
            "Int64Index: 5110 entries, 9046 to 44679\n",
            "Data columns (total 11 columns):\n",
            " #   Column             Non-Null Count  Dtype  \n",
            "---  ------             --------------  -----  \n",
            " 0   Gender             5110 non-null   object \n",
            " 1   Age                5110 non-null   float64\n",
            " 2   Hypertension       5110 non-null   int64  \n",
            " 3   Heart_Disease      5110 non-null   int64  \n",
            " 4   Ever_Married       5110 non-null   object \n",
            " 5   Work_Type          5110 non-null   object \n",
            " 6   Residence_Type     5110 non-null   object \n",
            " 7   Avg_Glucose_Level  5110 non-null   float64\n",
            " 8   BMI                4909 non-null   float64\n",
            " 9   Smoking_Status     5110 non-null   object \n",
            " 10  Stroke             5110 non-null   int64  \n",
            "dtypes: float64(3), int64(3), object(5)\n",
            "memory usage: 479.1+ KB\n"
          ]
        }
      ]
    },
    {
      "cell_type": "markdown",
      "source": [
        "## Check For Duplicates"
      ],
      "metadata": {
        "id": "A_Kf231C6cVR"
      }
    },
    {
      "cell_type": "code",
      "source": [
        "# Check for Duplicates\n",
        "df.duplicated().sum()"
      ],
      "metadata": {
        "colab": {
          "base_uri": "https://localhost:8080/"
        },
        "id": "aTm_pjnvY75H",
        "outputId": "ed56590f-9e1e-48aa-ad87-bcc3794c9000"
      },
      "execution_count": 411,
      "outputs": [
        {
          "output_type": "execute_result",
          "data": {
            "text/plain": [
              "0"
            ]
          },
          "metadata": {},
          "execution_count": 411
        }
      ]
    },
    {
      "cell_type": "markdown",
      "source": [
        "## Identify and Address any Missing Values"
      ],
      "metadata": {
        "id": "NZN84DBB6hQP"
      }
    },
    {
      "cell_type": "code",
      "source": [
        "# Identify and address any missing values in this dataset. \n",
        "df.isna().sum()"
      ],
      "metadata": {
        "colab": {
          "base_uri": "https://localhost:8080/"
        },
        "id": "LD710w2vY73O",
        "outputId": "9dafef9c-00f1-4629-90f9-53280e162713"
      },
      "execution_count": 412,
      "outputs": [
        {
          "output_type": "execute_result",
          "data": {
            "text/plain": [
              "Gender                 0\n",
              "Age                    0\n",
              "Hypertension           0\n",
              "Heart_Disease          0\n",
              "Ever_Married           0\n",
              "Work_Type              0\n",
              "Residence_Type         0\n",
              "Avg_Glucose_Level      0\n",
              "BMI                  201\n",
              "Smoking_Status         0\n",
              "Stroke                 0\n",
              "dtype: int64"
            ]
          },
          "metadata": {},
          "execution_count": 412
        }
      ]
    },
    {
      "cell_type": "markdown",
      "source": [
        "40% of the data for the BMI column is missing I will choose to drop this column since this is a significant amount of missing data."
      ],
      "metadata": {
        "id": "2pPTaFHkVKrJ"
      }
    },
    {
      "cell_type": "code",
      "source": [
        "# Drop BMI column\n",
        "df = df.drop(columns=['BMI'])\n",
        "df.head()"
      ],
      "metadata": {
        "colab": {
          "base_uri": "https://localhost:8080/",
          "height": 0
        },
        "id": "g7ABSGYDUlCH",
        "outputId": "07a6a843-ab3e-48b2-ab5a-7b1cb79cbd21"
      },
      "execution_count": 413,
      "outputs": [
        {
          "output_type": "execute_result",
          "data": {
            "text/plain": [
              "       Gender   Age  Hypertension  Heart_Disease Ever_Married      Work_Type  \\\n",
              "id                                                                             \n",
              "9046     Male  67.0             0              1          Yes        Private   \n",
              "51676  Female  61.0             0              0          Yes  Self-employed   \n",
              "31112    Male  80.0             0              1          Yes        Private   \n",
              "60182  Female  49.0             0              0          Yes        Private   \n",
              "1665   Female  79.0             1              0          Yes  Self-employed   \n",
              "\n",
              "      Residence_Type  Avg_Glucose_Level   Smoking_Status  Stroke  \n",
              "id                                                                \n",
              "9046           Urban             228.69  formerly smoked       1  \n",
              "51676          Rural             202.21     never smoked       1  \n",
              "31112          Rural             105.92     never smoked       1  \n",
              "60182          Urban             171.23           smokes       1  \n",
              "1665           Rural             174.12     never smoked       1  "
            ],
            "text/html": [
              "\n",
              "  <div id=\"df-2555bda6-f4e6-4b73-a8cd-12c68b9e7620\">\n",
              "    <div class=\"colab-df-container\">\n",
              "      <div>\n",
              "<style scoped>\n",
              "    .dataframe tbody tr th:only-of-type {\n",
              "        vertical-align: middle;\n",
              "    }\n",
              "\n",
              "    .dataframe tbody tr th {\n",
              "        vertical-align: top;\n",
              "    }\n",
              "\n",
              "    .dataframe thead th {\n",
              "        text-align: right;\n",
              "    }\n",
              "</style>\n",
              "<table border=\"1\" class=\"dataframe\">\n",
              "  <thead>\n",
              "    <tr style=\"text-align: right;\">\n",
              "      <th></th>\n",
              "      <th>Gender</th>\n",
              "      <th>Age</th>\n",
              "      <th>Hypertension</th>\n",
              "      <th>Heart_Disease</th>\n",
              "      <th>Ever_Married</th>\n",
              "      <th>Work_Type</th>\n",
              "      <th>Residence_Type</th>\n",
              "      <th>Avg_Glucose_Level</th>\n",
              "      <th>Smoking_Status</th>\n",
              "      <th>Stroke</th>\n",
              "    </tr>\n",
              "    <tr>\n",
              "      <th>id</th>\n",
              "      <th></th>\n",
              "      <th></th>\n",
              "      <th></th>\n",
              "      <th></th>\n",
              "      <th></th>\n",
              "      <th></th>\n",
              "      <th></th>\n",
              "      <th></th>\n",
              "      <th></th>\n",
              "      <th></th>\n",
              "    </tr>\n",
              "  </thead>\n",
              "  <tbody>\n",
              "    <tr>\n",
              "      <th>9046</th>\n",
              "      <td>Male</td>\n",
              "      <td>67.0</td>\n",
              "      <td>0</td>\n",
              "      <td>1</td>\n",
              "      <td>Yes</td>\n",
              "      <td>Private</td>\n",
              "      <td>Urban</td>\n",
              "      <td>228.69</td>\n",
              "      <td>formerly smoked</td>\n",
              "      <td>1</td>\n",
              "    </tr>\n",
              "    <tr>\n",
              "      <th>51676</th>\n",
              "      <td>Female</td>\n",
              "      <td>61.0</td>\n",
              "      <td>0</td>\n",
              "      <td>0</td>\n",
              "      <td>Yes</td>\n",
              "      <td>Self-employed</td>\n",
              "      <td>Rural</td>\n",
              "      <td>202.21</td>\n",
              "      <td>never smoked</td>\n",
              "      <td>1</td>\n",
              "    </tr>\n",
              "    <tr>\n",
              "      <th>31112</th>\n",
              "      <td>Male</td>\n",
              "      <td>80.0</td>\n",
              "      <td>0</td>\n",
              "      <td>1</td>\n",
              "      <td>Yes</td>\n",
              "      <td>Private</td>\n",
              "      <td>Rural</td>\n",
              "      <td>105.92</td>\n",
              "      <td>never smoked</td>\n",
              "      <td>1</td>\n",
              "    </tr>\n",
              "    <tr>\n",
              "      <th>60182</th>\n",
              "      <td>Female</td>\n",
              "      <td>49.0</td>\n",
              "      <td>0</td>\n",
              "      <td>0</td>\n",
              "      <td>Yes</td>\n",
              "      <td>Private</td>\n",
              "      <td>Urban</td>\n",
              "      <td>171.23</td>\n",
              "      <td>smokes</td>\n",
              "      <td>1</td>\n",
              "    </tr>\n",
              "    <tr>\n",
              "      <th>1665</th>\n",
              "      <td>Female</td>\n",
              "      <td>79.0</td>\n",
              "      <td>1</td>\n",
              "      <td>0</td>\n",
              "      <td>Yes</td>\n",
              "      <td>Self-employed</td>\n",
              "      <td>Rural</td>\n",
              "      <td>174.12</td>\n",
              "      <td>never smoked</td>\n",
              "      <td>1</td>\n",
              "    </tr>\n",
              "  </tbody>\n",
              "</table>\n",
              "</div>\n",
              "      <button class=\"colab-df-convert\" onclick=\"convertToInteractive('df-2555bda6-f4e6-4b73-a8cd-12c68b9e7620')\"\n",
              "              title=\"Convert this dataframe to an interactive table.\"\n",
              "              style=\"display:none;\">\n",
              "        \n",
              "  <svg xmlns=\"http://www.w3.org/2000/svg\" height=\"24px\"viewBox=\"0 0 24 24\"\n",
              "       width=\"24px\">\n",
              "    <path d=\"M0 0h24v24H0V0z\" fill=\"none\"/>\n",
              "    <path d=\"M18.56 5.44l.94 2.06.94-2.06 2.06-.94-2.06-.94-.94-2.06-.94 2.06-2.06.94zm-11 1L8.5 8.5l.94-2.06 2.06-.94-2.06-.94L8.5 2.5l-.94 2.06-2.06.94zm10 10l.94 2.06.94-2.06 2.06-.94-2.06-.94-.94-2.06-.94 2.06-2.06.94z\"/><path d=\"M17.41 7.96l-1.37-1.37c-.4-.4-.92-.59-1.43-.59-.52 0-1.04.2-1.43.59L10.3 9.45l-7.72 7.72c-.78.78-.78 2.05 0 2.83L4 21.41c.39.39.9.59 1.41.59.51 0 1.02-.2 1.41-.59l7.78-7.78 2.81-2.81c.8-.78.8-2.07 0-2.86zM5.41 20L4 18.59l7.72-7.72 1.47 1.35L5.41 20z\"/>\n",
              "  </svg>\n",
              "      </button>\n",
              "      \n",
              "  <style>\n",
              "    .colab-df-container {\n",
              "      display:flex;\n",
              "      flex-wrap:wrap;\n",
              "      gap: 12px;\n",
              "    }\n",
              "\n",
              "    .colab-df-convert {\n",
              "      background-color: #E8F0FE;\n",
              "      border: none;\n",
              "      border-radius: 50%;\n",
              "      cursor: pointer;\n",
              "      display: none;\n",
              "      fill: #1967D2;\n",
              "      height: 32px;\n",
              "      padding: 0 0 0 0;\n",
              "      width: 32px;\n",
              "    }\n",
              "\n",
              "    .colab-df-convert:hover {\n",
              "      background-color: #E2EBFA;\n",
              "      box-shadow: 0px 1px 2px rgba(60, 64, 67, 0.3), 0px 1px 3px 1px rgba(60, 64, 67, 0.15);\n",
              "      fill: #174EA6;\n",
              "    }\n",
              "\n",
              "    [theme=dark] .colab-df-convert {\n",
              "      background-color: #3B4455;\n",
              "      fill: #D2E3FC;\n",
              "    }\n",
              "\n",
              "    [theme=dark] .colab-df-convert:hover {\n",
              "      background-color: #434B5C;\n",
              "      box-shadow: 0px 1px 3px 1px rgba(0, 0, 0, 0.15);\n",
              "      filter: drop-shadow(0px 1px 2px rgba(0, 0, 0, 0.3));\n",
              "      fill: #FFFFFF;\n",
              "    }\n",
              "  </style>\n",
              "\n",
              "      <script>\n",
              "        const buttonEl =\n",
              "          document.querySelector('#df-2555bda6-f4e6-4b73-a8cd-12c68b9e7620 button.colab-df-convert');\n",
              "        buttonEl.style.display =\n",
              "          google.colab.kernel.accessAllowed ? 'block' : 'none';\n",
              "\n",
              "        async function convertToInteractive(key) {\n",
              "          const element = document.querySelector('#df-2555bda6-f4e6-4b73-a8cd-12c68b9e7620');\n",
              "          const dataTable =\n",
              "            await google.colab.kernel.invokeFunction('convertToInteractive',\n",
              "                                                     [key], {});\n",
              "          if (!dataTable) return;\n",
              "\n",
              "          const docLinkHtml = 'Like what you see? Visit the ' +\n",
              "            '<a target=\"_blank\" href=https://colab.research.google.com/notebooks/data_table.ipynb>data table notebook</a>'\n",
              "            + ' to learn more about interactive tables.';\n",
              "          element.innerHTML = '';\n",
              "          dataTable['output_type'] = 'display_data';\n",
              "          await google.colab.output.renderOutput(dataTable, element);\n",
              "          const docLink = document.createElement('div');\n",
              "          docLink.innerHTML = docLinkHtml;\n",
              "          element.appendChild(docLink);\n",
              "        }\n",
              "      </script>\n",
              "    </div>\n",
              "  </div>\n",
              "  "
            ]
          },
          "metadata": {},
          "execution_count": 413
        }
      ]
    },
    {
      "cell_type": "markdown",
      "source": [
        "## Clean up Numerical Columns"
      ],
      "metadata": {
        "id": "AmVj7t576xPn"
      }
    },
    {
      "cell_type": "code",
      "source": [
        "# Check Data types\n",
        "data_types = df.dtypes\n",
        "numerical_data_types = data_types[(data_types == \"float64\") | (data_types == \"int64\")]\n",
        "numerical_data_types"
      ],
      "metadata": {
        "colab": {
          "base_uri": "https://localhost:8080/"
        },
        "id": "WCDmcx11Y709",
        "outputId": "84a48057-e380-4f99-964f-f5bba8d3d21e"
      },
      "execution_count": 414,
      "outputs": [
        {
          "output_type": "execute_result",
          "data": {
            "text/plain": [
              "Age                  float64\n",
              "Hypertension           int64\n",
              "Heart_Disease          int64\n",
              "Avg_Glucose_Level    float64\n",
              "Stroke                 int64\n",
              "dtype: object"
            ]
          },
          "metadata": {},
          "execution_count": 414
        }
      ]
    },
    {
      "cell_type": "code",
      "source": [
        "# Check for Outliers\n",
        "df.describe()"
      ],
      "metadata": {
        "colab": {
          "base_uri": "https://localhost:8080/",
          "height": 0
        },
        "id": "pK6LIpAzY7yo",
        "outputId": "e89529c5-8856-4395-98b3-d567f2e8f3b6"
      },
      "execution_count": 415,
      "outputs": [
        {
          "output_type": "execute_result",
          "data": {
            "text/plain": [
              "               Age  Hypertension  Heart_Disease  Avg_Glucose_Level  \\\n",
              "count  5110.000000   5110.000000    5110.000000        5110.000000   \n",
              "mean     43.226614      0.097456       0.054012         106.147677   \n",
              "std      22.612647      0.296607       0.226063          45.283560   \n",
              "min       0.080000      0.000000       0.000000          55.120000   \n",
              "25%      25.000000      0.000000       0.000000          77.245000   \n",
              "50%      45.000000      0.000000       0.000000          91.885000   \n",
              "75%      61.000000      0.000000       0.000000         114.090000   \n",
              "max      82.000000      1.000000       1.000000         271.740000   \n",
              "\n",
              "            Stroke  \n",
              "count  5110.000000  \n",
              "mean      0.048728  \n",
              "std       0.215320  \n",
              "min       0.000000  \n",
              "25%       0.000000  \n",
              "50%       0.000000  \n",
              "75%       0.000000  \n",
              "max       1.000000  "
            ],
            "text/html": [
              "\n",
              "  <div id=\"df-9fe8652a-4c95-444c-9196-2203dcaf89bc\">\n",
              "    <div class=\"colab-df-container\">\n",
              "      <div>\n",
              "<style scoped>\n",
              "    .dataframe tbody tr th:only-of-type {\n",
              "        vertical-align: middle;\n",
              "    }\n",
              "\n",
              "    .dataframe tbody tr th {\n",
              "        vertical-align: top;\n",
              "    }\n",
              "\n",
              "    .dataframe thead th {\n",
              "        text-align: right;\n",
              "    }\n",
              "</style>\n",
              "<table border=\"1\" class=\"dataframe\">\n",
              "  <thead>\n",
              "    <tr style=\"text-align: right;\">\n",
              "      <th></th>\n",
              "      <th>Age</th>\n",
              "      <th>Hypertension</th>\n",
              "      <th>Heart_Disease</th>\n",
              "      <th>Avg_Glucose_Level</th>\n",
              "      <th>Stroke</th>\n",
              "    </tr>\n",
              "  </thead>\n",
              "  <tbody>\n",
              "    <tr>\n",
              "      <th>count</th>\n",
              "      <td>5110.000000</td>\n",
              "      <td>5110.000000</td>\n",
              "      <td>5110.000000</td>\n",
              "      <td>5110.000000</td>\n",
              "      <td>5110.000000</td>\n",
              "    </tr>\n",
              "    <tr>\n",
              "      <th>mean</th>\n",
              "      <td>43.226614</td>\n",
              "      <td>0.097456</td>\n",
              "      <td>0.054012</td>\n",
              "      <td>106.147677</td>\n",
              "      <td>0.048728</td>\n",
              "    </tr>\n",
              "    <tr>\n",
              "      <th>std</th>\n",
              "      <td>22.612647</td>\n",
              "      <td>0.296607</td>\n",
              "      <td>0.226063</td>\n",
              "      <td>45.283560</td>\n",
              "      <td>0.215320</td>\n",
              "    </tr>\n",
              "    <tr>\n",
              "      <th>min</th>\n",
              "      <td>0.080000</td>\n",
              "      <td>0.000000</td>\n",
              "      <td>0.000000</td>\n",
              "      <td>55.120000</td>\n",
              "      <td>0.000000</td>\n",
              "    </tr>\n",
              "    <tr>\n",
              "      <th>25%</th>\n",
              "      <td>25.000000</td>\n",
              "      <td>0.000000</td>\n",
              "      <td>0.000000</td>\n",
              "      <td>77.245000</td>\n",
              "      <td>0.000000</td>\n",
              "    </tr>\n",
              "    <tr>\n",
              "      <th>50%</th>\n",
              "      <td>45.000000</td>\n",
              "      <td>0.000000</td>\n",
              "      <td>0.000000</td>\n",
              "      <td>91.885000</td>\n",
              "      <td>0.000000</td>\n",
              "    </tr>\n",
              "    <tr>\n",
              "      <th>75%</th>\n",
              "      <td>61.000000</td>\n",
              "      <td>0.000000</td>\n",
              "      <td>0.000000</td>\n",
              "      <td>114.090000</td>\n",
              "      <td>0.000000</td>\n",
              "    </tr>\n",
              "    <tr>\n",
              "      <th>max</th>\n",
              "      <td>82.000000</td>\n",
              "      <td>1.000000</td>\n",
              "      <td>1.000000</td>\n",
              "      <td>271.740000</td>\n",
              "      <td>1.000000</td>\n",
              "    </tr>\n",
              "  </tbody>\n",
              "</table>\n",
              "</div>\n",
              "      <button class=\"colab-df-convert\" onclick=\"convertToInteractive('df-9fe8652a-4c95-444c-9196-2203dcaf89bc')\"\n",
              "              title=\"Convert this dataframe to an interactive table.\"\n",
              "              style=\"display:none;\">\n",
              "        \n",
              "  <svg xmlns=\"http://www.w3.org/2000/svg\" height=\"24px\"viewBox=\"0 0 24 24\"\n",
              "       width=\"24px\">\n",
              "    <path d=\"M0 0h24v24H0V0z\" fill=\"none\"/>\n",
              "    <path d=\"M18.56 5.44l.94 2.06.94-2.06 2.06-.94-2.06-.94-.94-2.06-.94 2.06-2.06.94zm-11 1L8.5 8.5l.94-2.06 2.06-.94-2.06-.94L8.5 2.5l-.94 2.06-2.06.94zm10 10l.94 2.06.94-2.06 2.06-.94-2.06-.94-.94-2.06-.94 2.06-2.06.94z\"/><path d=\"M17.41 7.96l-1.37-1.37c-.4-.4-.92-.59-1.43-.59-.52 0-1.04.2-1.43.59L10.3 9.45l-7.72 7.72c-.78.78-.78 2.05 0 2.83L4 21.41c.39.39.9.59 1.41.59.51 0 1.02-.2 1.41-.59l7.78-7.78 2.81-2.81c.8-.78.8-2.07 0-2.86zM5.41 20L4 18.59l7.72-7.72 1.47 1.35L5.41 20z\"/>\n",
              "  </svg>\n",
              "      </button>\n",
              "      \n",
              "  <style>\n",
              "    .colab-df-container {\n",
              "      display:flex;\n",
              "      flex-wrap:wrap;\n",
              "      gap: 12px;\n",
              "    }\n",
              "\n",
              "    .colab-df-convert {\n",
              "      background-color: #E8F0FE;\n",
              "      border: none;\n",
              "      border-radius: 50%;\n",
              "      cursor: pointer;\n",
              "      display: none;\n",
              "      fill: #1967D2;\n",
              "      height: 32px;\n",
              "      padding: 0 0 0 0;\n",
              "      width: 32px;\n",
              "    }\n",
              "\n",
              "    .colab-df-convert:hover {\n",
              "      background-color: #E2EBFA;\n",
              "      box-shadow: 0px 1px 2px rgba(60, 64, 67, 0.3), 0px 1px 3px 1px rgba(60, 64, 67, 0.15);\n",
              "      fill: #174EA6;\n",
              "    }\n",
              "\n",
              "    [theme=dark] .colab-df-convert {\n",
              "      background-color: #3B4455;\n",
              "      fill: #D2E3FC;\n",
              "    }\n",
              "\n",
              "    [theme=dark] .colab-df-convert:hover {\n",
              "      background-color: #434B5C;\n",
              "      box-shadow: 0px 1px 3px 1px rgba(0, 0, 0, 0.15);\n",
              "      filter: drop-shadow(0px 1px 2px rgba(0, 0, 0, 0.3));\n",
              "      fill: #FFFFFF;\n",
              "    }\n",
              "  </style>\n",
              "\n",
              "      <script>\n",
              "        const buttonEl =\n",
              "          document.querySelector('#df-9fe8652a-4c95-444c-9196-2203dcaf89bc button.colab-df-convert');\n",
              "        buttonEl.style.display =\n",
              "          google.colab.kernel.accessAllowed ? 'block' : 'none';\n",
              "\n",
              "        async function convertToInteractive(key) {\n",
              "          const element = document.querySelector('#df-9fe8652a-4c95-444c-9196-2203dcaf89bc');\n",
              "          const dataTable =\n",
              "            await google.colab.kernel.invokeFunction('convertToInteractive',\n",
              "                                                     [key], {});\n",
              "          if (!dataTable) return;\n",
              "\n",
              "          const docLinkHtml = 'Like what you see? Visit the ' +\n",
              "            '<a target=\"_blank\" href=https://colab.research.google.com/notebooks/data_table.ipynb>data table notebook</a>'\n",
              "            + ' to learn more about interactive tables.';\n",
              "          element.innerHTML = '';\n",
              "          dataTable['output_type'] = 'display_data';\n",
              "          await google.colab.output.renderOutput(dataTable, element);\n",
              "          const docLink = document.createElement('div');\n",
              "          docLink.innerHTML = docLinkHtml;\n",
              "          element.appendChild(docLink);\n",
              "        }\n",
              "      </script>\n",
              "    </div>\n",
              "  </div>\n",
              "  "
            ]
          },
          "metadata": {},
          "execution_count": 415
        }
      ]
    },
    {
      "cell_type": "code",
      "source": [
        "# Check unique values in dataset\n",
        "df.apply(lambda x: len(x.unique()))"
      ],
      "metadata": {
        "colab": {
          "base_uri": "https://localhost:8080/"
        },
        "id": "BPNgkS12bW3D",
        "outputId": "3e8c0a95-5a73-4495-ca4e-e1fb070e37b1"
      },
      "execution_count": 416,
      "outputs": [
        {
          "output_type": "execute_result",
          "data": {
            "text/plain": [
              "Gender                  3\n",
              "Age                   104\n",
              "Hypertension            2\n",
              "Heart_Disease           2\n",
              "Ever_Married            2\n",
              "Work_Type               5\n",
              "Residence_Type          2\n",
              "Avg_Glucose_Level    3979\n",
              "Smoking_Status          4\n",
              "Stroke                  2\n",
              "dtype: int64"
            ]
          },
          "metadata": {},
          "execution_count": 416
        }
      ]
    },
    {
      "cell_type": "markdown",
      "source": [
        "I will check the Age and Avg_Glucose_Level columns to see why there is so many unique values. "
      ],
      "metadata": {
        "id": "OB9rjAUL3Z9x"
      }
    },
    {
      "cell_type": "markdown",
      "source": [
        "The Age column is figured out to the exact amount of days the person was alive on the day of the testing. This is unnecessary, and does not provide any extra value to the information this way. By Rounding the numbers to the closest interger we will decrease the amount of unique values, which will help in future processing and visualization. I will also convert the column to an int since I am rounding the column. This decreases the amount of unique values from 104 to 82."
      ],
      "metadata": {
        "id": "qhWAugStzAyB"
      }
    },
    {
      "cell_type": "code",
      "source": [
        "# Check values for the Age column\n",
        "df['Age'].unique()"
      ],
      "metadata": {
        "colab": {
          "base_uri": "https://localhost:8080/"
        },
        "id": "oo1I7jTgw6aI",
        "outputId": "25a15494-7726-40fa-9979-6c03c7f67c30"
      },
      "execution_count": 417,
      "outputs": [
        {
          "output_type": "execute_result",
          "data": {
            "text/plain": [
              "array([6.70e+01, 6.10e+01, 8.00e+01, 4.90e+01, 7.90e+01, 8.10e+01,\n",
              "       7.40e+01, 6.90e+01, 5.90e+01, 7.80e+01, 5.40e+01, 5.00e+01,\n",
              "       6.40e+01, 7.50e+01, 6.00e+01, 5.70e+01, 7.10e+01, 5.20e+01,\n",
              "       8.20e+01, 6.50e+01, 5.80e+01, 4.20e+01, 4.80e+01, 7.20e+01,\n",
              "       6.30e+01, 7.60e+01, 3.90e+01, 7.70e+01, 7.30e+01, 5.60e+01,\n",
              "       4.50e+01, 7.00e+01, 6.60e+01, 5.10e+01, 4.30e+01, 6.80e+01,\n",
              "       4.70e+01, 5.30e+01, 3.80e+01, 5.50e+01, 1.32e+00, 4.60e+01,\n",
              "       3.20e+01, 1.40e+01, 3.00e+00, 8.00e+00, 3.70e+01, 4.00e+01,\n",
              "       3.50e+01, 2.00e+01, 4.40e+01, 2.50e+01, 2.70e+01, 2.30e+01,\n",
              "       1.70e+01, 1.30e+01, 4.00e+00, 1.60e+01, 2.20e+01, 3.00e+01,\n",
              "       2.90e+01, 1.10e+01, 2.10e+01, 1.80e+01, 3.30e+01, 2.40e+01,\n",
              "       3.40e+01, 3.60e+01, 6.40e-01, 4.10e+01, 8.80e-01, 5.00e+00,\n",
              "       2.60e+01, 3.10e+01, 7.00e+00, 1.20e+01, 6.20e+01, 2.00e+00,\n",
              "       9.00e+00, 1.50e+01, 2.80e+01, 1.00e+01, 1.80e+00, 3.20e-01,\n",
              "       1.08e+00, 1.90e+01, 6.00e+00, 1.16e+00, 1.00e+00, 1.40e+00,\n",
              "       1.72e+00, 2.40e-01, 1.64e+00, 1.56e+00, 7.20e-01, 1.88e+00,\n",
              "       1.24e+00, 8.00e-01, 4.00e-01, 8.00e-02, 1.48e+00, 5.60e-01,\n",
              "       4.80e-01, 1.60e-01])"
            ]
          },
          "metadata": {},
          "execution_count": 417
        }
      ]
    },
    {
      "cell_type": "code",
      "source": [
        "# Round the Age column\n",
        "df['Age'] = df['Age'].apply(np.ceil)\n",
        "df['Age'] = df['Age'].apply(np.int64) \n",
        "df['Age'].unique()"
      ],
      "metadata": {
        "colab": {
          "base_uri": "https://localhost:8080/"
        },
        "id": "AF-yV-YpyBfa",
        "outputId": "3611aa8a-ca48-49e8-f8b2-dd47828fa5e4"
      },
      "execution_count": 418,
      "outputs": [
        {
          "output_type": "execute_result",
          "data": {
            "text/plain": [
              "array([67, 61, 80, 49, 79, 81, 74, 69, 59, 78, 54, 50, 64, 75, 60, 57, 71,\n",
              "       52, 82, 65, 58, 42, 48, 72, 63, 76, 39, 77, 73, 56, 45, 70, 66, 51,\n",
              "       43, 68, 47, 53, 38, 55,  2, 46, 32, 14,  3,  8, 37, 40, 35, 20, 44,\n",
              "       25, 27, 23, 17, 13,  4, 16, 22, 30, 29, 11, 21, 18, 33, 24, 34, 36,\n",
              "        1, 41,  5, 26, 31,  7, 12, 62,  9, 15, 28, 10, 19,  6])"
            ]
          },
          "metadata": {},
          "execution_count": 418
        }
      ]
    },
    {
      "cell_type": "markdown",
      "source": [
        "The Avg_Glucose_Level column was filled with the exact level. This is giving us 3,979 unique values. As there is no significant difference between it being an interger or a decimal I will choose to round this column. By Rounding the numbers to the closest interger we will decrease the amount of unique values, which will help in future processing and visualization. I will also convert the column to an int since I am rounding the column. This decreases the amount of unique values from 3,979 to 207"
      ],
      "metadata": {
        "id": "sY2rukhE3J15"
      }
    },
    {
      "cell_type": "code",
      "source": [
        "# Check values for the Avg_Glucose_Level column\n",
        "df['Avg_Glucose_Level'].unique()"
      ],
      "metadata": {
        "colab": {
          "base_uri": "https://localhost:8080/"
        },
        "id": "SajG-nIgyS4O",
        "outputId": "f37bc205-7033-407f-9af0-8e5f462865bd"
      },
      "execution_count": 419,
      "outputs": [
        {
          "output_type": "execute_result",
          "data": {
            "text/plain": [
              "array([228.69, 202.21, 105.92, ...,  82.99, 166.29,  85.28])"
            ]
          },
          "metadata": {},
          "execution_count": 419
        }
      ]
    },
    {
      "cell_type": "code",
      "source": [
        "# Round the Avg_Glucose_Level\n",
        "df['Avg_Glucose_Level'] = df['Avg_Glucose_Level'].apply(np.ceil) \n",
        "df['Avg_Glucose_Level'] = df['Avg_Glucose_Level'].apply(np.int64) \n",
        "df['Avg_Glucose_Level'].unique()"
      ],
      "metadata": {
        "colab": {
          "base_uri": "https://localhost:8080/"
        },
        "id": "6h2IV5PqyU2M",
        "outputId": "1d3bd0d0-72e5-46a8-a886-6ccffc57f877"
      },
      "execution_count": 420,
      "outputs": [
        {
          "output_type": "execute_result",
          "data": {
            "text/plain": [
              "array([229, 203, 106, 172, 175, 187,  71,  95,  77,  59,  81, 121, 105,\n",
              "       220, 215, 168, 192, 222,  90, 218, 194, 234, 209, 103, 101, 190,\n",
              "       196, 212, 213,  84, 197, 253,  85,  75,  93,  61,  79,  72, 145,\n",
              "        91, 214, 244, 110, 108, 100,  76, 128, 125, 198,  60, 238, 195,\n",
              "       181, 186,  62,  94, 114,  87,  73,  63, 180, 117,  97,  67, 241,\n",
              "       111, 166, 144, 102,  89,  80, 112,  99, 227,  69,  65, 236,  83,\n",
              "       191, 232,  74, 130, 107, 225, 217, 260, 250, 132, 201, 131, 183,\n",
              "       207, 264, 141, 208, 200, 104, 152,  68, 240, 170, 224,  78,  58,\n",
              "        82, 204, 134, 163,  92,  98,  57, 113, 138, 216, 210, 206, 119,\n",
              "       272, 243, 115, 176,  88, 135,  96, 211, 251, 185, 219, 248,  70,\n",
              "       162,  86, 199,  56, 150, 118, 142, 147, 221, 116, 235, 230, 139,\n",
              "       137, 127,  64, 252, 124, 123, 179, 148, 140, 226, 228, 146, 202,\n",
              "       171, 133,  66, 184, 109, 156, 164, 189, 205, 126, 159, 149, 157,\n",
              "       122, 120, 223, 129, 174, 153, 255, 161, 136, 160, 237, 143, 233,\n",
              "       158, 247, 154, 231, 268, 151, 182, 245, 155, 254, 239, 169, 177,\n",
              "       188, 165, 193, 267, 173, 256, 178, 261, 249, 262, 257, 167])"
            ]
          },
          "metadata": {},
          "execution_count": 420
        }
      ]
    },
    {
      "cell_type": "markdown",
      "source": [
        "## Clean up Categorical Columns"
      ],
      "metadata": {
        "id": "CN26UsPI67Sz"
      }
    },
    {
      "cell_type": "code",
      "source": [
        "# Identify and address any inconsistencies in categorical values\n",
        "# Double check for anymore random values, mispellings or duplicates\n",
        "dtypes = df.dtypes\n",
        "str_cols = dtypes[dtypes=='object'].index\n",
        "str_cols"
      ],
      "metadata": {
        "colab": {
          "base_uri": "https://localhost:8080/"
        },
        "id": "CDTzxVjyY7wQ",
        "outputId": "13d2bfb3-ff29-4cc9-9924-cc8258d3592c"
      },
      "execution_count": 421,
      "outputs": [
        {
          "output_type": "execute_result",
          "data": {
            "text/plain": [
              "Index(['Gender', 'Ever_Married', 'Work_Type', 'Residence_Type',\n",
              "       'Smoking_Status'],\n",
              "      dtype='object')"
            ]
          },
          "metadata": {},
          "execution_count": 421
        }
      ]
    },
    {
      "cell_type": "code",
      "source": [
        "for col in str_cols:\n",
        "    print(f\"- Column= {col}\")\n",
        "    print(df[col].value_counts(dropna=False))\n",
        "    print('\\n\\n')"
      ],
      "metadata": {
        "colab": {
          "base_uri": "https://localhost:8080/"
        },
        "id": "6CtlTENaY7uE",
        "outputId": "4bce0780-36da-4b2e-a7c3-7d8d2123ef37"
      },
      "execution_count": 422,
      "outputs": [
        {
          "output_type": "stream",
          "name": "stdout",
          "text": [
            "- Column= Gender\n",
            "Female    2994\n",
            "Male      2115\n",
            "Other        1\n",
            "Name: Gender, dtype: int64\n",
            "\n",
            "\n",
            "\n",
            "- Column= Ever_Married\n",
            "Yes    3353\n",
            "No     1757\n",
            "Name: Ever_Married, dtype: int64\n",
            "\n",
            "\n",
            "\n",
            "- Column= Work_Type\n",
            "Private          2925\n",
            "Self-employed     819\n",
            "children          687\n",
            "Govt_job          657\n",
            "Never_worked       22\n",
            "Name: Work_Type, dtype: int64\n",
            "\n",
            "\n",
            "\n",
            "- Column= Residence_Type\n",
            "Urban    2596\n",
            "Rural    2514\n",
            "Name: Residence_Type, dtype: int64\n",
            "\n",
            "\n",
            "\n",
            "- Column= Smoking_Status\n",
            "never smoked       1892\n",
            "Unknown            1544\n",
            "formerly smoked     885\n",
            "smokes              789\n",
            "Name: Smoking_Status, dtype: int64\n",
            "\n",
            "\n",
            "\n"
          ]
        }
      ]
    },
    {
      "cell_type": "code",
      "source": [
        "# Address the Work_Type column values\n",
        "df['Work_Type'].value_counts()"
      ],
      "metadata": {
        "colab": {
          "base_uri": "https://localhost:8080/"
        },
        "id": "bZOBq6wmuk8o",
        "outputId": "7444755f-ddfd-46d7-c7fe-061d1b13cf5d"
      },
      "execution_count": 423,
      "outputs": [
        {
          "output_type": "execute_result",
          "data": {
            "text/plain": [
              "Private          2925\n",
              "Self-employed     819\n",
              "children          687\n",
              "Govt_job          657\n",
              "Never_worked       22\n",
              "Name: Work_Type, dtype: int64"
            ]
          },
          "metadata": {},
          "execution_count": 423
        }
      ]
    },
    {
      "cell_type": "code",
      "source": [
        "# Replace with correct values\n",
        "df['Work_Type']= df['Work_Type'].replace('Self-employed', 'Self_Employed')\n",
        "df['Work_Type']= df['Work_Type'].replace('children', 'Children')\n",
        "df['Work_Type']= df['Work_Type'].replace('Govt_job', 'Govt_Job')\n",
        "df['Work_Type']= df['Work_Type'].replace('Never_worked ', 'Never_Worked')\n",
        "df['Work_Type'].value_counts()"
      ],
      "metadata": {
        "colab": {
          "base_uri": "https://localhost:8080/"
        },
        "id": "KVMGrQSTuoT4",
        "outputId": "15078a8b-f3c8-4cd6-e8e1-4776fcd11d9f"
      },
      "execution_count": 424,
      "outputs": [
        {
          "output_type": "execute_result",
          "data": {
            "text/plain": [
              "Private          2925\n",
              "Self_Employed     819\n",
              "Children          687\n",
              "Govt_Job          657\n",
              "Never_worked       22\n",
              "Name: Work_Type, dtype: int64"
            ]
          },
          "metadata": {},
          "execution_count": 424
        }
      ]
    },
    {
      "cell_type": "code",
      "source": [
        "# Address the Smoking_Status column values\n",
        "df['Smoking_Status'].value_counts()"
      ],
      "metadata": {
        "colab": {
          "base_uri": "https://localhost:8080/"
        },
        "id": "NPFY5-jbvRuZ",
        "outputId": "2e2e9d0a-8999-415d-d17e-36fe9bbc4dcd"
      },
      "execution_count": 425,
      "outputs": [
        {
          "output_type": "execute_result",
          "data": {
            "text/plain": [
              "never smoked       1892\n",
              "Unknown            1544\n",
              "formerly smoked     885\n",
              "smokes              789\n",
              "Name: Smoking_Status, dtype: int64"
            ]
          },
          "metadata": {},
          "execution_count": 425
        }
      ]
    },
    {
      "cell_type": "code",
      "source": [
        "# Replace with correct values\n",
        "df['Smoking_Status']= df['Smoking_Status'].replace('never smoked', 'Never_Smoked')\n",
        "df['Smoking_Status']= df['Smoking_Status'].replace('formerly smoked', 'Former_Smoker')\n",
        "df['Smoking_Status']= df['Smoking_Status'].replace('smokes', 'Active_Smoker')\n",
        "df['Smoking_Status'].value_counts()"
      ],
      "metadata": {
        "colab": {
          "base_uri": "https://localhost:8080/"
        },
        "id": "NZ7Ql83gvRoe",
        "outputId": "22ed5da5-1cd2-4c33-b701-98037ce9638e"
      },
      "execution_count": 426,
      "outputs": [
        {
          "output_type": "execute_result",
          "data": {
            "text/plain": [
              "Never_Smoked     1892\n",
              "Unknown          1544\n",
              "Former_Smoker     885\n",
              "Active_Smoker     789\n",
              "Name: Smoking_Status, dtype: int64"
            ]
          },
          "metadata": {},
          "execution_count": 426
        }
      ]
    },
    {
      "cell_type": "code",
      "source": [
        "df.head()"
      ],
      "metadata": {
        "colab": {
          "base_uri": "https://localhost:8080/",
          "height": 0
        },
        "id": "ciu3k231wNp7",
        "outputId": "c32a5cd2-748c-405d-fa52-05f4212bde7b"
      },
      "execution_count": 427,
      "outputs": [
        {
          "output_type": "execute_result",
          "data": {
            "text/plain": [
              "       Gender  Age  Hypertension  Heart_Disease Ever_Married      Work_Type  \\\n",
              "id                                                                            \n",
              "9046     Male   67             0              1          Yes        Private   \n",
              "51676  Female   61             0              0          Yes  Self_Employed   \n",
              "31112    Male   80             0              1          Yes        Private   \n",
              "60182  Female   49             0              0          Yes        Private   \n",
              "1665   Female   79             1              0          Yes  Self_Employed   \n",
              "\n",
              "      Residence_Type  Avg_Glucose_Level Smoking_Status  Stroke  \n",
              "id                                                              \n",
              "9046           Urban                229  Former_Smoker       1  \n",
              "51676          Rural                203   Never_Smoked       1  \n",
              "31112          Rural                106   Never_Smoked       1  \n",
              "60182          Urban                172  Active_Smoker       1  \n",
              "1665           Rural                175   Never_Smoked       1  "
            ],
            "text/html": [
              "\n",
              "  <div id=\"df-4d9d4dce-27ce-4aaf-8b98-bee13e931d06\">\n",
              "    <div class=\"colab-df-container\">\n",
              "      <div>\n",
              "<style scoped>\n",
              "    .dataframe tbody tr th:only-of-type {\n",
              "        vertical-align: middle;\n",
              "    }\n",
              "\n",
              "    .dataframe tbody tr th {\n",
              "        vertical-align: top;\n",
              "    }\n",
              "\n",
              "    .dataframe thead th {\n",
              "        text-align: right;\n",
              "    }\n",
              "</style>\n",
              "<table border=\"1\" class=\"dataframe\">\n",
              "  <thead>\n",
              "    <tr style=\"text-align: right;\">\n",
              "      <th></th>\n",
              "      <th>Gender</th>\n",
              "      <th>Age</th>\n",
              "      <th>Hypertension</th>\n",
              "      <th>Heart_Disease</th>\n",
              "      <th>Ever_Married</th>\n",
              "      <th>Work_Type</th>\n",
              "      <th>Residence_Type</th>\n",
              "      <th>Avg_Glucose_Level</th>\n",
              "      <th>Smoking_Status</th>\n",
              "      <th>Stroke</th>\n",
              "    </tr>\n",
              "    <tr>\n",
              "      <th>id</th>\n",
              "      <th></th>\n",
              "      <th></th>\n",
              "      <th></th>\n",
              "      <th></th>\n",
              "      <th></th>\n",
              "      <th></th>\n",
              "      <th></th>\n",
              "      <th></th>\n",
              "      <th></th>\n",
              "      <th></th>\n",
              "    </tr>\n",
              "  </thead>\n",
              "  <tbody>\n",
              "    <tr>\n",
              "      <th>9046</th>\n",
              "      <td>Male</td>\n",
              "      <td>67</td>\n",
              "      <td>0</td>\n",
              "      <td>1</td>\n",
              "      <td>Yes</td>\n",
              "      <td>Private</td>\n",
              "      <td>Urban</td>\n",
              "      <td>229</td>\n",
              "      <td>Former_Smoker</td>\n",
              "      <td>1</td>\n",
              "    </tr>\n",
              "    <tr>\n",
              "      <th>51676</th>\n",
              "      <td>Female</td>\n",
              "      <td>61</td>\n",
              "      <td>0</td>\n",
              "      <td>0</td>\n",
              "      <td>Yes</td>\n",
              "      <td>Self_Employed</td>\n",
              "      <td>Rural</td>\n",
              "      <td>203</td>\n",
              "      <td>Never_Smoked</td>\n",
              "      <td>1</td>\n",
              "    </tr>\n",
              "    <tr>\n",
              "      <th>31112</th>\n",
              "      <td>Male</td>\n",
              "      <td>80</td>\n",
              "      <td>0</td>\n",
              "      <td>1</td>\n",
              "      <td>Yes</td>\n",
              "      <td>Private</td>\n",
              "      <td>Rural</td>\n",
              "      <td>106</td>\n",
              "      <td>Never_Smoked</td>\n",
              "      <td>1</td>\n",
              "    </tr>\n",
              "    <tr>\n",
              "      <th>60182</th>\n",
              "      <td>Female</td>\n",
              "      <td>49</td>\n",
              "      <td>0</td>\n",
              "      <td>0</td>\n",
              "      <td>Yes</td>\n",
              "      <td>Private</td>\n",
              "      <td>Urban</td>\n",
              "      <td>172</td>\n",
              "      <td>Active_Smoker</td>\n",
              "      <td>1</td>\n",
              "    </tr>\n",
              "    <tr>\n",
              "      <th>1665</th>\n",
              "      <td>Female</td>\n",
              "      <td>79</td>\n",
              "      <td>1</td>\n",
              "      <td>0</td>\n",
              "      <td>Yes</td>\n",
              "      <td>Self_Employed</td>\n",
              "      <td>Rural</td>\n",
              "      <td>175</td>\n",
              "      <td>Never_Smoked</td>\n",
              "      <td>1</td>\n",
              "    </tr>\n",
              "  </tbody>\n",
              "</table>\n",
              "</div>\n",
              "      <button class=\"colab-df-convert\" onclick=\"convertToInteractive('df-4d9d4dce-27ce-4aaf-8b98-bee13e931d06')\"\n",
              "              title=\"Convert this dataframe to an interactive table.\"\n",
              "              style=\"display:none;\">\n",
              "        \n",
              "  <svg xmlns=\"http://www.w3.org/2000/svg\" height=\"24px\"viewBox=\"0 0 24 24\"\n",
              "       width=\"24px\">\n",
              "    <path d=\"M0 0h24v24H0V0z\" fill=\"none\"/>\n",
              "    <path d=\"M18.56 5.44l.94 2.06.94-2.06 2.06-.94-2.06-.94-.94-2.06-.94 2.06-2.06.94zm-11 1L8.5 8.5l.94-2.06 2.06-.94-2.06-.94L8.5 2.5l-.94 2.06-2.06.94zm10 10l.94 2.06.94-2.06 2.06-.94-2.06-.94-.94-2.06-.94 2.06-2.06.94z\"/><path d=\"M17.41 7.96l-1.37-1.37c-.4-.4-.92-.59-1.43-.59-.52 0-1.04.2-1.43.59L10.3 9.45l-7.72 7.72c-.78.78-.78 2.05 0 2.83L4 21.41c.39.39.9.59 1.41.59.51 0 1.02-.2 1.41-.59l7.78-7.78 2.81-2.81c.8-.78.8-2.07 0-2.86zM5.41 20L4 18.59l7.72-7.72 1.47 1.35L5.41 20z\"/>\n",
              "  </svg>\n",
              "      </button>\n",
              "      \n",
              "  <style>\n",
              "    .colab-df-container {\n",
              "      display:flex;\n",
              "      flex-wrap:wrap;\n",
              "      gap: 12px;\n",
              "    }\n",
              "\n",
              "    .colab-df-convert {\n",
              "      background-color: #E8F0FE;\n",
              "      border: none;\n",
              "      border-radius: 50%;\n",
              "      cursor: pointer;\n",
              "      display: none;\n",
              "      fill: #1967D2;\n",
              "      height: 32px;\n",
              "      padding: 0 0 0 0;\n",
              "      width: 32px;\n",
              "    }\n",
              "\n",
              "    .colab-df-convert:hover {\n",
              "      background-color: #E2EBFA;\n",
              "      box-shadow: 0px 1px 2px rgba(60, 64, 67, 0.3), 0px 1px 3px 1px rgba(60, 64, 67, 0.15);\n",
              "      fill: #174EA6;\n",
              "    }\n",
              "\n",
              "    [theme=dark] .colab-df-convert {\n",
              "      background-color: #3B4455;\n",
              "      fill: #D2E3FC;\n",
              "    }\n",
              "\n",
              "    [theme=dark] .colab-df-convert:hover {\n",
              "      background-color: #434B5C;\n",
              "      box-shadow: 0px 1px 3px 1px rgba(0, 0, 0, 0.15);\n",
              "      filter: drop-shadow(0px 1px 2px rgba(0, 0, 0, 0.3));\n",
              "      fill: #FFFFFF;\n",
              "    }\n",
              "  </style>\n",
              "\n",
              "      <script>\n",
              "        const buttonEl =\n",
              "          document.querySelector('#df-4d9d4dce-27ce-4aaf-8b98-bee13e931d06 button.colab-df-convert');\n",
              "        buttonEl.style.display =\n",
              "          google.colab.kernel.accessAllowed ? 'block' : 'none';\n",
              "\n",
              "        async function convertToInteractive(key) {\n",
              "          const element = document.querySelector('#df-4d9d4dce-27ce-4aaf-8b98-bee13e931d06');\n",
              "          const dataTable =\n",
              "            await google.colab.kernel.invokeFunction('convertToInteractive',\n",
              "                                                     [key], {});\n",
              "          if (!dataTable) return;\n",
              "\n",
              "          const docLinkHtml = 'Like what you see? Visit the ' +\n",
              "            '<a target=\"_blank\" href=https://colab.research.google.com/notebooks/data_table.ipynb>data table notebook</a>'\n",
              "            + ' to learn more about interactive tables.';\n",
              "          element.innerHTML = '';\n",
              "          dataTable['output_type'] = 'display_data';\n",
              "          await google.colab.output.renderOutput(dataTable, element);\n",
              "          const docLink = document.createElement('div');\n",
              "          docLink.innerHTML = docLinkHtml;\n",
              "          element.appendChild(docLink);\n",
              "        }\n",
              "      </script>\n",
              "    </div>\n",
              "  </div>\n",
              "  "
            ]
          },
          "metadata": {},
          "execution_count": 427
        }
      ]
    },
    {
      "cell_type": "markdown",
      "source": [
        "# Part 3 Visualizing the Data\n"
      ],
      "metadata": {
        "id": "EXNVM1EjJJRG"
      }
    },
    {
      "cell_type": "markdown",
      "source": [
        "**Project 2 - Part 3**\n",
        "\n",
        "For this part of the project, you will continue your EDA by \n",
        "\n",
        "- Produced univariate visuals for the target and all features\n",
        "\n",
        "- Identifying any moderate or strong correlations between your target and your features and/or between one feature and another\n",
        "\n",
        "- Creating multivariate exploratory visuals to further understand your data\n",
        "\n",
        "- From your data analysis, create two visuals that demonstrate key findings of interest to a stakeholder. These visuals should be reporting quality.  Be sure to explain the finding associated with each visual.  (NO histograms, boxplots, or correlation plots)"
      ],
      "metadata": {
        "id": "6J5vqMtaJj8q"
      }
    },
    {
      "cell_type": "markdown",
      "source": [
        "# Univariate and Multivariate Visualizations of the Data"
      ],
      "metadata": {
        "id": "h8QuvLV2MBO3"
      }
    },
    {
      "cell_type": "markdown",
      "source": [
        "## Prep for Visualization\n"
      ],
      "metadata": {
        "id": "wtn8TKCFIy7L"
      }
    },
    {
      "cell_type": "code",
      "source": [
        "# Make a Dataframe for Visualization Purposes\n",
        "vis_df= df.copy()"
      ],
      "metadata": {
        "id": "KT6cSr5VDT1F"
      },
      "execution_count": 428,
      "outputs": []
    },
    {
      "cell_type": "code",
      "source": [
        "# Hypertension: 0 if the patient doesn't have Hypertension, 1 if the patient has Hypertension\n",
        "vis_df[\"Hypertension\"] = df[\"Hypertension\"].map({1: \"Yes\", 0: \"No\"})\n",
        "#1 if the patient had a stroke or 0 if not\n",
        "vis_df[\"Stroke\"] = df[\"Stroke\"].map({1: \"Yes\", 0: \"No\"})\n",
        "#0 if the patient doesn't have any heart diseases, 1 if the patient has a heart disease\n",
        "vis_df[\"Heart_Disease\"] = df[\"Heart_Disease\"].map({1: \"Yes\", 0: \"No\"})"
      ],
      "metadata": {
        "id": "BZAaFObOMXKc"
      },
      "execution_count": 429,
      "outputs": []
    },
    {
      "cell_type": "code",
      "source": [
        "def pie_graph(df,title,values):   \n",
        "    labels = vis_df[values].value_counts().index\n",
        "    values = vis_df[values].value_counts()\n",
        "\n",
        "    fig = go.Figure(data = [\n",
        "        go.Pie(\n",
        "        labels = labels,\n",
        "        values = values,\n",
        "        hole = .5)\n",
        "    ])\n",
        "\n",
        "    fig.update_layout(title_text = title)\n",
        "    fig.show()"
      ],
      "metadata": {
        "id": "oQ0d_Y7zY-cc"
      },
      "execution_count": 430,
      "outputs": []
    },
    {
      "cell_type": "code",
      "source": [
        "# cohort analysis of age with output\n",
        "def age_cohort(age):\n",
        "    if   age >= 0 and age <= 20:\n",
        "        return \"0-20\"\n",
        "    elif age > 20 and age <= 40:\n",
        "        return \"20-40\"\n",
        "    elif age > 40 and age <= 50:\n",
        "        return \"40-50\"\n",
        "    elif age > 50 and age <= 60:\n",
        "        return \"50-60\"\n",
        "    elif age > 60:\n",
        "        return \"60+\"\n",
        "    \n",
        "vis_df['age group'] = vis_df['Age'].apply(age_cohort)\n",
        "vis_df.sort_values('age group', inplace = True)"
      ],
      "metadata": {
        "id": "0W8DbJOBJG-s"
      },
      "execution_count": 431,
      "outputs": []
    },
    {
      "cell_type": "code",
      "source": [
        "vis_residence_percent = vis_df.groupby('Stroke')['Residence_Type'].value_counts(normalize=True).rename('Residence_Percent').reset_index()\n",
        "vis_residence_percent"
      ],
      "metadata": {
        "colab": {
          "base_uri": "https://localhost:8080/",
          "height": 0
        },
        "id": "KoH5NoysKIEv",
        "outputId": "90f6870d-d34d-4df0-a218-acd0b7ce9e41"
      },
      "execution_count": 432,
      "outputs": [
        {
          "output_type": "execute_result",
          "data": {
            "text/plain": [
              "  Stroke Residence_Type  Residence_Percent\n",
              "0     No          Urban           0.506274\n",
              "1     No          Rural           0.493726\n",
              "2    Yes          Urban           0.542169\n",
              "3    Yes          Rural           0.457831"
            ],
            "text/html": [
              "\n",
              "  <div id=\"df-d64995b9-8206-4187-b622-818d006090fd\">\n",
              "    <div class=\"colab-df-container\">\n",
              "      <div>\n",
              "<style scoped>\n",
              "    .dataframe tbody tr th:only-of-type {\n",
              "        vertical-align: middle;\n",
              "    }\n",
              "\n",
              "    .dataframe tbody tr th {\n",
              "        vertical-align: top;\n",
              "    }\n",
              "\n",
              "    .dataframe thead th {\n",
              "        text-align: right;\n",
              "    }\n",
              "</style>\n",
              "<table border=\"1\" class=\"dataframe\">\n",
              "  <thead>\n",
              "    <tr style=\"text-align: right;\">\n",
              "      <th></th>\n",
              "      <th>Stroke</th>\n",
              "      <th>Residence_Type</th>\n",
              "      <th>Residence_Percent</th>\n",
              "    </tr>\n",
              "  </thead>\n",
              "  <tbody>\n",
              "    <tr>\n",
              "      <th>0</th>\n",
              "      <td>No</td>\n",
              "      <td>Urban</td>\n",
              "      <td>0.506274</td>\n",
              "    </tr>\n",
              "    <tr>\n",
              "      <th>1</th>\n",
              "      <td>No</td>\n",
              "      <td>Rural</td>\n",
              "      <td>0.493726</td>\n",
              "    </tr>\n",
              "    <tr>\n",
              "      <th>2</th>\n",
              "      <td>Yes</td>\n",
              "      <td>Urban</td>\n",
              "      <td>0.542169</td>\n",
              "    </tr>\n",
              "    <tr>\n",
              "      <th>3</th>\n",
              "      <td>Yes</td>\n",
              "      <td>Rural</td>\n",
              "      <td>0.457831</td>\n",
              "    </tr>\n",
              "  </tbody>\n",
              "</table>\n",
              "</div>\n",
              "      <button class=\"colab-df-convert\" onclick=\"convertToInteractive('df-d64995b9-8206-4187-b622-818d006090fd')\"\n",
              "              title=\"Convert this dataframe to an interactive table.\"\n",
              "              style=\"display:none;\">\n",
              "        \n",
              "  <svg xmlns=\"http://www.w3.org/2000/svg\" height=\"24px\"viewBox=\"0 0 24 24\"\n",
              "       width=\"24px\">\n",
              "    <path d=\"M0 0h24v24H0V0z\" fill=\"none\"/>\n",
              "    <path d=\"M18.56 5.44l.94 2.06.94-2.06 2.06-.94-2.06-.94-.94-2.06-.94 2.06-2.06.94zm-11 1L8.5 8.5l.94-2.06 2.06-.94-2.06-.94L8.5 2.5l-.94 2.06-2.06.94zm10 10l.94 2.06.94-2.06 2.06-.94-2.06-.94-.94-2.06-.94 2.06-2.06.94z\"/><path d=\"M17.41 7.96l-1.37-1.37c-.4-.4-.92-.59-1.43-.59-.52 0-1.04.2-1.43.59L10.3 9.45l-7.72 7.72c-.78.78-.78 2.05 0 2.83L4 21.41c.39.39.9.59 1.41.59.51 0 1.02-.2 1.41-.59l7.78-7.78 2.81-2.81c.8-.78.8-2.07 0-2.86zM5.41 20L4 18.59l7.72-7.72 1.47 1.35L5.41 20z\"/>\n",
              "  </svg>\n",
              "      </button>\n",
              "      \n",
              "  <style>\n",
              "    .colab-df-container {\n",
              "      display:flex;\n",
              "      flex-wrap:wrap;\n",
              "      gap: 12px;\n",
              "    }\n",
              "\n",
              "    .colab-df-convert {\n",
              "      background-color: #E8F0FE;\n",
              "      border: none;\n",
              "      border-radius: 50%;\n",
              "      cursor: pointer;\n",
              "      display: none;\n",
              "      fill: #1967D2;\n",
              "      height: 32px;\n",
              "      padding: 0 0 0 0;\n",
              "      width: 32px;\n",
              "    }\n",
              "\n",
              "    .colab-df-convert:hover {\n",
              "      background-color: #E2EBFA;\n",
              "      box-shadow: 0px 1px 2px rgba(60, 64, 67, 0.3), 0px 1px 3px 1px rgba(60, 64, 67, 0.15);\n",
              "      fill: #174EA6;\n",
              "    }\n",
              "\n",
              "    [theme=dark] .colab-df-convert {\n",
              "      background-color: #3B4455;\n",
              "      fill: #D2E3FC;\n",
              "    }\n",
              "\n",
              "    [theme=dark] .colab-df-convert:hover {\n",
              "      background-color: #434B5C;\n",
              "      box-shadow: 0px 1px 3px 1px rgba(0, 0, 0, 0.15);\n",
              "      filter: drop-shadow(0px 1px 2px rgba(0, 0, 0, 0.3));\n",
              "      fill: #FFFFFF;\n",
              "    }\n",
              "  </style>\n",
              "\n",
              "      <script>\n",
              "        const buttonEl =\n",
              "          document.querySelector('#df-d64995b9-8206-4187-b622-818d006090fd button.colab-df-convert');\n",
              "        buttonEl.style.display =\n",
              "          google.colab.kernel.accessAllowed ? 'block' : 'none';\n",
              "\n",
              "        async function convertToInteractive(key) {\n",
              "          const element = document.querySelector('#df-d64995b9-8206-4187-b622-818d006090fd');\n",
              "          const dataTable =\n",
              "            await google.colab.kernel.invokeFunction('convertToInteractive',\n",
              "                                                     [key], {});\n",
              "          if (!dataTable) return;\n",
              "\n",
              "          const docLinkHtml = 'Like what you see? Visit the ' +\n",
              "            '<a target=\"_blank\" href=https://colab.research.google.com/notebooks/data_table.ipynb>data table notebook</a>'\n",
              "            + ' to learn more about interactive tables.';\n",
              "          element.innerHTML = '';\n",
              "          dataTable['output_type'] = 'display_data';\n",
              "          await google.colab.output.renderOutput(dataTable, element);\n",
              "          const docLink = document.createElement('div');\n",
              "          docLink.innerHTML = docLinkHtml;\n",
              "          element.appendChild(docLink);\n",
              "        }\n",
              "      </script>\n",
              "    </div>\n",
              "  </div>\n",
              "  "
            ]
          },
          "metadata": {},
          "execution_count": 432
        }
      ]
    },
    {
      "cell_type": "code",
      "source": [
        "vis_gender_percent = df.groupby('Stroke')['Gender'].value_counts(normalize=True).rename('Gender_Percent').reset_index()\n",
        "vis_gender_percent"
      ],
      "metadata": {
        "colab": {
          "base_uri": "https://localhost:8080/",
          "height": 0
        },
        "id": "eIdTmmp9Kb0N",
        "outputId": "13156f57-21a6-4004-b8b0-3ca70cff8406"
      },
      "execution_count": 433,
      "outputs": [
        {
          "output_type": "execute_result",
          "data": {
            "text/plain": [
              "   Stroke  Gender  Gender_Percent\n",
              "0       0  Female        0.586916\n",
              "1       0    Male        0.412878\n",
              "2       0   Other        0.000206\n",
              "3       1  Female        0.566265\n",
              "4       1    Male        0.433735"
            ],
            "text/html": [
              "\n",
              "  <div id=\"df-80a5f537-81d4-44d8-b1b7-816813a1ac9e\">\n",
              "    <div class=\"colab-df-container\">\n",
              "      <div>\n",
              "<style scoped>\n",
              "    .dataframe tbody tr th:only-of-type {\n",
              "        vertical-align: middle;\n",
              "    }\n",
              "\n",
              "    .dataframe tbody tr th {\n",
              "        vertical-align: top;\n",
              "    }\n",
              "\n",
              "    .dataframe thead th {\n",
              "        text-align: right;\n",
              "    }\n",
              "</style>\n",
              "<table border=\"1\" class=\"dataframe\">\n",
              "  <thead>\n",
              "    <tr style=\"text-align: right;\">\n",
              "      <th></th>\n",
              "      <th>Stroke</th>\n",
              "      <th>Gender</th>\n",
              "      <th>Gender_Percent</th>\n",
              "    </tr>\n",
              "  </thead>\n",
              "  <tbody>\n",
              "    <tr>\n",
              "      <th>0</th>\n",
              "      <td>0</td>\n",
              "      <td>Female</td>\n",
              "      <td>0.586916</td>\n",
              "    </tr>\n",
              "    <tr>\n",
              "      <th>1</th>\n",
              "      <td>0</td>\n",
              "      <td>Male</td>\n",
              "      <td>0.412878</td>\n",
              "    </tr>\n",
              "    <tr>\n",
              "      <th>2</th>\n",
              "      <td>0</td>\n",
              "      <td>Other</td>\n",
              "      <td>0.000206</td>\n",
              "    </tr>\n",
              "    <tr>\n",
              "      <th>3</th>\n",
              "      <td>1</td>\n",
              "      <td>Female</td>\n",
              "      <td>0.566265</td>\n",
              "    </tr>\n",
              "    <tr>\n",
              "      <th>4</th>\n",
              "      <td>1</td>\n",
              "      <td>Male</td>\n",
              "      <td>0.433735</td>\n",
              "    </tr>\n",
              "  </tbody>\n",
              "</table>\n",
              "</div>\n",
              "      <button class=\"colab-df-convert\" onclick=\"convertToInteractive('df-80a5f537-81d4-44d8-b1b7-816813a1ac9e')\"\n",
              "              title=\"Convert this dataframe to an interactive table.\"\n",
              "              style=\"display:none;\">\n",
              "        \n",
              "  <svg xmlns=\"http://www.w3.org/2000/svg\" height=\"24px\"viewBox=\"0 0 24 24\"\n",
              "       width=\"24px\">\n",
              "    <path d=\"M0 0h24v24H0V0z\" fill=\"none\"/>\n",
              "    <path d=\"M18.56 5.44l.94 2.06.94-2.06 2.06-.94-2.06-.94-.94-2.06-.94 2.06-2.06.94zm-11 1L8.5 8.5l.94-2.06 2.06-.94-2.06-.94L8.5 2.5l-.94 2.06-2.06.94zm10 10l.94 2.06.94-2.06 2.06-.94-2.06-.94-.94-2.06-.94 2.06-2.06.94z\"/><path d=\"M17.41 7.96l-1.37-1.37c-.4-.4-.92-.59-1.43-.59-.52 0-1.04.2-1.43.59L10.3 9.45l-7.72 7.72c-.78.78-.78 2.05 0 2.83L4 21.41c.39.39.9.59 1.41.59.51 0 1.02-.2 1.41-.59l7.78-7.78 2.81-2.81c.8-.78.8-2.07 0-2.86zM5.41 20L4 18.59l7.72-7.72 1.47 1.35L5.41 20z\"/>\n",
              "  </svg>\n",
              "      </button>\n",
              "      \n",
              "  <style>\n",
              "    .colab-df-container {\n",
              "      display:flex;\n",
              "      flex-wrap:wrap;\n",
              "      gap: 12px;\n",
              "    }\n",
              "\n",
              "    .colab-df-convert {\n",
              "      background-color: #E8F0FE;\n",
              "      border: none;\n",
              "      border-radius: 50%;\n",
              "      cursor: pointer;\n",
              "      display: none;\n",
              "      fill: #1967D2;\n",
              "      height: 32px;\n",
              "      padding: 0 0 0 0;\n",
              "      width: 32px;\n",
              "    }\n",
              "\n",
              "    .colab-df-convert:hover {\n",
              "      background-color: #E2EBFA;\n",
              "      box-shadow: 0px 1px 2px rgba(60, 64, 67, 0.3), 0px 1px 3px 1px rgba(60, 64, 67, 0.15);\n",
              "      fill: #174EA6;\n",
              "    }\n",
              "\n",
              "    [theme=dark] .colab-df-convert {\n",
              "      background-color: #3B4455;\n",
              "      fill: #D2E3FC;\n",
              "    }\n",
              "\n",
              "    [theme=dark] .colab-df-convert:hover {\n",
              "      background-color: #434B5C;\n",
              "      box-shadow: 0px 1px 3px 1px rgba(0, 0, 0, 0.15);\n",
              "      filter: drop-shadow(0px 1px 2px rgba(0, 0, 0, 0.3));\n",
              "      fill: #FFFFFF;\n",
              "    }\n",
              "  </style>\n",
              "\n",
              "      <script>\n",
              "        const buttonEl =\n",
              "          document.querySelector('#df-80a5f537-81d4-44d8-b1b7-816813a1ac9e button.colab-df-convert');\n",
              "        buttonEl.style.display =\n",
              "          google.colab.kernel.accessAllowed ? 'block' : 'none';\n",
              "\n",
              "        async function convertToInteractive(key) {\n",
              "          const element = document.querySelector('#df-80a5f537-81d4-44d8-b1b7-816813a1ac9e');\n",
              "          const dataTable =\n",
              "            await google.colab.kernel.invokeFunction('convertToInteractive',\n",
              "                                                     [key], {});\n",
              "          if (!dataTable) return;\n",
              "\n",
              "          const docLinkHtml = 'Like what you see? Visit the ' +\n",
              "            '<a target=\"_blank\" href=https://colab.research.google.com/notebooks/data_table.ipynb>data table notebook</a>'\n",
              "            + ' to learn more about interactive tables.';\n",
              "          element.innerHTML = '';\n",
              "          dataTable['output_type'] = 'display_data';\n",
              "          await google.colab.output.renderOutput(dataTable, element);\n",
              "          const docLink = document.createElement('div');\n",
              "          docLink.innerHTML = docLinkHtml;\n",
              "          element.appendChild(docLink);\n",
              "        }\n",
              "      </script>\n",
              "    </div>\n",
              "  </div>\n",
              "  "
            ]
          },
          "metadata": {},
          "execution_count": 433
        }
      ]
    },
    {
      "cell_type": "code",
      "source": [
        "vis_hypertension_percent = df.groupby('Stroke')['Hypertension'].value_counts(normalize=True).rename('Hypertension_Percent').reset_index()\n",
        "vis_hypertension_percent"
      ],
      "metadata": {
        "colab": {
          "base_uri": "https://localhost:8080/",
          "height": 0
        },
        "id": "y84zGasFKbtn",
        "outputId": "353d485b-4bbd-46c4-8575-b193d44861f9"
      },
      "execution_count": 434,
      "outputs": [
        {
          "output_type": "execute_result",
          "data": {
            "text/plain": [
              "   Stroke  Hypertension  Hypertension_Percent\n",
              "0       0             0              0.911129\n",
              "1       0             1              0.088871\n",
              "2       1             0              0.734940\n",
              "3       1             1              0.265060"
            ],
            "text/html": [
              "\n",
              "  <div id=\"df-3598da56-d49c-4fee-826f-3778bba7768b\">\n",
              "    <div class=\"colab-df-container\">\n",
              "      <div>\n",
              "<style scoped>\n",
              "    .dataframe tbody tr th:only-of-type {\n",
              "        vertical-align: middle;\n",
              "    }\n",
              "\n",
              "    .dataframe tbody tr th {\n",
              "        vertical-align: top;\n",
              "    }\n",
              "\n",
              "    .dataframe thead th {\n",
              "        text-align: right;\n",
              "    }\n",
              "</style>\n",
              "<table border=\"1\" class=\"dataframe\">\n",
              "  <thead>\n",
              "    <tr style=\"text-align: right;\">\n",
              "      <th></th>\n",
              "      <th>Stroke</th>\n",
              "      <th>Hypertension</th>\n",
              "      <th>Hypertension_Percent</th>\n",
              "    </tr>\n",
              "  </thead>\n",
              "  <tbody>\n",
              "    <tr>\n",
              "      <th>0</th>\n",
              "      <td>0</td>\n",
              "      <td>0</td>\n",
              "      <td>0.911129</td>\n",
              "    </tr>\n",
              "    <tr>\n",
              "      <th>1</th>\n",
              "      <td>0</td>\n",
              "      <td>1</td>\n",
              "      <td>0.088871</td>\n",
              "    </tr>\n",
              "    <tr>\n",
              "      <th>2</th>\n",
              "      <td>1</td>\n",
              "      <td>0</td>\n",
              "      <td>0.734940</td>\n",
              "    </tr>\n",
              "    <tr>\n",
              "      <th>3</th>\n",
              "      <td>1</td>\n",
              "      <td>1</td>\n",
              "      <td>0.265060</td>\n",
              "    </tr>\n",
              "  </tbody>\n",
              "</table>\n",
              "</div>\n",
              "      <button class=\"colab-df-convert\" onclick=\"convertToInteractive('df-3598da56-d49c-4fee-826f-3778bba7768b')\"\n",
              "              title=\"Convert this dataframe to an interactive table.\"\n",
              "              style=\"display:none;\">\n",
              "        \n",
              "  <svg xmlns=\"http://www.w3.org/2000/svg\" height=\"24px\"viewBox=\"0 0 24 24\"\n",
              "       width=\"24px\">\n",
              "    <path d=\"M0 0h24v24H0V0z\" fill=\"none\"/>\n",
              "    <path d=\"M18.56 5.44l.94 2.06.94-2.06 2.06-.94-2.06-.94-.94-2.06-.94 2.06-2.06.94zm-11 1L8.5 8.5l.94-2.06 2.06-.94-2.06-.94L8.5 2.5l-.94 2.06-2.06.94zm10 10l.94 2.06.94-2.06 2.06-.94-2.06-.94-.94-2.06-.94 2.06-2.06.94z\"/><path d=\"M17.41 7.96l-1.37-1.37c-.4-.4-.92-.59-1.43-.59-.52 0-1.04.2-1.43.59L10.3 9.45l-7.72 7.72c-.78.78-.78 2.05 0 2.83L4 21.41c.39.39.9.59 1.41.59.51 0 1.02-.2 1.41-.59l7.78-7.78 2.81-2.81c.8-.78.8-2.07 0-2.86zM5.41 20L4 18.59l7.72-7.72 1.47 1.35L5.41 20z\"/>\n",
              "  </svg>\n",
              "      </button>\n",
              "      \n",
              "  <style>\n",
              "    .colab-df-container {\n",
              "      display:flex;\n",
              "      flex-wrap:wrap;\n",
              "      gap: 12px;\n",
              "    }\n",
              "\n",
              "    .colab-df-convert {\n",
              "      background-color: #E8F0FE;\n",
              "      border: none;\n",
              "      border-radius: 50%;\n",
              "      cursor: pointer;\n",
              "      display: none;\n",
              "      fill: #1967D2;\n",
              "      height: 32px;\n",
              "      padding: 0 0 0 0;\n",
              "      width: 32px;\n",
              "    }\n",
              "\n",
              "    .colab-df-convert:hover {\n",
              "      background-color: #E2EBFA;\n",
              "      box-shadow: 0px 1px 2px rgba(60, 64, 67, 0.3), 0px 1px 3px 1px rgba(60, 64, 67, 0.15);\n",
              "      fill: #174EA6;\n",
              "    }\n",
              "\n",
              "    [theme=dark] .colab-df-convert {\n",
              "      background-color: #3B4455;\n",
              "      fill: #D2E3FC;\n",
              "    }\n",
              "\n",
              "    [theme=dark] .colab-df-convert:hover {\n",
              "      background-color: #434B5C;\n",
              "      box-shadow: 0px 1px 3px 1px rgba(0, 0, 0, 0.15);\n",
              "      filter: drop-shadow(0px 1px 2px rgba(0, 0, 0, 0.3));\n",
              "      fill: #FFFFFF;\n",
              "    }\n",
              "  </style>\n",
              "\n",
              "      <script>\n",
              "        const buttonEl =\n",
              "          document.querySelector('#df-3598da56-d49c-4fee-826f-3778bba7768b button.colab-df-convert');\n",
              "        buttonEl.style.display =\n",
              "          google.colab.kernel.accessAllowed ? 'block' : 'none';\n",
              "\n",
              "        async function convertToInteractive(key) {\n",
              "          const element = document.querySelector('#df-3598da56-d49c-4fee-826f-3778bba7768b');\n",
              "          const dataTable =\n",
              "            await google.colab.kernel.invokeFunction('convertToInteractive',\n",
              "                                                     [key], {});\n",
              "          if (!dataTable) return;\n",
              "\n",
              "          const docLinkHtml = 'Like what you see? Visit the ' +\n",
              "            '<a target=\"_blank\" href=https://colab.research.google.com/notebooks/data_table.ipynb>data table notebook</a>'\n",
              "            + ' to learn more about interactive tables.';\n",
              "          element.innerHTML = '';\n",
              "          dataTable['output_type'] = 'display_data';\n",
              "          await google.colab.output.renderOutput(dataTable, element);\n",
              "          const docLink = document.createElement('div');\n",
              "          docLink.innerHTML = docLinkHtml;\n",
              "          element.appendChild(docLink);\n",
              "        }\n",
              "      </script>\n",
              "    </div>\n",
              "  </div>\n",
              "  "
            ]
          },
          "metadata": {},
          "execution_count": 434
        }
      ]
    },
    {
      "cell_type": "code",
      "source": [
        "vis_heart_percent = df.groupby('Stroke')['Heart_Disease'].value_counts(normalize=True).rename('Heart_Disease_Percent').reset_index()\n",
        "vis_heart_percent"
      ],
      "metadata": {
        "colab": {
          "base_uri": "https://localhost:8080/",
          "height": 0
        },
        "id": "k6Ass5uPKbmx",
        "outputId": "7e250a5d-46a4-4f76-f8cd-fbd968a2b1c4"
      },
      "execution_count": 435,
      "outputs": [
        {
          "output_type": "execute_result",
          "data": {
            "text/plain": [
              "   Stroke  Heart_Disease  Heart_Disease_Percent\n",
              "0       0              0               0.952890\n",
              "1       0              1               0.047110\n",
              "2       1              0               0.811245\n",
              "3       1              1               0.188755"
            ],
            "text/html": [
              "\n",
              "  <div id=\"df-68878d2e-219a-48be-91d9-ce8f1de25430\">\n",
              "    <div class=\"colab-df-container\">\n",
              "      <div>\n",
              "<style scoped>\n",
              "    .dataframe tbody tr th:only-of-type {\n",
              "        vertical-align: middle;\n",
              "    }\n",
              "\n",
              "    .dataframe tbody tr th {\n",
              "        vertical-align: top;\n",
              "    }\n",
              "\n",
              "    .dataframe thead th {\n",
              "        text-align: right;\n",
              "    }\n",
              "</style>\n",
              "<table border=\"1\" class=\"dataframe\">\n",
              "  <thead>\n",
              "    <tr style=\"text-align: right;\">\n",
              "      <th></th>\n",
              "      <th>Stroke</th>\n",
              "      <th>Heart_Disease</th>\n",
              "      <th>Heart_Disease_Percent</th>\n",
              "    </tr>\n",
              "  </thead>\n",
              "  <tbody>\n",
              "    <tr>\n",
              "      <th>0</th>\n",
              "      <td>0</td>\n",
              "      <td>0</td>\n",
              "      <td>0.952890</td>\n",
              "    </tr>\n",
              "    <tr>\n",
              "      <th>1</th>\n",
              "      <td>0</td>\n",
              "      <td>1</td>\n",
              "      <td>0.047110</td>\n",
              "    </tr>\n",
              "    <tr>\n",
              "      <th>2</th>\n",
              "      <td>1</td>\n",
              "      <td>0</td>\n",
              "      <td>0.811245</td>\n",
              "    </tr>\n",
              "    <tr>\n",
              "      <th>3</th>\n",
              "      <td>1</td>\n",
              "      <td>1</td>\n",
              "      <td>0.188755</td>\n",
              "    </tr>\n",
              "  </tbody>\n",
              "</table>\n",
              "</div>\n",
              "      <button class=\"colab-df-convert\" onclick=\"convertToInteractive('df-68878d2e-219a-48be-91d9-ce8f1de25430')\"\n",
              "              title=\"Convert this dataframe to an interactive table.\"\n",
              "              style=\"display:none;\">\n",
              "        \n",
              "  <svg xmlns=\"http://www.w3.org/2000/svg\" height=\"24px\"viewBox=\"0 0 24 24\"\n",
              "       width=\"24px\">\n",
              "    <path d=\"M0 0h24v24H0V0z\" fill=\"none\"/>\n",
              "    <path d=\"M18.56 5.44l.94 2.06.94-2.06 2.06-.94-2.06-.94-.94-2.06-.94 2.06-2.06.94zm-11 1L8.5 8.5l.94-2.06 2.06-.94-2.06-.94L8.5 2.5l-.94 2.06-2.06.94zm10 10l.94 2.06.94-2.06 2.06-.94-2.06-.94-.94-2.06-.94 2.06-2.06.94z\"/><path d=\"M17.41 7.96l-1.37-1.37c-.4-.4-.92-.59-1.43-.59-.52 0-1.04.2-1.43.59L10.3 9.45l-7.72 7.72c-.78.78-.78 2.05 0 2.83L4 21.41c.39.39.9.59 1.41.59.51 0 1.02-.2 1.41-.59l7.78-7.78 2.81-2.81c.8-.78.8-2.07 0-2.86zM5.41 20L4 18.59l7.72-7.72 1.47 1.35L5.41 20z\"/>\n",
              "  </svg>\n",
              "      </button>\n",
              "      \n",
              "  <style>\n",
              "    .colab-df-container {\n",
              "      display:flex;\n",
              "      flex-wrap:wrap;\n",
              "      gap: 12px;\n",
              "    }\n",
              "\n",
              "    .colab-df-convert {\n",
              "      background-color: #E8F0FE;\n",
              "      border: none;\n",
              "      border-radius: 50%;\n",
              "      cursor: pointer;\n",
              "      display: none;\n",
              "      fill: #1967D2;\n",
              "      height: 32px;\n",
              "      padding: 0 0 0 0;\n",
              "      width: 32px;\n",
              "    }\n",
              "\n",
              "    .colab-df-convert:hover {\n",
              "      background-color: #E2EBFA;\n",
              "      box-shadow: 0px 1px 2px rgba(60, 64, 67, 0.3), 0px 1px 3px 1px rgba(60, 64, 67, 0.15);\n",
              "      fill: #174EA6;\n",
              "    }\n",
              "\n",
              "    [theme=dark] .colab-df-convert {\n",
              "      background-color: #3B4455;\n",
              "      fill: #D2E3FC;\n",
              "    }\n",
              "\n",
              "    [theme=dark] .colab-df-convert:hover {\n",
              "      background-color: #434B5C;\n",
              "      box-shadow: 0px 1px 3px 1px rgba(0, 0, 0, 0.15);\n",
              "      filter: drop-shadow(0px 1px 2px rgba(0, 0, 0, 0.3));\n",
              "      fill: #FFFFFF;\n",
              "    }\n",
              "  </style>\n",
              "\n",
              "      <script>\n",
              "        const buttonEl =\n",
              "          document.querySelector('#df-68878d2e-219a-48be-91d9-ce8f1de25430 button.colab-df-convert');\n",
              "        buttonEl.style.display =\n",
              "          google.colab.kernel.accessAllowed ? 'block' : 'none';\n",
              "\n",
              "        async function convertToInteractive(key) {\n",
              "          const element = document.querySelector('#df-68878d2e-219a-48be-91d9-ce8f1de25430');\n",
              "          const dataTable =\n",
              "            await google.colab.kernel.invokeFunction('convertToInteractive',\n",
              "                                                     [key], {});\n",
              "          if (!dataTable) return;\n",
              "\n",
              "          const docLinkHtml = 'Like what you see? Visit the ' +\n",
              "            '<a target=\"_blank\" href=https://colab.research.google.com/notebooks/data_table.ipynb>data table notebook</a>'\n",
              "            + ' to learn more about interactive tables.';\n",
              "          element.innerHTML = '';\n",
              "          dataTable['output_type'] = 'display_data';\n",
              "          await google.colab.output.renderOutput(dataTable, element);\n",
              "          const docLink = document.createElement('div');\n",
              "          docLink.innerHTML = docLinkHtml;\n",
              "          element.appendChild(docLink);\n",
              "        }\n",
              "      </script>\n",
              "    </div>\n",
              "  </div>\n",
              "  "
            ]
          },
          "metadata": {},
          "execution_count": 435
        }
      ]
    },
    {
      "cell_type": "code",
      "source": [
        "def bar_plot(df,x,y,hue,title):\n",
        "    fig = sns.barplot(x=x, y=y, hue='Stroke', data=df)\n",
        "    fig.set_title(title)"
      ],
      "metadata": {
        "id": "GbvVqHm-Wikd"
      },
      "execution_count": 436,
      "outputs": []
    },
    {
      "cell_type": "code",
      "source": [
        "def horizontal_bar_chart(df,x,y,color,title):    \n",
        "    fig = px.bar(df, x=x, y=y, color=color,                  \n",
        "                 height=600,\n",
        "                 title=title)\n",
        "    fig.show()"
      ],
      "metadata": {
        "id": "J0_YmRKBXRdb"
      },
      "execution_count": 437,
      "outputs": []
    },
    {
      "cell_type": "markdown",
      "source": [
        "## Univariate Visualizations"
      ],
      "metadata": {
        "id": "CqkR4eH6Jnzn"
      }
    },
    {
      "cell_type": "markdown",
      "source": [
        "The Following Graphs are univariate visualizations of the target and the features for the dataset. Doing this kind of visualization allows myself and the reader the ability to get a good understanding of the distribution of data in a very quick amount of time. \n",
        "\n"
      ],
      "metadata": {
        "id": "FAfOzd-AYLIg"
      }
    },
    {
      "cell_type": "code",
      "source": [
        "pie_graph(vis_df,\"Age Group Distribution\",'age group')"
      ],
      "metadata": {
        "colab": {
          "base_uri": "https://localhost:8080/",
          "height": 0
        },
        "id": "44h4R9PQDMDf",
        "outputId": "9a2d5bde-accc-4925-cedc-3e1025149bcd"
      },
      "execution_count": 438,
      "outputs": [
        {
          "output_type": "display_data",
          "data": {
            "text/html": [
              "<html>\n",
              "<head><meta charset=\"utf-8\" /></head>\n",
              "<body>\n",
              "    <div>            <script src=\"https://cdnjs.cloudflare.com/ajax/libs/mathjax/2.7.5/MathJax.js?config=TeX-AMS-MML_SVG\"></script><script type=\"text/javascript\">if (window.MathJax) {MathJax.Hub.Config({SVG: {font: \"STIX-Web\"}});}</script>                <script type=\"text/javascript\">window.PlotlyConfig = {MathJaxConfig: 'local'};</script>\n",
              "        <script src=\"https://cdn.plot.ly/plotly-2.8.3.min.js\"></script>                <div id=\"c72926ae-469a-45ef-bae4-d199c65e2e94\" class=\"plotly-graph-div\" style=\"height:525px; width:100%;\"></div>            <script type=\"text/javascript\">                                    window.PLOTLYENV=window.PLOTLYENV || {};                                    if (document.getElementById(\"c72926ae-469a-45ef-bae4-d199c65e2e94\")) {                    Plotly.newPlot(                        \"c72926ae-469a-45ef-bae4-d199c65e2e94\",                        [{\"hole\":0.5,\"labels\":[\"60+\",\"20-40\",\"0-20\",\"50-60\",\"40-50\"],\"values\":[1304,1219,1025,823,739],\"type\":\"pie\"}],                        {\"template\":{\"data\":{\"bar\":[{\"error_x\":{\"color\":\"#2a3f5f\"},\"error_y\":{\"color\":\"#2a3f5f\"},\"marker\":{\"line\":{\"color\":\"#E5ECF6\",\"width\":0.5},\"pattern\":{\"fillmode\":\"overlay\",\"size\":10,\"solidity\":0.2}},\"type\":\"bar\"}],\"barpolar\":[{\"marker\":{\"line\":{\"color\":\"#E5ECF6\",\"width\":0.5},\"pattern\":{\"fillmode\":\"overlay\",\"size\":10,\"solidity\":0.2}},\"type\":\"barpolar\"}],\"carpet\":[{\"aaxis\":{\"endlinecolor\":\"#2a3f5f\",\"gridcolor\":\"white\",\"linecolor\":\"white\",\"minorgridcolor\":\"white\",\"startlinecolor\":\"#2a3f5f\"},\"baxis\":{\"endlinecolor\":\"#2a3f5f\",\"gridcolor\":\"white\",\"linecolor\":\"white\",\"minorgridcolor\":\"white\",\"startlinecolor\":\"#2a3f5f\"},\"type\":\"carpet\"}],\"choropleth\":[{\"colorbar\":{\"outlinewidth\":0,\"ticks\":\"\"},\"type\":\"choropleth\"}],\"contour\":[{\"colorbar\":{\"outlinewidth\":0,\"ticks\":\"\"},\"colorscale\":[[0.0,\"#0d0887\"],[0.1111111111111111,\"#46039f\"],[0.2222222222222222,\"#7201a8\"],[0.3333333333333333,\"#9c179e\"],[0.4444444444444444,\"#bd3786\"],[0.5555555555555556,\"#d8576b\"],[0.6666666666666666,\"#ed7953\"],[0.7777777777777778,\"#fb9f3a\"],[0.8888888888888888,\"#fdca26\"],[1.0,\"#f0f921\"]],\"type\":\"contour\"}],\"contourcarpet\":[{\"colorbar\":{\"outlinewidth\":0,\"ticks\":\"\"},\"type\":\"contourcarpet\"}],\"heatmap\":[{\"colorbar\":{\"outlinewidth\":0,\"ticks\":\"\"},\"colorscale\":[[0.0,\"#0d0887\"],[0.1111111111111111,\"#46039f\"],[0.2222222222222222,\"#7201a8\"],[0.3333333333333333,\"#9c179e\"],[0.4444444444444444,\"#bd3786\"],[0.5555555555555556,\"#d8576b\"],[0.6666666666666666,\"#ed7953\"],[0.7777777777777778,\"#fb9f3a\"],[0.8888888888888888,\"#fdca26\"],[1.0,\"#f0f921\"]],\"type\":\"heatmap\"}],\"heatmapgl\":[{\"colorbar\":{\"outlinewidth\":0,\"ticks\":\"\"},\"colorscale\":[[0.0,\"#0d0887\"],[0.1111111111111111,\"#46039f\"],[0.2222222222222222,\"#7201a8\"],[0.3333333333333333,\"#9c179e\"],[0.4444444444444444,\"#bd3786\"],[0.5555555555555556,\"#d8576b\"],[0.6666666666666666,\"#ed7953\"],[0.7777777777777778,\"#fb9f3a\"],[0.8888888888888888,\"#fdca26\"],[1.0,\"#f0f921\"]],\"type\":\"heatmapgl\"}],\"histogram\":[{\"marker\":{\"pattern\":{\"fillmode\":\"overlay\",\"size\":10,\"solidity\":0.2}},\"type\":\"histogram\"}],\"histogram2d\":[{\"colorbar\":{\"outlinewidth\":0,\"ticks\":\"\"},\"colorscale\":[[0.0,\"#0d0887\"],[0.1111111111111111,\"#46039f\"],[0.2222222222222222,\"#7201a8\"],[0.3333333333333333,\"#9c179e\"],[0.4444444444444444,\"#bd3786\"],[0.5555555555555556,\"#d8576b\"],[0.6666666666666666,\"#ed7953\"],[0.7777777777777778,\"#fb9f3a\"],[0.8888888888888888,\"#fdca26\"],[1.0,\"#f0f921\"]],\"type\":\"histogram2d\"}],\"histogram2dcontour\":[{\"colorbar\":{\"outlinewidth\":0,\"ticks\":\"\"},\"colorscale\":[[0.0,\"#0d0887\"],[0.1111111111111111,\"#46039f\"],[0.2222222222222222,\"#7201a8\"],[0.3333333333333333,\"#9c179e\"],[0.4444444444444444,\"#bd3786\"],[0.5555555555555556,\"#d8576b\"],[0.6666666666666666,\"#ed7953\"],[0.7777777777777778,\"#fb9f3a\"],[0.8888888888888888,\"#fdca26\"],[1.0,\"#f0f921\"]],\"type\":\"histogram2dcontour\"}],\"mesh3d\":[{\"colorbar\":{\"outlinewidth\":0,\"ticks\":\"\"},\"type\":\"mesh3d\"}],\"parcoords\":[{\"line\":{\"colorbar\":{\"outlinewidth\":0,\"ticks\":\"\"}},\"type\":\"parcoords\"}],\"pie\":[{\"automargin\":true,\"type\":\"pie\"}],\"scatter\":[{\"marker\":{\"colorbar\":{\"outlinewidth\":0,\"ticks\":\"\"}},\"type\":\"scatter\"}],\"scatter3d\":[{\"line\":{\"colorbar\":{\"outlinewidth\":0,\"ticks\":\"\"}},\"marker\":{\"colorbar\":{\"outlinewidth\":0,\"ticks\":\"\"}},\"type\":\"scatter3d\"}],\"scattercarpet\":[{\"marker\":{\"colorbar\":{\"outlinewidth\":0,\"ticks\":\"\"}},\"type\":\"scattercarpet\"}],\"scattergeo\":[{\"marker\":{\"colorbar\":{\"outlinewidth\":0,\"ticks\":\"\"}},\"type\":\"scattergeo\"}],\"scattergl\":[{\"marker\":{\"colorbar\":{\"outlinewidth\":0,\"ticks\":\"\"}},\"type\":\"scattergl\"}],\"scattermapbox\":[{\"marker\":{\"colorbar\":{\"outlinewidth\":0,\"ticks\":\"\"}},\"type\":\"scattermapbox\"}],\"scatterpolar\":[{\"marker\":{\"colorbar\":{\"outlinewidth\":0,\"ticks\":\"\"}},\"type\":\"scatterpolar\"}],\"scatterpolargl\":[{\"marker\":{\"colorbar\":{\"outlinewidth\":0,\"ticks\":\"\"}},\"type\":\"scatterpolargl\"}],\"scatterternary\":[{\"marker\":{\"colorbar\":{\"outlinewidth\":0,\"ticks\":\"\"}},\"type\":\"scatterternary\"}],\"surface\":[{\"colorbar\":{\"outlinewidth\":0,\"ticks\":\"\"},\"colorscale\":[[0.0,\"#0d0887\"],[0.1111111111111111,\"#46039f\"],[0.2222222222222222,\"#7201a8\"],[0.3333333333333333,\"#9c179e\"],[0.4444444444444444,\"#bd3786\"],[0.5555555555555556,\"#d8576b\"],[0.6666666666666666,\"#ed7953\"],[0.7777777777777778,\"#fb9f3a\"],[0.8888888888888888,\"#fdca26\"],[1.0,\"#f0f921\"]],\"type\":\"surface\"}],\"table\":[{\"cells\":{\"fill\":{\"color\":\"#EBF0F8\"},\"line\":{\"color\":\"white\"}},\"header\":{\"fill\":{\"color\":\"#C8D4E3\"},\"line\":{\"color\":\"white\"}},\"type\":\"table\"}]},\"layout\":{\"annotationdefaults\":{\"arrowcolor\":\"#2a3f5f\",\"arrowhead\":0,\"arrowwidth\":1},\"autotypenumbers\":\"strict\",\"coloraxis\":{\"colorbar\":{\"outlinewidth\":0,\"ticks\":\"\"}},\"colorscale\":{\"diverging\":[[0,\"#8e0152\"],[0.1,\"#c51b7d\"],[0.2,\"#de77ae\"],[0.3,\"#f1b6da\"],[0.4,\"#fde0ef\"],[0.5,\"#f7f7f7\"],[0.6,\"#e6f5d0\"],[0.7,\"#b8e186\"],[0.8,\"#7fbc41\"],[0.9,\"#4d9221\"],[1,\"#276419\"]],\"sequential\":[[0.0,\"#0d0887\"],[0.1111111111111111,\"#46039f\"],[0.2222222222222222,\"#7201a8\"],[0.3333333333333333,\"#9c179e\"],[0.4444444444444444,\"#bd3786\"],[0.5555555555555556,\"#d8576b\"],[0.6666666666666666,\"#ed7953\"],[0.7777777777777778,\"#fb9f3a\"],[0.8888888888888888,\"#fdca26\"],[1.0,\"#f0f921\"]],\"sequentialminus\":[[0.0,\"#0d0887\"],[0.1111111111111111,\"#46039f\"],[0.2222222222222222,\"#7201a8\"],[0.3333333333333333,\"#9c179e\"],[0.4444444444444444,\"#bd3786\"],[0.5555555555555556,\"#d8576b\"],[0.6666666666666666,\"#ed7953\"],[0.7777777777777778,\"#fb9f3a\"],[0.8888888888888888,\"#fdca26\"],[1.0,\"#f0f921\"]]},\"colorway\":[\"#636efa\",\"#EF553B\",\"#00cc96\",\"#ab63fa\",\"#FFA15A\",\"#19d3f3\",\"#FF6692\",\"#B6E880\",\"#FF97FF\",\"#FECB52\"],\"font\":{\"color\":\"#2a3f5f\"},\"geo\":{\"bgcolor\":\"white\",\"lakecolor\":\"white\",\"landcolor\":\"#E5ECF6\",\"showlakes\":true,\"showland\":true,\"subunitcolor\":\"white\"},\"hoverlabel\":{\"align\":\"left\"},\"hovermode\":\"closest\",\"mapbox\":{\"style\":\"light\"},\"paper_bgcolor\":\"white\",\"plot_bgcolor\":\"#E5ECF6\",\"polar\":{\"angularaxis\":{\"gridcolor\":\"white\",\"linecolor\":\"white\",\"ticks\":\"\"},\"bgcolor\":\"#E5ECF6\",\"radialaxis\":{\"gridcolor\":\"white\",\"linecolor\":\"white\",\"ticks\":\"\"}},\"scene\":{\"xaxis\":{\"backgroundcolor\":\"#E5ECF6\",\"gridcolor\":\"white\",\"gridwidth\":2,\"linecolor\":\"white\",\"showbackground\":true,\"ticks\":\"\",\"zerolinecolor\":\"white\"},\"yaxis\":{\"backgroundcolor\":\"#E5ECF6\",\"gridcolor\":\"white\",\"gridwidth\":2,\"linecolor\":\"white\",\"showbackground\":true,\"ticks\":\"\",\"zerolinecolor\":\"white\"},\"zaxis\":{\"backgroundcolor\":\"#E5ECF6\",\"gridcolor\":\"white\",\"gridwidth\":2,\"linecolor\":\"white\",\"showbackground\":true,\"ticks\":\"\",\"zerolinecolor\":\"white\"}},\"shapedefaults\":{\"line\":{\"color\":\"#2a3f5f\"}},\"ternary\":{\"aaxis\":{\"gridcolor\":\"white\",\"linecolor\":\"white\",\"ticks\":\"\"},\"baxis\":{\"gridcolor\":\"white\",\"linecolor\":\"white\",\"ticks\":\"\"},\"bgcolor\":\"#E5ECF6\",\"caxis\":{\"gridcolor\":\"white\",\"linecolor\":\"white\",\"ticks\":\"\"}},\"title\":{\"x\":0.05},\"xaxis\":{\"automargin\":true,\"gridcolor\":\"white\",\"linecolor\":\"white\",\"ticks\":\"\",\"title\":{\"standoff\":15},\"zerolinecolor\":\"white\",\"zerolinewidth\":2},\"yaxis\":{\"automargin\":true,\"gridcolor\":\"white\",\"linecolor\":\"white\",\"ticks\":\"\",\"title\":{\"standoff\":15},\"zerolinecolor\":\"white\",\"zerolinewidth\":2}}},\"title\":{\"text\":\"Age Group Distribution\"}},                        {\"responsive\": true}                    ).then(function(){\n",
              "                            \n",
              "var gd = document.getElementById('c72926ae-469a-45ef-bae4-d199c65e2e94');\n",
              "var x = new MutationObserver(function (mutations, observer) {{\n",
              "        var display = window.getComputedStyle(gd).display;\n",
              "        if (!display || display === 'none') {{\n",
              "            console.log([gd, 'removed!']);\n",
              "            Plotly.purge(gd);\n",
              "            observer.disconnect();\n",
              "        }}\n",
              "}});\n",
              "\n",
              "// Listen for the removal of the full notebook cells\n",
              "var notebookContainer = gd.closest('#notebook-container');\n",
              "if (notebookContainer) {{\n",
              "    x.observe(notebookContainer, {childList: true});\n",
              "}}\n",
              "\n",
              "// Listen for the clearing of the current output cell\n",
              "var outputEl = gd.closest('.output');\n",
              "if (outputEl) {{\n",
              "    x.observe(outputEl, {childList: true});\n",
              "}}\n",
              "\n",
              "                        })                };                            </script>        </div>\n",
              "</body>\n",
              "</html>"
            ]
          },
          "metadata": {}
        }
      ]
    },
    {
      "cell_type": "markdown",
      "source": [
        "![Screenshot 2022-07-28 211716.png](data:image/png;base64,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)"
      ],
      "metadata": {
        "id": "X4YNDoczigDg"
      }
    },
    {
      "cell_type": "code",
      "source": [
        "pie_graph(vis_df, 'Gender Distribution','Gender')"
      ],
      "metadata": {
        "colab": {
          "base_uri": "https://localhost:8080/",
          "height": 0
        },
        "id": "gvJcwKUdDMBM",
        "outputId": "c85b7d65-7b74-4d81-ff17-e5c5763933cf"
      },
      "execution_count": 439,
      "outputs": [
        {
          "output_type": "display_data",
          "data": {
            "text/html": [
              "<html>\n",
              "<head><meta charset=\"utf-8\" /></head>\n",
              "<body>\n",
              "    <div>            <script src=\"https://cdnjs.cloudflare.com/ajax/libs/mathjax/2.7.5/MathJax.js?config=TeX-AMS-MML_SVG\"></script><script type=\"text/javascript\">if (window.MathJax) {MathJax.Hub.Config({SVG: {font: \"STIX-Web\"}});}</script>                <script type=\"text/javascript\">window.PlotlyConfig = {MathJaxConfig: 'local'};</script>\n",
              "        <script src=\"https://cdn.plot.ly/plotly-2.8.3.min.js\"></script>                <div id=\"be2b471e-f3fd-487d-92cd-6d5f79f5e527\" class=\"plotly-graph-div\" style=\"height:525px; width:100%;\"></div>            <script type=\"text/javascript\">                                    window.PLOTLYENV=window.PLOTLYENV || {};                                    if (document.getElementById(\"be2b471e-f3fd-487d-92cd-6d5f79f5e527\")) {                    Plotly.newPlot(                        \"be2b471e-f3fd-487d-92cd-6d5f79f5e527\",                        [{\"hole\":0.5,\"labels\":[\"Female\",\"Male\",\"Other\"],\"values\":[2994,2115,1],\"type\":\"pie\"}],                        {\"template\":{\"data\":{\"bar\":[{\"error_x\":{\"color\":\"#2a3f5f\"},\"error_y\":{\"color\":\"#2a3f5f\"},\"marker\":{\"line\":{\"color\":\"#E5ECF6\",\"width\":0.5},\"pattern\":{\"fillmode\":\"overlay\",\"size\":10,\"solidity\":0.2}},\"type\":\"bar\"}],\"barpolar\":[{\"marker\":{\"line\":{\"color\":\"#E5ECF6\",\"width\":0.5},\"pattern\":{\"fillmode\":\"overlay\",\"size\":10,\"solidity\":0.2}},\"type\":\"barpolar\"}],\"carpet\":[{\"aaxis\":{\"endlinecolor\":\"#2a3f5f\",\"gridcolor\":\"white\",\"linecolor\":\"white\",\"minorgridcolor\":\"white\",\"startlinecolor\":\"#2a3f5f\"},\"baxis\":{\"endlinecolor\":\"#2a3f5f\",\"gridcolor\":\"white\",\"linecolor\":\"white\",\"minorgridcolor\":\"white\",\"startlinecolor\":\"#2a3f5f\"},\"type\":\"carpet\"}],\"choropleth\":[{\"colorbar\":{\"outlinewidth\":0,\"ticks\":\"\"},\"type\":\"choropleth\"}],\"contour\":[{\"colorbar\":{\"outlinewidth\":0,\"ticks\":\"\"},\"colorscale\":[[0.0,\"#0d0887\"],[0.1111111111111111,\"#46039f\"],[0.2222222222222222,\"#7201a8\"],[0.3333333333333333,\"#9c179e\"],[0.4444444444444444,\"#bd3786\"],[0.5555555555555556,\"#d8576b\"],[0.6666666666666666,\"#ed7953\"],[0.7777777777777778,\"#fb9f3a\"],[0.8888888888888888,\"#fdca26\"],[1.0,\"#f0f921\"]],\"type\":\"contour\"}],\"contourcarpet\":[{\"colorbar\":{\"outlinewidth\":0,\"ticks\":\"\"},\"type\":\"contourcarpet\"}],\"heatmap\":[{\"colorbar\":{\"outlinewidth\":0,\"ticks\":\"\"},\"colorscale\":[[0.0,\"#0d0887\"],[0.1111111111111111,\"#46039f\"],[0.2222222222222222,\"#7201a8\"],[0.3333333333333333,\"#9c179e\"],[0.4444444444444444,\"#bd3786\"],[0.5555555555555556,\"#d8576b\"],[0.6666666666666666,\"#ed7953\"],[0.7777777777777778,\"#fb9f3a\"],[0.8888888888888888,\"#fdca26\"],[1.0,\"#f0f921\"]],\"type\":\"heatmap\"}],\"heatmapgl\":[{\"colorbar\":{\"outlinewidth\":0,\"ticks\":\"\"},\"colorscale\":[[0.0,\"#0d0887\"],[0.1111111111111111,\"#46039f\"],[0.2222222222222222,\"#7201a8\"],[0.3333333333333333,\"#9c179e\"],[0.4444444444444444,\"#bd3786\"],[0.5555555555555556,\"#d8576b\"],[0.6666666666666666,\"#ed7953\"],[0.7777777777777778,\"#fb9f3a\"],[0.8888888888888888,\"#fdca26\"],[1.0,\"#f0f921\"]],\"type\":\"heatmapgl\"}],\"histogram\":[{\"marker\":{\"pattern\":{\"fillmode\":\"overlay\",\"size\":10,\"solidity\":0.2}},\"type\":\"histogram\"}],\"histogram2d\":[{\"colorbar\":{\"outlinewidth\":0,\"ticks\":\"\"},\"colorscale\":[[0.0,\"#0d0887\"],[0.1111111111111111,\"#46039f\"],[0.2222222222222222,\"#7201a8\"],[0.3333333333333333,\"#9c179e\"],[0.4444444444444444,\"#bd3786\"],[0.5555555555555556,\"#d8576b\"],[0.6666666666666666,\"#ed7953\"],[0.7777777777777778,\"#fb9f3a\"],[0.8888888888888888,\"#fdca26\"],[1.0,\"#f0f921\"]],\"type\":\"histogram2d\"}],\"histogram2dcontour\":[{\"colorbar\":{\"outlinewidth\":0,\"ticks\":\"\"},\"colorscale\":[[0.0,\"#0d0887\"],[0.1111111111111111,\"#46039f\"],[0.2222222222222222,\"#7201a8\"],[0.3333333333333333,\"#9c179e\"],[0.4444444444444444,\"#bd3786\"],[0.5555555555555556,\"#d8576b\"],[0.6666666666666666,\"#ed7953\"],[0.7777777777777778,\"#fb9f3a\"],[0.8888888888888888,\"#fdca26\"],[1.0,\"#f0f921\"]],\"type\":\"histogram2dcontour\"}],\"mesh3d\":[{\"colorbar\":{\"outlinewidth\":0,\"ticks\":\"\"},\"type\":\"mesh3d\"}],\"parcoords\":[{\"line\":{\"colorbar\":{\"outlinewidth\":0,\"ticks\":\"\"}},\"type\":\"parcoords\"}],\"pie\":[{\"automargin\":true,\"type\":\"pie\"}],\"scatter\":[{\"marker\":{\"colorbar\":{\"outlinewidth\":0,\"ticks\":\"\"}},\"type\":\"scatter\"}],\"scatter3d\":[{\"line\":{\"colorbar\":{\"outlinewidth\":0,\"ticks\":\"\"}},\"marker\":{\"colorbar\":{\"outlinewidth\":0,\"ticks\":\"\"}},\"type\":\"scatter3d\"}],\"scattercarpet\":[{\"marker\":{\"colorbar\":{\"outlinewidth\":0,\"ticks\":\"\"}},\"type\":\"scattercarpet\"}],\"scattergeo\":[{\"marker\":{\"colorbar\":{\"outlinewidth\":0,\"ticks\":\"\"}},\"type\":\"scattergeo\"}],\"scattergl\":[{\"marker\":{\"colorbar\":{\"outlinewidth\":0,\"ticks\":\"\"}},\"type\":\"scattergl\"}],\"scattermapbox\":[{\"marker\":{\"colorbar\":{\"outlinewidth\":0,\"ticks\":\"\"}},\"type\":\"scattermapbox\"}],\"scatterpolar\":[{\"marker\":{\"colorbar\":{\"outlinewidth\":0,\"ticks\":\"\"}},\"type\":\"scatterpolar\"}],\"scatterpolargl\":[{\"marker\":{\"colorbar\":{\"outlinewidth\":0,\"ticks\":\"\"}},\"type\":\"scatterpolargl\"}],\"scatterternary\":[{\"marker\":{\"colorbar\":{\"outlinewidth\":0,\"ticks\":\"\"}},\"type\":\"scatterternary\"}],\"surface\":[{\"colorbar\":{\"outlinewidth\":0,\"ticks\":\"\"},\"colorscale\":[[0.0,\"#0d0887\"],[0.1111111111111111,\"#46039f\"],[0.2222222222222222,\"#7201a8\"],[0.3333333333333333,\"#9c179e\"],[0.4444444444444444,\"#bd3786\"],[0.5555555555555556,\"#d8576b\"],[0.6666666666666666,\"#ed7953\"],[0.7777777777777778,\"#fb9f3a\"],[0.8888888888888888,\"#fdca26\"],[1.0,\"#f0f921\"]],\"type\":\"surface\"}],\"table\":[{\"cells\":{\"fill\":{\"color\":\"#EBF0F8\"},\"line\":{\"color\":\"white\"}},\"header\":{\"fill\":{\"color\":\"#C8D4E3\"},\"line\":{\"color\":\"white\"}},\"type\":\"table\"}]},\"layout\":{\"annotationdefaults\":{\"arrowcolor\":\"#2a3f5f\",\"arrowhead\":0,\"arrowwidth\":1},\"autotypenumbers\":\"strict\",\"coloraxis\":{\"colorbar\":{\"outlinewidth\":0,\"ticks\":\"\"}},\"colorscale\":{\"diverging\":[[0,\"#8e0152\"],[0.1,\"#c51b7d\"],[0.2,\"#de77ae\"],[0.3,\"#f1b6da\"],[0.4,\"#fde0ef\"],[0.5,\"#f7f7f7\"],[0.6,\"#e6f5d0\"],[0.7,\"#b8e186\"],[0.8,\"#7fbc41\"],[0.9,\"#4d9221\"],[1,\"#276419\"]],\"sequential\":[[0.0,\"#0d0887\"],[0.1111111111111111,\"#46039f\"],[0.2222222222222222,\"#7201a8\"],[0.3333333333333333,\"#9c179e\"],[0.4444444444444444,\"#bd3786\"],[0.5555555555555556,\"#d8576b\"],[0.6666666666666666,\"#ed7953\"],[0.7777777777777778,\"#fb9f3a\"],[0.8888888888888888,\"#fdca26\"],[1.0,\"#f0f921\"]],\"sequentialminus\":[[0.0,\"#0d0887\"],[0.1111111111111111,\"#46039f\"],[0.2222222222222222,\"#7201a8\"],[0.3333333333333333,\"#9c179e\"],[0.4444444444444444,\"#bd3786\"],[0.5555555555555556,\"#d8576b\"],[0.6666666666666666,\"#ed7953\"],[0.7777777777777778,\"#fb9f3a\"],[0.8888888888888888,\"#fdca26\"],[1.0,\"#f0f921\"]]},\"colorway\":[\"#636efa\",\"#EF553B\",\"#00cc96\",\"#ab63fa\",\"#FFA15A\",\"#19d3f3\",\"#FF6692\",\"#B6E880\",\"#FF97FF\",\"#FECB52\"],\"font\":{\"color\":\"#2a3f5f\"},\"geo\":{\"bgcolor\":\"white\",\"lakecolor\":\"white\",\"landcolor\":\"#E5ECF6\",\"showlakes\":true,\"showland\":true,\"subunitcolor\":\"white\"},\"hoverlabel\":{\"align\":\"left\"},\"hovermode\":\"closest\",\"mapbox\":{\"style\":\"light\"},\"paper_bgcolor\":\"white\",\"plot_bgcolor\":\"#E5ECF6\",\"polar\":{\"angularaxis\":{\"gridcolor\":\"white\",\"linecolor\":\"white\",\"ticks\":\"\"},\"bgcolor\":\"#E5ECF6\",\"radialaxis\":{\"gridcolor\":\"white\",\"linecolor\":\"white\",\"ticks\":\"\"}},\"scene\":{\"xaxis\":{\"backgroundcolor\":\"#E5ECF6\",\"gridcolor\":\"white\",\"gridwidth\":2,\"linecolor\":\"white\",\"showbackground\":true,\"ticks\":\"\",\"zerolinecolor\":\"white\"},\"yaxis\":{\"backgroundcolor\":\"#E5ECF6\",\"gridcolor\":\"white\",\"gridwidth\":2,\"linecolor\":\"white\",\"showbackground\":true,\"ticks\":\"\",\"zerolinecolor\":\"white\"},\"zaxis\":{\"backgroundcolor\":\"#E5ECF6\",\"gridcolor\":\"white\",\"gridwidth\":2,\"linecolor\":\"white\",\"showbackground\":true,\"ticks\":\"\",\"zerolinecolor\":\"white\"}},\"shapedefaults\":{\"line\":{\"color\":\"#2a3f5f\"}},\"ternary\":{\"aaxis\":{\"gridcolor\":\"white\",\"linecolor\":\"white\",\"ticks\":\"\"},\"baxis\":{\"gridcolor\":\"white\",\"linecolor\":\"white\",\"ticks\":\"\"},\"bgcolor\":\"#E5ECF6\",\"caxis\":{\"gridcolor\":\"white\",\"linecolor\":\"white\",\"ticks\":\"\"}},\"title\":{\"x\":0.05},\"xaxis\":{\"automargin\":true,\"gridcolor\":\"white\",\"linecolor\":\"white\",\"ticks\":\"\",\"title\":{\"standoff\":15},\"zerolinecolor\":\"white\",\"zerolinewidth\":2},\"yaxis\":{\"automargin\":true,\"gridcolor\":\"white\",\"linecolor\":\"white\",\"ticks\":\"\",\"title\":{\"standoff\":15},\"zerolinecolor\":\"white\",\"zerolinewidth\":2}}},\"title\":{\"text\":\"Gender Distribution\"}},                        {\"responsive\": true}                    ).then(function(){\n",
              "                            \n",
              "var gd = document.getElementById('be2b471e-f3fd-487d-92cd-6d5f79f5e527');\n",
              "var x = new MutationObserver(function (mutations, observer) {{\n",
              "        var display = window.getComputedStyle(gd).display;\n",
              "        if (!display || display === 'none') {{\n",
              "            console.log([gd, 'removed!']);\n",
              "            Plotly.purge(gd);\n",
              "            observer.disconnect();\n",
              "        }}\n",
              "}});\n",
              "\n",
              "// Listen for the removal of the full notebook cells\n",
              "var notebookContainer = gd.closest('#notebook-container');\n",
              "if (notebookContainer) {{\n",
              "    x.observe(notebookContainer, {childList: true});\n",
              "}}\n",
              "\n",
              "// Listen for the clearing of the current output cell\n",
              "var outputEl = gd.closest('.output');\n",
              "if (outputEl) {{\n",
              "    x.observe(outputEl, {childList: true});\n",
              "}}\n",
              "\n",
              "                        })                };                            </script>        </div>\n",
              "</body>\n",
              "</html>"
            ]
          },
          "metadata": {}
        }
      ]
    },
    {
      "cell_type": "markdown",
      "source": [
        "![Screenshot 2022-07-28 211728.png](data:image/png;base64,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)"
      ],
      "metadata": {
        "id": "21dky5Nqij-A"
      }
    },
    {
      "cell_type": "code",
      "source": [
        "pie_graph(vis_df, 'Hypertension Distribution','Hypertension')"
      ],
      "metadata": {
        "colab": {
          "base_uri": "https://localhost:8080/",
          "height": 0
        },
        "id": "qzAVzhpGDL_u",
        "outputId": "64ed0f36-f808-47e6-8dbf-39ec5bb22984"
      },
      "execution_count": 440,
      "outputs": [
        {
          "output_type": "display_data",
          "data": {
            "text/html": [
              "<html>\n",
              "<head><meta charset=\"utf-8\" /></head>\n",
              "<body>\n",
              "    <div>            <script src=\"https://cdnjs.cloudflare.com/ajax/libs/mathjax/2.7.5/MathJax.js?config=TeX-AMS-MML_SVG\"></script><script type=\"text/javascript\">if (window.MathJax) {MathJax.Hub.Config({SVG: {font: \"STIX-Web\"}});}</script>                <script type=\"text/javascript\">window.PlotlyConfig = {MathJaxConfig: 'local'};</script>\n",
              "        <script src=\"https://cdn.plot.ly/plotly-2.8.3.min.js\"></script>                <div id=\"9e47e8bf-4826-4393-bab3-adb1214a22b8\" class=\"plotly-graph-div\" style=\"height:525px; width:100%;\"></div>            <script type=\"text/javascript\">                                    window.PLOTLYENV=window.PLOTLYENV || {};                                    if (document.getElementById(\"9e47e8bf-4826-4393-bab3-adb1214a22b8\")) {                    Plotly.newPlot(                        \"9e47e8bf-4826-4393-bab3-adb1214a22b8\",                        [{\"hole\":0.5,\"labels\":[\"No\",\"Yes\"],\"values\":[4612,498],\"type\":\"pie\"}],                        {\"template\":{\"data\":{\"bar\":[{\"error_x\":{\"color\":\"#2a3f5f\"},\"error_y\":{\"color\":\"#2a3f5f\"},\"marker\":{\"line\":{\"color\":\"#E5ECF6\",\"width\":0.5},\"pattern\":{\"fillmode\":\"overlay\",\"size\":10,\"solidity\":0.2}},\"type\":\"bar\"}],\"barpolar\":[{\"marker\":{\"line\":{\"color\":\"#E5ECF6\",\"width\":0.5},\"pattern\":{\"fillmode\":\"overlay\",\"size\":10,\"solidity\":0.2}},\"type\":\"barpolar\"}],\"carpet\":[{\"aaxis\":{\"endlinecolor\":\"#2a3f5f\",\"gridcolor\":\"white\",\"linecolor\":\"white\",\"minorgridcolor\":\"white\",\"startlinecolor\":\"#2a3f5f\"},\"baxis\":{\"endlinecolor\":\"#2a3f5f\",\"gridcolor\":\"white\",\"linecolor\":\"white\",\"minorgridcolor\":\"white\",\"startlinecolor\":\"#2a3f5f\"},\"type\":\"carpet\"}],\"choropleth\":[{\"colorbar\":{\"outlinewidth\":0,\"ticks\":\"\"},\"type\":\"choropleth\"}],\"contour\":[{\"colorbar\":{\"outlinewidth\":0,\"ticks\":\"\"},\"colorscale\":[[0.0,\"#0d0887\"],[0.1111111111111111,\"#46039f\"],[0.2222222222222222,\"#7201a8\"],[0.3333333333333333,\"#9c179e\"],[0.4444444444444444,\"#bd3786\"],[0.5555555555555556,\"#d8576b\"],[0.6666666666666666,\"#ed7953\"],[0.7777777777777778,\"#fb9f3a\"],[0.8888888888888888,\"#fdca26\"],[1.0,\"#f0f921\"]],\"type\":\"contour\"}],\"contourcarpet\":[{\"colorbar\":{\"outlinewidth\":0,\"ticks\":\"\"},\"type\":\"contourcarpet\"}],\"heatmap\":[{\"colorbar\":{\"outlinewidth\":0,\"ticks\":\"\"},\"colorscale\":[[0.0,\"#0d0887\"],[0.1111111111111111,\"#46039f\"],[0.2222222222222222,\"#7201a8\"],[0.3333333333333333,\"#9c179e\"],[0.4444444444444444,\"#bd3786\"],[0.5555555555555556,\"#d8576b\"],[0.6666666666666666,\"#ed7953\"],[0.7777777777777778,\"#fb9f3a\"],[0.8888888888888888,\"#fdca26\"],[1.0,\"#f0f921\"]],\"type\":\"heatmap\"}],\"heatmapgl\":[{\"colorbar\":{\"outlinewidth\":0,\"ticks\":\"\"},\"colorscale\":[[0.0,\"#0d0887\"],[0.1111111111111111,\"#46039f\"],[0.2222222222222222,\"#7201a8\"],[0.3333333333333333,\"#9c179e\"],[0.4444444444444444,\"#bd3786\"],[0.5555555555555556,\"#d8576b\"],[0.6666666666666666,\"#ed7953\"],[0.7777777777777778,\"#fb9f3a\"],[0.8888888888888888,\"#fdca26\"],[1.0,\"#f0f921\"]],\"type\":\"heatmapgl\"}],\"histogram\":[{\"marker\":{\"pattern\":{\"fillmode\":\"overlay\",\"size\":10,\"solidity\":0.2}},\"type\":\"histogram\"}],\"histogram2d\":[{\"colorbar\":{\"outlinewidth\":0,\"ticks\":\"\"},\"colorscale\":[[0.0,\"#0d0887\"],[0.1111111111111111,\"#46039f\"],[0.2222222222222222,\"#7201a8\"],[0.3333333333333333,\"#9c179e\"],[0.4444444444444444,\"#bd3786\"],[0.5555555555555556,\"#d8576b\"],[0.6666666666666666,\"#ed7953\"],[0.7777777777777778,\"#fb9f3a\"],[0.8888888888888888,\"#fdca26\"],[1.0,\"#f0f921\"]],\"type\":\"histogram2d\"}],\"histogram2dcontour\":[{\"colorbar\":{\"outlinewidth\":0,\"ticks\":\"\"},\"colorscale\":[[0.0,\"#0d0887\"],[0.1111111111111111,\"#46039f\"],[0.2222222222222222,\"#7201a8\"],[0.3333333333333333,\"#9c179e\"],[0.4444444444444444,\"#bd3786\"],[0.5555555555555556,\"#d8576b\"],[0.6666666666666666,\"#ed7953\"],[0.7777777777777778,\"#fb9f3a\"],[0.8888888888888888,\"#fdca26\"],[1.0,\"#f0f921\"]],\"type\":\"histogram2dcontour\"}],\"mesh3d\":[{\"colorbar\":{\"outlinewidth\":0,\"ticks\":\"\"},\"type\":\"mesh3d\"}],\"parcoords\":[{\"line\":{\"colorbar\":{\"outlinewidth\":0,\"ticks\":\"\"}},\"type\":\"parcoords\"}],\"pie\":[{\"automargin\":true,\"type\":\"pie\"}],\"scatter\":[{\"marker\":{\"colorbar\":{\"outlinewidth\":0,\"ticks\":\"\"}},\"type\":\"scatter\"}],\"scatter3d\":[{\"line\":{\"colorbar\":{\"outlinewidth\":0,\"ticks\":\"\"}},\"marker\":{\"colorbar\":{\"outlinewidth\":0,\"ticks\":\"\"}},\"type\":\"scatter3d\"}],\"scattercarpet\":[{\"marker\":{\"colorbar\":{\"outlinewidth\":0,\"ticks\":\"\"}},\"type\":\"scattercarpet\"}],\"scattergeo\":[{\"marker\":{\"colorbar\":{\"outlinewidth\":0,\"ticks\":\"\"}},\"type\":\"scattergeo\"}],\"scattergl\":[{\"marker\":{\"colorbar\":{\"outlinewidth\":0,\"ticks\":\"\"}},\"type\":\"scattergl\"}],\"scattermapbox\":[{\"marker\":{\"colorbar\":{\"outlinewidth\":0,\"ticks\":\"\"}},\"type\":\"scattermapbox\"}],\"scatterpolar\":[{\"marker\":{\"colorbar\":{\"outlinewidth\":0,\"ticks\":\"\"}},\"type\":\"scatterpolar\"}],\"scatterpolargl\":[{\"marker\":{\"colorbar\":{\"outlinewidth\":0,\"ticks\":\"\"}},\"type\":\"scatterpolargl\"}],\"scatterternary\":[{\"marker\":{\"colorbar\":{\"outlinewidth\":0,\"ticks\":\"\"}},\"type\":\"scatterternary\"}],\"surface\":[{\"colorbar\":{\"outlinewidth\":0,\"ticks\":\"\"},\"colorscale\":[[0.0,\"#0d0887\"],[0.1111111111111111,\"#46039f\"],[0.2222222222222222,\"#7201a8\"],[0.3333333333333333,\"#9c179e\"],[0.4444444444444444,\"#bd3786\"],[0.5555555555555556,\"#d8576b\"],[0.6666666666666666,\"#ed7953\"],[0.7777777777777778,\"#fb9f3a\"],[0.8888888888888888,\"#fdca26\"],[1.0,\"#f0f921\"]],\"type\":\"surface\"}],\"table\":[{\"cells\":{\"fill\":{\"color\":\"#EBF0F8\"},\"line\":{\"color\":\"white\"}},\"header\":{\"fill\":{\"color\":\"#C8D4E3\"},\"line\":{\"color\":\"white\"}},\"type\":\"table\"}]},\"layout\":{\"annotationdefaults\":{\"arrowcolor\":\"#2a3f5f\",\"arrowhead\":0,\"arrowwidth\":1},\"autotypenumbers\":\"strict\",\"coloraxis\":{\"colorbar\":{\"outlinewidth\":0,\"ticks\":\"\"}},\"colorscale\":{\"diverging\":[[0,\"#8e0152\"],[0.1,\"#c51b7d\"],[0.2,\"#de77ae\"],[0.3,\"#f1b6da\"],[0.4,\"#fde0ef\"],[0.5,\"#f7f7f7\"],[0.6,\"#e6f5d0\"],[0.7,\"#b8e186\"],[0.8,\"#7fbc41\"],[0.9,\"#4d9221\"],[1,\"#276419\"]],\"sequential\":[[0.0,\"#0d0887\"],[0.1111111111111111,\"#46039f\"],[0.2222222222222222,\"#7201a8\"],[0.3333333333333333,\"#9c179e\"],[0.4444444444444444,\"#bd3786\"],[0.5555555555555556,\"#d8576b\"],[0.6666666666666666,\"#ed7953\"],[0.7777777777777778,\"#fb9f3a\"],[0.8888888888888888,\"#fdca26\"],[1.0,\"#f0f921\"]],\"sequentialminus\":[[0.0,\"#0d0887\"],[0.1111111111111111,\"#46039f\"],[0.2222222222222222,\"#7201a8\"],[0.3333333333333333,\"#9c179e\"],[0.4444444444444444,\"#bd3786\"],[0.5555555555555556,\"#d8576b\"],[0.6666666666666666,\"#ed7953\"],[0.7777777777777778,\"#fb9f3a\"],[0.8888888888888888,\"#fdca26\"],[1.0,\"#f0f921\"]]},\"colorway\":[\"#636efa\",\"#EF553B\",\"#00cc96\",\"#ab63fa\",\"#FFA15A\",\"#19d3f3\",\"#FF6692\",\"#B6E880\",\"#FF97FF\",\"#FECB52\"],\"font\":{\"color\":\"#2a3f5f\"},\"geo\":{\"bgcolor\":\"white\",\"lakecolor\":\"white\",\"landcolor\":\"#E5ECF6\",\"showlakes\":true,\"showland\":true,\"subunitcolor\":\"white\"},\"hoverlabel\":{\"align\":\"left\"},\"hovermode\":\"closest\",\"mapbox\":{\"style\":\"light\"},\"paper_bgcolor\":\"white\",\"plot_bgcolor\":\"#E5ECF6\",\"polar\":{\"angularaxis\":{\"gridcolor\":\"white\",\"linecolor\":\"white\",\"ticks\":\"\"},\"bgcolor\":\"#E5ECF6\",\"radialaxis\":{\"gridcolor\":\"white\",\"linecolor\":\"white\",\"ticks\":\"\"}},\"scene\":{\"xaxis\":{\"backgroundcolor\":\"#E5ECF6\",\"gridcolor\":\"white\",\"gridwidth\":2,\"linecolor\":\"white\",\"showbackground\":true,\"ticks\":\"\",\"zerolinecolor\":\"white\"},\"yaxis\":{\"backgroundcolor\":\"#E5ECF6\",\"gridcolor\":\"white\",\"gridwidth\":2,\"linecolor\":\"white\",\"showbackground\":true,\"ticks\":\"\",\"zerolinecolor\":\"white\"},\"zaxis\":{\"backgroundcolor\":\"#E5ECF6\",\"gridcolor\":\"white\",\"gridwidth\":2,\"linecolor\":\"white\",\"showbackground\":true,\"ticks\":\"\",\"zerolinecolor\":\"white\"}},\"shapedefaults\":{\"line\":{\"color\":\"#2a3f5f\"}},\"ternary\":{\"aaxis\":{\"gridcolor\":\"white\",\"linecolor\":\"white\",\"ticks\":\"\"},\"baxis\":{\"gridcolor\":\"white\",\"linecolor\":\"white\",\"ticks\":\"\"},\"bgcolor\":\"#E5ECF6\",\"caxis\":{\"gridcolor\":\"white\",\"linecolor\":\"white\",\"ticks\":\"\"}},\"title\":{\"x\":0.05},\"xaxis\":{\"automargin\":true,\"gridcolor\":\"white\",\"linecolor\":\"white\",\"ticks\":\"\",\"title\":{\"standoff\":15},\"zerolinecolor\":\"white\",\"zerolinewidth\":2},\"yaxis\":{\"automargin\":true,\"gridcolor\":\"white\",\"linecolor\":\"white\",\"ticks\":\"\",\"title\":{\"standoff\":15},\"zerolinecolor\":\"white\",\"zerolinewidth\":2}}},\"title\":{\"text\":\"Hypertension Distribution\"}},                        {\"responsive\": true}                    ).then(function(){\n",
              "                            \n",
              "var gd = document.getElementById('9e47e8bf-4826-4393-bab3-adb1214a22b8');\n",
              "var x = new MutationObserver(function (mutations, observer) {{\n",
              "        var display = window.getComputedStyle(gd).display;\n",
              "        if (!display || display === 'none') {{\n",
              "            console.log([gd, 'removed!']);\n",
              "            Plotly.purge(gd);\n",
              "            observer.disconnect();\n",
              "        }}\n",
              "}});\n",
              "\n",
              "// Listen for the removal of the full notebook cells\n",
              "var notebookContainer = gd.closest('#notebook-container');\n",
              "if (notebookContainer) {{\n",
              "    x.observe(notebookContainer, {childList: true});\n",
              "}}\n",
              "\n",
              "// Listen for the clearing of the current output cell\n",
              "var outputEl = gd.closest('.output');\n",
              "if (outputEl) {{\n",
              "    x.observe(outputEl, {childList: true});\n",
              "}}\n",
              "\n",
              "                        })                };                            </script>        </div>\n",
              "</body>\n",
              "</html>"
            ]
          },
          "metadata": {}
        }
      ]
    },
    {
      "cell_type": "markdown",
      "source": [
        "![Screenshot 2022-07-28 211742.png](data:image/png;base64,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)"
      ],
      "metadata": {
        "id": "-KqLEWU3imU4"
      }
    },
    {
      "cell_type": "code",
      "source": [
        "pie_graph(vis_df, ' Heart disease Distribution','Heart_Disease')"
      ],
      "metadata": {
        "colab": {
          "base_uri": "https://localhost:8080/",
          "height": 0
        },
        "id": "h0P0lDyFDL9g",
        "outputId": "ace8af40-1e58-4b7f-f354-bb74cf56fbe0"
      },
      "execution_count": 441,
      "outputs": [
        {
          "output_type": "display_data",
          "data": {
            "text/html": [
              "<html>\n",
              "<head><meta charset=\"utf-8\" /></head>\n",
              "<body>\n",
              "    <div>            <script src=\"https://cdnjs.cloudflare.com/ajax/libs/mathjax/2.7.5/MathJax.js?config=TeX-AMS-MML_SVG\"></script><script type=\"text/javascript\">if (window.MathJax) {MathJax.Hub.Config({SVG: {font: \"STIX-Web\"}});}</script>                <script type=\"text/javascript\">window.PlotlyConfig = {MathJaxConfig: 'local'};</script>\n",
              "        <script src=\"https://cdn.plot.ly/plotly-2.8.3.min.js\"></script>                <div id=\"d9b0d68f-a06b-4102-a26e-1558bd2b3379\" class=\"plotly-graph-div\" style=\"height:525px; width:100%;\"></div>            <script type=\"text/javascript\">                                    window.PLOTLYENV=window.PLOTLYENV || {};                                    if (document.getElementById(\"d9b0d68f-a06b-4102-a26e-1558bd2b3379\")) {                    Plotly.newPlot(                        \"d9b0d68f-a06b-4102-a26e-1558bd2b3379\",                        [{\"hole\":0.5,\"labels\":[\"No\",\"Yes\"],\"values\":[4834,276],\"type\":\"pie\"}],                        {\"template\":{\"data\":{\"bar\":[{\"error_x\":{\"color\":\"#2a3f5f\"},\"error_y\":{\"color\":\"#2a3f5f\"},\"marker\":{\"line\":{\"color\":\"#E5ECF6\",\"width\":0.5},\"pattern\":{\"fillmode\":\"overlay\",\"size\":10,\"solidity\":0.2}},\"type\":\"bar\"}],\"barpolar\":[{\"marker\":{\"line\":{\"color\":\"#E5ECF6\",\"width\":0.5},\"pattern\":{\"fillmode\":\"overlay\",\"size\":10,\"solidity\":0.2}},\"type\":\"barpolar\"}],\"carpet\":[{\"aaxis\":{\"endlinecolor\":\"#2a3f5f\",\"gridcolor\":\"white\",\"linecolor\":\"white\",\"minorgridcolor\":\"white\",\"startlinecolor\":\"#2a3f5f\"},\"baxis\":{\"endlinecolor\":\"#2a3f5f\",\"gridcolor\":\"white\",\"linecolor\":\"white\",\"minorgridcolor\":\"white\",\"startlinecolor\":\"#2a3f5f\"},\"type\":\"carpet\"}],\"choropleth\":[{\"colorbar\":{\"outlinewidth\":0,\"ticks\":\"\"},\"type\":\"choropleth\"}],\"contour\":[{\"colorbar\":{\"outlinewidth\":0,\"ticks\":\"\"},\"colorscale\":[[0.0,\"#0d0887\"],[0.1111111111111111,\"#46039f\"],[0.2222222222222222,\"#7201a8\"],[0.3333333333333333,\"#9c179e\"],[0.4444444444444444,\"#bd3786\"],[0.5555555555555556,\"#d8576b\"],[0.6666666666666666,\"#ed7953\"],[0.7777777777777778,\"#fb9f3a\"],[0.8888888888888888,\"#fdca26\"],[1.0,\"#f0f921\"]],\"type\":\"contour\"}],\"contourcarpet\":[{\"colorbar\":{\"outlinewidth\":0,\"ticks\":\"\"},\"type\":\"contourcarpet\"}],\"heatmap\":[{\"colorbar\":{\"outlinewidth\":0,\"ticks\":\"\"},\"colorscale\":[[0.0,\"#0d0887\"],[0.1111111111111111,\"#46039f\"],[0.2222222222222222,\"#7201a8\"],[0.3333333333333333,\"#9c179e\"],[0.4444444444444444,\"#bd3786\"],[0.5555555555555556,\"#d8576b\"],[0.6666666666666666,\"#ed7953\"],[0.7777777777777778,\"#fb9f3a\"],[0.8888888888888888,\"#fdca26\"],[1.0,\"#f0f921\"]],\"type\":\"heatmap\"}],\"heatmapgl\":[{\"colorbar\":{\"outlinewidth\":0,\"ticks\":\"\"},\"colorscale\":[[0.0,\"#0d0887\"],[0.1111111111111111,\"#46039f\"],[0.2222222222222222,\"#7201a8\"],[0.3333333333333333,\"#9c179e\"],[0.4444444444444444,\"#bd3786\"],[0.5555555555555556,\"#d8576b\"],[0.6666666666666666,\"#ed7953\"],[0.7777777777777778,\"#fb9f3a\"],[0.8888888888888888,\"#fdca26\"],[1.0,\"#f0f921\"]],\"type\":\"heatmapgl\"}],\"histogram\":[{\"marker\":{\"pattern\":{\"fillmode\":\"overlay\",\"size\":10,\"solidity\":0.2}},\"type\":\"histogram\"}],\"histogram2d\":[{\"colorbar\":{\"outlinewidth\":0,\"ticks\":\"\"},\"colorscale\":[[0.0,\"#0d0887\"],[0.1111111111111111,\"#46039f\"],[0.2222222222222222,\"#7201a8\"],[0.3333333333333333,\"#9c179e\"],[0.4444444444444444,\"#bd3786\"],[0.5555555555555556,\"#d8576b\"],[0.6666666666666666,\"#ed7953\"],[0.7777777777777778,\"#fb9f3a\"],[0.8888888888888888,\"#fdca26\"],[1.0,\"#f0f921\"]],\"type\":\"histogram2d\"}],\"histogram2dcontour\":[{\"colorbar\":{\"outlinewidth\":0,\"ticks\":\"\"},\"colorscale\":[[0.0,\"#0d0887\"],[0.1111111111111111,\"#46039f\"],[0.2222222222222222,\"#7201a8\"],[0.3333333333333333,\"#9c179e\"],[0.4444444444444444,\"#bd3786\"],[0.5555555555555556,\"#d8576b\"],[0.6666666666666666,\"#ed7953\"],[0.7777777777777778,\"#fb9f3a\"],[0.8888888888888888,\"#fdca26\"],[1.0,\"#f0f921\"]],\"type\":\"histogram2dcontour\"}],\"mesh3d\":[{\"colorbar\":{\"outlinewidth\":0,\"ticks\":\"\"},\"type\":\"mesh3d\"}],\"parcoords\":[{\"line\":{\"colorbar\":{\"outlinewidth\":0,\"ticks\":\"\"}},\"type\":\"parcoords\"}],\"pie\":[{\"automargin\":true,\"type\":\"pie\"}],\"scatter\":[{\"marker\":{\"colorbar\":{\"outlinewidth\":0,\"ticks\":\"\"}},\"type\":\"scatter\"}],\"scatter3d\":[{\"line\":{\"colorbar\":{\"outlinewidth\":0,\"ticks\":\"\"}},\"marker\":{\"colorbar\":{\"outlinewidth\":0,\"ticks\":\"\"}},\"type\":\"scatter3d\"}],\"scattercarpet\":[{\"marker\":{\"colorbar\":{\"outlinewidth\":0,\"ticks\":\"\"}},\"type\":\"scattercarpet\"}],\"scattergeo\":[{\"marker\":{\"colorbar\":{\"outlinewidth\":0,\"ticks\":\"\"}},\"type\":\"scattergeo\"}],\"scattergl\":[{\"marker\":{\"colorbar\":{\"outlinewidth\":0,\"ticks\":\"\"}},\"type\":\"scattergl\"}],\"scattermapbox\":[{\"marker\":{\"colorbar\":{\"outlinewidth\":0,\"ticks\":\"\"}},\"type\":\"scattermapbox\"}],\"scatterpolar\":[{\"marker\":{\"colorbar\":{\"outlinewidth\":0,\"ticks\":\"\"}},\"type\":\"scatterpolar\"}],\"scatterpolargl\":[{\"marker\":{\"colorbar\":{\"outlinewidth\":0,\"ticks\":\"\"}},\"type\":\"scatterpolargl\"}],\"scatterternary\":[{\"marker\":{\"colorbar\":{\"outlinewidth\":0,\"ticks\":\"\"}},\"type\":\"scatterternary\"}],\"surface\":[{\"colorbar\":{\"outlinewidth\":0,\"ticks\":\"\"},\"colorscale\":[[0.0,\"#0d0887\"],[0.1111111111111111,\"#46039f\"],[0.2222222222222222,\"#7201a8\"],[0.3333333333333333,\"#9c179e\"],[0.4444444444444444,\"#bd3786\"],[0.5555555555555556,\"#d8576b\"],[0.6666666666666666,\"#ed7953\"],[0.7777777777777778,\"#fb9f3a\"],[0.8888888888888888,\"#fdca26\"],[1.0,\"#f0f921\"]],\"type\":\"surface\"}],\"table\":[{\"cells\":{\"fill\":{\"color\":\"#EBF0F8\"},\"line\":{\"color\":\"white\"}},\"header\":{\"fill\":{\"color\":\"#C8D4E3\"},\"line\":{\"color\":\"white\"}},\"type\":\"table\"}]},\"layout\":{\"annotationdefaults\":{\"arrowcolor\":\"#2a3f5f\",\"arrowhead\":0,\"arrowwidth\":1},\"autotypenumbers\":\"strict\",\"coloraxis\":{\"colorbar\":{\"outlinewidth\":0,\"ticks\":\"\"}},\"colorscale\":{\"diverging\":[[0,\"#8e0152\"],[0.1,\"#c51b7d\"],[0.2,\"#de77ae\"],[0.3,\"#f1b6da\"],[0.4,\"#fde0ef\"],[0.5,\"#f7f7f7\"],[0.6,\"#e6f5d0\"],[0.7,\"#b8e186\"],[0.8,\"#7fbc41\"],[0.9,\"#4d9221\"],[1,\"#276419\"]],\"sequential\":[[0.0,\"#0d0887\"],[0.1111111111111111,\"#46039f\"],[0.2222222222222222,\"#7201a8\"],[0.3333333333333333,\"#9c179e\"],[0.4444444444444444,\"#bd3786\"],[0.5555555555555556,\"#d8576b\"],[0.6666666666666666,\"#ed7953\"],[0.7777777777777778,\"#fb9f3a\"],[0.8888888888888888,\"#fdca26\"],[1.0,\"#f0f921\"]],\"sequentialminus\":[[0.0,\"#0d0887\"],[0.1111111111111111,\"#46039f\"],[0.2222222222222222,\"#7201a8\"],[0.3333333333333333,\"#9c179e\"],[0.4444444444444444,\"#bd3786\"],[0.5555555555555556,\"#d8576b\"],[0.6666666666666666,\"#ed7953\"],[0.7777777777777778,\"#fb9f3a\"],[0.8888888888888888,\"#fdca26\"],[1.0,\"#f0f921\"]]},\"colorway\":[\"#636efa\",\"#EF553B\",\"#00cc96\",\"#ab63fa\",\"#FFA15A\",\"#19d3f3\",\"#FF6692\",\"#B6E880\",\"#FF97FF\",\"#FECB52\"],\"font\":{\"color\":\"#2a3f5f\"},\"geo\":{\"bgcolor\":\"white\",\"lakecolor\":\"white\",\"landcolor\":\"#E5ECF6\",\"showlakes\":true,\"showland\":true,\"subunitcolor\":\"white\"},\"hoverlabel\":{\"align\":\"left\"},\"hovermode\":\"closest\",\"mapbox\":{\"style\":\"light\"},\"paper_bgcolor\":\"white\",\"plot_bgcolor\":\"#E5ECF6\",\"polar\":{\"angularaxis\":{\"gridcolor\":\"white\",\"linecolor\":\"white\",\"ticks\":\"\"},\"bgcolor\":\"#E5ECF6\",\"radialaxis\":{\"gridcolor\":\"white\",\"linecolor\":\"white\",\"ticks\":\"\"}},\"scene\":{\"xaxis\":{\"backgroundcolor\":\"#E5ECF6\",\"gridcolor\":\"white\",\"gridwidth\":2,\"linecolor\":\"white\",\"showbackground\":true,\"ticks\":\"\",\"zerolinecolor\":\"white\"},\"yaxis\":{\"backgroundcolor\":\"#E5ECF6\",\"gridcolor\":\"white\",\"gridwidth\":2,\"linecolor\":\"white\",\"showbackground\":true,\"ticks\":\"\",\"zerolinecolor\":\"white\"},\"zaxis\":{\"backgroundcolor\":\"#E5ECF6\",\"gridcolor\":\"white\",\"gridwidth\":2,\"linecolor\":\"white\",\"showbackground\":true,\"ticks\":\"\",\"zerolinecolor\":\"white\"}},\"shapedefaults\":{\"line\":{\"color\":\"#2a3f5f\"}},\"ternary\":{\"aaxis\":{\"gridcolor\":\"white\",\"linecolor\":\"white\",\"ticks\":\"\"},\"baxis\":{\"gridcolor\":\"white\",\"linecolor\":\"white\",\"ticks\":\"\"},\"bgcolor\":\"#E5ECF6\",\"caxis\":{\"gridcolor\":\"white\",\"linecolor\":\"white\",\"ticks\":\"\"}},\"title\":{\"x\":0.05},\"xaxis\":{\"automargin\":true,\"gridcolor\":\"white\",\"linecolor\":\"white\",\"ticks\":\"\",\"title\":{\"standoff\":15},\"zerolinecolor\":\"white\",\"zerolinewidth\":2},\"yaxis\":{\"automargin\":true,\"gridcolor\":\"white\",\"linecolor\":\"white\",\"ticks\":\"\",\"title\":{\"standoff\":15},\"zerolinecolor\":\"white\",\"zerolinewidth\":2}}},\"title\":{\"text\":\" Heart disease Distribution\"}},                        {\"responsive\": true}                    ).then(function(){\n",
              "                            \n",
              "var gd = document.getElementById('d9b0d68f-a06b-4102-a26e-1558bd2b3379');\n",
              "var x = new MutationObserver(function (mutations, observer) {{\n",
              "        var display = window.getComputedStyle(gd).display;\n",
              "        if (!display || display === 'none') {{\n",
              "            console.log([gd, 'removed!']);\n",
              "            Plotly.purge(gd);\n",
              "            observer.disconnect();\n",
              "        }}\n",
              "}});\n",
              "\n",
              "// Listen for the removal of the full notebook cells\n",
              "var notebookContainer = gd.closest('#notebook-container');\n",
              "if (notebookContainer) {{\n",
              "    x.observe(notebookContainer, {childList: true});\n",
              "}}\n",
              "\n",
              "// Listen for the clearing of the current output cell\n",
              "var outputEl = gd.closest('.output');\n",
              "if (outputEl) {{\n",
              "    x.observe(outputEl, {childList: true});\n",
              "}}\n",
              "\n",
              "                        })                };                            </script>        </div>\n",
              "</body>\n",
              "</html>"
            ]
          },
          "metadata": {}
        }
      ]
    },
    {
      "cell_type": "markdown",
      "source": [
        "![Screenshot 2022-07-28 211754.png](data:image/png;base64,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)"
      ],
      "metadata": {
        "id": "lR6a7XryioNy"
      }
    },
    {
      "cell_type": "code",
      "source": [
        "pie_graph(vis_df, 'Ever married  Distribution','Ever_Married')"
      ],
      "metadata": {
        "colab": {
          "base_uri": "https://localhost:8080/",
          "height": 0
        },
        "id": "PejDSi3uDL7Y",
        "outputId": "dfd63323-a1c9-4c8a-fe4d-77ffbf8868df"
      },
      "execution_count": 442,
      "outputs": [
        {
          "output_type": "display_data",
          "data": {
            "text/html": [
              "<html>\n",
              "<head><meta charset=\"utf-8\" /></head>\n",
              "<body>\n",
              "    <div>            <script src=\"https://cdnjs.cloudflare.com/ajax/libs/mathjax/2.7.5/MathJax.js?config=TeX-AMS-MML_SVG\"></script><script type=\"text/javascript\">if (window.MathJax) {MathJax.Hub.Config({SVG: {font: \"STIX-Web\"}});}</script>                <script type=\"text/javascript\">window.PlotlyConfig = {MathJaxConfig: 'local'};</script>\n",
              "        <script src=\"https://cdn.plot.ly/plotly-2.8.3.min.js\"></script>                <div id=\"a36eac80-fad3-4997-afec-e1c355502520\" class=\"plotly-graph-div\" style=\"height:525px; width:100%;\"></div>            <script type=\"text/javascript\">                                    window.PLOTLYENV=window.PLOTLYENV || {};                                    if (document.getElementById(\"a36eac80-fad3-4997-afec-e1c355502520\")) {                    Plotly.newPlot(                        \"a36eac80-fad3-4997-afec-e1c355502520\",                        [{\"hole\":0.5,\"labels\":[\"Yes\",\"No\"],\"values\":[3353,1757],\"type\":\"pie\"}],                        {\"template\":{\"data\":{\"bar\":[{\"error_x\":{\"color\":\"#2a3f5f\"},\"error_y\":{\"color\":\"#2a3f5f\"},\"marker\":{\"line\":{\"color\":\"#E5ECF6\",\"width\":0.5},\"pattern\":{\"fillmode\":\"overlay\",\"size\":10,\"solidity\":0.2}},\"type\":\"bar\"}],\"barpolar\":[{\"marker\":{\"line\":{\"color\":\"#E5ECF6\",\"width\":0.5},\"pattern\":{\"fillmode\":\"overlay\",\"size\":10,\"solidity\":0.2}},\"type\":\"barpolar\"}],\"carpet\":[{\"aaxis\":{\"endlinecolor\":\"#2a3f5f\",\"gridcolor\":\"white\",\"linecolor\":\"white\",\"minorgridcolor\":\"white\",\"startlinecolor\":\"#2a3f5f\"},\"baxis\":{\"endlinecolor\":\"#2a3f5f\",\"gridcolor\":\"white\",\"linecolor\":\"white\",\"minorgridcolor\":\"white\",\"startlinecolor\":\"#2a3f5f\"},\"type\":\"carpet\"}],\"choropleth\":[{\"colorbar\":{\"outlinewidth\":0,\"ticks\":\"\"},\"type\":\"choropleth\"}],\"contour\":[{\"colorbar\":{\"outlinewidth\":0,\"ticks\":\"\"},\"colorscale\":[[0.0,\"#0d0887\"],[0.1111111111111111,\"#46039f\"],[0.2222222222222222,\"#7201a8\"],[0.3333333333333333,\"#9c179e\"],[0.4444444444444444,\"#bd3786\"],[0.5555555555555556,\"#d8576b\"],[0.6666666666666666,\"#ed7953\"],[0.7777777777777778,\"#fb9f3a\"],[0.8888888888888888,\"#fdca26\"],[1.0,\"#f0f921\"]],\"type\":\"contour\"}],\"contourcarpet\":[{\"colorbar\":{\"outlinewidth\":0,\"ticks\":\"\"},\"type\":\"contourcarpet\"}],\"heatmap\":[{\"colorbar\":{\"outlinewidth\":0,\"ticks\":\"\"},\"colorscale\":[[0.0,\"#0d0887\"],[0.1111111111111111,\"#46039f\"],[0.2222222222222222,\"#7201a8\"],[0.3333333333333333,\"#9c179e\"],[0.4444444444444444,\"#bd3786\"],[0.5555555555555556,\"#d8576b\"],[0.6666666666666666,\"#ed7953\"],[0.7777777777777778,\"#fb9f3a\"],[0.8888888888888888,\"#fdca26\"],[1.0,\"#f0f921\"]],\"type\":\"heatmap\"}],\"heatmapgl\":[{\"colorbar\":{\"outlinewidth\":0,\"ticks\":\"\"},\"colorscale\":[[0.0,\"#0d0887\"],[0.1111111111111111,\"#46039f\"],[0.2222222222222222,\"#7201a8\"],[0.3333333333333333,\"#9c179e\"],[0.4444444444444444,\"#bd3786\"],[0.5555555555555556,\"#d8576b\"],[0.6666666666666666,\"#ed7953\"],[0.7777777777777778,\"#fb9f3a\"],[0.8888888888888888,\"#fdca26\"],[1.0,\"#f0f921\"]],\"type\":\"heatmapgl\"}],\"histogram\":[{\"marker\":{\"pattern\":{\"fillmode\":\"overlay\",\"size\":10,\"solidity\":0.2}},\"type\":\"histogram\"}],\"histogram2d\":[{\"colorbar\":{\"outlinewidth\":0,\"ticks\":\"\"},\"colorscale\":[[0.0,\"#0d0887\"],[0.1111111111111111,\"#46039f\"],[0.2222222222222222,\"#7201a8\"],[0.3333333333333333,\"#9c179e\"],[0.4444444444444444,\"#bd3786\"],[0.5555555555555556,\"#d8576b\"],[0.6666666666666666,\"#ed7953\"],[0.7777777777777778,\"#fb9f3a\"],[0.8888888888888888,\"#fdca26\"],[1.0,\"#f0f921\"]],\"type\":\"histogram2d\"}],\"histogram2dcontour\":[{\"colorbar\":{\"outlinewidth\":0,\"ticks\":\"\"},\"colorscale\":[[0.0,\"#0d0887\"],[0.1111111111111111,\"#46039f\"],[0.2222222222222222,\"#7201a8\"],[0.3333333333333333,\"#9c179e\"],[0.4444444444444444,\"#bd3786\"],[0.5555555555555556,\"#d8576b\"],[0.6666666666666666,\"#ed7953\"],[0.7777777777777778,\"#fb9f3a\"],[0.8888888888888888,\"#fdca26\"],[1.0,\"#f0f921\"]],\"type\":\"histogram2dcontour\"}],\"mesh3d\":[{\"colorbar\":{\"outlinewidth\":0,\"ticks\":\"\"},\"type\":\"mesh3d\"}],\"parcoords\":[{\"line\":{\"colorbar\":{\"outlinewidth\":0,\"ticks\":\"\"}},\"type\":\"parcoords\"}],\"pie\":[{\"automargin\":true,\"type\":\"pie\"}],\"scatter\":[{\"marker\":{\"colorbar\":{\"outlinewidth\":0,\"ticks\":\"\"}},\"type\":\"scatter\"}],\"scatter3d\":[{\"line\":{\"colorbar\":{\"outlinewidth\":0,\"ticks\":\"\"}},\"marker\":{\"colorbar\":{\"outlinewidth\":0,\"ticks\":\"\"}},\"type\":\"scatter3d\"}],\"scattercarpet\":[{\"marker\":{\"colorbar\":{\"outlinewidth\":0,\"ticks\":\"\"}},\"type\":\"scattercarpet\"}],\"scattergeo\":[{\"marker\":{\"colorbar\":{\"outlinewidth\":0,\"ticks\":\"\"}},\"type\":\"scattergeo\"}],\"scattergl\":[{\"marker\":{\"colorbar\":{\"outlinewidth\":0,\"ticks\":\"\"}},\"type\":\"scattergl\"}],\"scattermapbox\":[{\"marker\":{\"colorbar\":{\"outlinewidth\":0,\"ticks\":\"\"}},\"type\":\"scattermapbox\"}],\"scatterpolar\":[{\"marker\":{\"colorbar\":{\"outlinewidth\":0,\"ticks\":\"\"}},\"type\":\"scatterpolar\"}],\"scatterpolargl\":[{\"marker\":{\"colorbar\":{\"outlinewidth\":0,\"ticks\":\"\"}},\"type\":\"scatterpolargl\"}],\"scatterternary\":[{\"marker\":{\"colorbar\":{\"outlinewidth\":0,\"ticks\":\"\"}},\"type\":\"scatterternary\"}],\"surface\":[{\"colorbar\":{\"outlinewidth\":0,\"ticks\":\"\"},\"colorscale\":[[0.0,\"#0d0887\"],[0.1111111111111111,\"#46039f\"],[0.2222222222222222,\"#7201a8\"],[0.3333333333333333,\"#9c179e\"],[0.4444444444444444,\"#bd3786\"],[0.5555555555555556,\"#d8576b\"],[0.6666666666666666,\"#ed7953\"],[0.7777777777777778,\"#fb9f3a\"],[0.8888888888888888,\"#fdca26\"],[1.0,\"#f0f921\"]],\"type\":\"surface\"}],\"table\":[{\"cells\":{\"fill\":{\"color\":\"#EBF0F8\"},\"line\":{\"color\":\"white\"}},\"header\":{\"fill\":{\"color\":\"#C8D4E3\"},\"line\":{\"color\":\"white\"}},\"type\":\"table\"}]},\"layout\":{\"annotationdefaults\":{\"arrowcolor\":\"#2a3f5f\",\"arrowhead\":0,\"arrowwidth\":1},\"autotypenumbers\":\"strict\",\"coloraxis\":{\"colorbar\":{\"outlinewidth\":0,\"ticks\":\"\"}},\"colorscale\":{\"diverging\":[[0,\"#8e0152\"],[0.1,\"#c51b7d\"],[0.2,\"#de77ae\"],[0.3,\"#f1b6da\"],[0.4,\"#fde0ef\"],[0.5,\"#f7f7f7\"],[0.6,\"#e6f5d0\"],[0.7,\"#b8e186\"],[0.8,\"#7fbc41\"],[0.9,\"#4d9221\"],[1,\"#276419\"]],\"sequential\":[[0.0,\"#0d0887\"],[0.1111111111111111,\"#46039f\"],[0.2222222222222222,\"#7201a8\"],[0.3333333333333333,\"#9c179e\"],[0.4444444444444444,\"#bd3786\"],[0.5555555555555556,\"#d8576b\"],[0.6666666666666666,\"#ed7953\"],[0.7777777777777778,\"#fb9f3a\"],[0.8888888888888888,\"#fdca26\"],[1.0,\"#f0f921\"]],\"sequentialminus\":[[0.0,\"#0d0887\"],[0.1111111111111111,\"#46039f\"],[0.2222222222222222,\"#7201a8\"],[0.3333333333333333,\"#9c179e\"],[0.4444444444444444,\"#bd3786\"],[0.5555555555555556,\"#d8576b\"],[0.6666666666666666,\"#ed7953\"],[0.7777777777777778,\"#fb9f3a\"],[0.8888888888888888,\"#fdca26\"],[1.0,\"#f0f921\"]]},\"colorway\":[\"#636efa\",\"#EF553B\",\"#00cc96\",\"#ab63fa\",\"#FFA15A\",\"#19d3f3\",\"#FF6692\",\"#B6E880\",\"#FF97FF\",\"#FECB52\"],\"font\":{\"color\":\"#2a3f5f\"},\"geo\":{\"bgcolor\":\"white\",\"lakecolor\":\"white\",\"landcolor\":\"#E5ECF6\",\"showlakes\":true,\"showland\":true,\"subunitcolor\":\"white\"},\"hoverlabel\":{\"align\":\"left\"},\"hovermode\":\"closest\",\"mapbox\":{\"style\":\"light\"},\"paper_bgcolor\":\"white\",\"plot_bgcolor\":\"#E5ECF6\",\"polar\":{\"angularaxis\":{\"gridcolor\":\"white\",\"linecolor\":\"white\",\"ticks\":\"\"},\"bgcolor\":\"#E5ECF6\",\"radialaxis\":{\"gridcolor\":\"white\",\"linecolor\":\"white\",\"ticks\":\"\"}},\"scene\":{\"xaxis\":{\"backgroundcolor\":\"#E5ECF6\",\"gridcolor\":\"white\",\"gridwidth\":2,\"linecolor\":\"white\",\"showbackground\":true,\"ticks\":\"\",\"zerolinecolor\":\"white\"},\"yaxis\":{\"backgroundcolor\":\"#E5ECF6\",\"gridcolor\":\"white\",\"gridwidth\":2,\"linecolor\":\"white\",\"showbackground\":true,\"ticks\":\"\",\"zerolinecolor\":\"white\"},\"zaxis\":{\"backgroundcolor\":\"#E5ECF6\",\"gridcolor\":\"white\",\"gridwidth\":2,\"linecolor\":\"white\",\"showbackground\":true,\"ticks\":\"\",\"zerolinecolor\":\"white\"}},\"shapedefaults\":{\"line\":{\"color\":\"#2a3f5f\"}},\"ternary\":{\"aaxis\":{\"gridcolor\":\"white\",\"linecolor\":\"white\",\"ticks\":\"\"},\"baxis\":{\"gridcolor\":\"white\",\"linecolor\":\"white\",\"ticks\":\"\"},\"bgcolor\":\"#E5ECF6\",\"caxis\":{\"gridcolor\":\"white\",\"linecolor\":\"white\",\"ticks\":\"\"}},\"title\":{\"x\":0.05},\"xaxis\":{\"automargin\":true,\"gridcolor\":\"white\",\"linecolor\":\"white\",\"ticks\":\"\",\"title\":{\"standoff\":15},\"zerolinecolor\":\"white\",\"zerolinewidth\":2},\"yaxis\":{\"automargin\":true,\"gridcolor\":\"white\",\"linecolor\":\"white\",\"ticks\":\"\",\"title\":{\"standoff\":15},\"zerolinecolor\":\"white\",\"zerolinewidth\":2}}},\"title\":{\"text\":\"Ever married  Distribution\"}},                        {\"responsive\": true}                    ).then(function(){\n",
              "                            \n",
              "var gd = document.getElementById('a36eac80-fad3-4997-afec-e1c355502520');\n",
              "var x = new MutationObserver(function (mutations, observer) {{\n",
              "        var display = window.getComputedStyle(gd).display;\n",
              "        if (!display || display === 'none') {{\n",
              "            console.log([gd, 'removed!']);\n",
              "            Plotly.purge(gd);\n",
              "            observer.disconnect();\n",
              "        }}\n",
              "}});\n",
              "\n",
              "// Listen for the removal of the full notebook cells\n",
              "var notebookContainer = gd.closest('#notebook-container');\n",
              "if (notebookContainer) {{\n",
              "    x.observe(notebookContainer, {childList: true});\n",
              "}}\n",
              "\n",
              "// Listen for the clearing of the current output cell\n",
              "var outputEl = gd.closest('.output');\n",
              "if (outputEl) {{\n",
              "    x.observe(outputEl, {childList: true});\n",
              "}}\n",
              "\n",
              "                        })                };                            </script>        </div>\n",
              "</body>\n",
              "</html>"
            ]
          },
          "metadata": {}
        }
      ]
    },
    {
      "cell_type": "markdown",
      "source": [
        "![Screenshot 2022-07-28 211805.png](data:image/png;base64,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)"
      ],
      "metadata": {
        "id": "qP_3pZ8riqqv"
      }
    },
    {
      "cell_type": "code",
      "source": [
        "pie_graph(vis_df, 'Work type Distribution','Work_Type')"
      ],
      "metadata": {
        "colab": {
          "base_uri": "https://localhost:8080/",
          "height": 0
        },
        "id": "fXy-HgdEDL5f",
        "outputId": "ebf1f7d8-fe23-4af9-d10d-f3184bacafe1"
      },
      "execution_count": 443,
      "outputs": [
        {
          "output_type": "display_data",
          "data": {
            "text/html": [
              "<html>\n",
              "<head><meta charset=\"utf-8\" /></head>\n",
              "<body>\n",
              "    <div>            <script src=\"https://cdnjs.cloudflare.com/ajax/libs/mathjax/2.7.5/MathJax.js?config=TeX-AMS-MML_SVG\"></script><script type=\"text/javascript\">if (window.MathJax) {MathJax.Hub.Config({SVG: {font: \"STIX-Web\"}});}</script>                <script type=\"text/javascript\">window.PlotlyConfig = {MathJaxConfig: 'local'};</script>\n",
              "        <script src=\"https://cdn.plot.ly/plotly-2.8.3.min.js\"></script>                <div id=\"22a4b5f9-2559-41b9-9dee-211b59551bb2\" class=\"plotly-graph-div\" style=\"height:525px; width:100%;\"></div>            <script type=\"text/javascript\">                                    window.PLOTLYENV=window.PLOTLYENV || {};                                    if (document.getElementById(\"22a4b5f9-2559-41b9-9dee-211b59551bb2\")) {                    Plotly.newPlot(                        \"22a4b5f9-2559-41b9-9dee-211b59551bb2\",                        [{\"hole\":0.5,\"labels\":[\"Private\",\"Self_Employed\",\"Children\",\"Govt_Job\",\"Never_worked\"],\"values\":[2925,819,687,657,22],\"type\":\"pie\"}],                        {\"template\":{\"data\":{\"bar\":[{\"error_x\":{\"color\":\"#2a3f5f\"},\"error_y\":{\"color\":\"#2a3f5f\"},\"marker\":{\"line\":{\"color\":\"#E5ECF6\",\"width\":0.5},\"pattern\":{\"fillmode\":\"overlay\",\"size\":10,\"solidity\":0.2}},\"type\":\"bar\"}],\"barpolar\":[{\"marker\":{\"line\":{\"color\":\"#E5ECF6\",\"width\":0.5},\"pattern\":{\"fillmode\":\"overlay\",\"size\":10,\"solidity\":0.2}},\"type\":\"barpolar\"}],\"carpet\":[{\"aaxis\":{\"endlinecolor\":\"#2a3f5f\",\"gridcolor\":\"white\",\"linecolor\":\"white\",\"minorgridcolor\":\"white\",\"startlinecolor\":\"#2a3f5f\"},\"baxis\":{\"endlinecolor\":\"#2a3f5f\",\"gridcolor\":\"white\",\"linecolor\":\"white\",\"minorgridcolor\":\"white\",\"startlinecolor\":\"#2a3f5f\"},\"type\":\"carpet\"}],\"choropleth\":[{\"colorbar\":{\"outlinewidth\":0,\"ticks\":\"\"},\"type\":\"choropleth\"}],\"contour\":[{\"colorbar\":{\"outlinewidth\":0,\"ticks\":\"\"},\"colorscale\":[[0.0,\"#0d0887\"],[0.1111111111111111,\"#46039f\"],[0.2222222222222222,\"#7201a8\"],[0.3333333333333333,\"#9c179e\"],[0.4444444444444444,\"#bd3786\"],[0.5555555555555556,\"#d8576b\"],[0.6666666666666666,\"#ed7953\"],[0.7777777777777778,\"#fb9f3a\"],[0.8888888888888888,\"#fdca26\"],[1.0,\"#f0f921\"]],\"type\":\"contour\"}],\"contourcarpet\":[{\"colorbar\":{\"outlinewidth\":0,\"ticks\":\"\"},\"type\":\"contourcarpet\"}],\"heatmap\":[{\"colorbar\":{\"outlinewidth\":0,\"ticks\":\"\"},\"colorscale\":[[0.0,\"#0d0887\"],[0.1111111111111111,\"#46039f\"],[0.2222222222222222,\"#7201a8\"],[0.3333333333333333,\"#9c179e\"],[0.4444444444444444,\"#bd3786\"],[0.5555555555555556,\"#d8576b\"],[0.6666666666666666,\"#ed7953\"],[0.7777777777777778,\"#fb9f3a\"],[0.8888888888888888,\"#fdca26\"],[1.0,\"#f0f921\"]],\"type\":\"heatmap\"}],\"heatmapgl\":[{\"colorbar\":{\"outlinewidth\":0,\"ticks\":\"\"},\"colorscale\":[[0.0,\"#0d0887\"],[0.1111111111111111,\"#46039f\"],[0.2222222222222222,\"#7201a8\"],[0.3333333333333333,\"#9c179e\"],[0.4444444444444444,\"#bd3786\"],[0.5555555555555556,\"#d8576b\"],[0.6666666666666666,\"#ed7953\"],[0.7777777777777778,\"#fb9f3a\"],[0.8888888888888888,\"#fdca26\"],[1.0,\"#f0f921\"]],\"type\":\"heatmapgl\"}],\"histogram\":[{\"marker\":{\"pattern\":{\"fillmode\":\"overlay\",\"size\":10,\"solidity\":0.2}},\"type\":\"histogram\"}],\"histogram2d\":[{\"colorbar\":{\"outlinewidth\":0,\"ticks\":\"\"},\"colorscale\":[[0.0,\"#0d0887\"],[0.1111111111111111,\"#46039f\"],[0.2222222222222222,\"#7201a8\"],[0.3333333333333333,\"#9c179e\"],[0.4444444444444444,\"#bd3786\"],[0.5555555555555556,\"#d8576b\"],[0.6666666666666666,\"#ed7953\"],[0.7777777777777778,\"#fb9f3a\"],[0.8888888888888888,\"#fdca26\"],[1.0,\"#f0f921\"]],\"type\":\"histogram2d\"}],\"histogram2dcontour\":[{\"colorbar\":{\"outlinewidth\":0,\"ticks\":\"\"},\"colorscale\":[[0.0,\"#0d0887\"],[0.1111111111111111,\"#46039f\"],[0.2222222222222222,\"#7201a8\"],[0.3333333333333333,\"#9c179e\"],[0.4444444444444444,\"#bd3786\"],[0.5555555555555556,\"#d8576b\"],[0.6666666666666666,\"#ed7953\"],[0.7777777777777778,\"#fb9f3a\"],[0.8888888888888888,\"#fdca26\"],[1.0,\"#f0f921\"]],\"type\":\"histogram2dcontour\"}],\"mesh3d\":[{\"colorbar\":{\"outlinewidth\":0,\"ticks\":\"\"},\"type\":\"mesh3d\"}],\"parcoords\":[{\"line\":{\"colorbar\":{\"outlinewidth\":0,\"ticks\":\"\"}},\"type\":\"parcoords\"}],\"pie\":[{\"automargin\":true,\"type\":\"pie\"}],\"scatter\":[{\"marker\":{\"colorbar\":{\"outlinewidth\":0,\"ticks\":\"\"}},\"type\":\"scatter\"}],\"scatter3d\":[{\"line\":{\"colorbar\":{\"outlinewidth\":0,\"ticks\":\"\"}},\"marker\":{\"colorbar\":{\"outlinewidth\":0,\"ticks\":\"\"}},\"type\":\"scatter3d\"}],\"scattercarpet\":[{\"marker\":{\"colorbar\":{\"outlinewidth\":0,\"ticks\":\"\"}},\"type\":\"scattercarpet\"}],\"scattergeo\":[{\"marker\":{\"colorbar\":{\"outlinewidth\":0,\"ticks\":\"\"}},\"type\":\"scattergeo\"}],\"scattergl\":[{\"marker\":{\"colorbar\":{\"outlinewidth\":0,\"ticks\":\"\"}},\"type\":\"scattergl\"}],\"scattermapbox\":[{\"marker\":{\"colorbar\":{\"outlinewidth\":0,\"ticks\":\"\"}},\"type\":\"scattermapbox\"}],\"scatterpolar\":[{\"marker\":{\"colorbar\":{\"outlinewidth\":0,\"ticks\":\"\"}},\"type\":\"scatterpolar\"}],\"scatterpolargl\":[{\"marker\":{\"colorbar\":{\"outlinewidth\":0,\"ticks\":\"\"}},\"type\":\"scatterpolargl\"}],\"scatterternary\":[{\"marker\":{\"colorbar\":{\"outlinewidth\":0,\"ticks\":\"\"}},\"type\":\"scatterternary\"}],\"surface\":[{\"colorbar\":{\"outlinewidth\":0,\"ticks\":\"\"},\"colorscale\":[[0.0,\"#0d0887\"],[0.1111111111111111,\"#46039f\"],[0.2222222222222222,\"#7201a8\"],[0.3333333333333333,\"#9c179e\"],[0.4444444444444444,\"#bd3786\"],[0.5555555555555556,\"#d8576b\"],[0.6666666666666666,\"#ed7953\"],[0.7777777777777778,\"#fb9f3a\"],[0.8888888888888888,\"#fdca26\"],[1.0,\"#f0f921\"]],\"type\":\"surface\"}],\"table\":[{\"cells\":{\"fill\":{\"color\":\"#EBF0F8\"},\"line\":{\"color\":\"white\"}},\"header\":{\"fill\":{\"color\":\"#C8D4E3\"},\"line\":{\"color\":\"white\"}},\"type\":\"table\"}]},\"layout\":{\"annotationdefaults\":{\"arrowcolor\":\"#2a3f5f\",\"arrowhead\":0,\"arrowwidth\":1},\"autotypenumbers\":\"strict\",\"coloraxis\":{\"colorbar\":{\"outlinewidth\":0,\"ticks\":\"\"}},\"colorscale\":{\"diverging\":[[0,\"#8e0152\"],[0.1,\"#c51b7d\"],[0.2,\"#de77ae\"],[0.3,\"#f1b6da\"],[0.4,\"#fde0ef\"],[0.5,\"#f7f7f7\"],[0.6,\"#e6f5d0\"],[0.7,\"#b8e186\"],[0.8,\"#7fbc41\"],[0.9,\"#4d9221\"],[1,\"#276419\"]],\"sequential\":[[0.0,\"#0d0887\"],[0.1111111111111111,\"#46039f\"],[0.2222222222222222,\"#7201a8\"],[0.3333333333333333,\"#9c179e\"],[0.4444444444444444,\"#bd3786\"],[0.5555555555555556,\"#d8576b\"],[0.6666666666666666,\"#ed7953\"],[0.7777777777777778,\"#fb9f3a\"],[0.8888888888888888,\"#fdca26\"],[1.0,\"#f0f921\"]],\"sequentialminus\":[[0.0,\"#0d0887\"],[0.1111111111111111,\"#46039f\"],[0.2222222222222222,\"#7201a8\"],[0.3333333333333333,\"#9c179e\"],[0.4444444444444444,\"#bd3786\"],[0.5555555555555556,\"#d8576b\"],[0.6666666666666666,\"#ed7953\"],[0.7777777777777778,\"#fb9f3a\"],[0.8888888888888888,\"#fdca26\"],[1.0,\"#f0f921\"]]},\"colorway\":[\"#636efa\",\"#EF553B\",\"#00cc96\",\"#ab63fa\",\"#FFA15A\",\"#19d3f3\",\"#FF6692\",\"#B6E880\",\"#FF97FF\",\"#FECB52\"],\"font\":{\"color\":\"#2a3f5f\"},\"geo\":{\"bgcolor\":\"white\",\"lakecolor\":\"white\",\"landcolor\":\"#E5ECF6\",\"showlakes\":true,\"showland\":true,\"subunitcolor\":\"white\"},\"hoverlabel\":{\"align\":\"left\"},\"hovermode\":\"closest\",\"mapbox\":{\"style\":\"light\"},\"paper_bgcolor\":\"white\",\"plot_bgcolor\":\"#E5ECF6\",\"polar\":{\"angularaxis\":{\"gridcolor\":\"white\",\"linecolor\":\"white\",\"ticks\":\"\"},\"bgcolor\":\"#E5ECF6\",\"radialaxis\":{\"gridcolor\":\"white\",\"linecolor\":\"white\",\"ticks\":\"\"}},\"scene\":{\"xaxis\":{\"backgroundcolor\":\"#E5ECF6\",\"gridcolor\":\"white\",\"gridwidth\":2,\"linecolor\":\"white\",\"showbackground\":true,\"ticks\":\"\",\"zerolinecolor\":\"white\"},\"yaxis\":{\"backgroundcolor\":\"#E5ECF6\",\"gridcolor\":\"white\",\"gridwidth\":2,\"linecolor\":\"white\",\"showbackground\":true,\"ticks\":\"\",\"zerolinecolor\":\"white\"},\"zaxis\":{\"backgroundcolor\":\"#E5ECF6\",\"gridcolor\":\"white\",\"gridwidth\":2,\"linecolor\":\"white\",\"showbackground\":true,\"ticks\":\"\",\"zerolinecolor\":\"white\"}},\"shapedefaults\":{\"line\":{\"color\":\"#2a3f5f\"}},\"ternary\":{\"aaxis\":{\"gridcolor\":\"white\",\"linecolor\":\"white\",\"ticks\":\"\"},\"baxis\":{\"gridcolor\":\"white\",\"linecolor\":\"white\",\"ticks\":\"\"},\"bgcolor\":\"#E5ECF6\",\"caxis\":{\"gridcolor\":\"white\",\"linecolor\":\"white\",\"ticks\":\"\"}},\"title\":{\"x\":0.05},\"xaxis\":{\"automargin\":true,\"gridcolor\":\"white\",\"linecolor\":\"white\",\"ticks\":\"\",\"title\":{\"standoff\":15},\"zerolinecolor\":\"white\",\"zerolinewidth\":2},\"yaxis\":{\"automargin\":true,\"gridcolor\":\"white\",\"linecolor\":\"white\",\"ticks\":\"\",\"title\":{\"standoff\":15},\"zerolinecolor\":\"white\",\"zerolinewidth\":2}}},\"title\":{\"text\":\"Work type Distribution\"}},                        {\"responsive\": true}                    ).then(function(){\n",
              "                            \n",
              "var gd = document.getElementById('22a4b5f9-2559-41b9-9dee-211b59551bb2');\n",
              "var x = new MutationObserver(function (mutations, observer) {{\n",
              "        var display = window.getComputedStyle(gd).display;\n",
              "        if (!display || display === 'none') {{\n",
              "            console.log([gd, 'removed!']);\n",
              "            Plotly.purge(gd);\n",
              "            observer.disconnect();\n",
              "        }}\n",
              "}});\n",
              "\n",
              "// Listen for the removal of the full notebook cells\n",
              "var notebookContainer = gd.closest('#notebook-container');\n",
              "if (notebookContainer) {{\n",
              "    x.observe(notebookContainer, {childList: true});\n",
              "}}\n",
              "\n",
              "// Listen for the clearing of the current output cell\n",
              "var outputEl = gd.closest('.output');\n",
              "if (outputEl) {{\n",
              "    x.observe(outputEl, {childList: true});\n",
              "}}\n",
              "\n",
              "                        })                };                            </script>        </div>\n",
              "</body>\n",
              "</html>"
            ]
          },
          "metadata": {}
        }
      ]
    },
    {
      "cell_type": "markdown",
      "source": [
        "![Screenshot 2022-07-28 211815.png](data:image/png;base64,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)"
      ],
      "metadata": {
        "id": "BBh8F64mis5z"
      }
    },
    {
      "cell_type": "code",
      "source": [
        "pie_graph(vis_df, 'Residence type Distribution','Residence_Type')"
      ],
      "metadata": {
        "colab": {
          "base_uri": "https://localhost:8080/",
          "height": 0
        },
        "id": "KYO44aqdDL3k",
        "outputId": "63e2ac69-3764-42c7-9a21-aac8078c394a"
      },
      "execution_count": 444,
      "outputs": [
        {
          "output_type": "display_data",
          "data": {
            "text/html": [
              "<html>\n",
              "<head><meta charset=\"utf-8\" /></head>\n",
              "<body>\n",
              "    <div>            <script src=\"https://cdnjs.cloudflare.com/ajax/libs/mathjax/2.7.5/MathJax.js?config=TeX-AMS-MML_SVG\"></script><script type=\"text/javascript\">if (window.MathJax) {MathJax.Hub.Config({SVG: {font: \"STIX-Web\"}});}</script>                <script type=\"text/javascript\">window.PlotlyConfig = {MathJaxConfig: 'local'};</script>\n",
              "        <script src=\"https://cdn.plot.ly/plotly-2.8.3.min.js\"></script>                <div id=\"ed128893-c0a5-4e48-bdc1-bfedfa5a2492\" class=\"plotly-graph-div\" style=\"height:525px; width:100%;\"></div>            <script type=\"text/javascript\">                                    window.PLOTLYENV=window.PLOTLYENV || {};                                    if (document.getElementById(\"ed128893-c0a5-4e48-bdc1-bfedfa5a2492\")) {                    Plotly.newPlot(                        \"ed128893-c0a5-4e48-bdc1-bfedfa5a2492\",                        [{\"hole\":0.5,\"labels\":[\"Urban\",\"Rural\"],\"values\":[2596,2514],\"type\":\"pie\"}],                        {\"template\":{\"data\":{\"bar\":[{\"error_x\":{\"color\":\"#2a3f5f\"},\"error_y\":{\"color\":\"#2a3f5f\"},\"marker\":{\"line\":{\"color\":\"#E5ECF6\",\"width\":0.5},\"pattern\":{\"fillmode\":\"overlay\",\"size\":10,\"solidity\":0.2}},\"type\":\"bar\"}],\"barpolar\":[{\"marker\":{\"line\":{\"color\":\"#E5ECF6\",\"width\":0.5},\"pattern\":{\"fillmode\":\"overlay\",\"size\":10,\"solidity\":0.2}},\"type\":\"barpolar\"}],\"carpet\":[{\"aaxis\":{\"endlinecolor\":\"#2a3f5f\",\"gridcolor\":\"white\",\"linecolor\":\"white\",\"minorgridcolor\":\"white\",\"startlinecolor\":\"#2a3f5f\"},\"baxis\":{\"endlinecolor\":\"#2a3f5f\",\"gridcolor\":\"white\",\"linecolor\":\"white\",\"minorgridcolor\":\"white\",\"startlinecolor\":\"#2a3f5f\"},\"type\":\"carpet\"}],\"choropleth\":[{\"colorbar\":{\"outlinewidth\":0,\"ticks\":\"\"},\"type\":\"choropleth\"}],\"contour\":[{\"colorbar\":{\"outlinewidth\":0,\"ticks\":\"\"},\"colorscale\":[[0.0,\"#0d0887\"],[0.1111111111111111,\"#46039f\"],[0.2222222222222222,\"#7201a8\"],[0.3333333333333333,\"#9c179e\"],[0.4444444444444444,\"#bd3786\"],[0.5555555555555556,\"#d8576b\"],[0.6666666666666666,\"#ed7953\"],[0.7777777777777778,\"#fb9f3a\"],[0.8888888888888888,\"#fdca26\"],[1.0,\"#f0f921\"]],\"type\":\"contour\"}],\"contourcarpet\":[{\"colorbar\":{\"outlinewidth\":0,\"ticks\":\"\"},\"type\":\"contourcarpet\"}],\"heatmap\":[{\"colorbar\":{\"outlinewidth\":0,\"ticks\":\"\"},\"colorscale\":[[0.0,\"#0d0887\"],[0.1111111111111111,\"#46039f\"],[0.2222222222222222,\"#7201a8\"],[0.3333333333333333,\"#9c179e\"],[0.4444444444444444,\"#bd3786\"],[0.5555555555555556,\"#d8576b\"],[0.6666666666666666,\"#ed7953\"],[0.7777777777777778,\"#fb9f3a\"],[0.8888888888888888,\"#fdca26\"],[1.0,\"#f0f921\"]],\"type\":\"heatmap\"}],\"heatmapgl\":[{\"colorbar\":{\"outlinewidth\":0,\"ticks\":\"\"},\"colorscale\":[[0.0,\"#0d0887\"],[0.1111111111111111,\"#46039f\"],[0.2222222222222222,\"#7201a8\"],[0.3333333333333333,\"#9c179e\"],[0.4444444444444444,\"#bd3786\"],[0.5555555555555556,\"#d8576b\"],[0.6666666666666666,\"#ed7953\"],[0.7777777777777778,\"#fb9f3a\"],[0.8888888888888888,\"#fdca26\"],[1.0,\"#f0f921\"]],\"type\":\"heatmapgl\"}],\"histogram\":[{\"marker\":{\"pattern\":{\"fillmode\":\"overlay\",\"size\":10,\"solidity\":0.2}},\"type\":\"histogram\"}],\"histogram2d\":[{\"colorbar\":{\"outlinewidth\":0,\"ticks\":\"\"},\"colorscale\":[[0.0,\"#0d0887\"],[0.1111111111111111,\"#46039f\"],[0.2222222222222222,\"#7201a8\"],[0.3333333333333333,\"#9c179e\"],[0.4444444444444444,\"#bd3786\"],[0.5555555555555556,\"#d8576b\"],[0.6666666666666666,\"#ed7953\"],[0.7777777777777778,\"#fb9f3a\"],[0.8888888888888888,\"#fdca26\"],[1.0,\"#f0f921\"]],\"type\":\"histogram2d\"}],\"histogram2dcontour\":[{\"colorbar\":{\"outlinewidth\":0,\"ticks\":\"\"},\"colorscale\":[[0.0,\"#0d0887\"],[0.1111111111111111,\"#46039f\"],[0.2222222222222222,\"#7201a8\"],[0.3333333333333333,\"#9c179e\"],[0.4444444444444444,\"#bd3786\"],[0.5555555555555556,\"#d8576b\"],[0.6666666666666666,\"#ed7953\"],[0.7777777777777778,\"#fb9f3a\"],[0.8888888888888888,\"#fdca26\"],[1.0,\"#f0f921\"]],\"type\":\"histogram2dcontour\"}],\"mesh3d\":[{\"colorbar\":{\"outlinewidth\":0,\"ticks\":\"\"},\"type\":\"mesh3d\"}],\"parcoords\":[{\"line\":{\"colorbar\":{\"outlinewidth\":0,\"ticks\":\"\"}},\"type\":\"parcoords\"}],\"pie\":[{\"automargin\":true,\"type\":\"pie\"}],\"scatter\":[{\"marker\":{\"colorbar\":{\"outlinewidth\":0,\"ticks\":\"\"}},\"type\":\"scatter\"}],\"scatter3d\":[{\"line\":{\"colorbar\":{\"outlinewidth\":0,\"ticks\":\"\"}},\"marker\":{\"colorbar\":{\"outlinewidth\":0,\"ticks\":\"\"}},\"type\":\"scatter3d\"}],\"scattercarpet\":[{\"marker\":{\"colorbar\":{\"outlinewidth\":0,\"ticks\":\"\"}},\"type\":\"scattercarpet\"}],\"scattergeo\":[{\"marker\":{\"colorbar\":{\"outlinewidth\":0,\"ticks\":\"\"}},\"type\":\"scattergeo\"}],\"scattergl\":[{\"marker\":{\"colorbar\":{\"outlinewidth\":0,\"ticks\":\"\"}},\"type\":\"scattergl\"}],\"scattermapbox\":[{\"marker\":{\"colorbar\":{\"outlinewidth\":0,\"ticks\":\"\"}},\"type\":\"scattermapbox\"}],\"scatterpolar\":[{\"marker\":{\"colorbar\":{\"outlinewidth\":0,\"ticks\":\"\"}},\"type\":\"scatterpolar\"}],\"scatterpolargl\":[{\"marker\":{\"colorbar\":{\"outlinewidth\":0,\"ticks\":\"\"}},\"type\":\"scatterpolargl\"}],\"scatterternary\":[{\"marker\":{\"colorbar\":{\"outlinewidth\":0,\"ticks\":\"\"}},\"type\":\"scatterternary\"}],\"surface\":[{\"colorbar\":{\"outlinewidth\":0,\"ticks\":\"\"},\"colorscale\":[[0.0,\"#0d0887\"],[0.1111111111111111,\"#46039f\"],[0.2222222222222222,\"#7201a8\"],[0.3333333333333333,\"#9c179e\"],[0.4444444444444444,\"#bd3786\"],[0.5555555555555556,\"#d8576b\"],[0.6666666666666666,\"#ed7953\"],[0.7777777777777778,\"#fb9f3a\"],[0.8888888888888888,\"#fdca26\"],[1.0,\"#f0f921\"]],\"type\":\"surface\"}],\"table\":[{\"cells\":{\"fill\":{\"color\":\"#EBF0F8\"},\"line\":{\"color\":\"white\"}},\"header\":{\"fill\":{\"color\":\"#C8D4E3\"},\"line\":{\"color\":\"white\"}},\"type\":\"table\"}]},\"layout\":{\"annotationdefaults\":{\"arrowcolor\":\"#2a3f5f\",\"arrowhead\":0,\"arrowwidth\":1},\"autotypenumbers\":\"strict\",\"coloraxis\":{\"colorbar\":{\"outlinewidth\":0,\"ticks\":\"\"}},\"colorscale\":{\"diverging\":[[0,\"#8e0152\"],[0.1,\"#c51b7d\"],[0.2,\"#de77ae\"],[0.3,\"#f1b6da\"],[0.4,\"#fde0ef\"],[0.5,\"#f7f7f7\"],[0.6,\"#e6f5d0\"],[0.7,\"#b8e186\"],[0.8,\"#7fbc41\"],[0.9,\"#4d9221\"],[1,\"#276419\"]],\"sequential\":[[0.0,\"#0d0887\"],[0.1111111111111111,\"#46039f\"],[0.2222222222222222,\"#7201a8\"],[0.3333333333333333,\"#9c179e\"],[0.4444444444444444,\"#bd3786\"],[0.5555555555555556,\"#d8576b\"],[0.6666666666666666,\"#ed7953\"],[0.7777777777777778,\"#fb9f3a\"],[0.8888888888888888,\"#fdca26\"],[1.0,\"#f0f921\"]],\"sequentialminus\":[[0.0,\"#0d0887\"],[0.1111111111111111,\"#46039f\"],[0.2222222222222222,\"#7201a8\"],[0.3333333333333333,\"#9c179e\"],[0.4444444444444444,\"#bd3786\"],[0.5555555555555556,\"#d8576b\"],[0.6666666666666666,\"#ed7953\"],[0.7777777777777778,\"#fb9f3a\"],[0.8888888888888888,\"#fdca26\"],[1.0,\"#f0f921\"]]},\"colorway\":[\"#636efa\",\"#EF553B\",\"#00cc96\",\"#ab63fa\",\"#FFA15A\",\"#19d3f3\",\"#FF6692\",\"#B6E880\",\"#FF97FF\",\"#FECB52\"],\"font\":{\"color\":\"#2a3f5f\"},\"geo\":{\"bgcolor\":\"white\",\"lakecolor\":\"white\",\"landcolor\":\"#E5ECF6\",\"showlakes\":true,\"showland\":true,\"subunitcolor\":\"white\"},\"hoverlabel\":{\"align\":\"left\"},\"hovermode\":\"closest\",\"mapbox\":{\"style\":\"light\"},\"paper_bgcolor\":\"white\",\"plot_bgcolor\":\"#E5ECF6\",\"polar\":{\"angularaxis\":{\"gridcolor\":\"white\",\"linecolor\":\"white\",\"ticks\":\"\"},\"bgcolor\":\"#E5ECF6\",\"radialaxis\":{\"gridcolor\":\"white\",\"linecolor\":\"white\",\"ticks\":\"\"}},\"scene\":{\"xaxis\":{\"backgroundcolor\":\"#E5ECF6\",\"gridcolor\":\"white\",\"gridwidth\":2,\"linecolor\":\"white\",\"showbackground\":true,\"ticks\":\"\",\"zerolinecolor\":\"white\"},\"yaxis\":{\"backgroundcolor\":\"#E5ECF6\",\"gridcolor\":\"white\",\"gridwidth\":2,\"linecolor\":\"white\",\"showbackground\":true,\"ticks\":\"\",\"zerolinecolor\":\"white\"},\"zaxis\":{\"backgroundcolor\":\"#E5ECF6\",\"gridcolor\":\"white\",\"gridwidth\":2,\"linecolor\":\"white\",\"showbackground\":true,\"ticks\":\"\",\"zerolinecolor\":\"white\"}},\"shapedefaults\":{\"line\":{\"color\":\"#2a3f5f\"}},\"ternary\":{\"aaxis\":{\"gridcolor\":\"white\",\"linecolor\":\"white\",\"ticks\":\"\"},\"baxis\":{\"gridcolor\":\"white\",\"linecolor\":\"white\",\"ticks\":\"\"},\"bgcolor\":\"#E5ECF6\",\"caxis\":{\"gridcolor\":\"white\",\"linecolor\":\"white\",\"ticks\":\"\"}},\"title\":{\"x\":0.05},\"xaxis\":{\"automargin\":true,\"gridcolor\":\"white\",\"linecolor\":\"white\",\"ticks\":\"\",\"title\":{\"standoff\":15},\"zerolinecolor\":\"white\",\"zerolinewidth\":2},\"yaxis\":{\"automargin\":true,\"gridcolor\":\"white\",\"linecolor\":\"white\",\"ticks\":\"\",\"title\":{\"standoff\":15},\"zerolinecolor\":\"white\",\"zerolinewidth\":2}}},\"title\":{\"text\":\"Residence type Distribution\"}},                        {\"responsive\": true}                    ).then(function(){\n",
              "                            \n",
              "var gd = document.getElementById('ed128893-c0a5-4e48-bdc1-bfedfa5a2492');\n",
              "var x = new MutationObserver(function (mutations, observer) {{\n",
              "        var display = window.getComputedStyle(gd).display;\n",
              "        if (!display || display === 'none') {{\n",
              "            console.log([gd, 'removed!']);\n",
              "            Plotly.purge(gd);\n",
              "            observer.disconnect();\n",
              "        }}\n",
              "}});\n",
              "\n",
              "// Listen for the removal of the full notebook cells\n",
              "var notebookContainer = gd.closest('#notebook-container');\n",
              "if (notebookContainer) {{\n",
              "    x.observe(notebookContainer, {childList: true});\n",
              "}}\n",
              "\n",
              "// Listen for the clearing of the current output cell\n",
              "var outputEl = gd.closest('.output');\n",
              "if (outputEl) {{\n",
              "    x.observe(outputEl, {childList: true});\n",
              "}}\n",
              "\n",
              "                        })                };                            </script>        </div>\n",
              "</body>\n",
              "</html>"
            ]
          },
          "metadata": {}
        }
      ]
    },
    {
      "cell_type": "markdown",
      "source": [
        "![Screenshot 2022-07-28 211827.png](data:image/png;base64,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)"
      ],
      "metadata": {
        "id": "Y97MtbM2iva5"
      }
    },
    {
      "cell_type": "code",
      "source": [
        "pie_graph(vis_df,'Smoking Status Distribution','Smoking_Status')"
      ],
      "metadata": {
        "colab": {
          "base_uri": "https://localhost:8080/",
          "height": 0
        },
        "id": "of2ywAz6E2Pm",
        "outputId": "cee484e5-4ebc-4b55-fe04-29a6ae7c9d03"
      },
      "execution_count": 445,
      "outputs": [
        {
          "output_type": "display_data",
          "data": {
            "text/html": [
              "<html>\n",
              "<head><meta charset=\"utf-8\" /></head>\n",
              "<body>\n",
              "    <div>            <script src=\"https://cdnjs.cloudflare.com/ajax/libs/mathjax/2.7.5/MathJax.js?config=TeX-AMS-MML_SVG\"></script><script type=\"text/javascript\">if (window.MathJax) {MathJax.Hub.Config({SVG: {font: \"STIX-Web\"}});}</script>                <script type=\"text/javascript\">window.PlotlyConfig = {MathJaxConfig: 'local'};</script>\n",
              "        <script src=\"https://cdn.plot.ly/plotly-2.8.3.min.js\"></script>                <div id=\"0863b57f-03e9-41ff-9003-85ef5a94f96e\" class=\"plotly-graph-div\" style=\"height:525px; width:100%;\"></div>            <script type=\"text/javascript\">                                    window.PLOTLYENV=window.PLOTLYENV || {};                                    if (document.getElementById(\"0863b57f-03e9-41ff-9003-85ef5a94f96e\")) {                    Plotly.newPlot(                        \"0863b57f-03e9-41ff-9003-85ef5a94f96e\",                        [{\"hole\":0.5,\"labels\":[\"Never_Smoked\",\"Unknown\",\"Former_Smoker\",\"Active_Smoker\"],\"values\":[1892,1544,885,789],\"type\":\"pie\"}],                        {\"template\":{\"data\":{\"bar\":[{\"error_x\":{\"color\":\"#2a3f5f\"},\"error_y\":{\"color\":\"#2a3f5f\"},\"marker\":{\"line\":{\"color\":\"#E5ECF6\",\"width\":0.5},\"pattern\":{\"fillmode\":\"overlay\",\"size\":10,\"solidity\":0.2}},\"type\":\"bar\"}],\"barpolar\":[{\"marker\":{\"line\":{\"color\":\"#E5ECF6\",\"width\":0.5},\"pattern\":{\"fillmode\":\"overlay\",\"size\":10,\"solidity\":0.2}},\"type\":\"barpolar\"}],\"carpet\":[{\"aaxis\":{\"endlinecolor\":\"#2a3f5f\",\"gridcolor\":\"white\",\"linecolor\":\"white\",\"minorgridcolor\":\"white\",\"startlinecolor\":\"#2a3f5f\"},\"baxis\":{\"endlinecolor\":\"#2a3f5f\",\"gridcolor\":\"white\",\"linecolor\":\"white\",\"minorgridcolor\":\"white\",\"startlinecolor\":\"#2a3f5f\"},\"type\":\"carpet\"}],\"choropleth\":[{\"colorbar\":{\"outlinewidth\":0,\"ticks\":\"\"},\"type\":\"choropleth\"}],\"contour\":[{\"colorbar\":{\"outlinewidth\":0,\"ticks\":\"\"},\"colorscale\":[[0.0,\"#0d0887\"],[0.1111111111111111,\"#46039f\"],[0.2222222222222222,\"#7201a8\"],[0.3333333333333333,\"#9c179e\"],[0.4444444444444444,\"#bd3786\"],[0.5555555555555556,\"#d8576b\"],[0.6666666666666666,\"#ed7953\"],[0.7777777777777778,\"#fb9f3a\"],[0.8888888888888888,\"#fdca26\"],[1.0,\"#f0f921\"]],\"type\":\"contour\"}],\"contourcarpet\":[{\"colorbar\":{\"outlinewidth\":0,\"ticks\":\"\"},\"type\":\"contourcarpet\"}],\"heatmap\":[{\"colorbar\":{\"outlinewidth\":0,\"ticks\":\"\"},\"colorscale\":[[0.0,\"#0d0887\"],[0.1111111111111111,\"#46039f\"],[0.2222222222222222,\"#7201a8\"],[0.3333333333333333,\"#9c179e\"],[0.4444444444444444,\"#bd3786\"],[0.5555555555555556,\"#d8576b\"],[0.6666666666666666,\"#ed7953\"],[0.7777777777777778,\"#fb9f3a\"],[0.8888888888888888,\"#fdca26\"],[1.0,\"#f0f921\"]],\"type\":\"heatmap\"}],\"heatmapgl\":[{\"colorbar\":{\"outlinewidth\":0,\"ticks\":\"\"},\"colorscale\":[[0.0,\"#0d0887\"],[0.1111111111111111,\"#46039f\"],[0.2222222222222222,\"#7201a8\"],[0.3333333333333333,\"#9c179e\"],[0.4444444444444444,\"#bd3786\"],[0.5555555555555556,\"#d8576b\"],[0.6666666666666666,\"#ed7953\"],[0.7777777777777778,\"#fb9f3a\"],[0.8888888888888888,\"#fdca26\"],[1.0,\"#f0f921\"]],\"type\":\"heatmapgl\"}],\"histogram\":[{\"marker\":{\"pattern\":{\"fillmode\":\"overlay\",\"size\":10,\"solidity\":0.2}},\"type\":\"histogram\"}],\"histogram2d\":[{\"colorbar\":{\"outlinewidth\":0,\"ticks\":\"\"},\"colorscale\":[[0.0,\"#0d0887\"],[0.1111111111111111,\"#46039f\"],[0.2222222222222222,\"#7201a8\"],[0.3333333333333333,\"#9c179e\"],[0.4444444444444444,\"#bd3786\"],[0.5555555555555556,\"#d8576b\"],[0.6666666666666666,\"#ed7953\"],[0.7777777777777778,\"#fb9f3a\"],[0.8888888888888888,\"#fdca26\"],[1.0,\"#f0f921\"]],\"type\":\"histogram2d\"}],\"histogram2dcontour\":[{\"colorbar\":{\"outlinewidth\":0,\"ticks\":\"\"},\"colorscale\":[[0.0,\"#0d0887\"],[0.1111111111111111,\"#46039f\"],[0.2222222222222222,\"#7201a8\"],[0.3333333333333333,\"#9c179e\"],[0.4444444444444444,\"#bd3786\"],[0.5555555555555556,\"#d8576b\"],[0.6666666666666666,\"#ed7953\"],[0.7777777777777778,\"#fb9f3a\"],[0.8888888888888888,\"#fdca26\"],[1.0,\"#f0f921\"]],\"type\":\"histogram2dcontour\"}],\"mesh3d\":[{\"colorbar\":{\"outlinewidth\":0,\"ticks\":\"\"},\"type\":\"mesh3d\"}],\"parcoords\":[{\"line\":{\"colorbar\":{\"outlinewidth\":0,\"ticks\":\"\"}},\"type\":\"parcoords\"}],\"pie\":[{\"automargin\":true,\"type\":\"pie\"}],\"scatter\":[{\"marker\":{\"colorbar\":{\"outlinewidth\":0,\"ticks\":\"\"}},\"type\":\"scatter\"}],\"scatter3d\":[{\"line\":{\"colorbar\":{\"outlinewidth\":0,\"ticks\":\"\"}},\"marker\":{\"colorbar\":{\"outlinewidth\":0,\"ticks\":\"\"}},\"type\":\"scatter3d\"}],\"scattercarpet\":[{\"marker\":{\"colorbar\":{\"outlinewidth\":0,\"ticks\":\"\"}},\"type\":\"scattercarpet\"}],\"scattergeo\":[{\"marker\":{\"colorbar\":{\"outlinewidth\":0,\"ticks\":\"\"}},\"type\":\"scattergeo\"}],\"scattergl\":[{\"marker\":{\"colorbar\":{\"outlinewidth\":0,\"ticks\":\"\"}},\"type\":\"scattergl\"}],\"scattermapbox\":[{\"marker\":{\"colorbar\":{\"outlinewidth\":0,\"ticks\":\"\"}},\"type\":\"scattermapbox\"}],\"scatterpolar\":[{\"marker\":{\"colorbar\":{\"outlinewidth\":0,\"ticks\":\"\"}},\"type\":\"scatterpolar\"}],\"scatterpolargl\":[{\"marker\":{\"colorbar\":{\"outlinewidth\":0,\"ticks\":\"\"}},\"type\":\"scatterpolargl\"}],\"scatterternary\":[{\"marker\":{\"colorbar\":{\"outlinewidth\":0,\"ticks\":\"\"}},\"type\":\"scatterternary\"}],\"surface\":[{\"colorbar\":{\"outlinewidth\":0,\"ticks\":\"\"},\"colorscale\":[[0.0,\"#0d0887\"],[0.1111111111111111,\"#46039f\"],[0.2222222222222222,\"#7201a8\"],[0.3333333333333333,\"#9c179e\"],[0.4444444444444444,\"#bd3786\"],[0.5555555555555556,\"#d8576b\"],[0.6666666666666666,\"#ed7953\"],[0.7777777777777778,\"#fb9f3a\"],[0.8888888888888888,\"#fdca26\"],[1.0,\"#f0f921\"]],\"type\":\"surface\"}],\"table\":[{\"cells\":{\"fill\":{\"color\":\"#EBF0F8\"},\"line\":{\"color\":\"white\"}},\"header\":{\"fill\":{\"color\":\"#C8D4E3\"},\"line\":{\"color\":\"white\"}},\"type\":\"table\"}]},\"layout\":{\"annotationdefaults\":{\"arrowcolor\":\"#2a3f5f\",\"arrowhead\":0,\"arrowwidth\":1},\"autotypenumbers\":\"strict\",\"coloraxis\":{\"colorbar\":{\"outlinewidth\":0,\"ticks\":\"\"}},\"colorscale\":{\"diverging\":[[0,\"#8e0152\"],[0.1,\"#c51b7d\"],[0.2,\"#de77ae\"],[0.3,\"#f1b6da\"],[0.4,\"#fde0ef\"],[0.5,\"#f7f7f7\"],[0.6,\"#e6f5d0\"],[0.7,\"#b8e186\"],[0.8,\"#7fbc41\"],[0.9,\"#4d9221\"],[1,\"#276419\"]],\"sequential\":[[0.0,\"#0d0887\"],[0.1111111111111111,\"#46039f\"],[0.2222222222222222,\"#7201a8\"],[0.3333333333333333,\"#9c179e\"],[0.4444444444444444,\"#bd3786\"],[0.5555555555555556,\"#d8576b\"],[0.6666666666666666,\"#ed7953\"],[0.7777777777777778,\"#fb9f3a\"],[0.8888888888888888,\"#fdca26\"],[1.0,\"#f0f921\"]],\"sequentialminus\":[[0.0,\"#0d0887\"],[0.1111111111111111,\"#46039f\"],[0.2222222222222222,\"#7201a8\"],[0.3333333333333333,\"#9c179e\"],[0.4444444444444444,\"#bd3786\"],[0.5555555555555556,\"#d8576b\"],[0.6666666666666666,\"#ed7953\"],[0.7777777777777778,\"#fb9f3a\"],[0.8888888888888888,\"#fdca26\"],[1.0,\"#f0f921\"]]},\"colorway\":[\"#636efa\",\"#EF553B\",\"#00cc96\",\"#ab63fa\",\"#FFA15A\",\"#19d3f3\",\"#FF6692\",\"#B6E880\",\"#FF97FF\",\"#FECB52\"],\"font\":{\"color\":\"#2a3f5f\"},\"geo\":{\"bgcolor\":\"white\",\"lakecolor\":\"white\",\"landcolor\":\"#E5ECF6\",\"showlakes\":true,\"showland\":true,\"subunitcolor\":\"white\"},\"hoverlabel\":{\"align\":\"left\"},\"hovermode\":\"closest\",\"mapbox\":{\"style\":\"light\"},\"paper_bgcolor\":\"white\",\"plot_bgcolor\":\"#E5ECF6\",\"polar\":{\"angularaxis\":{\"gridcolor\":\"white\",\"linecolor\":\"white\",\"ticks\":\"\"},\"bgcolor\":\"#E5ECF6\",\"radialaxis\":{\"gridcolor\":\"white\",\"linecolor\":\"white\",\"ticks\":\"\"}},\"scene\":{\"xaxis\":{\"backgroundcolor\":\"#E5ECF6\",\"gridcolor\":\"white\",\"gridwidth\":2,\"linecolor\":\"white\",\"showbackground\":true,\"ticks\":\"\",\"zerolinecolor\":\"white\"},\"yaxis\":{\"backgroundcolor\":\"#E5ECF6\",\"gridcolor\":\"white\",\"gridwidth\":2,\"linecolor\":\"white\",\"showbackground\":true,\"ticks\":\"\",\"zerolinecolor\":\"white\"},\"zaxis\":{\"backgroundcolor\":\"#E5ECF6\",\"gridcolor\":\"white\",\"gridwidth\":2,\"linecolor\":\"white\",\"showbackground\":true,\"ticks\":\"\",\"zerolinecolor\":\"white\"}},\"shapedefaults\":{\"line\":{\"color\":\"#2a3f5f\"}},\"ternary\":{\"aaxis\":{\"gridcolor\":\"white\",\"linecolor\":\"white\",\"ticks\":\"\"},\"baxis\":{\"gridcolor\":\"white\",\"linecolor\":\"white\",\"ticks\":\"\"},\"bgcolor\":\"#E5ECF6\",\"caxis\":{\"gridcolor\":\"white\",\"linecolor\":\"white\",\"ticks\":\"\"}},\"title\":{\"x\":0.05},\"xaxis\":{\"automargin\":true,\"gridcolor\":\"white\",\"linecolor\":\"white\",\"ticks\":\"\",\"title\":{\"standoff\":15},\"zerolinecolor\":\"white\",\"zerolinewidth\":2},\"yaxis\":{\"automargin\":true,\"gridcolor\":\"white\",\"linecolor\":\"white\",\"ticks\":\"\",\"title\":{\"standoff\":15},\"zerolinecolor\":\"white\",\"zerolinewidth\":2}}},\"title\":{\"text\":\"Smoking Status Distribution\"}},                        {\"responsive\": true}                    ).then(function(){\n",
              "                            \n",
              "var gd = document.getElementById('0863b57f-03e9-41ff-9003-85ef5a94f96e');\n",
              "var x = new MutationObserver(function (mutations, observer) {{\n",
              "        var display = window.getComputedStyle(gd).display;\n",
              "        if (!display || display === 'none') {{\n",
              "            console.log([gd, 'removed!']);\n",
              "            Plotly.purge(gd);\n",
              "            observer.disconnect();\n",
              "        }}\n",
              "}});\n",
              "\n",
              "// Listen for the removal of the full notebook cells\n",
              "var notebookContainer = gd.closest('#notebook-container');\n",
              "if (notebookContainer) {{\n",
              "    x.observe(notebookContainer, {childList: true});\n",
              "}}\n",
              "\n",
              "// Listen for the clearing of the current output cell\n",
              "var outputEl = gd.closest('.output');\n",
              "if (outputEl) {{\n",
              "    x.observe(outputEl, {childList: true});\n",
              "}}\n",
              "\n",
              "                        })                };                            </script>        </div>\n",
              "</body>\n",
              "</html>"
            ]
          },
          "metadata": {}
        }
      ]
    },
    {
      "cell_type": "markdown",
      "source": [
        "![Screenshot 2022-07-28 211846.png](data:image/png;base64,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)"
      ],
      "metadata": {
        "id": "9LOu5K1yi0ZN"
      }
    },
    {
      "cell_type": "code",
      "source": [
        "pie_graph(vis_df, 'Stroke Distribution', 'Stroke')"
      ],
      "metadata": {
        "colab": {
          "base_uri": "https://localhost:8080/",
          "height": 0
        },
        "id": "B35QCDpeDLyn",
        "outputId": "1250b04d-546a-4f33-f9ea-add0f6e7fa33"
      },
      "execution_count": 446,
      "outputs": [
        {
          "output_type": "display_data",
          "data": {
            "text/html": [
              "<html>\n",
              "<head><meta charset=\"utf-8\" /></head>\n",
              "<body>\n",
              "    <div>            <script src=\"https://cdnjs.cloudflare.com/ajax/libs/mathjax/2.7.5/MathJax.js?config=TeX-AMS-MML_SVG\"></script><script type=\"text/javascript\">if (window.MathJax) {MathJax.Hub.Config({SVG: {font: \"STIX-Web\"}});}</script>                <script type=\"text/javascript\">window.PlotlyConfig = {MathJaxConfig: 'local'};</script>\n",
              "        <script src=\"https://cdn.plot.ly/plotly-2.8.3.min.js\"></script>                <div id=\"07767378-ebe9-46ed-ad43-1eeb85bd905b\" class=\"plotly-graph-div\" style=\"height:525px; width:100%;\"></div>            <script type=\"text/javascript\">                                    window.PLOTLYENV=window.PLOTLYENV || {};                                    if (document.getElementById(\"07767378-ebe9-46ed-ad43-1eeb85bd905b\")) {                    Plotly.newPlot(                        \"07767378-ebe9-46ed-ad43-1eeb85bd905b\",                        [{\"hole\":0.5,\"labels\":[\"No\",\"Yes\"],\"values\":[4861,249],\"type\":\"pie\"}],                        {\"template\":{\"data\":{\"bar\":[{\"error_x\":{\"color\":\"#2a3f5f\"},\"error_y\":{\"color\":\"#2a3f5f\"},\"marker\":{\"line\":{\"color\":\"#E5ECF6\",\"width\":0.5},\"pattern\":{\"fillmode\":\"overlay\",\"size\":10,\"solidity\":0.2}},\"type\":\"bar\"}],\"barpolar\":[{\"marker\":{\"line\":{\"color\":\"#E5ECF6\",\"width\":0.5},\"pattern\":{\"fillmode\":\"overlay\",\"size\":10,\"solidity\":0.2}},\"type\":\"barpolar\"}],\"carpet\":[{\"aaxis\":{\"endlinecolor\":\"#2a3f5f\",\"gridcolor\":\"white\",\"linecolor\":\"white\",\"minorgridcolor\":\"white\",\"startlinecolor\":\"#2a3f5f\"},\"baxis\":{\"endlinecolor\":\"#2a3f5f\",\"gridcolor\":\"white\",\"linecolor\":\"white\",\"minorgridcolor\":\"white\",\"startlinecolor\":\"#2a3f5f\"},\"type\":\"carpet\"}],\"choropleth\":[{\"colorbar\":{\"outlinewidth\":0,\"ticks\":\"\"},\"type\":\"choropleth\"}],\"contour\":[{\"colorbar\":{\"outlinewidth\":0,\"ticks\":\"\"},\"colorscale\":[[0.0,\"#0d0887\"],[0.1111111111111111,\"#46039f\"],[0.2222222222222222,\"#7201a8\"],[0.3333333333333333,\"#9c179e\"],[0.4444444444444444,\"#bd3786\"],[0.5555555555555556,\"#d8576b\"],[0.6666666666666666,\"#ed7953\"],[0.7777777777777778,\"#fb9f3a\"],[0.8888888888888888,\"#fdca26\"],[1.0,\"#f0f921\"]],\"type\":\"contour\"}],\"contourcarpet\":[{\"colorbar\":{\"outlinewidth\":0,\"ticks\":\"\"},\"type\":\"contourcarpet\"}],\"heatmap\":[{\"colorbar\":{\"outlinewidth\":0,\"ticks\":\"\"},\"colorscale\":[[0.0,\"#0d0887\"],[0.1111111111111111,\"#46039f\"],[0.2222222222222222,\"#7201a8\"],[0.3333333333333333,\"#9c179e\"],[0.4444444444444444,\"#bd3786\"],[0.5555555555555556,\"#d8576b\"],[0.6666666666666666,\"#ed7953\"],[0.7777777777777778,\"#fb9f3a\"],[0.8888888888888888,\"#fdca26\"],[1.0,\"#f0f921\"]],\"type\":\"heatmap\"}],\"heatmapgl\":[{\"colorbar\":{\"outlinewidth\":0,\"ticks\":\"\"},\"colorscale\":[[0.0,\"#0d0887\"],[0.1111111111111111,\"#46039f\"],[0.2222222222222222,\"#7201a8\"],[0.3333333333333333,\"#9c179e\"],[0.4444444444444444,\"#bd3786\"],[0.5555555555555556,\"#d8576b\"],[0.6666666666666666,\"#ed7953\"],[0.7777777777777778,\"#fb9f3a\"],[0.8888888888888888,\"#fdca26\"],[1.0,\"#f0f921\"]],\"type\":\"heatmapgl\"}],\"histogram\":[{\"marker\":{\"pattern\":{\"fillmode\":\"overlay\",\"size\":10,\"solidity\":0.2}},\"type\":\"histogram\"}],\"histogram2d\":[{\"colorbar\":{\"outlinewidth\":0,\"ticks\":\"\"},\"colorscale\":[[0.0,\"#0d0887\"],[0.1111111111111111,\"#46039f\"],[0.2222222222222222,\"#7201a8\"],[0.3333333333333333,\"#9c179e\"],[0.4444444444444444,\"#bd3786\"],[0.5555555555555556,\"#d8576b\"],[0.6666666666666666,\"#ed7953\"],[0.7777777777777778,\"#fb9f3a\"],[0.8888888888888888,\"#fdca26\"],[1.0,\"#f0f921\"]],\"type\":\"histogram2d\"}],\"histogram2dcontour\":[{\"colorbar\":{\"outlinewidth\":0,\"ticks\":\"\"},\"colorscale\":[[0.0,\"#0d0887\"],[0.1111111111111111,\"#46039f\"],[0.2222222222222222,\"#7201a8\"],[0.3333333333333333,\"#9c179e\"],[0.4444444444444444,\"#bd3786\"],[0.5555555555555556,\"#d8576b\"],[0.6666666666666666,\"#ed7953\"],[0.7777777777777778,\"#fb9f3a\"],[0.8888888888888888,\"#fdca26\"],[1.0,\"#f0f921\"]],\"type\":\"histogram2dcontour\"}],\"mesh3d\":[{\"colorbar\":{\"outlinewidth\":0,\"ticks\":\"\"},\"type\":\"mesh3d\"}],\"parcoords\":[{\"line\":{\"colorbar\":{\"outlinewidth\":0,\"ticks\":\"\"}},\"type\":\"parcoords\"}],\"pie\":[{\"automargin\":true,\"type\":\"pie\"}],\"scatter\":[{\"marker\":{\"colorbar\":{\"outlinewidth\":0,\"ticks\":\"\"}},\"type\":\"scatter\"}],\"scatter3d\":[{\"line\":{\"colorbar\":{\"outlinewidth\":0,\"ticks\":\"\"}},\"marker\":{\"colorbar\":{\"outlinewidth\":0,\"ticks\":\"\"}},\"type\":\"scatter3d\"}],\"scattercarpet\":[{\"marker\":{\"colorbar\":{\"outlinewidth\":0,\"ticks\":\"\"}},\"type\":\"scattercarpet\"}],\"scattergeo\":[{\"marker\":{\"colorbar\":{\"outlinewidth\":0,\"ticks\":\"\"}},\"type\":\"scattergeo\"}],\"scattergl\":[{\"marker\":{\"colorbar\":{\"outlinewidth\":0,\"ticks\":\"\"}},\"type\":\"scattergl\"}],\"scattermapbox\":[{\"marker\":{\"colorbar\":{\"outlinewidth\":0,\"ticks\":\"\"}},\"type\":\"scattermapbox\"}],\"scatterpolar\":[{\"marker\":{\"colorbar\":{\"outlinewidth\":0,\"ticks\":\"\"}},\"type\":\"scatterpolar\"}],\"scatterpolargl\":[{\"marker\":{\"colorbar\":{\"outlinewidth\":0,\"ticks\":\"\"}},\"type\":\"scatterpolargl\"}],\"scatterternary\":[{\"marker\":{\"colorbar\":{\"outlinewidth\":0,\"ticks\":\"\"}},\"type\":\"scatterternary\"}],\"surface\":[{\"colorbar\":{\"outlinewidth\":0,\"ticks\":\"\"},\"colorscale\":[[0.0,\"#0d0887\"],[0.1111111111111111,\"#46039f\"],[0.2222222222222222,\"#7201a8\"],[0.3333333333333333,\"#9c179e\"],[0.4444444444444444,\"#bd3786\"],[0.5555555555555556,\"#d8576b\"],[0.6666666666666666,\"#ed7953\"],[0.7777777777777778,\"#fb9f3a\"],[0.8888888888888888,\"#fdca26\"],[1.0,\"#f0f921\"]],\"type\":\"surface\"}],\"table\":[{\"cells\":{\"fill\":{\"color\":\"#EBF0F8\"},\"line\":{\"color\":\"white\"}},\"header\":{\"fill\":{\"color\":\"#C8D4E3\"},\"line\":{\"color\":\"white\"}},\"type\":\"table\"}]},\"layout\":{\"annotationdefaults\":{\"arrowcolor\":\"#2a3f5f\",\"arrowhead\":0,\"arrowwidth\":1},\"autotypenumbers\":\"strict\",\"coloraxis\":{\"colorbar\":{\"outlinewidth\":0,\"ticks\":\"\"}},\"colorscale\":{\"diverging\":[[0,\"#8e0152\"],[0.1,\"#c51b7d\"],[0.2,\"#de77ae\"],[0.3,\"#f1b6da\"],[0.4,\"#fde0ef\"],[0.5,\"#f7f7f7\"],[0.6,\"#e6f5d0\"],[0.7,\"#b8e186\"],[0.8,\"#7fbc41\"],[0.9,\"#4d9221\"],[1,\"#276419\"]],\"sequential\":[[0.0,\"#0d0887\"],[0.1111111111111111,\"#46039f\"],[0.2222222222222222,\"#7201a8\"],[0.3333333333333333,\"#9c179e\"],[0.4444444444444444,\"#bd3786\"],[0.5555555555555556,\"#d8576b\"],[0.6666666666666666,\"#ed7953\"],[0.7777777777777778,\"#fb9f3a\"],[0.8888888888888888,\"#fdca26\"],[1.0,\"#f0f921\"]],\"sequentialminus\":[[0.0,\"#0d0887\"],[0.1111111111111111,\"#46039f\"],[0.2222222222222222,\"#7201a8\"],[0.3333333333333333,\"#9c179e\"],[0.4444444444444444,\"#bd3786\"],[0.5555555555555556,\"#d8576b\"],[0.6666666666666666,\"#ed7953\"],[0.7777777777777778,\"#fb9f3a\"],[0.8888888888888888,\"#fdca26\"],[1.0,\"#f0f921\"]]},\"colorway\":[\"#636efa\",\"#EF553B\",\"#00cc96\",\"#ab63fa\",\"#FFA15A\",\"#19d3f3\",\"#FF6692\",\"#B6E880\",\"#FF97FF\",\"#FECB52\"],\"font\":{\"color\":\"#2a3f5f\"},\"geo\":{\"bgcolor\":\"white\",\"lakecolor\":\"white\",\"landcolor\":\"#E5ECF6\",\"showlakes\":true,\"showland\":true,\"subunitcolor\":\"white\"},\"hoverlabel\":{\"align\":\"left\"},\"hovermode\":\"closest\",\"mapbox\":{\"style\":\"light\"},\"paper_bgcolor\":\"white\",\"plot_bgcolor\":\"#E5ECF6\",\"polar\":{\"angularaxis\":{\"gridcolor\":\"white\",\"linecolor\":\"white\",\"ticks\":\"\"},\"bgcolor\":\"#E5ECF6\",\"radialaxis\":{\"gridcolor\":\"white\",\"linecolor\":\"white\",\"ticks\":\"\"}},\"scene\":{\"xaxis\":{\"backgroundcolor\":\"#E5ECF6\",\"gridcolor\":\"white\",\"gridwidth\":2,\"linecolor\":\"white\",\"showbackground\":true,\"ticks\":\"\",\"zerolinecolor\":\"white\"},\"yaxis\":{\"backgroundcolor\":\"#E5ECF6\",\"gridcolor\":\"white\",\"gridwidth\":2,\"linecolor\":\"white\",\"showbackground\":true,\"ticks\":\"\",\"zerolinecolor\":\"white\"},\"zaxis\":{\"backgroundcolor\":\"#E5ECF6\",\"gridcolor\":\"white\",\"gridwidth\":2,\"linecolor\":\"white\",\"showbackground\":true,\"ticks\":\"\",\"zerolinecolor\":\"white\"}},\"shapedefaults\":{\"line\":{\"color\":\"#2a3f5f\"}},\"ternary\":{\"aaxis\":{\"gridcolor\":\"white\",\"linecolor\":\"white\",\"ticks\":\"\"},\"baxis\":{\"gridcolor\":\"white\",\"linecolor\":\"white\",\"ticks\":\"\"},\"bgcolor\":\"#E5ECF6\",\"caxis\":{\"gridcolor\":\"white\",\"linecolor\":\"white\",\"ticks\":\"\"}},\"title\":{\"x\":0.05},\"xaxis\":{\"automargin\":true,\"gridcolor\":\"white\",\"linecolor\":\"white\",\"ticks\":\"\",\"title\":{\"standoff\":15},\"zerolinecolor\":\"white\",\"zerolinewidth\":2},\"yaxis\":{\"automargin\":true,\"gridcolor\":\"white\",\"linecolor\":\"white\",\"ticks\":\"\",\"title\":{\"standoff\":15},\"zerolinecolor\":\"white\",\"zerolinewidth\":2}}},\"title\":{\"text\":\"Stroke Distribution\"}},                        {\"responsive\": true}                    ).then(function(){\n",
              "                            \n",
              "var gd = document.getElementById('07767378-ebe9-46ed-ad43-1eeb85bd905b');\n",
              "var x = new MutationObserver(function (mutations, observer) {{\n",
              "        var display = window.getComputedStyle(gd).display;\n",
              "        if (!display || display === 'none') {{\n",
              "            console.log([gd, 'removed!']);\n",
              "            Plotly.purge(gd);\n",
              "            observer.disconnect();\n",
              "        }}\n",
              "}});\n",
              "\n",
              "// Listen for the removal of the full notebook cells\n",
              "var notebookContainer = gd.closest('#notebook-container');\n",
              "if (notebookContainer) {{\n",
              "    x.observe(notebookContainer, {childList: true});\n",
              "}}\n",
              "\n",
              "// Listen for the clearing of the current output cell\n",
              "var outputEl = gd.closest('.output');\n",
              "if (outputEl) {{\n",
              "    x.observe(outputEl, {childList: true});\n",
              "}}\n",
              "\n",
              "                        })                };                            </script>        </div>\n",
              "</body>\n",
              "</html>"
            ]
          },
          "metadata": {}
        }
      ]
    },
    {
      "cell_type": "markdown",
      "source": [
        "![Screenshot 2022-07-28 211859.png](data:image/png;base64,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)"
      ],
      "metadata": {
        "id": "A9PHCS6_i2dD"
      }
    },
    {
      "cell_type": "markdown",
      "source": [
        "## Multivariate Visualization and Correlations"
      ],
      "metadata": {
        "id": "Dc2HhSayJ4F-"
      }
    },
    {
      "cell_type": "markdown",
      "source": [
        "The Following Graphs are Multivariate visualizations of the target vs some of its features. Doing this kind of visualization allows myself and the reader the ability to get a good understanding of the correlation between the target and its features, and whether or not this correlation relates to any relevant information."
      ],
      "metadata": {
        "id": "f1Z9z_IMZJ55"
      }
    },
    {
      "cell_type": "code",
      "source": [
        "f, ax = plt.subplots(figsize = (12,10))\n",
        "sns.heatmap(df.corr(),\n",
        "            annot = True,\n",
        "            linewidths = .5,\n",
        "            fmt = '.1f',\n",
        "            ax = ax)"
      ],
      "metadata": {
        "colab": {
          "base_uri": "https://localhost:8080/",
          "height": 0
        },
        "id": "4uAwqzMDX2BV",
        "outputId": "f735a06c-bcc8-4975-b967-a07766399a37"
      },
      "execution_count": 447,
      "outputs": [
        {
          "output_type": "execute_result",
          "data": {
            "text/plain": [
              "<matplotlib.axes._subplots.AxesSubplot at 0x7f668f246c10>"
            ]
          },
          "metadata": {},
          "execution_count": 447
        },
        {
          "output_type": "display_data",
          "data": {
            "text/plain": [
              "<Figure size 864x720 with 2 Axes>"
            ],
            "image/png": "[encoded data removed]"
          },
          "metadata": {
            "needs_background": "light"
          }
        }
      ]
    },
    {
      "cell_type": "markdown",
      "source": [
        "The heatmap is for a more technical audience, but it is important to note that according to the data no individual feature has an overly strong correlation to the target. The features that have the strongest correlations is individuals have a higher chance for Hypertension and Heart Disease the older they get."
      ],
      "metadata": {
        "id": "l0BFE7iaZlqN"
      }
    },
    {
      "cell_type": "code",
      "source": [
        "bar_plot(vis_gender_percent,'Gender','Gender_Percent','Stroke','Distribution by Gender')"
      ],
      "metadata": {
        "id": "nPvxv_xUJ9GZ",
        "colab": {
          "base_uri": "https://localhost:8080/",
          "height": 0
        },
        "outputId": "d122ea91-3955-44b4-9353-032d8af964c5"
      },
      "execution_count": 448,
      "outputs": [
        {
          "output_type": "display_data",
          "data": {
            "text/plain": [
              "<Figure size 432x288 with 1 Axes>"
            ],
            "image/png": "[encoded data removed]"
          },
          "metadata": {
            "needs_background": "light"
          }
        }
      ]
    },
    {
      "cell_type": "markdown",
      "source": [
        "Men have a slightly higher chance for stroke. "
      ],
      "metadata": {
        "id": "mhElVBvVan_F"
      }
    },
    {
      "cell_type": "code",
      "source": [
        "bar_plot(vis_hypertension_percent,'Hypertension','Hypertension_Percent','Stroke','Distribution by hypertension')"
      ],
      "metadata": {
        "id": "Lmw-wJ0vJ86J",
        "colab": {
          "base_uri": "https://localhost:8080/",
          "height": 0
        },
        "outputId": "7a9431af-4229-4581-b9bf-257bd149399f"
      },
      "execution_count": 449,
      "outputs": [
        {
          "output_type": "display_data",
          "data": {
            "text/plain": [
              "<Figure size 432x288 with 1 Axes>"
            ],
            "image/png": "[encoded data removed]"
          },
          "metadata": {
            "needs_background": "light"
          }
        }
      ]
    },
    {
      "cell_type": "markdown",
      "source": [
        "Individuals that have Hypertension are at an increased chance to have a stroke compared to individuals that do not have Hypertension."
      ],
      "metadata": {
        "id": "Ei-7V-3uaxq3"
      }
    },
    {
      "cell_type": "code",
      "source": [
        "bar_plot(vis_heart_percent,'Heart_Disease','Heart_Disease_Percent','Stroke','Distribution by heart_disease')"
      ],
      "metadata": {
        "colab": {
          "base_uri": "https://localhost:8080/",
          "height": 0
        },
        "id": "5bb-nP7XWxea",
        "outputId": "1d08d093-6c86-410e-ded8-e342d8a7081e"
      },
      "execution_count": 450,
      "outputs": [
        {
          "output_type": "display_data",
          "data": {
            "text/plain": [
              "<Figure size 432x288 with 1 Axes>"
            ],
            "image/png": "[encoded data removed]"
          },
          "metadata": {
            "needs_background": "light"
          }
        }
      ]
    },
    {
      "cell_type": "markdown",
      "source": [
        "Individuals that have Heart Disease are at an increased chance to have a stroke compared to individuals that do not have Heart Disease."
      ],
      "metadata": {
        "id": "jI-DbtEvbAy_"
      }
    },
    {
      "cell_type": "code",
      "source": [
        "bar_plot(vis_residence_percent,'Residence_Type','Residence_Percent','Stroke','Distribution by Residence type')"
      ],
      "metadata": {
        "colab": {
          "base_uri": "https://localhost:8080/",
          "height": 0
        },
        "id": "Lf1Rz2XRWxbe",
        "outputId": "2bd5ce5a-1e68-43f0-9b30-2851b5b11c68"
      },
      "execution_count": 451,
      "outputs": [
        {
          "output_type": "display_data",
          "data": {
            "text/plain": [
              "<Figure size 432x288 with 1 Axes>"
            ],
            "image/png": "[encoded data removed]"
          },
          "metadata": {
            "needs_background": "light"
          }
        }
      ]
    },
    {
      "cell_type": "markdown",
      "source": [
        "It is intersting to note that Residence Type does not appear to any correlation to whether or not an individual has a stroke. "
      ],
      "metadata": {
        "id": "sfEmLZJBbGQa"
      }
    },
    {
      "cell_type": "code",
      "source": [
        "group = vis_df.groupby(['Stroke','Work_Type'],as_index = False).size().sort_values(by='size')\n",
        "horizontal_bar_chart(df = group,x = 'Stroke',y = 'size',color = 'Work_Type',title = 'Distribution of stroke by work type')"
      ],
      "metadata": {
        "colab": {
          "base_uri": "https://localhost:8080/",
          "height": 0
        },
        "id": "viReXnj_XaPe",
        "outputId": "3aa21afb-2664-4abc-96b9-170c6e4f5d5b"
      },
      "execution_count": 452,
      "outputs": [
        {
          "output_type": "display_data",
          "data": {
            "text/html": [
              "<html>\n",
              "<head><meta charset=\"utf-8\" /></head>\n",
              "<body>\n",
              "    <div>            <script src=\"https://cdnjs.cloudflare.com/ajax/libs/mathjax/2.7.5/MathJax.js?config=TeX-AMS-MML_SVG\"></script><script type=\"text/javascript\">if (window.MathJax) {MathJax.Hub.Config({SVG: {font: \"STIX-Web\"}});}</script>                <script type=\"text/javascript\">window.PlotlyConfig = {MathJaxConfig: 'local'};</script>\n",
              "        <script src=\"https://cdn.plot.ly/plotly-2.8.3.min.js\"></script>                <div id=\"8d85a65c-43fd-4ac7-bf97-275248618aa1\" class=\"plotly-graph-div\" style=\"height:600px; width:100%;\"></div>            <script type=\"text/javascript\">                                    window.PLOTLYENV=window.PLOTLYENV || {};                                    if (document.getElementById(\"8d85a65c-43fd-4ac7-bf97-275248618aa1\")) {                    Plotly.newPlot(                        \"8d85a65c-43fd-4ac7-bf97-275248618aa1\",                        [{\"alignmentgroup\":\"True\",\"hovertemplate\":\"Work_Type=Children<br>Stroke=%{x}<br>size=%{y}<extra></extra>\",\"legendgroup\":\"Children\",\"marker\":{\"color\":\"#636efa\",\"pattern\":{\"shape\":\"\"}},\"name\":\"Children\",\"offsetgroup\":\"Children\",\"orientation\":\"v\",\"showlegend\":true,\"textposition\":\"auto\",\"x\":[\"Yes\",\"No\"],\"xaxis\":\"x\",\"y\":[2,685],\"yaxis\":\"y\",\"type\":\"bar\"},{\"alignmentgroup\":\"True\",\"hovertemplate\":\"Work_Type=Never_worked<br>Stroke=%{x}<br>size=%{y}<extra></extra>\",\"legendgroup\":\"Never_worked\",\"marker\":{\"color\":\"#EF553B\",\"pattern\":{\"shape\":\"\"}},\"name\":\"Never_worked\",\"offsetgroup\":\"Never_worked\",\"orientation\":\"v\",\"showlegend\":true,\"textposition\":\"auto\",\"x\":[\"No\"],\"xaxis\":\"x\",\"y\":[22],\"yaxis\":\"y\",\"type\":\"bar\"},{\"alignmentgroup\":\"True\",\"hovertemplate\":\"Work_Type=Govt_Job<br>Stroke=%{x}<br>size=%{y}<extra></extra>\",\"legendgroup\":\"Govt_Job\",\"marker\":{\"color\":\"#00cc96\",\"pattern\":{\"shape\":\"\"}},\"name\":\"Govt_Job\",\"offsetgroup\":\"Govt_Job\",\"orientation\":\"v\",\"showlegend\":true,\"textposition\":\"auto\",\"x\":[\"Yes\",\"No\"],\"xaxis\":\"x\",\"y\":[33,624],\"yaxis\":\"y\",\"type\":\"bar\"},{\"alignmentgroup\":\"True\",\"hovertemplate\":\"Work_Type=Self_Employed<br>Stroke=%{x}<br>size=%{y}<extra></extra>\",\"legendgroup\":\"Self_Employed\",\"marker\":{\"color\":\"#ab63fa\",\"pattern\":{\"shape\":\"\"}},\"name\":\"Self_Employed\",\"offsetgroup\":\"Self_Employed\",\"orientation\":\"v\",\"showlegend\":true,\"textposition\":\"auto\",\"x\":[\"Yes\",\"No\"],\"xaxis\":\"x\",\"y\":[65,754],\"yaxis\":\"y\",\"type\":\"bar\"},{\"alignmentgroup\":\"True\",\"hovertemplate\":\"Work_Type=Private<br>Stroke=%{x}<br>size=%{y}<extra></extra>\",\"legendgroup\":\"Private\",\"marker\":{\"color\":\"#FFA15A\",\"pattern\":{\"shape\":\"\"}},\"name\":\"Private\",\"offsetgroup\":\"Private\",\"orientation\":\"v\",\"showlegend\":true,\"textposition\":\"auto\",\"x\":[\"Yes\",\"No\"],\"xaxis\":\"x\",\"y\":[149,2776],\"yaxis\":\"y\",\"type\":\"bar\"}],                        {\"template\":{\"data\":{\"bar\":[{\"error_x\":{\"color\":\"#2a3f5f\"},\"error_y\":{\"color\":\"#2a3f5f\"},\"marker\":{\"line\":{\"color\":\"#E5ECF6\",\"width\":0.5},\"pattern\":{\"fillmode\":\"overlay\",\"size\":10,\"solidity\":0.2}},\"type\":\"bar\"}],\"barpolar\":[{\"marker\":{\"line\":{\"color\":\"#E5ECF6\",\"width\":0.5},\"pattern\":{\"fillmode\":\"overlay\",\"size\":10,\"solidity\":0.2}},\"type\":\"barpolar\"}],\"carpet\":[{\"aaxis\":{\"endlinecolor\":\"#2a3f5f\",\"gridcolor\":\"white\",\"linecolor\":\"white\",\"minorgridcolor\":\"white\",\"startlinecolor\":\"#2a3f5f\"},\"baxis\":{\"endlinecolor\":\"#2a3f5f\",\"gridcolor\":\"white\",\"linecolor\":\"white\",\"minorgridcolor\":\"white\",\"startlinecolor\":\"#2a3f5f\"},\"type\":\"carpet\"}],\"choropleth\":[{\"colorbar\":{\"outlinewidth\":0,\"ticks\":\"\"},\"type\":\"choropleth\"}],\"contour\":[{\"colorbar\":{\"outlinewidth\":0,\"ticks\":\"\"},\"colorscale\":[[0.0,\"#0d0887\"],[0.1111111111111111,\"#46039f\"],[0.2222222222222222,\"#7201a8\"],[0.3333333333333333,\"#9c179e\"],[0.4444444444444444,\"#bd3786\"],[0.5555555555555556,\"#d8576b\"],[0.6666666666666666,\"#ed7953\"],[0.7777777777777778,\"#fb9f3a\"],[0.8888888888888888,\"#fdca26\"],[1.0,\"#f0f921\"]],\"type\":\"contour\"}],\"contourcarpet\":[{\"colorbar\":{\"outlinewidth\":0,\"ticks\":\"\"},\"type\":\"contourcarpet\"}],\"heatmap\":[{\"colorbar\":{\"outlinewidth\":0,\"ticks\":\"\"},\"colorscale\":[[0.0,\"#0d0887\"],[0.1111111111111111,\"#46039f\"],[0.2222222222222222,\"#7201a8\"],[0.3333333333333333,\"#9c179e\"],[0.4444444444444444,\"#bd3786\"],[0.5555555555555556,\"#d8576b\"],[0.6666666666666666,\"#ed7953\"],[0.7777777777777778,\"#fb9f3a\"],[0.8888888888888888,\"#fdca26\"],[1.0,\"#f0f921\"]],\"type\":\"heatmap\"}],\"heatmapgl\":[{\"colorbar\":{\"outlinewidth\":0,\"ticks\":\"\"},\"colorscale\":[[0.0,\"#0d0887\"],[0.1111111111111111,\"#46039f\"],[0.2222222222222222,\"#7201a8\"],[0.3333333333333333,\"#9c179e\"],[0.4444444444444444,\"#bd3786\"],[0.5555555555555556,\"#d8576b\"],[0.6666666666666666,\"#ed7953\"],[0.7777777777777778,\"#fb9f3a\"],[0.8888888888888888,\"#fdca26\"],[1.0,\"#f0f921\"]],\"type\":\"heatmapgl\"}],\"histogram\":[{\"marker\":{\"pattern\":{\"fillmode\":\"overlay\",\"size\":10,\"solidity\":0.2}},\"type\":\"histogram\"}],\"histogram2d\":[{\"colorbar\":{\"outlinewidth\":0,\"ticks\":\"\"},\"colorscale\":[[0.0,\"#0d0887\"],[0.1111111111111111,\"#46039f\"],[0.2222222222222222,\"#7201a8\"],[0.3333333333333333,\"#9c179e\"],[0.4444444444444444,\"#bd3786\"],[0.5555555555555556,\"#d8576b\"],[0.6666666666666666,\"#ed7953\"],[0.7777777777777778,\"#fb9f3a\"],[0.8888888888888888,\"#fdca26\"],[1.0,\"#f0f921\"]],\"type\":\"histogram2d\"}],\"histogram2dcontour\":[{\"colorbar\":{\"outlinewidth\":0,\"ticks\":\"\"},\"colorscale\":[[0.0,\"#0d0887\"],[0.1111111111111111,\"#46039f\"],[0.2222222222222222,\"#7201a8\"],[0.3333333333333333,\"#9c179e\"],[0.4444444444444444,\"#bd3786\"],[0.5555555555555556,\"#d8576b\"],[0.6666666666666666,\"#ed7953\"],[0.7777777777777778,\"#fb9f3a\"],[0.8888888888888888,\"#fdca26\"],[1.0,\"#f0f921\"]],\"type\":\"histogram2dcontour\"}],\"mesh3d\":[{\"colorbar\":{\"outlinewidth\":0,\"ticks\":\"\"},\"type\":\"mesh3d\"}],\"parcoords\":[{\"line\":{\"colorbar\":{\"outlinewidth\":0,\"ticks\":\"\"}},\"type\":\"parcoords\"}],\"pie\":[{\"automargin\":true,\"type\":\"pie\"}],\"scatter\":[{\"marker\":{\"colorbar\":{\"outlinewidth\":0,\"ticks\":\"\"}},\"type\":\"scatter\"}],\"scatter3d\":[{\"line\":{\"colorbar\":{\"outlinewidth\":0,\"ticks\":\"\"}},\"marker\":{\"colorbar\":{\"outlinewidth\":0,\"ticks\":\"\"}},\"type\":\"scatter3d\"}],\"scattercarpet\":[{\"marker\":{\"colorbar\":{\"outlinewidth\":0,\"ticks\":\"\"}},\"type\":\"scattercarpet\"}],\"scattergeo\":[{\"marker\":{\"colorbar\":{\"outlinewidth\":0,\"ticks\":\"\"}},\"type\":\"scattergeo\"}],\"scattergl\":[{\"marker\":{\"colorbar\":{\"outlinewidth\":0,\"ticks\":\"\"}},\"type\":\"scattergl\"}],\"scattermapbox\":[{\"marker\":{\"colorbar\":{\"outlinewidth\":0,\"ticks\":\"\"}},\"type\":\"scattermapbox\"}],\"scatterpolar\":[{\"marker\":{\"colorbar\":{\"outlinewidth\":0,\"ticks\":\"\"}},\"type\":\"scatterpolar\"}],\"scatterpolargl\":[{\"marker\":{\"colorbar\":{\"outlinewidth\":0,\"ticks\":\"\"}},\"type\":\"scatterpolargl\"}],\"scatterternary\":[{\"marker\":{\"colorbar\":{\"outlinewidth\":0,\"ticks\":\"\"}},\"type\":\"scatterternary\"}],\"surface\":[{\"colorbar\":{\"outlinewidth\":0,\"ticks\":\"\"},\"colorscale\":[[0.0,\"#0d0887\"],[0.1111111111111111,\"#46039f\"],[0.2222222222222222,\"#7201a8\"],[0.3333333333333333,\"#9c179e\"],[0.4444444444444444,\"#bd3786\"],[0.5555555555555556,\"#d8576b\"],[0.6666666666666666,\"#ed7953\"],[0.7777777777777778,\"#fb9f3a\"],[0.8888888888888888,\"#fdca26\"],[1.0,\"#f0f921\"]],\"type\":\"surface\"}],\"table\":[{\"cells\":{\"fill\":{\"color\":\"#EBF0F8\"},\"line\":{\"color\":\"white\"}},\"header\":{\"fill\":{\"color\":\"#C8D4E3\"},\"line\":{\"color\":\"white\"}},\"type\":\"table\"}]},\"layout\":{\"annotationdefaults\":{\"arrowcolor\":\"#2a3f5f\",\"arrowhead\":0,\"arrowwidth\":1},\"autotypenumbers\":\"strict\",\"coloraxis\":{\"colorbar\":{\"outlinewidth\":0,\"ticks\":\"\"}},\"colorscale\":{\"diverging\":[[0,\"#8e0152\"],[0.1,\"#c51b7d\"],[0.2,\"#de77ae\"],[0.3,\"#f1b6da\"],[0.4,\"#fde0ef\"],[0.5,\"#f7f7f7\"],[0.6,\"#e6f5d0\"],[0.7,\"#b8e186\"],[0.8,\"#7fbc41\"],[0.9,\"#4d9221\"],[1,\"#276419\"]],\"sequential\":[[0.0,\"#0d0887\"],[0.1111111111111111,\"#46039f\"],[0.2222222222222222,\"#7201a8\"],[0.3333333333333333,\"#9c179e\"],[0.4444444444444444,\"#bd3786\"],[0.5555555555555556,\"#d8576b\"],[0.6666666666666666,\"#ed7953\"],[0.7777777777777778,\"#fb9f3a\"],[0.8888888888888888,\"#fdca26\"],[1.0,\"#f0f921\"]],\"sequentialminus\":[[0.0,\"#0d0887\"],[0.1111111111111111,\"#46039f\"],[0.2222222222222222,\"#7201a8\"],[0.3333333333333333,\"#9c179e\"],[0.4444444444444444,\"#bd3786\"],[0.5555555555555556,\"#d8576b\"],[0.6666666666666666,\"#ed7953\"],[0.7777777777777778,\"#fb9f3a\"],[0.8888888888888888,\"#fdca26\"],[1.0,\"#f0f921\"]]},\"colorway\":[\"#636efa\",\"#EF553B\",\"#00cc96\",\"#ab63fa\",\"#FFA15A\",\"#19d3f3\",\"#FF6692\",\"#B6E880\",\"#FF97FF\",\"#FECB52\"],\"font\":{\"color\":\"#2a3f5f\"},\"geo\":{\"bgcolor\":\"white\",\"lakecolor\":\"white\",\"landcolor\":\"#E5ECF6\",\"showlakes\":true,\"showland\":true,\"subunitcolor\":\"white\"},\"hoverlabel\":{\"align\":\"left\"},\"hovermode\":\"closest\",\"mapbox\":{\"style\":\"light\"},\"paper_bgcolor\":\"white\",\"plot_bgcolor\":\"#E5ECF6\",\"polar\":{\"angularaxis\":{\"gridcolor\":\"white\",\"linecolor\":\"white\",\"ticks\":\"\"},\"bgcolor\":\"#E5ECF6\",\"radialaxis\":{\"gridcolor\":\"white\",\"linecolor\":\"white\",\"ticks\":\"\"}},\"scene\":{\"xaxis\":{\"backgroundcolor\":\"#E5ECF6\",\"gridcolor\":\"white\",\"gridwidth\":2,\"linecolor\":\"white\",\"showbackground\":true,\"ticks\":\"\",\"zerolinecolor\":\"white\"},\"yaxis\":{\"backgroundcolor\":\"#E5ECF6\",\"gridcolor\":\"white\",\"gridwidth\":2,\"linecolor\":\"white\",\"showbackground\":true,\"ticks\":\"\",\"zerolinecolor\":\"white\"},\"zaxis\":{\"backgroundcolor\":\"#E5ECF6\",\"gridcolor\":\"white\",\"gridwidth\":2,\"linecolor\":\"white\",\"showbackground\":true,\"ticks\":\"\",\"zerolinecolor\":\"white\"}},\"shapedefaults\":{\"line\":{\"color\":\"#2a3f5f\"}},\"ternary\":{\"aaxis\":{\"gridcolor\":\"white\",\"linecolor\":\"white\",\"ticks\":\"\"},\"baxis\":{\"gridcolor\":\"white\",\"linecolor\":\"white\",\"ticks\":\"\"},\"bgcolor\":\"#E5ECF6\",\"caxis\":{\"gridcolor\":\"white\",\"linecolor\":\"white\",\"ticks\":\"\"}},\"title\":{\"x\":0.05},\"xaxis\":{\"automargin\":true,\"gridcolor\":\"white\",\"linecolor\":\"white\",\"ticks\":\"\",\"title\":{\"standoff\":15},\"zerolinecolor\":\"white\",\"zerolinewidth\":2},\"yaxis\":{\"automargin\":true,\"gridcolor\":\"white\",\"linecolor\":\"white\",\"ticks\":\"\",\"title\":{\"standoff\":15},\"zerolinecolor\":\"white\",\"zerolinewidth\":2}}},\"xaxis\":{\"anchor\":\"y\",\"domain\":[0.0,1.0],\"title\":{\"text\":\"Stroke\"}},\"yaxis\":{\"anchor\":\"x\",\"domain\":[0.0,1.0],\"title\":{\"text\":\"size\"}},\"legend\":{\"title\":{\"text\":\"Work_Type\"},\"tracegroupgap\":0},\"title\":{\"text\":\"Distribution of stroke by work type\"},\"barmode\":\"relative\",\"height\":600},                        {\"responsive\": true}                    ).then(function(){\n",
              "                            \n",
              "var gd = document.getElementById('8d85a65c-43fd-4ac7-bf97-275248618aa1');\n",
              "var x = new MutationObserver(function (mutations, observer) {{\n",
              "        var display = window.getComputedStyle(gd).display;\n",
              "        if (!display || display === 'none') {{\n",
              "            console.log([gd, 'removed!']);\n",
              "            Plotly.purge(gd);\n",
              "            observer.disconnect();\n",
              "        }}\n",
              "}});\n",
              "\n",
              "// Listen for the removal of the full notebook cells\n",
              "var notebookContainer = gd.closest('#notebook-container');\n",
              "if (notebookContainer) {{\n",
              "    x.observe(notebookContainer, {childList: true});\n",
              "}}\n",
              "\n",
              "// Listen for the clearing of the current output cell\n",
              "var outputEl = gd.closest('.output');\n",
              "if (outputEl) {{\n",
              "    x.observe(outputEl, {childList: true});\n",
              "}}\n",
              "\n",
              "                        })                };                            </script>        </div>\n",
              "</body>\n",
              "</html>"
            ]
          },
          "metadata": {}
        }
      ]
    },
    {
      "cell_type": "markdown",
      "source": [
        "![Screenshot 2022-07-28 211914.png](data:image/png;base64,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)"
      ],
      "metadata": {
        "id": "ESLrZLoJi4gi"
      }
    },
    {
      "cell_type": "markdown",
      "source": [
        "According to the graph individuals that are Self Employed have the strongest correlation to whether or not an individual will have a stroke."
      ],
      "metadata": {
        "id": "7rfVXXTAb-Lq"
      }
    },
    {
      "cell_type": "code",
      "source": [
        "group = vis_df.groupby(['Stroke','Smoking_Status'],as_index = False).size().sort_values(by='size')\n",
        "horizontal_bar_chart(df = group,x = 'Stroke',y = 'size',color = 'Smoking_Status',title = 'Distribution of stroke by smoking status')"
      ],
      "metadata": {
        "colab": {
          "base_uri": "https://localhost:8080/",
          "height": 0
        },
        "id": "Mbo0dwPhXj_b",
        "outputId": "47a1a957-e0fc-447d-a47d-b6b0d283d564"
      },
      "execution_count": 453,
      "outputs": [
        {
          "output_type": "display_data",
          "data": {
            "text/html": [
              "<html>\n",
              "<head><meta charset=\"utf-8\" /></head>\n",
              "<body>\n",
              "    <div>            <script src=\"https://cdnjs.cloudflare.com/ajax/libs/mathjax/2.7.5/MathJax.js?config=TeX-AMS-MML_SVG\"></script><script type=\"text/javascript\">if (window.MathJax) {MathJax.Hub.Config({SVG: {font: \"STIX-Web\"}});}</script>                <script type=\"text/javascript\">window.PlotlyConfig = {MathJaxConfig: 'local'};</script>\n",
              "        <script src=\"https://cdn.plot.ly/plotly-2.8.3.min.js\"></script>                <div id=\"81e3ca59-ea70-48e0-832d-f751f7fb2985\" class=\"plotly-graph-div\" style=\"height:600px; width:100%;\"></div>            <script type=\"text/javascript\">                                    window.PLOTLYENV=window.PLOTLYENV || {};                                    if (document.getElementById(\"81e3ca59-ea70-48e0-832d-f751f7fb2985\")) {                    Plotly.newPlot(                        \"81e3ca59-ea70-48e0-832d-f751f7fb2985\",                        [{\"alignmentgroup\":\"True\",\"hovertemplate\":\"Smoking_Status=Active_Smoker<br>Stroke=%{x}<br>size=%{y}<extra></extra>\",\"legendgroup\":\"Active_Smoker\",\"marker\":{\"color\":\"#636efa\",\"pattern\":{\"shape\":\"\"}},\"name\":\"Active_Smoker\",\"offsetgroup\":\"Active_Smoker\",\"orientation\":\"v\",\"showlegend\":true,\"textposition\":\"auto\",\"x\":[\"Yes\",\"No\"],\"xaxis\":\"x\",\"y\":[42,747],\"yaxis\":\"y\",\"type\":\"bar\"},{\"alignmentgroup\":\"True\",\"hovertemplate\":\"Smoking_Status=Unknown<br>Stroke=%{x}<br>size=%{y}<extra></extra>\",\"legendgroup\":\"Unknown\",\"marker\":{\"color\":\"#EF553B\",\"pattern\":{\"shape\":\"\"}},\"name\":\"Unknown\",\"offsetgroup\":\"Unknown\",\"orientation\":\"v\",\"showlegend\":true,\"textposition\":\"auto\",\"x\":[\"Yes\",\"No\"],\"xaxis\":\"x\",\"y\":[47,1497],\"yaxis\":\"y\",\"type\":\"bar\"},{\"alignmentgroup\":\"True\",\"hovertemplate\":\"Smoking_Status=Former_Smoker<br>Stroke=%{x}<br>size=%{y}<extra></extra>\",\"legendgroup\":\"Former_Smoker\",\"marker\":{\"color\":\"#00cc96\",\"pattern\":{\"shape\":\"\"}},\"name\":\"Former_Smoker\",\"offsetgroup\":\"Former_Smoker\",\"orientation\":\"v\",\"showlegend\":true,\"textposition\":\"auto\",\"x\":[\"Yes\",\"No\"],\"xaxis\":\"x\",\"y\":[70,815],\"yaxis\":\"y\",\"type\":\"bar\"},{\"alignmentgroup\":\"True\",\"hovertemplate\":\"Smoking_Status=Never_Smoked<br>Stroke=%{x}<br>size=%{y}<extra></extra>\",\"legendgroup\":\"Never_Smoked\",\"marker\":{\"color\":\"#ab63fa\",\"pattern\":{\"shape\":\"\"}},\"name\":\"Never_Smoked\",\"offsetgroup\":\"Never_Smoked\",\"orientation\":\"v\",\"showlegend\":true,\"textposition\":\"auto\",\"x\":[\"Yes\",\"No\"],\"xaxis\":\"x\",\"y\":[90,1802],\"yaxis\":\"y\",\"type\":\"bar\"}],                        {\"template\":{\"data\":{\"bar\":[{\"error_x\":{\"color\":\"#2a3f5f\"},\"error_y\":{\"color\":\"#2a3f5f\"},\"marker\":{\"line\":{\"color\":\"#E5ECF6\",\"width\":0.5},\"pattern\":{\"fillmode\":\"overlay\",\"size\":10,\"solidity\":0.2}},\"type\":\"bar\"}],\"barpolar\":[{\"marker\":{\"line\":{\"color\":\"#E5ECF6\",\"width\":0.5},\"pattern\":{\"fillmode\":\"overlay\",\"size\":10,\"solidity\":0.2}},\"type\":\"barpolar\"}],\"carpet\":[{\"aaxis\":{\"endlinecolor\":\"#2a3f5f\",\"gridcolor\":\"white\",\"linecolor\":\"white\",\"minorgridcolor\":\"white\",\"startlinecolor\":\"#2a3f5f\"},\"baxis\":{\"endlinecolor\":\"#2a3f5f\",\"gridcolor\":\"white\",\"linecolor\":\"white\",\"minorgridcolor\":\"white\",\"startlinecolor\":\"#2a3f5f\"},\"type\":\"carpet\"}],\"choropleth\":[{\"colorbar\":{\"outlinewidth\":0,\"ticks\":\"\"},\"type\":\"choropleth\"}],\"contour\":[{\"colorbar\":{\"outlinewidth\":0,\"ticks\":\"\"},\"colorscale\":[[0.0,\"#0d0887\"],[0.1111111111111111,\"#46039f\"],[0.2222222222222222,\"#7201a8\"],[0.3333333333333333,\"#9c179e\"],[0.4444444444444444,\"#bd3786\"],[0.5555555555555556,\"#d8576b\"],[0.6666666666666666,\"#ed7953\"],[0.7777777777777778,\"#fb9f3a\"],[0.8888888888888888,\"#fdca26\"],[1.0,\"#f0f921\"]],\"type\":\"contour\"}],\"contourcarpet\":[{\"colorbar\":{\"outlinewidth\":0,\"ticks\":\"\"},\"type\":\"contourcarpet\"}],\"heatmap\":[{\"colorbar\":{\"outlinewidth\":0,\"ticks\":\"\"},\"colorscale\":[[0.0,\"#0d0887\"],[0.1111111111111111,\"#46039f\"],[0.2222222222222222,\"#7201a8\"],[0.3333333333333333,\"#9c179e\"],[0.4444444444444444,\"#bd3786\"],[0.5555555555555556,\"#d8576b\"],[0.6666666666666666,\"#ed7953\"],[0.7777777777777778,\"#fb9f3a\"],[0.8888888888888888,\"#fdca26\"],[1.0,\"#f0f921\"]],\"type\":\"heatmap\"}],\"heatmapgl\":[{\"colorbar\":{\"outlinewidth\":0,\"ticks\":\"\"},\"colorscale\":[[0.0,\"#0d0887\"],[0.1111111111111111,\"#46039f\"],[0.2222222222222222,\"#7201a8\"],[0.3333333333333333,\"#9c179e\"],[0.4444444444444444,\"#bd3786\"],[0.5555555555555556,\"#d8576b\"],[0.6666666666666666,\"#ed7953\"],[0.7777777777777778,\"#fb9f3a\"],[0.8888888888888888,\"#fdca26\"],[1.0,\"#f0f921\"]],\"type\":\"heatmapgl\"}],\"histogram\":[{\"marker\":{\"pattern\":{\"fillmode\":\"overlay\",\"size\":10,\"solidity\":0.2}},\"type\":\"histogram\"}],\"histogram2d\":[{\"colorbar\":{\"outlinewidth\":0,\"ticks\":\"\"},\"colorscale\":[[0.0,\"#0d0887\"],[0.1111111111111111,\"#46039f\"],[0.2222222222222222,\"#7201a8\"],[0.3333333333333333,\"#9c179e\"],[0.4444444444444444,\"#bd3786\"],[0.5555555555555556,\"#d8576b\"],[0.6666666666666666,\"#ed7953\"],[0.7777777777777778,\"#fb9f3a\"],[0.8888888888888888,\"#fdca26\"],[1.0,\"#f0f921\"]],\"type\":\"histogram2d\"}],\"histogram2dcontour\":[{\"colorbar\":{\"outlinewidth\":0,\"ticks\":\"\"},\"colorscale\":[[0.0,\"#0d0887\"],[0.1111111111111111,\"#46039f\"],[0.2222222222222222,\"#7201a8\"],[0.3333333333333333,\"#9c179e\"],[0.4444444444444444,\"#bd3786\"],[0.5555555555555556,\"#d8576b\"],[0.6666666666666666,\"#ed7953\"],[0.7777777777777778,\"#fb9f3a\"],[0.8888888888888888,\"#fdca26\"],[1.0,\"#f0f921\"]],\"type\":\"histogram2dcontour\"}],\"mesh3d\":[{\"colorbar\":{\"outlinewidth\":0,\"ticks\":\"\"},\"type\":\"mesh3d\"}],\"parcoords\":[{\"line\":{\"colorbar\":{\"outlinewidth\":0,\"ticks\":\"\"}},\"type\":\"parcoords\"}],\"pie\":[{\"automargin\":true,\"type\":\"pie\"}],\"scatter\":[{\"marker\":{\"colorbar\":{\"outlinewidth\":0,\"ticks\":\"\"}},\"type\":\"scatter\"}],\"scatter3d\":[{\"line\":{\"colorbar\":{\"outlinewidth\":0,\"ticks\":\"\"}},\"marker\":{\"colorbar\":{\"outlinewidth\":0,\"ticks\":\"\"}},\"type\":\"scatter3d\"}],\"scattercarpet\":[{\"marker\":{\"colorbar\":{\"outlinewidth\":0,\"ticks\":\"\"}},\"type\":\"scattercarpet\"}],\"scattergeo\":[{\"marker\":{\"colorbar\":{\"outlinewidth\":0,\"ticks\":\"\"}},\"type\":\"scattergeo\"}],\"scattergl\":[{\"marker\":{\"colorbar\":{\"outlinewidth\":0,\"ticks\":\"\"}},\"type\":\"scattergl\"}],\"scattermapbox\":[{\"marker\":{\"colorbar\":{\"outlinewidth\":0,\"ticks\":\"\"}},\"type\":\"scattermapbox\"}],\"scatterpolar\":[{\"marker\":{\"colorbar\":{\"outlinewidth\":0,\"ticks\":\"\"}},\"type\":\"scatterpolar\"}],\"scatterpolargl\":[{\"marker\":{\"colorbar\":{\"outlinewidth\":0,\"ticks\":\"\"}},\"type\":\"scatterpolargl\"}],\"scatterternary\":[{\"marker\":{\"colorbar\":{\"outlinewidth\":0,\"ticks\":\"\"}},\"type\":\"scatterternary\"}],\"surface\":[{\"colorbar\":{\"outlinewidth\":0,\"ticks\":\"\"},\"colorscale\":[[0.0,\"#0d0887\"],[0.1111111111111111,\"#46039f\"],[0.2222222222222222,\"#7201a8\"],[0.3333333333333333,\"#9c179e\"],[0.4444444444444444,\"#bd3786\"],[0.5555555555555556,\"#d8576b\"],[0.6666666666666666,\"#ed7953\"],[0.7777777777777778,\"#fb9f3a\"],[0.8888888888888888,\"#fdca26\"],[1.0,\"#f0f921\"]],\"type\":\"surface\"}],\"table\":[{\"cells\":{\"fill\":{\"color\":\"#EBF0F8\"},\"line\":{\"color\":\"white\"}},\"header\":{\"fill\":{\"color\":\"#C8D4E3\"},\"line\":{\"color\":\"white\"}},\"type\":\"table\"}]},\"layout\":{\"annotationdefaults\":{\"arrowcolor\":\"#2a3f5f\",\"arrowhead\":0,\"arrowwidth\":1},\"autotypenumbers\":\"strict\",\"coloraxis\":{\"colorbar\":{\"outlinewidth\":0,\"ticks\":\"\"}},\"colorscale\":{\"diverging\":[[0,\"#8e0152\"],[0.1,\"#c51b7d\"],[0.2,\"#de77ae\"],[0.3,\"#f1b6da\"],[0.4,\"#fde0ef\"],[0.5,\"#f7f7f7\"],[0.6,\"#e6f5d0\"],[0.7,\"#b8e186\"],[0.8,\"#7fbc41\"],[0.9,\"#4d9221\"],[1,\"#276419\"]],\"sequential\":[[0.0,\"#0d0887\"],[0.1111111111111111,\"#46039f\"],[0.2222222222222222,\"#7201a8\"],[0.3333333333333333,\"#9c179e\"],[0.4444444444444444,\"#bd3786\"],[0.5555555555555556,\"#d8576b\"],[0.6666666666666666,\"#ed7953\"],[0.7777777777777778,\"#fb9f3a\"],[0.8888888888888888,\"#fdca26\"],[1.0,\"#f0f921\"]],\"sequentialminus\":[[0.0,\"#0d0887\"],[0.1111111111111111,\"#46039f\"],[0.2222222222222222,\"#7201a8\"],[0.3333333333333333,\"#9c179e\"],[0.4444444444444444,\"#bd3786\"],[0.5555555555555556,\"#d8576b\"],[0.6666666666666666,\"#ed7953\"],[0.7777777777777778,\"#fb9f3a\"],[0.8888888888888888,\"#fdca26\"],[1.0,\"#f0f921\"]]},\"colorway\":[\"#636efa\",\"#EF553B\",\"#00cc96\",\"#ab63fa\",\"#FFA15A\",\"#19d3f3\",\"#FF6692\",\"#B6E880\",\"#FF97FF\",\"#FECB52\"],\"font\":{\"color\":\"#2a3f5f\"},\"geo\":{\"bgcolor\":\"white\",\"lakecolor\":\"white\",\"landcolor\":\"#E5ECF6\",\"showlakes\":true,\"showland\":true,\"subunitcolor\":\"white\"},\"hoverlabel\":{\"align\":\"left\"},\"hovermode\":\"closest\",\"mapbox\":{\"style\":\"light\"},\"paper_bgcolor\":\"white\",\"plot_bgcolor\":\"#E5ECF6\",\"polar\":{\"angularaxis\":{\"gridcolor\":\"white\",\"linecolor\":\"white\",\"ticks\":\"\"},\"bgcolor\":\"#E5ECF6\",\"radialaxis\":{\"gridcolor\":\"white\",\"linecolor\":\"white\",\"ticks\":\"\"}},\"scene\":{\"xaxis\":{\"backgroundcolor\":\"#E5ECF6\",\"gridcolor\":\"white\",\"gridwidth\":2,\"linecolor\":\"white\",\"showbackground\":true,\"ticks\":\"\",\"zerolinecolor\":\"white\"},\"yaxis\":{\"backgroundcolor\":\"#E5ECF6\",\"gridcolor\":\"white\",\"gridwidth\":2,\"linecolor\":\"white\",\"showbackground\":true,\"ticks\":\"\",\"zerolinecolor\":\"white\"},\"zaxis\":{\"backgroundcolor\":\"#E5ECF6\",\"gridcolor\":\"white\",\"gridwidth\":2,\"linecolor\":\"white\",\"showbackground\":true,\"ticks\":\"\",\"zerolinecolor\":\"white\"}},\"shapedefaults\":{\"line\":{\"color\":\"#2a3f5f\"}},\"ternary\":{\"aaxis\":{\"gridcolor\":\"white\",\"linecolor\":\"white\",\"ticks\":\"\"},\"baxis\":{\"gridcolor\":\"white\",\"linecolor\":\"white\",\"ticks\":\"\"},\"bgcolor\":\"#E5ECF6\",\"caxis\":{\"gridcolor\":\"white\",\"linecolor\":\"white\",\"ticks\":\"\"}},\"title\":{\"x\":0.05},\"xaxis\":{\"automargin\":true,\"gridcolor\":\"white\",\"linecolor\":\"white\",\"ticks\":\"\",\"title\":{\"standoff\":15},\"zerolinecolor\":\"white\",\"zerolinewidth\":2},\"yaxis\":{\"automargin\":true,\"gridcolor\":\"white\",\"linecolor\":\"white\",\"ticks\":\"\",\"title\":{\"standoff\":15},\"zerolinecolor\":\"white\",\"zerolinewidth\":2}}},\"xaxis\":{\"anchor\":\"y\",\"domain\":[0.0,1.0],\"title\":{\"text\":\"Stroke\"}},\"yaxis\":{\"anchor\":\"x\",\"domain\":[0.0,1.0],\"title\":{\"text\":\"size\"}},\"legend\":{\"title\":{\"text\":\"Smoking_Status\"},\"tracegroupgap\":0},\"title\":{\"text\":\"Distribution of stroke by smoking status\"},\"barmode\":\"relative\",\"height\":600},                        {\"responsive\": true}                    ).then(function(){\n",
              "                            \n",
              "var gd = document.getElementById('81e3ca59-ea70-48e0-832d-f751f7fb2985');\n",
              "var x = new MutationObserver(function (mutations, observer) {{\n",
              "        var display = window.getComputedStyle(gd).display;\n",
              "        if (!display || display === 'none') {{\n",
              "            console.log([gd, 'removed!']);\n",
              "            Plotly.purge(gd);\n",
              "            observer.disconnect();\n",
              "        }}\n",
              "}});\n",
              "\n",
              "// Listen for the removal of the full notebook cells\n",
              "var notebookContainer = gd.closest('#notebook-container');\n",
              "if (notebookContainer) {{\n",
              "    x.observe(notebookContainer, {childList: true});\n",
              "}}\n",
              "\n",
              "// Listen for the clearing of the current output cell\n",
              "var outputEl = gd.closest('.output');\n",
              "if (outputEl) {{\n",
              "    x.observe(outputEl, {childList: true});\n",
              "}}\n",
              "\n",
              "                        })                };                            </script>        </div>\n",
              "</body>\n",
              "</html>"
            ]
          },
          "metadata": {}
        }
      ]
    },
    {
      "cell_type": "markdown",
      "source": [
        "![Screenshot 2022-07-28 211942.png](data:image/png;base64,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)"
      ],
      "metadata": {
        "id": "jdudD-pai7HR"
      }
    },
    {
      "cell_type": "markdown",
      "source": [
        "According to the graph individuals that are or were Smokers have the strongest correlation to whether or not an individual will have a stroke."
      ],
      "metadata": {
        "id": "drhtbZo-cQf9"
      }
    },
    {
      "cell_type": "code",
      "source": [
        ""
      ],
      "metadata": {
        "id": "JZ9yenuq7RuS"
      },
      "execution_count": 453,
      "outputs": []
    },
    {
      "cell_type": "markdown",
      "source": [
        "# Part 4 EDA (Exploratory Data Analysis)"
      ],
      "metadata": {
        "id": "TAoxgNbs7Th5"
      }
    },
    {
      "cell_type": "markdown",
      "source": [
        "**Project 2- Part 4 (Core)**\n",
        "\n",
        "You are now entering into the model development phase of the project!\n",
        "\n",
        "- Ensure that you complete the appropriate pre-processing steps\n",
        "\n",
        "- Try multiple models and tune the hyperparameters of each model to optimize model performance (include all models and hyperparameters tested in addition to the final model)\n",
        "\n",
        "- Perform PCA or another feature engineering technique on your dataset to see how this impacts your results.  (We encourage you to try multiple techniques depending on your data!)\n",
        "\n",
        "- Evaluate model performance with appropriate metrics for the model\n",
        "\n",
        "- Choose your \"production\" model and justify this decision\n",
        "\n",
        "- Go back through your code and ensure that you have provided clear comments (remember this is for your portfolio!)\n",
        "\n",
        "- Update your project readme and describe your final model, your final model evaluation metrics, and explain whether or not your model would be useful in production and if so, how it should be used."
      ],
      "metadata": {
        "id": "K9aTk3eJ7YMm"
      }
    },
    {
      "cell_type": "markdown",
      "source": [
        "# Preprocessing\n"
      ],
      "metadata": {
        "id": "pioMbrVsnlds"
      }
    },
    {
      "cell_type": "code",
      "source": [
        "# Describe the features\n",
        "df.info()"
      ],
      "metadata": {
        "colab": {
          "base_uri": "https://localhost:8080/"
        },
        "id": "HlLu9TcSnqy4",
        "outputId": "f700104f-c978-4f95-cdf0-86d4a16039d8"
      },
      "execution_count": 454,
      "outputs": [
        {
          "output_type": "stream",
          "name": "stdout",
          "text": [
            "<class 'pandas.core.frame.DataFrame'>\n",
            "Int64Index: 5110 entries, 9046 to 44679\n",
            "Data columns (total 10 columns):\n",
            " #   Column             Non-Null Count  Dtype \n",
            "---  ------             --------------  ----- \n",
            " 0   Gender             5110 non-null   object\n",
            " 1   Age                5110 non-null   int64 \n",
            " 2   Hypertension       5110 non-null   int64 \n",
            " 3   Heart_Disease      5110 non-null   int64 \n",
            " 4   Ever_Married       5110 non-null   object\n",
            " 5   Work_Type          5110 non-null   object\n",
            " 6   Residence_Type     5110 non-null   object\n",
            " 7   Avg_Glucose_Level  5110 non-null   int64 \n",
            " 8   Smoking_Status     5110 non-null   object\n",
            " 9   Stroke             5110 non-null   int64 \n",
            "dtypes: int64(5), object(5)\n",
            "memory usage: 439.1+ KB\n"
          ]
        }
      ]
    },
    {
      "cell_type": "markdown",
      "source": [
        "Numeric Features: Age, Hypertension, Heart Disease, Avg Glucose Level, Stroke\n",
        "\n",
        "Nominal Features: Gender, Ever Married, Work Type, Residence Type, Smoking Status\n",
        "\n",
        "Ordinal Features: None\n",
        "\n",
        "I will use one hot encoding on the nominal features because nominal data are variables without any quantitative value."
      ],
      "metadata": {
        "id": "3Hvw3LUCnwyp"
      }
    },
    {
      "cell_type": "code",
      "source": [
        "from imblearn.over_sampling import RandomOverSampler\n",
        "oversample = RandomOverSampler(sampling_strategy='minority')"
      ],
      "metadata": {
        "id": "23OmfBcvlEub"
      },
      "execution_count": 455,
      "outputs": []
    },
    {
      "cell_type": "code",
      "source": [
        "# Define features (X) and target (y)\n",
        "X = df.drop(columns = 'Stroke', axis=1)\n",
        "y = df['Stroke']\n",
        "X_over, y_over = oversample.fit_resample(X, y)"
      ],
      "metadata": {
        "id": "H0FSSs1Rnr_D"
      },
      "execution_count": 456,
      "outputs": []
    },
    {
      "cell_type": "code",
      "source": [
        "# Train-Test-Split\n",
        "X_train, X_test, y_train, y_test = train_test_split(X_over,y_over,test_size=0.3,stratify=y_over,random_state=42)\n",
        "X_train.isna().any()"
      ],
      "metadata": {
        "colab": {
          "base_uri": "https://localhost:8080/"
        },
        "id": "qLqOsO8unr9D",
        "outputId": "dcfc9b63-776b-4155-dcf8-77a4b50362b3"
      },
      "execution_count": 457,
      "outputs": [
        {
          "output_type": "execute_result",
          "data": {
            "text/plain": [
              "Gender               False\n",
              "Age                  False\n",
              "Hypertension         False\n",
              "Heart_Disease        False\n",
              "Ever_Married         False\n",
              "Work_Type            False\n",
              "Residence_Type       False\n",
              "Avg_Glucose_Level    False\n",
              "Smoking_Status       False\n",
              "dtype: bool"
            ]
          },
          "metadata": {},
          "execution_count": 457
        }
      ]
    },
    {
      "cell_type": "code",
      "source": [
        "#Create Selector\n",
        "cat_selector = make_column_selector(dtype_include='object')\n",
        "num_selector = make_column_selector(dtype_include='float')"
      ],
      "metadata": {
        "id": "QcSLuQ3tnr6l"
      },
      "execution_count": 458,
      "outputs": []
    },
    {
      "cell_type": "code",
      "source": [
        "# Scaler\n",
        "scaler = StandardScaler()"
      ],
      "metadata": {
        "id": "uuu7fCY2nr4Y"
      },
      "execution_count": 459,
      "outputs": []
    },
    {
      "cell_type": "code",
      "source": [
        "# One-hot encoder\n",
        "ohe = OneHotEncoder(handle_unknown='ignore', sparse=False)"
      ],
      "metadata": {
        "id": "BUMw8VHNnr2h"
      },
      "execution_count": 460,
      "outputs": []
    },
    {
      "cell_type": "code",
      "source": [
        "# Numeric pipeline\n",
        "numeric_pipe = make_pipeline(scaler)\n",
        "numeric_pipe"
      ],
      "metadata": {
        "colab": {
          "base_uri": "https://localhost:8080/",
          "height": 0
        },
        "id": "J93R57_hnr0S",
        "outputId": "b68a8d34-976e-4919-8d62-63441bf3eac2"
      },
      "execution_count": 461,
      "outputs": [
        {
          "output_type": "execute_result",
          "data": {
            "text/plain": [
              "Pipeline(steps=[('standardscaler', StandardScaler())])"
            ],
            "text/html": [
              "<style>#sk-068a42ff-a8a9-4273-ac79-b61d5dbbeea9 {color: black;background-color: white;}#sk-068a42ff-a8a9-4273-ac79-b61d5dbbeea9 pre{padding: 0;}#sk-068a42ff-a8a9-4273-ac79-b61d5dbbeea9 div.sk-toggleable {background-color: white;}#sk-068a42ff-a8a9-4273-ac79-b61d5dbbeea9 label.sk-toggleable__label {cursor: pointer;display: block;width: 100%;margin-bottom: 0;padding: 0.3em;box-sizing: border-box;text-align: center;}#sk-068a42ff-a8a9-4273-ac79-b61d5dbbeea9 label.sk-toggleable__label-arrow:before {content: \"▸\";float: left;margin-right: 0.25em;color: #696969;}#sk-068a42ff-a8a9-4273-ac79-b61d5dbbeea9 label.sk-toggleable__label-arrow:hover:before {color: black;}#sk-068a42ff-a8a9-4273-ac79-b61d5dbbeea9 div.sk-estimator:hover label.sk-toggleable__label-arrow:before {color: black;}#sk-068a42ff-a8a9-4273-ac79-b61d5dbbeea9 div.sk-toggleable__content {max-height: 0;max-width: 0;overflow: hidden;text-align: left;background-color: #f0f8ff;}#sk-068a42ff-a8a9-4273-ac79-b61d5dbbeea9 div.sk-toggleable__content pre {margin: 0.2em;color: black;border-radius: 0.25em;background-color: #f0f8ff;}#sk-068a42ff-a8a9-4273-ac79-b61d5dbbeea9 input.sk-toggleable__control:checked~div.sk-toggleable__content {max-height: 200px;max-width: 100%;overflow: auto;}#sk-068a42ff-a8a9-4273-ac79-b61d5dbbeea9 input.sk-toggleable__control:checked~label.sk-toggleable__label-arrow:before {content: \"▾\";}#sk-068a42ff-a8a9-4273-ac79-b61d5dbbeea9 div.sk-estimator input.sk-toggleable__control:checked~label.sk-toggleable__label {background-color: #d4ebff;}#sk-068a42ff-a8a9-4273-ac79-b61d5dbbeea9 div.sk-label input.sk-toggleable__control:checked~label.sk-toggleable__label {background-color: #d4ebff;}#sk-068a42ff-a8a9-4273-ac79-b61d5dbbeea9 input.sk-hidden--visually {border: 0;clip: rect(1px 1px 1px 1px);clip: rect(1px, 1px, 1px, 1px);height: 1px;margin: -1px;overflow: hidden;padding: 0;position: absolute;width: 1px;}#sk-068a42ff-a8a9-4273-ac79-b61d5dbbeea9 div.sk-estimator {font-family: monospace;background-color: #f0f8ff;border: 1px dotted black;border-radius: 0.25em;box-sizing: border-box;margin-bottom: 0.5em;}#sk-068a42ff-a8a9-4273-ac79-b61d5dbbeea9 div.sk-estimator:hover {background-color: #d4ebff;}#sk-068a42ff-a8a9-4273-ac79-b61d5dbbeea9 div.sk-parallel-item::after {content: \"\";width: 100%;border-bottom: 1px solid gray;flex-grow: 1;}#sk-068a42ff-a8a9-4273-ac79-b61d5dbbeea9 div.sk-label:hover label.sk-toggleable__label {background-color: #d4ebff;}#sk-068a42ff-a8a9-4273-ac79-b61d5dbbeea9 div.sk-serial::before {content: \"\";position: absolute;border-left: 1px solid gray;box-sizing: border-box;top: 2em;bottom: 0;left: 50%;}#sk-068a42ff-a8a9-4273-ac79-b61d5dbbeea9 div.sk-serial {display: flex;flex-direction: column;align-items: center;background-color: white;padding-right: 0.2em;padding-left: 0.2em;}#sk-068a42ff-a8a9-4273-ac79-b61d5dbbeea9 div.sk-item {z-index: 1;}#sk-068a42ff-a8a9-4273-ac79-b61d5dbbeea9 div.sk-parallel {display: flex;align-items: stretch;justify-content: center;background-color: white;}#sk-068a42ff-a8a9-4273-ac79-b61d5dbbeea9 div.sk-parallel::before {content: \"\";position: absolute;border-left: 1px solid gray;box-sizing: border-box;top: 2em;bottom: 0;left: 50%;}#sk-068a42ff-a8a9-4273-ac79-b61d5dbbeea9 div.sk-parallel-item {display: flex;flex-direction: column;position: relative;background-color: white;}#sk-068a42ff-a8a9-4273-ac79-b61d5dbbeea9 div.sk-parallel-item:first-child::after {align-self: flex-end;width: 50%;}#sk-068a42ff-a8a9-4273-ac79-b61d5dbbeea9 div.sk-parallel-item:last-child::after {align-self: flex-start;width: 50%;}#sk-068a42ff-a8a9-4273-ac79-b61d5dbbeea9 div.sk-parallel-item:only-child::after {width: 0;}#sk-068a42ff-a8a9-4273-ac79-b61d5dbbeea9 div.sk-dashed-wrapped {border: 1px dashed gray;margin: 0 0.4em 0.5em 0.4em;box-sizing: border-box;padding-bottom: 0.4em;background-color: white;position: relative;}#sk-068a42ff-a8a9-4273-ac79-b61d5dbbeea9 div.sk-label label {font-family: monospace;font-weight: bold;background-color: white;display: inline-block;line-height: 1.2em;}#sk-068a42ff-a8a9-4273-ac79-b61d5dbbeea9 div.sk-label-container {position: relative;z-index: 2;text-align: center;}#sk-068a42ff-a8a9-4273-ac79-b61d5dbbeea9 div.sk-container {/* jupyter's `normalize.less` sets `[hidden] { display: none; }` but bootstrap.min.css set `[hidden] { display: none !important; }` so we also need the `!important` here to be able to override the default hidden behavior on the sphinx rendered scikit-learn.org. See: https://github.com/scikit-learn/scikit-learn/issues/21755 */display: inline-block !important;position: relative;}#sk-068a42ff-a8a9-4273-ac79-b61d5dbbeea9 div.sk-text-repr-fallback {display: none;}</style><div id=\"sk-068a42ff-a8a9-4273-ac79-b61d5dbbeea9\" class=\"sk-top-container\"><div class=\"sk-text-repr-fallback\"><pre>Pipeline(steps=[(&#x27;standardscaler&#x27;, StandardScaler())])</pre><b>Please rerun this cell to show the HTML repr or trust the notebook.</b></div><div class=\"sk-container\" hidden><div class=\"sk-item sk-dashed-wrapped\"><div class=\"sk-label-container\"><div class=\"sk-label sk-toggleable\"><input class=\"sk-toggleable__control sk-hidden--visually\" id=\"aef638ed-db20-43a4-8620-6f68f4af385e\" type=\"checkbox\" ><label for=\"aef638ed-db20-43a4-8620-6f68f4af385e\" class=\"sk-toggleable__label sk-toggleable__label-arrow\">Pipeline</label><div class=\"sk-toggleable__content\"><pre>Pipeline(steps=[(&#x27;standardscaler&#x27;, StandardScaler())])</pre></div></div></div><div class=\"sk-serial\"><div class=\"sk-item\"><div class=\"sk-estimator sk-toggleable\"><input class=\"sk-toggleable__control sk-hidden--visually\" id=\"6479cd1f-ced5-4e67-8ca1-3eae141e55c1\" type=\"checkbox\" ><label for=\"6479cd1f-ced5-4e67-8ca1-3eae141e55c1\" class=\"sk-toggleable__label sk-toggleable__label-arrow\">StandardScaler</label><div class=\"sk-toggleable__content\"><pre>StandardScaler()</pre></div></div></div></div></div></div></div>"
            ]
          },
          "metadata": {},
          "execution_count": 461
        }
      ]
    },
    {
      "cell_type": "code",
      "source": [
        "# Categorical pipeline\n",
        "categorical_pipe = make_pipeline(ohe)\n",
        "categorical_pipe"
      ],
      "metadata": {
        "colab": {
          "base_uri": "https://localhost:8080/",
          "height": 0
        },
        "id": "8Dv7f7Wcnrx8",
        "outputId": "f646a143-fcb3-4957-bc54-fec293f0a9fa"
      },
      "execution_count": 462,
      "outputs": [
        {
          "output_type": "execute_result",
          "data": {
            "text/plain": [
              "Pipeline(steps=[('onehotencoder',\n",
              "                 OneHotEncoder(handle_unknown='ignore', sparse=False))])"
            ],
            "text/html": [
              "<style>#sk-45b2310c-66ff-45be-8198-084672b77dd6 {color: black;background-color: white;}#sk-45b2310c-66ff-45be-8198-084672b77dd6 pre{padding: 0;}#sk-45b2310c-66ff-45be-8198-084672b77dd6 div.sk-toggleable {background-color: white;}#sk-45b2310c-66ff-45be-8198-084672b77dd6 label.sk-toggleable__label {cursor: pointer;display: block;width: 100%;margin-bottom: 0;padding: 0.3em;box-sizing: border-box;text-align: center;}#sk-45b2310c-66ff-45be-8198-084672b77dd6 label.sk-toggleable__label-arrow:before {content: \"▸\";float: left;margin-right: 0.25em;color: #696969;}#sk-45b2310c-66ff-45be-8198-084672b77dd6 label.sk-toggleable__label-arrow:hover:before {color: black;}#sk-45b2310c-66ff-45be-8198-084672b77dd6 div.sk-estimator:hover label.sk-toggleable__label-arrow:before {color: black;}#sk-45b2310c-66ff-45be-8198-084672b77dd6 div.sk-toggleable__content {max-height: 0;max-width: 0;overflow: hidden;text-align: left;background-color: #f0f8ff;}#sk-45b2310c-66ff-45be-8198-084672b77dd6 div.sk-toggleable__content pre {margin: 0.2em;color: black;border-radius: 0.25em;background-color: #f0f8ff;}#sk-45b2310c-66ff-45be-8198-084672b77dd6 input.sk-toggleable__control:checked~div.sk-toggleable__content {max-height: 200px;max-width: 100%;overflow: auto;}#sk-45b2310c-66ff-45be-8198-084672b77dd6 input.sk-toggleable__control:checked~label.sk-toggleable__label-arrow:before {content: \"▾\";}#sk-45b2310c-66ff-45be-8198-084672b77dd6 div.sk-estimator input.sk-toggleable__control:checked~label.sk-toggleable__label {background-color: #d4ebff;}#sk-45b2310c-66ff-45be-8198-084672b77dd6 div.sk-label input.sk-toggleable__control:checked~label.sk-toggleable__label {background-color: #d4ebff;}#sk-45b2310c-66ff-45be-8198-084672b77dd6 input.sk-hidden--visually {border: 0;clip: rect(1px 1px 1px 1px);clip: rect(1px, 1px, 1px, 1px);height: 1px;margin: -1px;overflow: hidden;padding: 0;position: absolute;width: 1px;}#sk-45b2310c-66ff-45be-8198-084672b77dd6 div.sk-estimator {font-family: monospace;background-color: #f0f8ff;border: 1px dotted black;border-radius: 0.25em;box-sizing: border-box;margin-bottom: 0.5em;}#sk-45b2310c-66ff-45be-8198-084672b77dd6 div.sk-estimator:hover {background-color: #d4ebff;}#sk-45b2310c-66ff-45be-8198-084672b77dd6 div.sk-parallel-item::after {content: \"\";width: 100%;border-bottom: 1px solid gray;flex-grow: 1;}#sk-45b2310c-66ff-45be-8198-084672b77dd6 div.sk-label:hover label.sk-toggleable__label {background-color: #d4ebff;}#sk-45b2310c-66ff-45be-8198-084672b77dd6 div.sk-serial::before {content: \"\";position: absolute;border-left: 1px solid gray;box-sizing: border-box;top: 2em;bottom: 0;left: 50%;}#sk-45b2310c-66ff-45be-8198-084672b77dd6 div.sk-serial {display: flex;flex-direction: column;align-items: center;background-color: white;padding-right: 0.2em;padding-left: 0.2em;}#sk-45b2310c-66ff-45be-8198-084672b77dd6 div.sk-item {z-index: 1;}#sk-45b2310c-66ff-45be-8198-084672b77dd6 div.sk-parallel {display: flex;align-items: stretch;justify-content: center;background-color: white;}#sk-45b2310c-66ff-45be-8198-084672b77dd6 div.sk-parallel::before {content: \"\";position: absolute;border-left: 1px solid gray;box-sizing: border-box;top: 2em;bottom: 0;left: 50%;}#sk-45b2310c-66ff-45be-8198-084672b77dd6 div.sk-parallel-item {display: flex;flex-direction: column;position: relative;background-color: white;}#sk-45b2310c-66ff-45be-8198-084672b77dd6 div.sk-parallel-item:first-child::after {align-self: flex-end;width: 50%;}#sk-45b2310c-66ff-45be-8198-084672b77dd6 div.sk-parallel-item:last-child::after {align-self: flex-start;width: 50%;}#sk-45b2310c-66ff-45be-8198-084672b77dd6 div.sk-parallel-item:only-child::after {width: 0;}#sk-45b2310c-66ff-45be-8198-084672b77dd6 div.sk-dashed-wrapped {border: 1px dashed gray;margin: 0 0.4em 0.5em 0.4em;box-sizing: border-box;padding-bottom: 0.4em;background-color: white;position: relative;}#sk-45b2310c-66ff-45be-8198-084672b77dd6 div.sk-label label {font-family: monospace;font-weight: bold;background-color: white;display: inline-block;line-height: 1.2em;}#sk-45b2310c-66ff-45be-8198-084672b77dd6 div.sk-label-container {position: relative;z-index: 2;text-align: center;}#sk-45b2310c-66ff-45be-8198-084672b77dd6 div.sk-container {/* jupyter's `normalize.less` sets `[hidden] { display: none; }` but bootstrap.min.css set `[hidden] { display: none !important; }` so we also need the `!important` here to be able to override the default hidden behavior on the sphinx rendered scikit-learn.org. See: https://github.com/scikit-learn/scikit-learn/issues/21755 */display: inline-block !important;position: relative;}#sk-45b2310c-66ff-45be-8198-084672b77dd6 div.sk-text-repr-fallback {display: none;}</style><div id=\"sk-45b2310c-66ff-45be-8198-084672b77dd6\" class=\"sk-top-container\"><div class=\"sk-text-repr-fallback\"><pre>Pipeline(steps=[(&#x27;onehotencoder&#x27;,\n",
              "                 OneHotEncoder(handle_unknown=&#x27;ignore&#x27;, sparse=False))])</pre><b>Please rerun this cell to show the HTML repr or trust the notebook.</b></div><div class=\"sk-container\" hidden><div class=\"sk-item sk-dashed-wrapped\"><div class=\"sk-label-container\"><div class=\"sk-label sk-toggleable\"><input class=\"sk-toggleable__control sk-hidden--visually\" id=\"9d6c8c2f-adee-4bde-bd78-953cd69a8af1\" type=\"checkbox\" ><label for=\"9d6c8c2f-adee-4bde-bd78-953cd69a8af1\" class=\"sk-toggleable__label sk-toggleable__label-arrow\">Pipeline</label><div class=\"sk-toggleable__content\"><pre>Pipeline(steps=[(&#x27;onehotencoder&#x27;,\n",
              "                 OneHotEncoder(handle_unknown=&#x27;ignore&#x27;, sparse=False))])</pre></div></div></div><div class=\"sk-serial\"><div class=\"sk-item\"><div class=\"sk-estimator sk-toggleable\"><input class=\"sk-toggleable__control sk-hidden--visually\" id=\"3bb9230a-ffa1-4cc8-836b-bebdf87c46ed\" type=\"checkbox\" ><label for=\"3bb9230a-ffa1-4cc8-836b-bebdf87c46ed\" class=\"sk-toggleable__label sk-toggleable__label-arrow\">OneHotEncoder</label><div class=\"sk-toggleable__content\"><pre>OneHotEncoder(handle_unknown=&#x27;ignore&#x27;, sparse=False)</pre></div></div></div></div></div></div></div>"
            ]
          },
          "metadata": {},
          "execution_count": 462
        }
      ]
    },
    {
      "cell_type": "code",
      "source": [
        "# Tuples for Column Transformer\n",
        "num_tuple = (numeric_pipe, num_selector)\n",
        "cat_tuple = (categorical_pipe, cat_selector)"
      ],
      "metadata": {
        "id": "k0tsfZ3mnrvf"
      },
      "execution_count": 463,
      "outputs": []
    },
    {
      "cell_type": "code",
      "source": [
        "# ColumnTransformer\n",
        "col_transformer = make_column_transformer(num_tuple, cat_tuple, remainder='passthrough')\n",
        "col_transformer"
      ],
      "metadata": {
        "colab": {
          "base_uri": "https://localhost:8080/",
          "height": 0
        },
        "id": "-Jhhr8mvtJmZ",
        "outputId": "4de28883-2a6f-4373-d052-f78ab8049050"
      },
      "execution_count": 464,
      "outputs": [
        {
          "output_type": "execute_result",
          "data": {
            "text/plain": [
              "ColumnTransformer(remainder='passthrough',\n",
              "                  transformers=[('pipeline-1',\n",
              "                                 Pipeline(steps=[('standardscaler',\n",
              "                                                  StandardScaler())]),\n",
              "                                 <sklearn.compose._column_transformer.make_column_selector object at 0x7f668edf7450>),\n",
              "                                ('pipeline-2',\n",
              "                                 Pipeline(steps=[('onehotencoder',\n",
              "                                                  OneHotEncoder(handle_unknown='ignore',\n",
              "                                                                sparse=False))]),\n",
              "                                 <sklearn.compose._column_transformer.make_column_selector object at 0x7f668edf7490>)])"
            ],
            "text/html": [
              "<style>#sk-5f67989c-6789-477a-9856-abe4b4f34cbf {color: black;background-color: white;}#sk-5f67989c-6789-477a-9856-abe4b4f34cbf pre{padding: 0;}#sk-5f67989c-6789-477a-9856-abe4b4f34cbf div.sk-toggleable {background-color: white;}#sk-5f67989c-6789-477a-9856-abe4b4f34cbf label.sk-toggleable__label {cursor: pointer;display: block;width: 100%;margin-bottom: 0;padding: 0.3em;box-sizing: border-box;text-align: center;}#sk-5f67989c-6789-477a-9856-abe4b4f34cbf label.sk-toggleable__label-arrow:before {content: \"▸\";float: left;margin-right: 0.25em;color: #696969;}#sk-5f67989c-6789-477a-9856-abe4b4f34cbf label.sk-toggleable__label-arrow:hover:before {color: black;}#sk-5f67989c-6789-477a-9856-abe4b4f34cbf div.sk-estimator:hover label.sk-toggleable__label-arrow:before {color: black;}#sk-5f67989c-6789-477a-9856-abe4b4f34cbf div.sk-toggleable__content {max-height: 0;max-width: 0;overflow: hidden;text-align: left;background-color: #f0f8ff;}#sk-5f67989c-6789-477a-9856-abe4b4f34cbf div.sk-toggleable__content pre {margin: 0.2em;color: black;border-radius: 0.25em;background-color: #f0f8ff;}#sk-5f67989c-6789-477a-9856-abe4b4f34cbf input.sk-toggleable__control:checked~div.sk-toggleable__content {max-height: 200px;max-width: 100%;overflow: auto;}#sk-5f67989c-6789-477a-9856-abe4b4f34cbf input.sk-toggleable__control:checked~label.sk-toggleable__label-arrow:before {content: \"▾\";}#sk-5f67989c-6789-477a-9856-abe4b4f34cbf div.sk-estimator input.sk-toggleable__control:checked~label.sk-toggleable__label {background-color: #d4ebff;}#sk-5f67989c-6789-477a-9856-abe4b4f34cbf div.sk-label input.sk-toggleable__control:checked~label.sk-toggleable__label {background-color: #d4ebff;}#sk-5f67989c-6789-477a-9856-abe4b4f34cbf input.sk-hidden--visually {border: 0;clip: rect(1px 1px 1px 1px);clip: rect(1px, 1px, 1px, 1px);height: 1px;margin: -1px;overflow: hidden;padding: 0;position: absolute;width: 1px;}#sk-5f67989c-6789-477a-9856-abe4b4f34cbf div.sk-estimator {font-family: monospace;background-color: #f0f8ff;border: 1px dotted black;border-radius: 0.25em;box-sizing: border-box;margin-bottom: 0.5em;}#sk-5f67989c-6789-477a-9856-abe4b4f34cbf div.sk-estimator:hover {background-color: #d4ebff;}#sk-5f67989c-6789-477a-9856-abe4b4f34cbf div.sk-parallel-item::after {content: \"\";width: 100%;border-bottom: 1px solid gray;flex-grow: 1;}#sk-5f67989c-6789-477a-9856-abe4b4f34cbf div.sk-label:hover label.sk-toggleable__label {background-color: #d4ebff;}#sk-5f67989c-6789-477a-9856-abe4b4f34cbf div.sk-serial::before {content: \"\";position: absolute;border-left: 1px solid gray;box-sizing: border-box;top: 2em;bottom: 0;left: 50%;}#sk-5f67989c-6789-477a-9856-abe4b4f34cbf div.sk-serial {display: flex;flex-direction: column;align-items: center;background-color: white;padding-right: 0.2em;padding-left: 0.2em;}#sk-5f67989c-6789-477a-9856-abe4b4f34cbf div.sk-item {z-index: 1;}#sk-5f67989c-6789-477a-9856-abe4b4f34cbf div.sk-parallel {display: flex;align-items: stretch;justify-content: center;background-color: white;}#sk-5f67989c-6789-477a-9856-abe4b4f34cbf div.sk-parallel::before {content: \"\";position: absolute;border-left: 1px solid gray;box-sizing: border-box;top: 2em;bottom: 0;left: 50%;}#sk-5f67989c-6789-477a-9856-abe4b4f34cbf div.sk-parallel-item {display: flex;flex-direction: column;position: relative;background-color: white;}#sk-5f67989c-6789-477a-9856-abe4b4f34cbf div.sk-parallel-item:first-child::after {align-self: flex-end;width: 50%;}#sk-5f67989c-6789-477a-9856-abe4b4f34cbf div.sk-parallel-item:last-child::after {align-self: flex-start;width: 50%;}#sk-5f67989c-6789-477a-9856-abe4b4f34cbf div.sk-parallel-item:only-child::after {width: 0;}#sk-5f67989c-6789-477a-9856-abe4b4f34cbf div.sk-dashed-wrapped {border: 1px dashed gray;margin: 0 0.4em 0.5em 0.4em;box-sizing: border-box;padding-bottom: 0.4em;background-color: white;position: relative;}#sk-5f67989c-6789-477a-9856-abe4b4f34cbf div.sk-label label {font-family: monospace;font-weight: bold;background-color: white;display: inline-block;line-height: 1.2em;}#sk-5f67989c-6789-477a-9856-abe4b4f34cbf div.sk-label-container {position: relative;z-index: 2;text-align: center;}#sk-5f67989c-6789-477a-9856-abe4b4f34cbf div.sk-container {/* jupyter's `normalize.less` sets `[hidden] { display: none; }` but bootstrap.min.css set `[hidden] { display: none !important; }` so we also need the `!important` here to be able to override the default hidden behavior on the sphinx rendered scikit-learn.org. See: https://github.com/scikit-learn/scikit-learn/issues/21755 */display: inline-block !important;position: relative;}#sk-5f67989c-6789-477a-9856-abe4b4f34cbf div.sk-text-repr-fallback {display: none;}</style><div id=\"sk-5f67989c-6789-477a-9856-abe4b4f34cbf\" class=\"sk-top-container\"><div class=\"sk-text-repr-fallback\"><pre>ColumnTransformer(remainder=&#x27;passthrough&#x27;,\n",
              "                  transformers=[(&#x27;pipeline-1&#x27;,\n",
              "                                 Pipeline(steps=[(&#x27;standardscaler&#x27;,\n",
              "                                                  StandardScaler())]),\n",
              "                                 &lt;sklearn.compose._column_transformer.make_column_selector object at 0x7f668edf7450&gt;),\n",
              "                                (&#x27;pipeline-2&#x27;,\n",
              "                                 Pipeline(steps=[(&#x27;onehotencoder&#x27;,\n",
              "                                                  OneHotEncoder(handle_unknown=&#x27;ignore&#x27;,\n",
              "                                                                sparse=False))]),\n",
              "                                 &lt;sklearn.compose._column_transformer.make_column_selector object at 0x7f668edf7490&gt;)])</pre><b>Please rerun this cell to show the HTML repr or trust the notebook.</b></div><div class=\"sk-container\" hidden><div class=\"sk-item sk-dashed-wrapped\"><div class=\"sk-label-container\"><div class=\"sk-label sk-toggleable\"><input class=\"sk-toggleable__control sk-hidden--visually\" id=\"95ab6b72-416b-4f06-957b-36ad0694b7a2\" type=\"checkbox\" ><label for=\"95ab6b72-416b-4f06-957b-36ad0694b7a2\" class=\"sk-toggleable__label sk-toggleable__label-arrow\">ColumnTransformer</label><div class=\"sk-toggleable__content\"><pre>ColumnTransformer(remainder=&#x27;passthrough&#x27;,\n",
              "                  transformers=[(&#x27;pipeline-1&#x27;,\n",
              "                                 Pipeline(steps=[(&#x27;standardscaler&#x27;,\n",
              "                                                  StandardScaler())]),\n",
              "                                 &lt;sklearn.compose._column_transformer.make_column_selector object at 0x7f668edf7450&gt;),\n",
              "                                (&#x27;pipeline-2&#x27;,\n",
              "                                 Pipeline(steps=[(&#x27;onehotencoder&#x27;,\n",
              "                                                  OneHotEncoder(handle_unknown=&#x27;ignore&#x27;,\n",
              "                                                                sparse=False))]),\n",
              "                                 &lt;sklearn.compose._column_transformer.make_column_selector object at 0x7f668edf7490&gt;)])</pre></div></div></div><div class=\"sk-parallel\"><div class=\"sk-parallel-item\"><div class=\"sk-item\"><div class=\"sk-label-container\"><div class=\"sk-label sk-toggleable\"><input class=\"sk-toggleable__control sk-hidden--visually\" id=\"cc4e1a66-cc38-4d69-971e-cc9602a9ee3e\" type=\"checkbox\" ><label for=\"cc4e1a66-cc38-4d69-971e-cc9602a9ee3e\" class=\"sk-toggleable__label sk-toggleable__label-arrow\">pipeline-1</label><div class=\"sk-toggleable__content\"><pre>&lt;sklearn.compose._column_transformer.make_column_selector object at 0x7f668edf7450&gt;</pre></div></div></div><div class=\"sk-serial\"><div class=\"sk-item\"><div class=\"sk-serial\"><div class=\"sk-item\"><div class=\"sk-estimator sk-toggleable\"><input class=\"sk-toggleable__control sk-hidden--visually\" id=\"7835f6a2-a161-44f5-bd61-600d275b7a8a\" type=\"checkbox\" ><label for=\"7835f6a2-a161-44f5-bd61-600d275b7a8a\" class=\"sk-toggleable__label sk-toggleable__label-arrow\">StandardScaler</label><div class=\"sk-toggleable__content\"><pre>StandardScaler()</pre></div></div></div></div></div></div></div></div><div class=\"sk-parallel-item\"><div class=\"sk-item\"><div class=\"sk-label-container\"><div class=\"sk-label sk-toggleable\"><input class=\"sk-toggleable__control sk-hidden--visually\" id=\"027f32cf-28fa-40a8-b3ca-dd65589e1f21\" type=\"checkbox\" ><label for=\"027f32cf-28fa-40a8-b3ca-dd65589e1f21\" class=\"sk-toggleable__label sk-toggleable__label-arrow\">pipeline-2</label><div class=\"sk-toggleable__content\"><pre>&lt;sklearn.compose._column_transformer.make_column_selector object at 0x7f668edf7490&gt;</pre></div></div></div><div class=\"sk-serial\"><div class=\"sk-item\"><div class=\"sk-serial\"><div class=\"sk-item\"><div class=\"sk-estimator sk-toggleable\"><input class=\"sk-toggleable__control sk-hidden--visually\" id=\"86da0ffd-bce6-4d4b-94e8-9e44f5f0f8bf\" type=\"checkbox\" ><label for=\"86da0ffd-bce6-4d4b-94e8-9e44f5f0f8bf\" class=\"sk-toggleable__label sk-toggleable__label-arrow\">OneHotEncoder</label><div class=\"sk-toggleable__content\"><pre>OneHotEncoder(handle_unknown=&#x27;ignore&#x27;, sparse=False)</pre></div></div></div></div></div></div></div></div><div class=\"sk-parallel-item\"><div class=\"sk-item\"><div class=\"sk-label-container\"><div class=\"sk-label sk-toggleable\"><input class=\"sk-toggleable__control sk-hidden--visually\" id=\"b47b14ba-35c9-47db-9634-9bab84cb7c22\" type=\"checkbox\" ><label for=\"b47b14ba-35c9-47db-9634-9bab84cb7c22\" class=\"sk-toggleable__label sk-toggleable__label-arrow\">remainder</label><div class=\"sk-toggleable__content\"><pre></pre></div></div></div><div class=\"sk-serial\"><div class=\"sk-item\"><div class=\"sk-estimator sk-toggleable\"><input class=\"sk-toggleable__control sk-hidden--visually\" id=\"a60d39b7-7f32-4919-9c6c-91ee22b65887\" type=\"checkbox\" ><label for=\"a60d39b7-7f32-4919-9c6c-91ee22b65887\" class=\"sk-toggleable__label sk-toggleable__label-arrow\">passthrough</label><div class=\"sk-toggleable__content\"><pre>passthrough</pre></div></div></div></div></div></div></div></div></div></div>"
            ]
          },
          "metadata": {},
          "execution_count": 464
        }
      ]
    },
    {
      "cell_type": "code",
      "source": [
        "# fit ColumnTransformer on the training data\n",
        "col_transformer.fit(X_train)"
      ],
      "metadata": {
        "colab": {
          "base_uri": "https://localhost:8080/",
          "height": 0
        },
        "id": "4h113vZUtJkZ",
        "outputId": "19ef6fea-76eb-4d0c-f834-477e465ff86f"
      },
      "execution_count": 465,
      "outputs": [
        {
          "output_type": "execute_result",
          "data": {
            "text/plain": [
              "ColumnTransformer(remainder='passthrough',\n",
              "                  transformers=[('pipeline-1',\n",
              "                                 Pipeline(steps=[('standardscaler',\n",
              "                                                  StandardScaler())]),\n",
              "                                 <sklearn.compose._column_transformer.make_column_selector object at 0x7f668edf7450>),\n",
              "                                ('pipeline-2',\n",
              "                                 Pipeline(steps=[('onehotencoder',\n",
              "                                                  OneHotEncoder(handle_unknown='ignore',\n",
              "                                                                sparse=False))]),\n",
              "                                 <sklearn.compose._column_transformer.make_column_selector object at 0x7f668edf7490>)])"
            ],
            "text/html": [
              "<style>#sk-b50c76c0-a1ef-4b58-90e0-33ca3d583148 {color: black;background-color: white;}#sk-b50c76c0-a1ef-4b58-90e0-33ca3d583148 pre{padding: 0;}#sk-b50c76c0-a1ef-4b58-90e0-33ca3d583148 div.sk-toggleable {background-color: white;}#sk-b50c76c0-a1ef-4b58-90e0-33ca3d583148 label.sk-toggleable__label {cursor: pointer;display: block;width: 100%;margin-bottom: 0;padding: 0.3em;box-sizing: border-box;text-align: center;}#sk-b50c76c0-a1ef-4b58-90e0-33ca3d583148 label.sk-toggleable__label-arrow:before {content: \"▸\";float: left;margin-right: 0.25em;color: #696969;}#sk-b50c76c0-a1ef-4b58-90e0-33ca3d583148 label.sk-toggleable__label-arrow:hover:before {color: black;}#sk-b50c76c0-a1ef-4b58-90e0-33ca3d583148 div.sk-estimator:hover label.sk-toggleable__label-arrow:before {color: black;}#sk-b50c76c0-a1ef-4b58-90e0-33ca3d583148 div.sk-toggleable__content {max-height: 0;max-width: 0;overflow: hidden;text-align: left;background-color: #f0f8ff;}#sk-b50c76c0-a1ef-4b58-90e0-33ca3d583148 div.sk-toggleable__content pre {margin: 0.2em;color: black;border-radius: 0.25em;background-color: #f0f8ff;}#sk-b50c76c0-a1ef-4b58-90e0-33ca3d583148 input.sk-toggleable__control:checked~div.sk-toggleable__content {max-height: 200px;max-width: 100%;overflow: auto;}#sk-b50c76c0-a1ef-4b58-90e0-33ca3d583148 input.sk-toggleable__control:checked~label.sk-toggleable__label-arrow:before {content: \"▾\";}#sk-b50c76c0-a1ef-4b58-90e0-33ca3d583148 div.sk-estimator input.sk-toggleable__control:checked~label.sk-toggleable__label {background-color: #d4ebff;}#sk-b50c76c0-a1ef-4b58-90e0-33ca3d583148 div.sk-label input.sk-toggleable__control:checked~label.sk-toggleable__label {background-color: #d4ebff;}#sk-b50c76c0-a1ef-4b58-90e0-33ca3d583148 input.sk-hidden--visually {border: 0;clip: rect(1px 1px 1px 1px);clip: rect(1px, 1px, 1px, 1px);height: 1px;margin: -1px;overflow: hidden;padding: 0;position: absolute;width: 1px;}#sk-b50c76c0-a1ef-4b58-90e0-33ca3d583148 div.sk-estimator {font-family: monospace;background-color: #f0f8ff;border: 1px dotted black;border-radius: 0.25em;box-sizing: border-box;margin-bottom: 0.5em;}#sk-b50c76c0-a1ef-4b58-90e0-33ca3d583148 div.sk-estimator:hover {background-color: #d4ebff;}#sk-b50c76c0-a1ef-4b58-90e0-33ca3d583148 div.sk-parallel-item::after {content: \"\";width: 100%;border-bottom: 1px solid gray;flex-grow: 1;}#sk-b50c76c0-a1ef-4b58-90e0-33ca3d583148 div.sk-label:hover label.sk-toggleable__label {background-color: #d4ebff;}#sk-b50c76c0-a1ef-4b58-90e0-33ca3d583148 div.sk-serial::before {content: \"\";position: absolute;border-left: 1px solid gray;box-sizing: border-box;top: 2em;bottom: 0;left: 50%;}#sk-b50c76c0-a1ef-4b58-90e0-33ca3d583148 div.sk-serial {display: flex;flex-direction: column;align-items: center;background-color: white;padding-right: 0.2em;padding-left: 0.2em;}#sk-b50c76c0-a1ef-4b58-90e0-33ca3d583148 div.sk-item {z-index: 1;}#sk-b50c76c0-a1ef-4b58-90e0-33ca3d583148 div.sk-parallel {display: flex;align-items: stretch;justify-content: center;background-color: white;}#sk-b50c76c0-a1ef-4b58-90e0-33ca3d583148 div.sk-parallel::before {content: \"\";position: absolute;border-left: 1px solid gray;box-sizing: border-box;top: 2em;bottom: 0;left: 50%;}#sk-b50c76c0-a1ef-4b58-90e0-33ca3d583148 div.sk-parallel-item {display: flex;flex-direction: column;position: relative;background-color: white;}#sk-b50c76c0-a1ef-4b58-90e0-33ca3d583148 div.sk-parallel-item:first-child::after {align-self: flex-end;width: 50%;}#sk-b50c76c0-a1ef-4b58-90e0-33ca3d583148 div.sk-parallel-item:last-child::after {align-self: flex-start;width: 50%;}#sk-b50c76c0-a1ef-4b58-90e0-33ca3d583148 div.sk-parallel-item:only-child::after {width: 0;}#sk-b50c76c0-a1ef-4b58-90e0-33ca3d583148 div.sk-dashed-wrapped {border: 1px dashed gray;margin: 0 0.4em 0.5em 0.4em;box-sizing: border-box;padding-bottom: 0.4em;background-color: white;position: relative;}#sk-b50c76c0-a1ef-4b58-90e0-33ca3d583148 div.sk-label label {font-family: monospace;font-weight: bold;background-color: white;display: inline-block;line-height: 1.2em;}#sk-b50c76c0-a1ef-4b58-90e0-33ca3d583148 div.sk-label-container {position: relative;z-index: 2;text-align: center;}#sk-b50c76c0-a1ef-4b58-90e0-33ca3d583148 div.sk-container {/* jupyter's `normalize.less` sets `[hidden] { display: none; }` but bootstrap.min.css set `[hidden] { display: none !important; }` so we also need the `!important` here to be able to override the default hidden behavior on the sphinx rendered scikit-learn.org. See: https://github.com/scikit-learn/scikit-learn/issues/21755 */display: inline-block !important;position: relative;}#sk-b50c76c0-a1ef-4b58-90e0-33ca3d583148 div.sk-text-repr-fallback {display: none;}</style><div id=\"sk-b50c76c0-a1ef-4b58-90e0-33ca3d583148\" class=\"sk-top-container\"><div class=\"sk-text-repr-fallback\"><pre>ColumnTransformer(remainder=&#x27;passthrough&#x27;,\n",
              "                  transformers=[(&#x27;pipeline-1&#x27;,\n",
              "                                 Pipeline(steps=[(&#x27;standardscaler&#x27;,\n",
              "                                                  StandardScaler())]),\n",
              "                                 &lt;sklearn.compose._column_transformer.make_column_selector object at 0x7f668edf7450&gt;),\n",
              "                                (&#x27;pipeline-2&#x27;,\n",
              "                                 Pipeline(steps=[(&#x27;onehotencoder&#x27;,\n",
              "                                                  OneHotEncoder(handle_unknown=&#x27;ignore&#x27;,\n",
              "                                                                sparse=False))]),\n",
              "                                 &lt;sklearn.compose._column_transformer.make_column_selector object at 0x7f668edf7490&gt;)])</pre><b>Please rerun this cell to show the HTML repr or trust the notebook.</b></div><div class=\"sk-container\" hidden><div class=\"sk-item sk-dashed-wrapped\"><div class=\"sk-label-container\"><div class=\"sk-label sk-toggleable\"><input class=\"sk-toggleable__control sk-hidden--visually\" id=\"40731b10-68c3-4fbb-b407-a4d847abd100\" type=\"checkbox\" ><label for=\"40731b10-68c3-4fbb-b407-a4d847abd100\" class=\"sk-toggleable__label sk-toggleable__label-arrow\">ColumnTransformer</label><div class=\"sk-toggleable__content\"><pre>ColumnTransformer(remainder=&#x27;passthrough&#x27;,\n",
              "                  transformers=[(&#x27;pipeline-1&#x27;,\n",
              "                                 Pipeline(steps=[(&#x27;standardscaler&#x27;,\n",
              "                                                  StandardScaler())]),\n",
              "                                 &lt;sklearn.compose._column_transformer.make_column_selector object at 0x7f668edf7450&gt;),\n",
              "                                (&#x27;pipeline-2&#x27;,\n",
              "                                 Pipeline(steps=[(&#x27;onehotencoder&#x27;,\n",
              "                                                  OneHotEncoder(handle_unknown=&#x27;ignore&#x27;,\n",
              "                                                                sparse=False))]),\n",
              "                                 &lt;sklearn.compose._column_transformer.make_column_selector object at 0x7f668edf7490&gt;)])</pre></div></div></div><div class=\"sk-parallel\"><div class=\"sk-parallel-item\"><div class=\"sk-item\"><div class=\"sk-label-container\"><div class=\"sk-label sk-toggleable\"><input class=\"sk-toggleable__control sk-hidden--visually\" id=\"328928af-c99b-4064-8ff5-a8c38f598735\" type=\"checkbox\" ><label for=\"328928af-c99b-4064-8ff5-a8c38f598735\" class=\"sk-toggleable__label sk-toggleable__label-arrow\">pipeline-1</label><div class=\"sk-toggleable__content\"><pre>&lt;sklearn.compose._column_transformer.make_column_selector object at 0x7f668edf7450&gt;</pre></div></div></div><div class=\"sk-serial\"><div class=\"sk-item\"><div class=\"sk-serial\"><div class=\"sk-item\"><div class=\"sk-estimator sk-toggleable\"><input class=\"sk-toggleable__control sk-hidden--visually\" id=\"413b7b82-4dcc-4ee0-a49a-5fbe76fad2b3\" type=\"checkbox\" ><label for=\"413b7b82-4dcc-4ee0-a49a-5fbe76fad2b3\" class=\"sk-toggleable__label sk-toggleable__label-arrow\">StandardScaler</label><div class=\"sk-toggleable__content\"><pre>StandardScaler()</pre></div></div></div></div></div></div></div></div><div class=\"sk-parallel-item\"><div class=\"sk-item\"><div class=\"sk-label-container\"><div class=\"sk-label sk-toggleable\"><input class=\"sk-toggleable__control sk-hidden--visually\" id=\"e219fbe5-fffe-4ba7-b56a-32c32383b788\" type=\"checkbox\" ><label for=\"e219fbe5-fffe-4ba7-b56a-32c32383b788\" class=\"sk-toggleable__label sk-toggleable__label-arrow\">pipeline-2</label><div class=\"sk-toggleable__content\"><pre>&lt;sklearn.compose._column_transformer.make_column_selector object at 0x7f668edf7490&gt;</pre></div></div></div><div class=\"sk-serial\"><div class=\"sk-item\"><div class=\"sk-serial\"><div class=\"sk-item\"><div class=\"sk-estimator sk-toggleable\"><input class=\"sk-toggleable__control sk-hidden--visually\" id=\"95da81ec-2243-4030-9d68-46b2d91d81e2\" type=\"checkbox\" ><label for=\"95da81ec-2243-4030-9d68-46b2d91d81e2\" class=\"sk-toggleable__label sk-toggleable__label-arrow\">OneHotEncoder</label><div class=\"sk-toggleable__content\"><pre>OneHotEncoder(handle_unknown=&#x27;ignore&#x27;, sparse=False)</pre></div></div></div></div></div></div></div></div><div class=\"sk-parallel-item\"><div class=\"sk-item\"><div class=\"sk-label-container\"><div class=\"sk-label sk-toggleable\"><input class=\"sk-toggleable__control sk-hidden--visually\" id=\"b94e07ac-3dbe-4c11-8dca-7dbabb1f83a5\" type=\"checkbox\" ><label for=\"b94e07ac-3dbe-4c11-8dca-7dbabb1f83a5\" class=\"sk-toggleable__label sk-toggleable__label-arrow\">remainder</label><div class=\"sk-toggleable__content\"><pre>[&#x27;Age&#x27;, &#x27;Hypertension&#x27;, &#x27;Heart_Disease&#x27;, &#x27;Avg_Glucose_Level&#x27;]</pre></div></div></div><div class=\"sk-serial\"><div class=\"sk-item\"><div class=\"sk-estimator sk-toggleable\"><input class=\"sk-toggleable__control sk-hidden--visually\" id=\"2c0f0e8d-186d-417d-b2ef-50658a6ac483\" type=\"checkbox\" ><label for=\"2c0f0e8d-186d-417d-b2ef-50658a6ac483\" class=\"sk-toggleable__label sk-toggleable__label-arrow\">passthrough</label><div class=\"sk-toggleable__content\"><pre>passthrough</pre></div></div></div></div></div></div></div></div></div></div>"
            ]
          },
          "metadata": {},
          "execution_count": 465
        }
      ]
    },
    {
      "cell_type": "code",
      "source": [
        "# transform train and test\n",
        "X_train_processed = col_transformer.transform(X_train)\n",
        "X_test_processed = col_transformer.transform(X_test)"
      ],
      "metadata": {
        "id": "EQCtZiJ9tJiU"
      },
      "execution_count": 466,
      "outputs": []
    },
    {
      "cell_type": "code",
      "source": [
        "# Check for missing values and that data is scaled and one-hot encoded\n",
        "print(np.isnan(X_train_processed).sum().sum(), 'missing values in training data')\n",
        "print(np.isnan(X_test_processed).sum().sum(), 'missing values in testing data')\n",
        "print('\\n')\n",
        "print('All data in X_train_processed are', X_train_processed.dtype)\n",
        "print('All data in X_test_processed are', X_test_processed.dtype)\n",
        "print('\\n')\n",
        "print('shape of data is', X_train_processed.shape)\n",
        "print('\\n')\n",
        "X_train_processed"
      ],
      "metadata": {
        "colab": {
          "base_uri": "https://localhost:8080/"
        },
        "id": "TbZmh6VZtJgG",
        "outputId": "62646f9e-b76b-401b-b531-ae73c1ad741a"
      },
      "execution_count": 467,
      "outputs": [
        {
          "output_type": "stream",
          "name": "stdout",
          "text": [
            "0 missing values in training data\n",
            "0 missing values in testing data\n",
            "\n",
            "\n",
            "All data in X_train_processed are float64\n",
            "All data in X_test_processed are float64\n",
            "\n",
            "\n",
            "shape of data is (6805, 20)\n",
            "\n",
            "\n"
          ]
        },
        {
          "output_type": "execute_result",
          "data": {
            "text/plain": [
              "array([[  0.,   1.,   0., ...,   0.,   1., 253.],\n",
              "       [  1.,   0.,   0., ...,   0.,   0., 105.],\n",
              "       [  1.,   0.,   0., ...,   1.,   0., 217.],\n",
              "       ...,\n",
              "       [  1.,   0.,   0., ...,   0.,   0.,  83.],\n",
              "       [  1.,   0.,   0., ...,   0.,   0.,  71.],\n",
              "       [  1.,   0.,   0., ...,   0.,   0.,  59.]])"
            ]
          },
          "metadata": {},
          "execution_count": 467
        }
      ]
    },
    {
      "cell_type": "code",
      "source": [
        "# Make a new DataFrame with inputed missing values\n",
        "X_test_df = pd.DataFrame(X_test_processed)\n",
        "X_train_df = pd.DataFrame(X_train_processed)"
      ],
      "metadata": {
        "id": "JD6XzmzPtt_1"
      },
      "execution_count": 468,
      "outputs": []
    },
    {
      "cell_type": "code",
      "source": [
        "# Check the data for sanity check to verify all changes have been made\n",
        "display(X_train_df.info())\n",
        "X_train_df.head()"
      ],
      "metadata": {
        "colab": {
          "base_uri": "https://localhost:8080/",
          "height": 0
        },
        "id": "ef9jPztStJdz",
        "outputId": "4b1cd72d-5db6-491e-91b1-a0d69ce0e7f3"
      },
      "execution_count": 469,
      "outputs": [
        {
          "output_type": "stream",
          "name": "stdout",
          "text": [
            "<class 'pandas.core.frame.DataFrame'>\n",
            "RangeIndex: 6805 entries, 0 to 6804\n",
            "Data columns (total 20 columns):\n",
            " #   Column  Non-Null Count  Dtype  \n",
            "---  ------  --------------  -----  \n",
            " 0   0       6805 non-null   float64\n",
            " 1   1       6805 non-null   float64\n",
            " 2   2       6805 non-null   float64\n",
            " 3   3       6805 non-null   float64\n",
            " 4   4       6805 non-null   float64\n",
            " 5   5       6805 non-null   float64\n",
            " 6   6       6805 non-null   float64\n",
            " 7   7       6805 non-null   float64\n",
            " 8   8       6805 non-null   float64\n",
            " 9   9       6805 non-null   float64\n",
            " 10  10      6805 non-null   float64\n",
            " 11  11      6805 non-null   float64\n",
            " 12  12      6805 non-null   float64\n",
            " 13  13      6805 non-null   float64\n",
            " 14  14      6805 non-null   float64\n",
            " 15  15      6805 non-null   float64\n",
            " 16  16      6805 non-null   float64\n",
            " 17  17      6805 non-null   float64\n",
            " 18  18      6805 non-null   float64\n",
            " 19  19      6805 non-null   float64\n",
            "dtypes: float64(20)\n",
            "memory usage: 1.0 MB\n"
          ]
        },
        {
          "output_type": "display_data",
          "data": {
            "text/plain": [
              "None"
            ]
          },
          "metadata": {}
        },
        {
          "output_type": "execute_result",
          "data": {
            "text/plain": [
              "    0    1    2    3    4    5    6    7    8    9    10   11   12   13   14  \\\n",
              "0  0.0  1.0  0.0  0.0  1.0  0.0  0.0  0.0  0.0  1.0  0.0  1.0  0.0  1.0  0.0   \n",
              "1  1.0  0.0  0.0  0.0  1.0  0.0  0.0  0.0  1.0  0.0  0.0  1.0  1.0  0.0  0.0   \n",
              "2  1.0  0.0  0.0  0.0  1.0  0.0  1.0  0.0  0.0  0.0  0.0  1.0  0.0  0.0  1.0   \n",
              "3  0.0  1.0  0.0  0.0  1.0  0.0  1.0  0.0  0.0  0.0  0.0  1.0  0.0  0.0  0.0   \n",
              "4  0.0  1.0  0.0  0.0  1.0  0.0  0.0  0.0  1.0  0.0  1.0  0.0  0.0  0.0  1.0   \n",
              "\n",
              "    15    16   17   18     19  \n",
              "0  0.0  80.0  0.0  1.0  253.0  \n",
              "1  0.0  54.0  0.0  0.0  105.0  \n",
              "2  0.0  81.0  1.0  0.0  217.0  \n",
              "3  1.0  62.0  0.0  0.0   92.0  \n",
              "4  0.0  57.0  0.0  0.0  234.0  "
            ],
            "text/html": [
              "\n",
              "  <div id=\"df-263e4159-ba28-4e8d-99bb-84cc05d630a5\">\n",
              "    <div class=\"colab-df-container\">\n",
              "      <div>\n",
              "<style scoped>\n",
              "    .dataframe tbody tr th:only-of-type {\n",
              "        vertical-align: middle;\n",
              "    }\n",
              "\n",
              "    .dataframe tbody tr th {\n",
              "        vertical-align: top;\n",
              "    }\n",
              "\n",
              "    .dataframe thead th {\n",
              "        text-align: right;\n",
              "    }\n",
              "</style>\n",
              "<table border=\"1\" class=\"dataframe\">\n",
              "  <thead>\n",
              "    <tr style=\"text-align: right;\">\n",
              "      <th></th>\n",
              "      <th>0</th>\n",
              "      <th>1</th>\n",
              "      <th>2</th>\n",
              "      <th>3</th>\n",
              "      <th>4</th>\n",
              "      <th>5</th>\n",
              "      <th>6</th>\n",
              "      <th>7</th>\n",
              "      <th>8</th>\n",
              "      <th>9</th>\n",
              "      <th>10</th>\n",
              "      <th>11</th>\n",
              "      <th>12</th>\n",
              "      <th>13</th>\n",
              "      <th>14</th>\n",
              "      <th>15</th>\n",
              "      <th>16</th>\n",
              "      <th>17</th>\n",
              "      <th>18</th>\n",
              "      <th>19</th>\n",
              "    </tr>\n",
              "  </thead>\n",
              "  <tbody>\n",
              "    <tr>\n",
              "      <th>0</th>\n",
              "      <td>0.0</td>\n",
              "      <td>1.0</td>\n",
              "      <td>0.0</td>\n",
              "      <td>0.0</td>\n",
              "      <td>1.0</td>\n",
              "      <td>0.0</td>\n",
              "      <td>0.0</td>\n",
              "      <td>0.0</td>\n",
              "      <td>0.0</td>\n",
              "      <td>1.0</td>\n",
              "      <td>0.0</td>\n",
              "      <td>1.0</td>\n",
              "      <td>0.0</td>\n",
              "      <td>1.0</td>\n",
              "      <td>0.0</td>\n",
              "      <td>0.0</td>\n",
              "      <td>80.0</td>\n",
              "      <td>0.0</td>\n",
              "      <td>1.0</td>\n",
              "      <td>253.0</td>\n",
              "    </tr>\n",
              "    <tr>\n",
              "      <th>1</th>\n",
              "      <td>1.0</td>\n",
              "      <td>0.0</td>\n",
              "      <td>0.0</td>\n",
              "      <td>0.0</td>\n",
              "      <td>1.0</td>\n",
              "      <td>0.0</td>\n",
              "      <td>0.0</td>\n",
              "      <td>0.0</td>\n",
              "      <td>1.0</td>\n",
              "      <td>0.0</td>\n",
              "      <td>0.0</td>\n",
              "      <td>1.0</td>\n",
              "      <td>1.0</td>\n",
              "      <td>0.0</td>\n",
              "      <td>0.0</td>\n",
              "      <td>0.0</td>\n",
              "      <td>54.0</td>\n",
              "      <td>0.0</td>\n",
              "      <td>0.0</td>\n",
              "      <td>105.0</td>\n",
              "    </tr>\n",
              "    <tr>\n",
              "      <th>2</th>\n",
              "      <td>1.0</td>\n",
              "      <td>0.0</td>\n",
              "      <td>0.0</td>\n",
              "      <td>0.0</td>\n",
              "      <td>1.0</td>\n",
              "      <td>0.0</td>\n",
              "      <td>1.0</td>\n",
              "      <td>0.0</td>\n",
              "      <td>0.0</td>\n",
              "      <td>0.0</td>\n",
              "      <td>0.0</td>\n",
              "      <td>1.0</td>\n",
              "      <td>0.0</td>\n",
              "      <td>0.0</td>\n",
              "      <td>1.0</td>\n",
              "      <td>0.0</td>\n",
              "      <td>81.0</td>\n",
              "      <td>1.0</td>\n",
              "      <td>0.0</td>\n",
              "      <td>217.0</td>\n",
              "    </tr>\n",
              "    <tr>\n",
              "      <th>3</th>\n",
              "      <td>0.0</td>\n",
              "      <td>1.0</td>\n",
              "      <td>0.0</td>\n",
              "      <td>0.0</td>\n",
              "      <td>1.0</td>\n",
              "      <td>0.0</td>\n",
              "      <td>1.0</td>\n",
              "      <td>0.0</td>\n",
              "      <td>0.0</td>\n",
              "      <td>0.0</td>\n",
              "      <td>0.0</td>\n",
              "      <td>1.0</td>\n",
              "      <td>0.0</td>\n",
              "      <td>0.0</td>\n",
              "      <td>0.0</td>\n",
              "      <td>1.0</td>\n",
              "      <td>62.0</td>\n",
              "      <td>0.0</td>\n",
              "      <td>0.0</td>\n",
              "      <td>92.0</td>\n",
              "    </tr>\n",
              "    <tr>\n",
              "      <th>4</th>\n",
              "      <td>0.0</td>\n",
              "      <td>1.0</td>\n",
              "      <td>0.0</td>\n",
              "      <td>0.0</td>\n",
              "      <td>1.0</td>\n",
              "      <td>0.0</td>\n",
              "      <td>0.0</td>\n",
              "      <td>0.0</td>\n",
              "      <td>1.0</td>\n",
              "      <td>0.0</td>\n",
              "      <td>1.0</td>\n",
              "      <td>0.0</td>\n",
              "      <td>0.0</td>\n",
              "      <td>0.0</td>\n",
              "      <td>1.0</td>\n",
              "      <td>0.0</td>\n",
              "      <td>57.0</td>\n",
              "      <td>0.0</td>\n",
              "      <td>0.0</td>\n",
              "      <td>234.0</td>\n",
              "    </tr>\n",
              "  </tbody>\n",
              "</table>\n",
              "</div>\n",
              "      <button class=\"colab-df-convert\" onclick=\"convertToInteractive('df-263e4159-ba28-4e8d-99bb-84cc05d630a5')\"\n",
              "              title=\"Convert this dataframe to an interactive table.\"\n",
              "              style=\"display:none;\">\n",
              "        \n",
              "  <svg xmlns=\"http://www.w3.org/2000/svg\" height=\"24px\"viewBox=\"0 0 24 24\"\n",
              "       width=\"24px\">\n",
              "    <path d=\"M0 0h24v24H0V0z\" fill=\"none\"/>\n",
              "    <path d=\"M18.56 5.44l.94 2.06.94-2.06 2.06-.94-2.06-.94-.94-2.06-.94 2.06-2.06.94zm-11 1L8.5 8.5l.94-2.06 2.06-.94-2.06-.94L8.5 2.5l-.94 2.06-2.06.94zm10 10l.94 2.06.94-2.06 2.06-.94-2.06-.94-.94-2.06-.94 2.06-2.06.94z\"/><path d=\"M17.41 7.96l-1.37-1.37c-.4-.4-.92-.59-1.43-.59-.52 0-1.04.2-1.43.59L10.3 9.45l-7.72 7.72c-.78.78-.78 2.05 0 2.83L4 21.41c.39.39.9.59 1.41.59.51 0 1.02-.2 1.41-.59l7.78-7.78 2.81-2.81c.8-.78.8-2.07 0-2.86zM5.41 20L4 18.59l7.72-7.72 1.47 1.35L5.41 20z\"/>\n",
              "  </svg>\n",
              "      </button>\n",
              "      \n",
              "  <style>\n",
              "    .colab-df-container {\n",
              "      display:flex;\n",
              "      flex-wrap:wrap;\n",
              "      gap: 12px;\n",
              "    }\n",
              "\n",
              "    .colab-df-convert {\n",
              "      background-color: #E8F0FE;\n",
              "      border: none;\n",
              "      border-radius: 50%;\n",
              "      cursor: pointer;\n",
              "      display: none;\n",
              "      fill: #1967D2;\n",
              "      height: 32px;\n",
              "      padding: 0 0 0 0;\n",
              "      width: 32px;\n",
              "    }\n",
              "\n",
              "    .colab-df-convert:hover {\n",
              "      background-color: #E2EBFA;\n",
              "      box-shadow: 0px 1px 2px rgba(60, 64, 67, 0.3), 0px 1px 3px 1px rgba(60, 64, 67, 0.15);\n",
              "      fill: #174EA6;\n",
              "    }\n",
              "\n",
              "    [theme=dark] .colab-df-convert {\n",
              "      background-color: #3B4455;\n",
              "      fill: #D2E3FC;\n",
              "    }\n",
              "\n",
              "    [theme=dark] .colab-df-convert:hover {\n",
              "      background-color: #434B5C;\n",
              "      box-shadow: 0px 1px 3px 1px rgba(0, 0, 0, 0.15);\n",
              "      filter: drop-shadow(0px 1px 2px rgba(0, 0, 0, 0.3));\n",
              "      fill: #FFFFFF;\n",
              "    }\n",
              "  </style>\n",
              "\n",
              "      <script>\n",
              "        const buttonEl =\n",
              "          document.querySelector('#df-263e4159-ba28-4e8d-99bb-84cc05d630a5 button.colab-df-convert');\n",
              "        buttonEl.style.display =\n",
              "          google.colab.kernel.accessAllowed ? 'block' : 'none';\n",
              "\n",
              "        async function convertToInteractive(key) {\n",
              "          const element = document.querySelector('#df-263e4159-ba28-4e8d-99bb-84cc05d630a5');\n",
              "          const dataTable =\n",
              "            await google.colab.kernel.invokeFunction('convertToInteractive',\n",
              "                                                     [key], {});\n",
              "          if (!dataTable) return;\n",
              "\n",
              "          const docLinkHtml = 'Like what you see? Visit the ' +\n",
              "            '<a target=\"_blank\" href=https://colab.research.google.com/notebooks/data_table.ipynb>data table notebook</a>'\n",
              "            + ' to learn more about interactive tables.';\n",
              "          element.innerHTML = '';\n",
              "          dataTable['output_type'] = 'display_data';\n",
              "          await google.colab.output.renderOutput(dataTable, element);\n",
              "          const docLink = document.createElement('div');\n",
              "          docLink.innerHTML = docLinkHtml;\n",
              "          element.appendChild(docLink);\n",
              "        }\n",
              "      </script>\n",
              "    </div>\n",
              "  </div>\n",
              "  "
            ]
          },
          "metadata": {},
          "execution_count": 469
        }
      ]
    },
    {
      "cell_type": "code",
      "source": [
        "# Check the description of the data\n",
        "X_test_df.describe().round(2)"
      ],
      "metadata": {
        "colab": {
          "base_uri": "https://localhost:8080/",
          "height": 0
        },
        "id": "bxGzch-Ct8QI",
        "outputId": "6c8fba65-d934-491c-e16c-c560c21e0852"
      },
      "execution_count": 470,
      "outputs": [
        {
          "output_type": "execute_result",
          "data": {
            "text/plain": [
              "            0        1       2        3        4        5        6        7   \\\n",
              "count  2917.00  2917.00  2917.0  2917.00  2917.00  2917.00  2917.00  2917.00   \n",
              "mean      0.59     0.41     0.0     0.25     0.75     0.08     0.13     0.00   \n",
              "std       0.49     0.49     0.0     0.43     0.43     0.26     0.34     0.06   \n",
              "min       0.00     0.00     0.0     0.00     0.00     0.00     0.00     0.00   \n",
              "25%       0.00     0.00     0.0     0.00     1.00     0.00     0.00     0.00   \n",
              "50%       1.00     0.00     0.0     0.00     1.00     0.00     0.00     0.00   \n",
              "75%       1.00     1.00     0.0     0.00     1.00     0.00     0.00     0.00   \n",
              "max       1.00     1.00     0.0     1.00     1.00     1.00     1.00     1.00   \n",
              "\n",
              "            8        9        10       11       12       13       14       15  \\\n",
              "count  2917.00  2917.00  2917.00  2917.00  2917.00  2917.00  2917.00  2917.00   \n",
              "mean      0.58     0.21     0.47     0.53     0.16     0.22     0.37     0.25   \n",
              "std       0.49     0.41     0.50     0.50     0.37     0.41     0.48     0.43   \n",
              "min       0.00     0.00     0.00     0.00     0.00     0.00     0.00     0.00   \n",
              "25%       0.00     0.00     0.00     0.00     0.00     0.00     0.00     0.00   \n",
              "50%       1.00     0.00     0.00     1.00     0.00     0.00     0.00     0.00   \n",
              "75%       1.00     0.00     1.00     1.00     0.00     0.00     1.00     0.00   \n",
              "max       1.00     1.00     1.00     1.00     1.00     1.00     1.00     1.00   \n",
              "\n",
              "            16       17       18       19  \n",
              "count  2917.00  2917.00  2917.00  2917.00  \n",
              "mean     54.85     0.17     0.13   119.21  \n",
              "std      22.51     0.37     0.33    55.89  \n",
              "min       1.00     0.00     0.00    56.00  \n",
              "25%      41.00     0.00     0.00    78.00  \n",
              "50%      59.00     0.00     0.00    97.00  \n",
              "75%      75.00     0.00     0.00   145.00  \n",
              "max      82.00     1.00     1.00   272.00  "
            ],
            "text/html": [
              "\n",
              "  <div id=\"df-459be7f1-1d2d-47b5-b6c1-3e1ebe1d128b\">\n",
              "    <div class=\"colab-df-container\">\n",
              "      <div>\n",
              "<style scoped>\n",
              "    .dataframe tbody tr th:only-of-type {\n",
              "        vertical-align: middle;\n",
              "    }\n",
              "\n",
              "    .dataframe tbody tr th {\n",
              "        vertical-align: top;\n",
              "    }\n",
              "\n",
              "    .dataframe thead th {\n",
              "        text-align: right;\n",
              "    }\n",
              "</style>\n",
              "<table border=\"1\" class=\"dataframe\">\n",
              "  <thead>\n",
              "    <tr style=\"text-align: right;\">\n",
              "      <th></th>\n",
              "      <th>0</th>\n",
              "      <th>1</th>\n",
              "      <th>2</th>\n",
              "      <th>3</th>\n",
              "      <th>4</th>\n",
              "      <th>5</th>\n",
              "      <th>6</th>\n",
              "      <th>7</th>\n",
              "      <th>8</th>\n",
              "      <th>9</th>\n",
              "      <th>10</th>\n",
              "      <th>11</th>\n",
              "      <th>12</th>\n",
              "      <th>13</th>\n",
              "      <th>14</th>\n",
              "      <th>15</th>\n",
              "      <th>16</th>\n",
              "      <th>17</th>\n",
              "      <th>18</th>\n",
              "      <th>19</th>\n",
              "    </tr>\n",
              "  </thead>\n",
              "  <tbody>\n",
              "    <tr>\n",
              "      <th>count</th>\n",
              "      <td>2917.00</td>\n",
              "      <td>2917.00</td>\n",
              "      <td>2917.0</td>\n",
              "      <td>2917.00</td>\n",
              "      <td>2917.00</td>\n",
              "      <td>2917.00</td>\n",
              "      <td>2917.00</td>\n",
              "      <td>2917.00</td>\n",
              "      <td>2917.00</td>\n",
              "      <td>2917.00</td>\n",
              "      <td>2917.00</td>\n",
              "      <td>2917.00</td>\n",
              "      <td>2917.00</td>\n",
              "      <td>2917.00</td>\n",
              "      <td>2917.00</td>\n",
              "      <td>2917.00</td>\n",
              "      <td>2917.00</td>\n",
              "      <td>2917.00</td>\n",
              "      <td>2917.00</td>\n",
              "      <td>2917.00</td>\n",
              "    </tr>\n",
              "    <tr>\n",
              "      <th>mean</th>\n",
              "      <td>0.59</td>\n",
              "      <td>0.41</td>\n",
              "      <td>0.0</td>\n",
              "      <td>0.25</td>\n",
              "      <td>0.75</td>\n",
              "      <td>0.08</td>\n",
              "      <td>0.13</td>\n",
              "      <td>0.00</td>\n",
              "      <td>0.58</td>\n",
              "      <td>0.21</td>\n",
              "      <td>0.47</td>\n",
              "      <td>0.53</td>\n",
              "      <td>0.16</td>\n",
              "      <td>0.22</td>\n",
              "      <td>0.37</td>\n",
              "      <td>0.25</td>\n",
              "      <td>54.85</td>\n",
              "      <td>0.17</td>\n",
              "      <td>0.13</td>\n",
              "      <td>119.21</td>\n",
              "    </tr>\n",
              "    <tr>\n",
              "      <th>std</th>\n",
              "      <td>0.49</td>\n",
              "      <td>0.49</td>\n",
              "      <td>0.0</td>\n",
              "      <td>0.43</td>\n",
              "      <td>0.43</td>\n",
              "      <td>0.26</td>\n",
              "      <td>0.34</td>\n",
              "      <td>0.06</td>\n",
              "      <td>0.49</td>\n",
              "      <td>0.41</td>\n",
              "      <td>0.50</td>\n",
              "      <td>0.50</td>\n",
              "      <td>0.37</td>\n",
              "      <td>0.41</td>\n",
              "      <td>0.48</td>\n",
              "      <td>0.43</td>\n",
              "      <td>22.51</td>\n",
              "      <td>0.37</td>\n",
              "      <td>0.33</td>\n",
              "      <td>55.89</td>\n",
              "    </tr>\n",
              "    <tr>\n",
              "      <th>min</th>\n",
              "      <td>0.00</td>\n",
              "      <td>0.00</td>\n",
              "      <td>0.0</td>\n",
              "      <td>0.00</td>\n",
              "      <td>0.00</td>\n",
              "      <td>0.00</td>\n",
              "      <td>0.00</td>\n",
              "      <td>0.00</td>\n",
              "      <td>0.00</td>\n",
              "      <td>0.00</td>\n",
              "      <td>0.00</td>\n",
              "      <td>0.00</td>\n",
              "      <td>0.00</td>\n",
              "      <td>0.00</td>\n",
              "      <td>0.00</td>\n",
              "      <td>0.00</td>\n",
              "      <td>1.00</td>\n",
              "      <td>0.00</td>\n",
              "      <td>0.00</td>\n",
              "      <td>56.00</td>\n",
              "    </tr>\n",
              "    <tr>\n",
              "      <th>25%</th>\n",
              "      <td>0.00</td>\n",
              "      <td>0.00</td>\n",
              "      <td>0.0</td>\n",
              "      <td>0.00</td>\n",
              "      <td>1.00</td>\n",
              "      <td>0.00</td>\n",
              "      <td>0.00</td>\n",
              "      <td>0.00</td>\n",
              "      <td>0.00</td>\n",
              "      <td>0.00</td>\n",
              "      <td>0.00</td>\n",
              "      <td>0.00</td>\n",
              "      <td>0.00</td>\n",
              "      <td>0.00</td>\n",
              "      <td>0.00</td>\n",
              "      <td>0.00</td>\n",
              "      <td>41.00</td>\n",
              "      <td>0.00</td>\n",
              "      <td>0.00</td>\n",
              "      <td>78.00</td>\n",
              "    </tr>\n",
              "    <tr>\n",
              "      <th>50%</th>\n",
              "      <td>1.00</td>\n",
              "      <td>0.00</td>\n",
              "      <td>0.0</td>\n",
              "      <td>0.00</td>\n",
              "      <td>1.00</td>\n",
              "      <td>0.00</td>\n",
              "      <td>0.00</td>\n",
              "      <td>0.00</td>\n",
              "      <td>1.00</td>\n",
              "      <td>0.00</td>\n",
              "      <td>0.00</td>\n",
              "      <td>1.00</td>\n",
              "      <td>0.00</td>\n",
              "      <td>0.00</td>\n",
              "      <td>0.00</td>\n",
              "      <td>0.00</td>\n",
              "      <td>59.00</td>\n",
              "      <td>0.00</td>\n",
              "      <td>0.00</td>\n",
              "      <td>97.00</td>\n",
              "    </tr>\n",
              "    <tr>\n",
              "      <th>75%</th>\n",
              "      <td>1.00</td>\n",
              "      <td>1.00</td>\n",
              "      <td>0.0</td>\n",
              "      <td>0.00</td>\n",
              "      <td>1.00</td>\n",
              "      <td>0.00</td>\n",
              "      <td>0.00</td>\n",
              "      <td>0.00</td>\n",
              "      <td>1.00</td>\n",
              "      <td>0.00</td>\n",
              "      <td>1.00</td>\n",
              "      <td>1.00</td>\n",
              "      <td>0.00</td>\n",
              "      <td>0.00</td>\n",
              "      <td>1.00</td>\n",
              "      <td>0.00</td>\n",
              "      <td>75.00</td>\n",
              "      <td>0.00</td>\n",
              "      <td>0.00</td>\n",
              "      <td>145.00</td>\n",
              "    </tr>\n",
              "    <tr>\n",
              "      <th>max</th>\n",
              "      <td>1.00</td>\n",
              "      <td>1.00</td>\n",
              "      <td>0.0</td>\n",
              "      <td>1.00</td>\n",
              "      <td>1.00</td>\n",
              "      <td>1.00</td>\n",
              "      <td>1.00</td>\n",
              "      <td>1.00</td>\n",
              "      <td>1.00</td>\n",
              "      <td>1.00</td>\n",
              "      <td>1.00</td>\n",
              "      <td>1.00</td>\n",
              "      <td>1.00</td>\n",
              "      <td>1.00</td>\n",
              "      <td>1.00</td>\n",
              "      <td>1.00</td>\n",
              "      <td>82.00</td>\n",
              "      <td>1.00</td>\n",
              "      <td>1.00</td>\n",
              "      <td>272.00</td>\n",
              "    </tr>\n",
              "  </tbody>\n",
              "</table>\n",
              "</div>\n",
              "      <button class=\"colab-df-convert\" onclick=\"convertToInteractive('df-459be7f1-1d2d-47b5-b6c1-3e1ebe1d128b')\"\n",
              "              title=\"Convert this dataframe to an interactive table.\"\n",
              "              style=\"display:none;\">\n",
              "        \n",
              "  <svg xmlns=\"http://www.w3.org/2000/svg\" height=\"24px\"viewBox=\"0 0 24 24\"\n",
              "       width=\"24px\">\n",
              "    <path d=\"M0 0h24v24H0V0z\" fill=\"none\"/>\n",
              "    <path d=\"M18.56 5.44l.94 2.06.94-2.06 2.06-.94-2.06-.94-.94-2.06-.94 2.06-2.06.94zm-11 1L8.5 8.5l.94-2.06 2.06-.94-2.06-.94L8.5 2.5l-.94 2.06-2.06.94zm10 10l.94 2.06.94-2.06 2.06-.94-2.06-.94-.94-2.06-.94 2.06-2.06.94z\"/><path d=\"M17.41 7.96l-1.37-1.37c-.4-.4-.92-.59-1.43-.59-.52 0-1.04.2-1.43.59L10.3 9.45l-7.72 7.72c-.78.78-.78 2.05 0 2.83L4 21.41c.39.39.9.59 1.41.59.51 0 1.02-.2 1.41-.59l7.78-7.78 2.81-2.81c.8-.78.8-2.07 0-2.86zM5.41 20L4 18.59l7.72-7.72 1.47 1.35L5.41 20z\"/>\n",
              "  </svg>\n",
              "      </button>\n",
              "      \n",
              "  <style>\n",
              "    .colab-df-container {\n",
              "      display:flex;\n",
              "      flex-wrap:wrap;\n",
              "      gap: 12px;\n",
              "    }\n",
              "\n",
              "    .colab-df-convert {\n",
              "      background-color: #E8F0FE;\n",
              "      border: none;\n",
              "      border-radius: 50%;\n",
              "      cursor: pointer;\n",
              "      display: none;\n",
              "      fill: #1967D2;\n",
              "      height: 32px;\n",
              "      padding: 0 0 0 0;\n",
              "      width: 32px;\n",
              "    }\n",
              "\n",
              "    .colab-df-convert:hover {\n",
              "      background-color: #E2EBFA;\n",
              "      box-shadow: 0px 1px 2px rgba(60, 64, 67, 0.3), 0px 1px 3px 1px rgba(60, 64, 67, 0.15);\n",
              "      fill: #174EA6;\n",
              "    }\n",
              "\n",
              "    [theme=dark] .colab-df-convert {\n",
              "      background-color: #3B4455;\n",
              "      fill: #D2E3FC;\n",
              "    }\n",
              "\n",
              "    [theme=dark] .colab-df-convert:hover {\n",
              "      background-color: #434B5C;\n",
              "      box-shadow: 0px 1px 3px 1px rgba(0, 0, 0, 0.15);\n",
              "      filter: drop-shadow(0px 1px 2px rgba(0, 0, 0, 0.3));\n",
              "      fill: #FFFFFF;\n",
              "    }\n",
              "  </style>\n",
              "\n",
              "      <script>\n",
              "        const buttonEl =\n",
              "          document.querySelector('#df-459be7f1-1d2d-47b5-b6c1-3e1ebe1d128b button.colab-df-convert');\n",
              "        buttonEl.style.display =\n",
              "          google.colab.kernel.accessAllowed ? 'block' : 'none';\n",
              "\n",
              "        async function convertToInteractive(key) {\n",
              "          const element = document.querySelector('#df-459be7f1-1d2d-47b5-b6c1-3e1ebe1d128b');\n",
              "          const dataTable =\n",
              "            await google.colab.kernel.invokeFunction('convertToInteractive',\n",
              "                                                     [key], {});\n",
              "          if (!dataTable) return;\n",
              "\n",
              "          const docLinkHtml = 'Like what you see? Visit the ' +\n",
              "            '<a target=\"_blank\" href=https://colab.research.google.com/notebooks/data_table.ipynb>data table notebook</a>'\n",
              "            + ' to learn more about interactive tables.';\n",
              "          element.innerHTML = '';\n",
              "          dataTable['output_type'] = 'display_data';\n",
              "          await google.colab.output.renderOutput(dataTable, element);\n",
              "          const docLink = document.createElement('div');\n",
              "          docLink.innerHTML = docLinkHtml;\n",
              "          element.appendChild(docLink);\n",
              "        }\n",
              "      </script>\n",
              "    </div>\n",
              "  </div>\n",
              "  "
            ]
          },
          "metadata": {},
          "execution_count": 470
        }
      ]
    },
    {
      "cell_type": "markdown",
      "source": [
        "# Random Forest Classifier w/ Ada Boosting, Gradient Boosting, LightGBM, and XGBoost Tuning\n"
      ],
      "metadata": {
        "id": "NVD9KYcht-Aw"
      }
    },
    {
      "cell_type": "code",
      "source": [
        "# Build Random Forest Classifier and Evaluate the Model\n",
        "clf_rf = RandomForestClassifier(random_state=777)\n",
        "clf_rf = clf_rf.fit(X_train_df,y_train)\n",
        "y_pred_rf = clf_rf.predict(X_test_df)\n",
        "acc = accuracy_score(y_test, y_pred_rf)\n",
        "print('Testing-set Accuracy score is:', acc)\n",
        "print('Training-set Accuracy score is:',accuracy_score(y_train,clf_rf.predict(X_train_df)))\n",
        "cm = confusion_matrix(y_test, y_pred_rf)\n",
        "sns.heatmap(cm, annot = True, fmt = \"d\")\n",
        "target_names = ['No Stroke', 'Stroke']\n",
        "print(classification_report(y_test, y_pred_rf, target_names=target_names))"
      ],
      "metadata": {
        "id": "7XeZc637uBZR",
        "colab": {
          "base_uri": "https://localhost:8080/",
          "height": 0
        },
        "outputId": "9707ac39-3417-4469-dd71-143ebc65bcf4"
      },
      "execution_count": 471,
      "outputs": [
        {
          "output_type": "stream",
          "name": "stdout",
          "text": [
            "Testing-set Accuracy score is: 0.9838875557079191\n",
            "Training-set Accuracy score is: 1.0\n",
            "              precision    recall  f1-score   support\n",
            "\n",
            "   No Stroke       1.00      0.97      0.98      1459\n",
            "      Stroke       0.97      1.00      0.98      1458\n",
            "\n",
            "    accuracy                           0.98      2917\n",
            "   macro avg       0.98      0.98      0.98      2917\n",
            "weighted avg       0.98      0.98      0.98      2917\n",
            "\n"
          ]
        },
        {
          "output_type": "display_data",
          "data": {
            "text/plain": [
              "<Figure size 432x288 with 2 Axes>"
            ],
            "image/png": "[encoded data removed]"
          },
          "metadata": {
            "needs_background": "light"
          }
        }
      ]
    },
    {
      "cell_type": "code",
      "source": [
        "# Build Ada Boost Classifer and Evaluate the Model\n",
        "abc = AdaBoostClassifier(n_estimators = 50,\n",
        "                         learning_rate = 1, \n",
        "                         random_state = 777)\n",
        "abc.fit(X_train_df,y_train)\n",
        "y_pred_abc = abc.predict(X_test_df)\n",
        "acc = accuracy_score(y_test, y_pred_abc)\n",
        "print('AdaBoost Classifier Model Accuracy is:',acc)\n",
        "cm = confusion_matrix(y_test, y_pred_abc)\n",
        "sns.heatmap(cm, annot = True, fmt=\"d\")\n",
        "target_names = ['No Stroke', 'Stroke']\n",
        "print(classification_report(y_test, y_pred_abc, target_names=target_names))"
      ],
      "metadata": {
        "id": "TjbQfqHXuwPa",
        "colab": {
          "base_uri": "https://localhost:8080/",
          "height": 0
        },
        "outputId": "361dcae5-1ae8-41ae-aef4-f578a29d2f7b"
      },
      "execution_count": 472,
      "outputs": [
        {
          "output_type": "stream",
          "name": "stdout",
          "text": [
            "AdaBoost Classifier Model Accuracy is: 0.7757970517655125\n",
            "              precision    recall  f1-score   support\n",
            "\n",
            "   No Stroke       0.83      0.69      0.76      1459\n",
            "      Stroke       0.74      0.86      0.79      1458\n",
            "\n",
            "    accuracy                           0.78      2917\n",
            "   macro avg       0.78      0.78      0.77      2917\n",
            "weighted avg       0.78      0.78      0.77      2917\n",
            "\n"
          ]
        },
        {
          "output_type": "display_data",
          "data": {
            "text/plain": [
              "<Figure size 432x288 with 2 Axes>"
            ],
            "image/png": "[encoded data removed]"
          },
          "metadata": {
            "needs_background": "light"
          }
        }
      ]
    },
    {
      "cell_type": "code",
      "source": [
        "# Build Gradient Boosting Classifier and Evaluate the Model\n",
        "gb = GradientBoostingClassifier()\n",
        "gb.fit(X_train_df, y_train)\n",
        "gb_pred = gb.predict(X_test_df)\n",
        "acc = accuracy_score(y_test, gb_pred)\n",
        "print(\"Gradient Boosting Classifier Model Accuracy score is:\", acc)\n",
        "cm = confusion_matrix(y_test, gb_pred)\n",
        "sns.heatmap(cm, annot = True, fmt=\"d\")\n",
        "target_names = ['No Stroke', 'Stroke']\n",
        "print(classification_report(y_test, gb_pred, target_names=target_names))"
      ],
      "metadata": {
        "id": "IwdcAtfduwNK",
        "colab": {
          "base_uri": "https://localhost:8080/",
          "height": 0
        },
        "outputId": "03599dd7-e9ef-4e57-97b6-9d1764afbeb9"
      },
      "execution_count": 473,
      "outputs": [
        {
          "output_type": "stream",
          "name": "stdout",
          "text": [
            "Gradient Boosting Classifier Model Accuracy score is: 0.8306479259513199\n",
            "              precision    recall  f1-score   support\n",
            "\n",
            "   No Stroke       0.88      0.77      0.82      1459\n",
            "      Stroke       0.79      0.90      0.84      1458\n",
            "\n",
            "    accuracy                           0.83      2917\n",
            "   macro avg       0.84      0.83      0.83      2917\n",
            "weighted avg       0.84      0.83      0.83      2917\n",
            "\n"
          ]
        },
        {
          "output_type": "display_data",
          "data": {
            "text/plain": [
              "<Figure size 432x288 with 2 Axes>"
            ],
            "image/png": "[encoded data removed]"
          },
          "metadata": {
            "needs_background": "light"
          }
        }
      ]
    },
    {
      "cell_type": "code",
      "source": [
        "# Build LightGBM Classifier and Evaluate the Model\n",
        "lgbm = LGBMClassifier()\n",
        "lgbm.fit(X_train_df, y_train)\n",
        "lgbm_pred = lgbm.predict(X_test_df)\n",
        "acc = accuracy_score(y_test, lgbm_pred)\n",
        "print(\"Gradient Boosting Classifier Model Accuracy score is:\", acc)\n",
        "cm = confusion_matrix(y_test, lgbm_pred)\n",
        "sns.heatmap(cm, annot = True, fmt=\"d\")\n",
        "target_names = ['No Stroke', 'Stroke']\n",
        "print(classification_report(y_test, lgbm_pred, target_names=target_names))"
      ],
      "metadata": {
        "id": "3Y77X4COuwIp",
        "colab": {
          "base_uri": "https://localhost:8080/",
          "height": 0
        },
        "outputId": "4ac060ff-5cf3-4c9d-be00-8ccfb666b771"
      },
      "execution_count": 474,
      "outputs": [
        {
          "output_type": "stream",
          "name": "stdout",
          "text": [
            "Gradient Boosting Classifier Model Accuracy score is: 0.945491943777854\n",
            "              precision    recall  f1-score   support\n",
            "\n",
            "   No Stroke       1.00      0.89      0.94      1459\n",
            "      Stroke       0.90      1.00      0.95      1458\n",
            "\n",
            "    accuracy                           0.95      2917\n",
            "   macro avg       0.95      0.95      0.95      2917\n",
            "weighted avg       0.95      0.95      0.95      2917\n",
            "\n"
          ]
        },
        {
          "output_type": "display_data",
          "data": {
            "text/plain": [
              "<Figure size 432x288 with 2 Axes>"
            ],
            "image/png": "[encoded data removed]"
          },
          "metadata": {
            "needs_background": "light"
          }
        }
      ]
    },
    {
      "cell_type": "code",
      "source": [
        "# Build XGBClassifier and Evaluate the Model\n",
        "xgb = XGBClassifier()\n",
        "xgb.fit(X_train_df, y_train)\n",
        "xgb_pred = xgb.predict(X_test_df)\n",
        "acc = accuracy_score(y_test, xgb_pred)\n",
        "print(\"Gradient Boosting Classifier Model Accuracy score is:\", acc)\n",
        "cm = confusion_matrix(y_test, xgb_pred)\n",
        "sns.heatmap(cm, annot = True, fmt=\"d\")\n",
        "target_names = ['No Stroke', 'Stroke']\n",
        "print(classification_report(y_test, xgb_pred, target_names=target_names))"
      ],
      "metadata": {
        "colab": {
          "base_uri": "https://localhost:8080/",
          "height": 0
        },
        "id": "gfkZ7jjWnkJu",
        "outputId": "84954991-bc2f-4b6d-fa92-4561a8b8cc99"
      },
      "execution_count": 475,
      "outputs": [
        {
          "output_type": "stream",
          "name": "stdout",
          "text": [
            "Gradient Boosting Classifier Model Accuracy score is: 0.832019197805965\n",
            "              precision    recall  f1-score   support\n",
            "\n",
            "   No Stroke       0.89      0.76      0.82      1459\n",
            "      Stroke       0.79      0.90      0.84      1458\n",
            "\n",
            "    accuracy                           0.83      2917\n",
            "   macro avg       0.84      0.83      0.83      2917\n",
            "weighted avg       0.84      0.83      0.83      2917\n",
            "\n"
          ]
        },
        {
          "output_type": "display_data",
          "data": {
            "text/plain": [
              "<Figure size 432x288 with 2 Axes>"
            ],
            "image/png": "[encoded data removed]"
          },
          "metadata": {
            "needs_background": "light"
          }
        }
      ]
    },
    {
      "cell_type": "markdown",
      "source": [
        "# KNN Model w/ SVC (Support Vector Classifier) and Best K\n"
      ],
      "metadata": {
        "id": "m22VOuVMux4E"
      }
    },
    {
      "cell_type": "code",
      "source": [
        "# Build KNN Model and Evaluate the Model\n",
        "knn = KNeighborsClassifier(n_neighbors = 10)\n",
        "knn.fit(X_train_df, y_train)\n",
        "knn_pred = knn.predict(X_test_df)\n",
        "acc = knn.score(X_test_df, y_test)\n",
        "print(\"KNN Model Acuuracy is:\", acc)\n",
        "cm = confusion_matrix(y_test, knn_pred)\n",
        "sns.heatmap(cm, annot = True, fmt=\"d\")\n",
        "target_names = ['No Stroke', 'Stroke']\n",
        "print(classification_report(y_test, knn_pred, target_names=target_names))"
      ],
      "metadata": {
        "id": "DrkRPB4Bu5Pu",
        "colab": {
          "base_uri": "https://localhost:8080/",
          "height": 0
        },
        "outputId": "ec248640-75b0-4731-e038-eba9b39b8bb4"
      },
      "execution_count": 476,
      "outputs": [
        {
          "output_type": "stream",
          "name": "stdout",
          "text": [
            "KNN Model Acuuracy is: 0.9012684264655468\n",
            "              precision    recall  f1-score   support\n",
            "\n",
            "   No Stroke       1.00      0.80      0.89      1459\n",
            "      Stroke       0.84      1.00      0.91      1458\n",
            "\n",
            "    accuracy                           0.90      2917\n",
            "   macro avg       0.92      0.90      0.90      2917\n",
            "weighted avg       0.92      0.90      0.90      2917\n",
            "\n"
          ]
        },
        {
          "output_type": "display_data",
          "data": {
            "text/plain": [
              "<Figure size 432x288 with 2 Axes>"
            ],
            "image/png": "[encoded data removed]"
          },
          "metadata": {
            "needs_background": "light"
          }
        }
      ]
    },
    {
      "cell_type": "code",
      "source": [
        "# Build SVC Model and Evaluate the Model\n",
        "svc = SVC(random_state = 777)\n",
        "svc.fit(X_train_df, y_train)\n",
        "svc_pred = svc.predict(X_test_df)\n",
        "acc = svc.score(X_test_df, y_test)\n",
        "print(\"SVC Accuracy score is:\", acc)\n",
        "cm = confusion_matrix(y_test, svc_pred)\n",
        "sns.heatmap(cm, annot = True, fmt = \"d\")\n",
        "target_names = ['No Stroke', 'Stroke']\n",
        "print(classification_report(y_test, svc_pred, target_names=target_names))"
      ],
      "metadata": {
        "id": "ibyQPxUIu51W",
        "colab": {
          "base_uri": "https://localhost:8080/",
          "height": 0
        },
        "outputId": "4151f5fa-97eb-4acf-e199-ceb2892945b6"
      },
      "execution_count": 477,
      "outputs": [
        {
          "output_type": "stream",
          "name": "stdout",
          "text": [
            "SVC Accuracy score is: 0.7562564278368187\n",
            "              precision    recall  f1-score   support\n",
            "\n",
            "   No Stroke       0.79      0.70      0.74      1459\n",
            "      Stroke       0.73      0.81      0.77      1458\n",
            "\n",
            "    accuracy                           0.76      2917\n",
            "   macro avg       0.76      0.76      0.76      2917\n",
            "weighted avg       0.76      0.76      0.76      2917\n",
            "\n"
          ]
        },
        {
          "output_type": "display_data",
          "data": {
            "text/plain": [
              "<Figure size 432x288 with 2 Axes>"
            ],
            "image/png": "[encoded data removed]"
          },
          "metadata": {
            "needs_background": "light"
          }
        }
      ]
    },
    {
      "cell_type": "code",
      "source": [
        "# Tune Model to try to Find Best K\n",
        "krange = range(1, 50)\n",
        "test_accuracies = []\n",
        "bestacc = 0\n",
        "bestk = 0\n",
        "for k in krange:\n",
        "  #find accuracy for each k\n",
        "  pipe = make_pipeline(scaler, KNeighborsClassifier(n_neighbors=k))\n",
        "  pipe.fit(X_train_df, y_train)\n",
        "  acc = accuracy_score(y_test, pipe.predict(X_test_df))\n",
        "  #if accuracy for this k is better than previous accuracies, set bestk = k\n",
        "  if acc > bestacc:\n",
        "    bestacc = acc\n",
        "    bestk = k\n",
        "\n",
        "  test_accuracies.append(acc)"
      ],
      "metadata": {
        "id": "gGS1XzYXxO8S"
      },
      "execution_count": 478,
      "outputs": []
    },
    {
      "cell_type": "code",
      "source": [
        "# Plot accuracies over K\n",
        "plt.plot(krange, test_accuracies, label='Test K Scores')\n",
        "plt.show()"
      ],
      "metadata": {
        "colab": {
          "base_uri": "https://localhost:8080/",
          "height": 0
        },
        "id": "aJixCP3HxQ2O",
        "outputId": "767d6061-ba0e-4d3a-9119-160e135f4f3b"
      },
      "execution_count": 479,
      "outputs": [
        {
          "output_type": "display_data",
          "data": {
            "text/plain": [
              "<Figure size 432x288 with 1 Axes>"
            ],
            "image/png": "[encoded data removed]"
          },
          "metadata": {
            "needs_background": "light"
          }
        }
      ]
    },
    {
      "cell_type": "code",
      "source": [
        "# Print best k and best accuracy\n",
        "print(f'Best K value is {bestk} \\nwith {bestacc} accuracy on the test set')"
      ],
      "metadata": {
        "colab": {
          "base_uri": "https://localhost:8080/"
        },
        "id": "98wMXla0xTGW",
        "outputId": "cab630b6-53d9-48d2-df33-311cbb53fba8"
      },
      "execution_count": 480,
      "outputs": [
        {
          "output_type": "stream",
          "name": "stdout",
          "text": [
            "Best K value is 1 \n",
            "with 0.9746314706890641 accuracy on the test set\n"
          ]
        }
      ]
    },
    {
      "cell_type": "code",
      "source": [
        "# Create new model with best k\n",
        "knn_final_pipe = make_pipeline(col_transformer, \n",
        "                               KNeighborsClassifier(n_neighbors = bestk))\n",
        "knn_final_pipe.fit(X_train_df, y_train)\n",
        "# Display confusion matrix for KNN with best k\n",
        "plot_confusion_matrix(knn_final_pipe, X_test_df, y_test)\n",
        "sns.heatmap(cm, annot = True, fmt = \"d\")"
      ],
      "metadata": {
        "colab": {
          "base_uri": "https://localhost:8080/",
          "height": 0
        },
        "id": "9eLT59Yqx32H",
        "outputId": "d961f6a8-ad44-44c8-cbb6-cfab5053e67c"
      },
      "execution_count": 481,
      "outputs": [
        {
          "output_type": "stream",
          "name": "stderr",
          "text": [
            "/usr/local/lib/python3.7/dist-packages/sklearn/utils/deprecation.py:87: FutureWarning:\n",
            "\n",
            "Function plot_confusion_matrix is deprecated; Function `plot_confusion_matrix` is deprecated in 1.0 and will be removed in 1.2. Use one of the class methods: ConfusionMatrixDisplay.from_predictions or ConfusionMatrixDisplay.from_estimator.\n",
            "\n"
          ]
        },
        {
          "output_type": "execute_result",
          "data": {
            "text/plain": [
              "<matplotlib.axes._subplots.AxesSubplot at 0x7f668f541d90>"
            ]
          },
          "metadata": {},
          "execution_count": 481
        },
        {
          "output_type": "display_data",
          "data": {
            "text/plain": [
              "<Figure size 432x288 with 3 Axes>"
            ],
            "image/png": "[encoded data removed]"
          },
          "metadata": {
            "needs_background": "light"
          }
        }
      ]
    },
    {
      "cell_type": "code",
      "source": [
        ""
      ],
      "metadata": {
        "id": "5cs4PoUJx6lC"
      },
      "execution_count": 481,
      "outputs": []
    },
    {
      "cell_type": "markdown",
      "source": [
        "# Log Reg Model w/ L1 and L2 Tuning"
      ],
      "metadata": {
        "id": "DaNHws_g6kIt"
      }
    },
    {
      "cell_type": "code",
      "source": [
        "# Build Log Reg Model and Evaluate the Model\n",
        "lr = LogisticRegression()\n",
        "lr.fit(X_train_df, y_train)\n",
        "lr_pred = lr.predict(X_test_df)\n",
        "acc = lr.score(X_test_df, y_test)\n",
        "print(\"LogisticRegression accuracy score is:\",acc)\n",
        "cm = confusion_matrix(y_test, lr_pred)\n",
        "sns.heatmap(cm, annot = True, fmt = \"d\")\n",
        "target_names = ['No Stroke', 'Stroke']\n",
        "report = classification_report(y_test, lr_pred, target_names=target_names)\n",
        "print(report)"
      ],
      "metadata": {
        "colab": {
          "base_uri": "https://localhost:8080/",
          "height": 0
        },
        "id": "lQ_3_8wL6pQ2",
        "outputId": "983c7bb9-ee33-4473-ebb7-2e08d63dbd29"
      },
      "execution_count": 482,
      "outputs": [
        {
          "output_type": "stream",
          "name": "stderr",
          "text": [
            "/usr/local/lib/python3.7/dist-packages/sklearn/linear_model/_logistic.py:818: ConvergenceWarning:\n",
            "\n",
            "lbfgs failed to converge (status=1):\n",
            "STOP: TOTAL NO. of ITERATIONS REACHED LIMIT.\n",
            "\n",
            "Increase the number of iterations (max_iter) or scale the data as shown in:\n",
            "    https://scikit-learn.org/stable/modules/preprocessing.html\n",
            "Please also refer to the documentation for alternative solver options:\n",
            "    https://scikit-learn.org/stable/modules/linear_model.html#logistic-regression\n",
            "\n"
          ]
        },
        {
          "output_type": "stream",
          "name": "stdout",
          "text": [
            "LogisticRegression accuracy score is: 0.7733973260198834\n",
            "              precision    recall  f1-score   support\n",
            "\n",
            "   No Stroke       0.81      0.72      0.76      1459\n",
            "      Stroke       0.75      0.83      0.78      1458\n",
            "\n",
            "    accuracy                           0.77      2917\n",
            "   macro avg       0.78      0.77      0.77      2917\n",
            "weighted avg       0.78      0.77      0.77      2917\n",
            "\n"
          ]
        },
        {
          "output_type": "display_data",
          "data": {
            "text/plain": [
              "<Figure size 432x288 with 2 Axes>"
            ],
            "image/png": "[encoded data removed]"
          },
          "metadata": {
            "needs_background": "light"
          }
        }
      ]
    },
    {
      "cell_type": "code",
      "source": [
        "# L1 tuning\n",
        "\n",
        "# create a list of c values and empty lists for scores\n",
        "c_values = [0.0001, 0.001, 0.01, 0.1, 1, 10, 100, 1000]\n",
        "train_scores = []\n",
        "test_scores = []\n",
        "#iterative over the c values\n",
        "for c in c_values:\n",
        " \n",
        "  # instantiate a model with each value of c and fit it on the data\n",
        "  log_reg = LogisticRegression(C=c, max_iter=1000, solver='liblinear', penalty='l1')\n",
        "  log_reg_pipe = make_pipeline(col_transformer, log_reg)\n",
        "  log_reg_pipe.fit(X_train_df, y_train)\n",
        " \n",
        "  # add the training and testing scores to our scores lists\n",
        "  train_scores.append(log_reg_pipe.score(X_train_df, y_train))\n",
        "  test_scores.append(log_reg_pipe.score(X_test_df, y_test))\n",
        " \n",
        "#plot the change in accuracy as we change the value of C\n",
        "fig, ax = plt.subplots(1,1)\n",
        "ax.plot(c_values, train_scores, label='Training Accuracy')\n",
        "ax.plot(c_values, test_scores, label='Testing Accuracy')\n",
        "ax.set_xticks(c_values)\n",
        "ax.set_title('Change in accuracy over C values for l1 regularization')\n",
        "ax.legend()\n",
        " \n",
        "#set the x axis to a logarithmic scale to show the values of C in even intervals\n",
        "ax.set_xscale('log')\n",
        "# print a dictionary of values of C and accuracy scores\n",
        "{c:score for c, score in zip(c_values, test_scores)}"
      ],
      "metadata": {
        "colab": {
          "base_uri": "https://localhost:8080/",
          "height": 0
        },
        "id": "zWPr4fwP2w4x",
        "outputId": "86556fb3-e8ae-4eec-bb0f-5e94309bdaf3"
      },
      "execution_count": 483,
      "outputs": [
        {
          "output_type": "execute_result",
          "data": {
            "text/plain": [
              "{0.0001: 0.5001714089818307,\n",
              " 0.001: 0.761398697291738,\n",
              " 0.01: 0.7699691463832705,\n",
              " 0.1: 0.7720260541652383,\n",
              " 1: 0.774082961947206,\n",
              " 10: 0.774082961947206,\n",
              " 100: 0.774082961947206,\n",
              " 1000: 0.774082961947206}"
            ]
          },
          "metadata": {},
          "execution_count": 483
        },
        {
          "output_type": "display_data",
          "data": {
            "text/plain": [
              "<Figure size 432x288 with 1 Axes>"
            ],
            "image/png": "[encoded data removed]"
          },
          "metadata": {
            "needs_background": "light"
          }
        }
      ]
    },
    {
      "cell_type": "code",
      "source": [
        "# L2 tuning\n",
        "\n",
        "# create a list of c values and empty lists for scores\n",
        "c_values = [0.0001, 0.001, 0.01, 0.1, 1, 10, 100, 1000]\n",
        "train_scores = []\n",
        "test_scores = []\n",
        "#iterative over the c values\n",
        "for c in c_values:\n",
        "  # instantiate a model with each value of c and fit it on the data\n",
        "  log_reg = LogisticRegression(C=c, max_iter=1000, solver='liblinear', penalty='l2')\n",
        "  log_reg_pipe = make_pipeline(col_transformer, log_reg)\n",
        "  log_reg_pipe.fit(X_train_df, y_train)\n",
        " \n",
        "  # add the training and testing scores to our scores lists\n",
        "  train_scores.append(log_reg_pipe.score(X_train_df, y_train))\n",
        "  test_scores.append(log_reg_pipe.score(X_test_df, y_test))\n",
        "  \n",
        "#plot the change in accuracy as we change the value of C\n",
        "fig, ax = plt.subplots(1,1)\n",
        "ax.plot(c_values, train_scores, label='Training Accuracy')\n",
        "ax.plot(c_values, test_scores, label='Testing Accuracy')\n",
        "ax.set_xticks(c_values)\n",
        "ax.set_title('Change in accuracy over C values for l2 regularization')\n",
        "ax.legend()\n",
        "#set the x axis to a logarithmic scale to show the values of C in even intervals\n",
        "ax.set_xscale('log')\n",
        "# print a dictionary of values of C and accuracy scores\n",
        "{c:score for c, score in zip(c_values, test_scores)}"
      ],
      "metadata": {
        "colab": {
          "base_uri": "https://localhost:8080/",
          "height": 0
        },
        "id": "dApRvsiB24G5",
        "outputId": "9d8d28d8-efc2-4a2d-89b8-678463118870"
      },
      "execution_count": 484,
      "outputs": [
        {
          "output_type": "execute_result",
          "data": {
            "text/plain": [
              "{0.0001: 0.7466575248543024,\n",
              " 0.001: 0.7637984230373671,\n",
              " 0.01: 0.7778539595474803,\n",
              " 0.1: 0.7744257799108674,\n",
              " 1: 0.774082961947206,\n",
              " 10: 0.774082961947206,\n",
              " 100: 0.774082961947206,\n",
              " 1000: 0.774082961947206}"
            ]
          },
          "metadata": {},
          "execution_count": 484
        },
        {
          "output_type": "display_data",
          "data": {
            "text/plain": [
              "<Figure size 432x288 with 1 Axes>"
            ],
            "image/png": "[encoded data removed]"
          },
          "metadata": {
            "needs_background": "light"
          }
        }
      ]
    },
    {
      "cell_type": "markdown",
      "source": [
        "# Decision Tree Classifier"
      ],
      "metadata": {
        "id": "-86NFsVQ61gk"
      }
    },
    {
      "cell_type": "code",
      "source": [
        "# Build Decision Tree Classifier and Evaluate the Model\n",
        "dt = DecisionTreeClassifier()\n",
        "dt.fit(X_train_df, y_train)\n",
        "dt_pred = dt.predict(X_test_df)\n",
        "acc = accuracy_score(y_test, dt_pred)\n",
        "print(\"Decision Tree accuracy score is :\",acc)\n",
        "cm = confusion_matrix(y_test, dt_pred)\n",
        "sns.heatmap(cm, annot = True, fmt = \"d\")\n",
        "target_names = ['No Stroke', 'Stroke']\n",
        "print(classification_report(y_test, dt_pred, target_names=target_names))"
      ],
      "metadata": {
        "colab": {
          "base_uri": "https://localhost:8080/",
          "height": 0
        },
        "id": "EjtMkEu765_w",
        "outputId": "a94a3899-07f7-46d6-aa90-9cbe917a2b02"
      },
      "execution_count": 485,
      "outputs": [
        {
          "output_type": "stream",
          "name": "stdout",
          "text": [
            "Decision Tree accuracy score is : 0.9718889269797737\n",
            "              precision    recall  f1-score   support\n",
            "\n",
            "   No Stroke       1.00      0.94      0.97      1459\n",
            "      Stroke       0.95      1.00      0.97      1458\n",
            "\n",
            "    accuracy                           0.97      2917\n",
            "   macro avg       0.97      0.97      0.97      2917\n",
            "weighted avg       0.97      0.97      0.97      2917\n",
            "\n"
          ]
        },
        {
          "output_type": "display_data",
          "data": {
            "text/plain": [
              "<Figure size 432x288 with 2 Axes>"
            ],
            "image/png": "[encoded data removed]"
          },
          "metadata": {
            "needs_background": "light"
          }
        }
      ]
    },
    {
      "cell_type": "markdown",
      "source": [
        "# Soft Voting Classifier Model"
      ],
      "metadata": {
        "id": "MOvaewBmJ5ct"
      }
    },
    {
      "cell_type": "code",
      "source": [
        "clf1 = LogisticRegression(max_iter = 1000)\n",
        "clf2 = RandomForestClassifier()\n",
        "clf3 =  KNeighborsClassifier(n_neighbors = 10)\n",
        "eclf1 = VotingClassifier(estimators=[('lr', clf1), ('rfc', clf2), ('knn', clf3)], voting='soft')\n",
        "eclf1.fit(X_train_df, y_train)\n",
        "vcm_pred = eclf1.predict(X_test_df)\n",
        "print(\"Voting Classifier Accuracy Score is: \")\n",
        "print(accuracy_score(y_test, vcm_pred))\n",
        "cm = confusion_matrix(y_test, vcm_pred)\n",
        "sns.heatmap(cm, annot = True, fmt=\"d\")\n",
        "target_names = ['No Stroke', 'Stroke']\n",
        "print(classification_report(y_test, vcm_pred, target_names=target_names))"
      ],
      "metadata": {
        "colab": {
          "base_uri": "https://localhost:8080/",
          "height": 0
        },
        "id": "gdMnzK2bKBax",
        "outputId": "b64f272d-ad80-45a9-f66a-f249894d9deb"
      },
      "execution_count": 486,
      "outputs": [
        {
          "output_type": "stream",
          "name": "stdout",
          "text": [
            "Voting Classifier Accuracy Score is: \n",
            "0.9300651354130957\n",
            "              precision    recall  f1-score   support\n",
            "\n",
            "   No Stroke       1.00      0.86      0.92      1459\n",
            "      Stroke       0.88      1.00      0.93      1458\n",
            "\n",
            "    accuracy                           0.93      2917\n",
            "   macro avg       0.94      0.93      0.93      2917\n",
            "weighted avg       0.94      0.93      0.93      2917\n",
            "\n"
          ]
        },
        {
          "output_type": "display_data",
          "data": {
            "text/plain": [
              "<Figure size 432x288 with 2 Axes>"
            ],
            "image/png": "[encoded data removed]"
          },
          "metadata": {
            "needs_background": "light"
          }
        }
      ]
    },
    {
      "cell_type": "code",
      "source": [
        "# Cross_val_score for Accuracy \n",
        "c = []\n",
        "c.append(cross_val_score(clf1,X_train_df,y_train,scoring='accuracy',cv=10).mean())\n",
        "c.append(cross_val_score(clf2,X_train_df,y_train,scoring='accuracy',cv=10).mean())\n",
        "c.append(cross_val_score(clf3,X_train_df,y_train,scoring='accuracy',cv=10).mean())\n",
        "print(c)"
      ],
      "metadata": {
        "colab": {
          "base_uri": "https://localhost:8080/"
        },
        "id": "syWoLaTavOAD",
        "outputId": "8e585be6-55b9-4937-9ac4-21baa1fbdb8b"
      },
      "execution_count": 487,
      "outputs": [
        {
          "output_type": "stream",
          "name": "stdout",
          "text": [
            "[0.771051222251015, 0.9779567245400361, 0.8818495724280903]\n"
          ]
        }
      ]
    },
    {
      "cell_type": "markdown",
      "source": [
        "# PCA (Principal Component Analysis) w/ KNN Model"
      ],
      "metadata": {
        "id": "WoeSocK0vcke"
      }
    },
    {
      "cell_type": "code",
      "source": [
        "# Instantiate Standard Scaler\n",
        "scaler = StandardScaler()\n",
        "scaled_df = scaler.fit_transform(X_train_df)"
      ],
      "metadata": {
        "id": "Je6Ig4Gavhq1"
      },
      "execution_count": 488,
      "outputs": []
    },
    {
      "cell_type": "code",
      "source": [
        "# Apply PCA\n",
        "\n",
        "# Instantiate, fit & transform data using PCA\n",
        "pca = PCA(n_components=.95)\n",
        "pcs = pca.fit_transform(scaled_df)"
      ],
      "metadata": {
        "id": "Rp77Gasgvhoc"
      },
      "execution_count": 489,
      "outputs": []
    },
    {
      "cell_type": "code",
      "source": [
        "# Create and fit the model\n",
        "knn_pca_pipe = make_pipeline(scaler, pca, KNeighborsClassifier())\n",
        "knn_pca_pipe.fit(X_train_df, y_train)\n",
        "# Evaluate the model using classification_report\n",
        "print(classification_report(y_test, knn_pca_pipe.predict(X_test_df)))"
      ],
      "metadata": {
        "colab": {
          "base_uri": "https://localhost:8080/"
        },
        "id": "KSpj_H8wFsam",
        "outputId": "23f02181-474a-44a7-cc59-13b09dfac0e4"
      },
      "execution_count": 490,
      "outputs": [
        {
          "output_type": "stream",
          "name": "stdout",
          "text": [
            "              precision    recall  f1-score   support\n",
            "\n",
            "           0       1.00      0.85      0.92      1459\n",
            "           1       0.87      1.00      0.93      1458\n",
            "\n",
            "    accuracy                           0.92      2917\n",
            "   macro avg       0.93      0.92      0.92      2917\n",
            "weighted avg       0.93      0.92      0.92      2917\n",
            "\n"
          ]
        }
      ]
    },
    {
      "cell_type": "code",
      "source": [
        "# Create and fit the model\n",
        "knn_pipe = make_pipeline(scaler, KNeighborsClassifier())\n",
        "knn_pipe.fit(X_train_df, y_train)\n",
        "# Evaluate the model using classification_report\n",
        "print(classification_report(y_test, knn_pipe.predict(X_test_df)))"
      ],
      "metadata": {
        "colab": {
          "base_uri": "https://localhost:8080/"
        },
        "id": "HRv_uJWjFsWJ",
        "outputId": "a68f6ef2-379c-4bfa-cbb6-6e26de33d2e4"
      },
      "execution_count": 491,
      "outputs": [
        {
          "output_type": "stream",
          "name": "stdout",
          "text": [
            "              precision    recall  f1-score   support\n",
            "\n",
            "           0       1.00      0.85      0.92      1459\n",
            "           1       0.87      1.00      0.93      1458\n",
            "\n",
            "    accuracy                           0.93      2917\n",
            "   macro avg       0.94      0.93      0.93      2917\n",
            "weighted avg       0.94      0.93      0.93      2917\n",
            "\n"
          ]
        }
      ]
    },
    {
      "cell_type": "markdown",
      "source": [
        "# Feature Engineering (Column Transformation) w/ Random Forest Classifier and Gradient Boosting"
      ],
      "metadata": {
        "id": "O5U4OOu0MgHC"
      }
    },
    {
      "cell_type": "markdown",
      "source": [
        "For a feature engineering exercise I will add the columns of Heart Disease and Hyptension together. I feel this would be a good choice because in the newly formed column we will have a scenario where an individual could have zero cardiovascular issues (0), and where an individual has both cardiovascular issues (2). I'm hoping this segmentation shows some difference."
      ],
      "metadata": {
        "id": "Mpw5YCOndf1W"
      }
    },
    {
      "cell_type": "code",
      "source": [
        "# Make a new datafame\n",
        "df2= df\n",
        "df2.head()"
      ],
      "metadata": {
        "colab": {
          "base_uri": "https://localhost:8080/",
          "height": 0
        },
        "id": "3kzREtfVdRAr",
        "outputId": "629916d5-5856-4de1-e65f-b57f10e8be98"
      },
      "execution_count": 492,
      "outputs": [
        {
          "output_type": "execute_result",
          "data": {
            "text/plain": [
              "       Gender  Age  Hypertension  Heart_Disease Ever_Married      Work_Type  \\\n",
              "id                                                                            \n",
              "9046     Male   67             0              1          Yes        Private   \n",
              "51676  Female   61             0              0          Yes  Self_Employed   \n",
              "31112    Male   80             0              1          Yes        Private   \n",
              "60182  Female   49             0              0          Yes        Private   \n",
              "1665   Female   79             1              0          Yes  Self_Employed   \n",
              "\n",
              "      Residence_Type  Avg_Glucose_Level Smoking_Status  Stroke  \n",
              "id                                                              \n",
              "9046           Urban                229  Former_Smoker       1  \n",
              "51676          Rural                203   Never_Smoked       1  \n",
              "31112          Rural                106   Never_Smoked       1  \n",
              "60182          Urban                172  Active_Smoker       1  \n",
              "1665           Rural                175   Never_Smoked       1  "
            ],
            "text/html": [
              "\n",
              "  <div id=\"df-89e11543-15fd-4095-85b0-4e171b049244\">\n",
              "    <div class=\"colab-df-container\">\n",
              "      <div>\n",
              "<style scoped>\n",
              "    .dataframe tbody tr th:only-of-type {\n",
              "        vertical-align: middle;\n",
              "    }\n",
              "\n",
              "    .dataframe tbody tr th {\n",
              "        vertical-align: top;\n",
              "    }\n",
              "\n",
              "    .dataframe thead th {\n",
              "        text-align: right;\n",
              "    }\n",
              "</style>\n",
              "<table border=\"1\" class=\"dataframe\">\n",
              "  <thead>\n",
              "    <tr style=\"text-align: right;\">\n",
              "      <th></th>\n",
              "      <th>Gender</th>\n",
              "      <th>Age</th>\n",
              "      <th>Hypertension</th>\n",
              "      <th>Heart_Disease</th>\n",
              "      <th>Ever_Married</th>\n",
              "      <th>Work_Type</th>\n",
              "      <th>Residence_Type</th>\n",
              "      <th>Avg_Glucose_Level</th>\n",
              "      <th>Smoking_Status</th>\n",
              "      <th>Stroke</th>\n",
              "    </tr>\n",
              "    <tr>\n",
              "      <th>id</th>\n",
              "      <th></th>\n",
              "      <th></th>\n",
              "      <th></th>\n",
              "      <th></th>\n",
              "      <th></th>\n",
              "      <th></th>\n",
              "      <th></th>\n",
              "      <th></th>\n",
              "      <th></th>\n",
              "      <th></th>\n",
              "    </tr>\n",
              "  </thead>\n",
              "  <tbody>\n",
              "    <tr>\n",
              "      <th>9046</th>\n",
              "      <td>Male</td>\n",
              "      <td>67</td>\n",
              "      <td>0</td>\n",
              "      <td>1</td>\n",
              "      <td>Yes</td>\n",
              "      <td>Private</td>\n",
              "      <td>Urban</td>\n",
              "      <td>229</td>\n",
              "      <td>Former_Smoker</td>\n",
              "      <td>1</td>\n",
              "    </tr>\n",
              "    <tr>\n",
              "      <th>51676</th>\n",
              "      <td>Female</td>\n",
              "      <td>61</td>\n",
              "      <td>0</td>\n",
              "      <td>0</td>\n",
              "      <td>Yes</td>\n",
              "      <td>Self_Employed</td>\n",
              "      <td>Rural</td>\n",
              "      <td>203</td>\n",
              "      <td>Never_Smoked</td>\n",
              "      <td>1</td>\n",
              "    </tr>\n",
              "    <tr>\n",
              "      <th>31112</th>\n",
              "      <td>Male</td>\n",
              "      <td>80</td>\n",
              "      <td>0</td>\n",
              "      <td>1</td>\n",
              "      <td>Yes</td>\n",
              "      <td>Private</td>\n",
              "      <td>Rural</td>\n",
              "      <td>106</td>\n",
              "      <td>Never_Smoked</td>\n",
              "      <td>1</td>\n",
              "    </tr>\n",
              "    <tr>\n",
              "      <th>60182</th>\n",
              "      <td>Female</td>\n",
              "      <td>49</td>\n",
              "      <td>0</td>\n",
              "      <td>0</td>\n",
              "      <td>Yes</td>\n",
              "      <td>Private</td>\n",
              "      <td>Urban</td>\n",
              "      <td>172</td>\n",
              "      <td>Active_Smoker</td>\n",
              "      <td>1</td>\n",
              "    </tr>\n",
              "    <tr>\n",
              "      <th>1665</th>\n",
              "      <td>Female</td>\n",
              "      <td>79</td>\n",
              "      <td>1</td>\n",
              "      <td>0</td>\n",
              "      <td>Yes</td>\n",
              "      <td>Self_Employed</td>\n",
              "      <td>Rural</td>\n",
              "      <td>175</td>\n",
              "      <td>Never_Smoked</td>\n",
              "      <td>1</td>\n",
              "    </tr>\n",
              "  </tbody>\n",
              "</table>\n",
              "</div>\n",
              "      <button class=\"colab-df-convert\" onclick=\"convertToInteractive('df-89e11543-15fd-4095-85b0-4e171b049244')\"\n",
              "              title=\"Convert this dataframe to an interactive table.\"\n",
              "              style=\"display:none;\">\n",
              "        \n",
              "  <svg xmlns=\"http://www.w3.org/2000/svg\" height=\"24px\"viewBox=\"0 0 24 24\"\n",
              "       width=\"24px\">\n",
              "    <path d=\"M0 0h24v24H0V0z\" fill=\"none\"/>\n",
              "    <path d=\"M18.56 5.44l.94 2.06.94-2.06 2.06-.94-2.06-.94-.94-2.06-.94 2.06-2.06.94zm-11 1L8.5 8.5l.94-2.06 2.06-.94-2.06-.94L8.5 2.5l-.94 2.06-2.06.94zm10 10l.94 2.06.94-2.06 2.06-.94-2.06-.94-.94-2.06-.94 2.06-2.06.94z\"/><path d=\"M17.41 7.96l-1.37-1.37c-.4-.4-.92-.59-1.43-.59-.52 0-1.04.2-1.43.59L10.3 9.45l-7.72 7.72c-.78.78-.78 2.05 0 2.83L4 21.41c.39.39.9.59 1.41.59.51 0 1.02-.2 1.41-.59l7.78-7.78 2.81-2.81c.8-.78.8-2.07 0-2.86zM5.41 20L4 18.59l7.72-7.72 1.47 1.35L5.41 20z\"/>\n",
              "  </svg>\n",
              "      </button>\n",
              "      \n",
              "  <style>\n",
              "    .colab-df-container {\n",
              "      display:flex;\n",
              "      flex-wrap:wrap;\n",
              "      gap: 12px;\n",
              "    }\n",
              "\n",
              "    .colab-df-convert {\n",
              "      background-color: #E8F0FE;\n",
              "      border: none;\n",
              "      border-radius: 50%;\n",
              "      cursor: pointer;\n",
              "      display: none;\n",
              "      fill: #1967D2;\n",
              "      height: 32px;\n",
              "      padding: 0 0 0 0;\n",
              "      width: 32px;\n",
              "    }\n",
              "\n",
              "    .colab-df-convert:hover {\n",
              "      background-color: #E2EBFA;\n",
              "      box-shadow: 0px 1px 2px rgba(60, 64, 67, 0.3), 0px 1px 3px 1px rgba(60, 64, 67, 0.15);\n",
              "      fill: #174EA6;\n",
              "    }\n",
              "\n",
              "    [theme=dark] .colab-df-convert {\n",
              "      background-color: #3B4455;\n",
              "      fill: #D2E3FC;\n",
              "    }\n",
              "\n",
              "    [theme=dark] .colab-df-convert:hover {\n",
              "      background-color: #434B5C;\n",
              "      box-shadow: 0px 1px 3px 1px rgba(0, 0, 0, 0.15);\n",
              "      filter: drop-shadow(0px 1px 2px rgba(0, 0, 0, 0.3));\n",
              "      fill: #FFFFFF;\n",
              "    }\n",
              "  </style>\n",
              "\n",
              "      <script>\n",
              "        const buttonEl =\n",
              "          document.querySelector('#df-89e11543-15fd-4095-85b0-4e171b049244 button.colab-df-convert');\n",
              "        buttonEl.style.display =\n",
              "          google.colab.kernel.accessAllowed ? 'block' : 'none';\n",
              "\n",
              "        async function convertToInteractive(key) {\n",
              "          const element = document.querySelector('#df-89e11543-15fd-4095-85b0-4e171b049244');\n",
              "          const dataTable =\n",
              "            await google.colab.kernel.invokeFunction('convertToInteractive',\n",
              "                                                     [key], {});\n",
              "          if (!dataTable) return;\n",
              "\n",
              "          const docLinkHtml = 'Like what you see? Visit the ' +\n",
              "            '<a target=\"_blank\" href=https://colab.research.google.com/notebooks/data_table.ipynb>data table notebook</a>'\n",
              "            + ' to learn more about interactive tables.';\n",
              "          element.innerHTML = '';\n",
              "          dataTable['output_type'] = 'display_data';\n",
              "          await google.colab.output.renderOutput(dataTable, element);\n",
              "          const docLink = document.createElement('div');\n",
              "          docLink.innerHTML = docLinkHtml;\n",
              "          element.appendChild(docLink);\n",
              "        }\n",
              "      </script>\n",
              "    </div>\n",
              "  </div>\n",
              "  "
            ]
          },
          "metadata": {},
          "execution_count": 492
        }
      ]
    },
    {
      "cell_type": "code",
      "source": [
        "# Add the Hypertension and the Heart Disease Columns together\n",
        "df2['Hyptension_and_Heart_Disease'] = df2['Hypertension'] + df2['Heart_Disease'] \n",
        "df2 = df2.drop(['Hypertension', 'Heart_Disease'], axis=1)\n",
        "df2.head()"
      ],
      "metadata": {
        "colab": {
          "base_uri": "https://localhost:8080/",
          "height": 0
        },
        "id": "pAjmzhQkMj5R",
        "outputId": "4dd209e8-4bd9-4a86-bc5d-880fd4bf6811"
      },
      "execution_count": 493,
      "outputs": [
        {
          "output_type": "execute_result",
          "data": {
            "text/plain": [
              "       Gender  Age Ever_Married      Work_Type Residence_Type  \\\n",
              "id                                                              \n",
              "9046     Male   67          Yes        Private          Urban   \n",
              "51676  Female   61          Yes  Self_Employed          Rural   \n",
              "31112    Male   80          Yes        Private          Rural   \n",
              "60182  Female   49          Yes        Private          Urban   \n",
              "1665   Female   79          Yes  Self_Employed          Rural   \n",
              "\n",
              "       Avg_Glucose_Level Smoking_Status  Stroke  Hyptension_and_Heart_Disease  \n",
              "id                                                                             \n",
              "9046                 229  Former_Smoker       1                             1  \n",
              "51676                203   Never_Smoked       1                             0  \n",
              "31112                106   Never_Smoked       1                             1  \n",
              "60182                172  Active_Smoker       1                             0  \n",
              "1665                 175   Never_Smoked       1                             1  "
            ],
            "text/html": [
              "\n",
              "  <div id=\"df-ff161139-cd35-43b3-8854-6815cc69497f\">\n",
              "    <div class=\"colab-df-container\">\n",
              "      <div>\n",
              "<style scoped>\n",
              "    .dataframe tbody tr th:only-of-type {\n",
              "        vertical-align: middle;\n",
              "    }\n",
              "\n",
              "    .dataframe tbody tr th {\n",
              "        vertical-align: top;\n",
              "    }\n",
              "\n",
              "    .dataframe thead th {\n",
              "        text-align: right;\n",
              "    }\n",
              "</style>\n",
              "<table border=\"1\" class=\"dataframe\">\n",
              "  <thead>\n",
              "    <tr style=\"text-align: right;\">\n",
              "      <th></th>\n",
              "      <th>Gender</th>\n",
              "      <th>Age</th>\n",
              "      <th>Ever_Married</th>\n",
              "      <th>Work_Type</th>\n",
              "      <th>Residence_Type</th>\n",
              "      <th>Avg_Glucose_Level</th>\n",
              "      <th>Smoking_Status</th>\n",
              "      <th>Stroke</th>\n",
              "      <th>Hyptension_and_Heart_Disease</th>\n",
              "    </tr>\n",
              "    <tr>\n",
              "      <th>id</th>\n",
              "      <th></th>\n",
              "      <th></th>\n",
              "      <th></th>\n",
              "      <th></th>\n",
              "      <th></th>\n",
              "      <th></th>\n",
              "      <th></th>\n",
              "      <th></th>\n",
              "      <th></th>\n",
              "    </tr>\n",
              "  </thead>\n",
              "  <tbody>\n",
              "    <tr>\n",
              "      <th>9046</th>\n",
              "      <td>Male</td>\n",
              "      <td>67</td>\n",
              "      <td>Yes</td>\n",
              "      <td>Private</td>\n",
              "      <td>Urban</td>\n",
              "      <td>229</td>\n",
              "      <td>Former_Smoker</td>\n",
              "      <td>1</td>\n",
              "      <td>1</td>\n",
              "    </tr>\n",
              "    <tr>\n",
              "      <th>51676</th>\n",
              "      <td>Female</td>\n",
              "      <td>61</td>\n",
              "      <td>Yes</td>\n",
              "      <td>Self_Employed</td>\n",
              "      <td>Rural</td>\n",
              "      <td>203</td>\n",
              "      <td>Never_Smoked</td>\n",
              "      <td>1</td>\n",
              "      <td>0</td>\n",
              "    </tr>\n",
              "    <tr>\n",
              "      <th>31112</th>\n",
              "      <td>Male</td>\n",
              "      <td>80</td>\n",
              "      <td>Yes</td>\n",
              "      <td>Private</td>\n",
              "      <td>Rural</td>\n",
              "      <td>106</td>\n",
              "      <td>Never_Smoked</td>\n",
              "      <td>1</td>\n",
              "      <td>1</td>\n",
              "    </tr>\n",
              "    <tr>\n",
              "      <th>60182</th>\n",
              "      <td>Female</td>\n",
              "      <td>49</td>\n",
              "      <td>Yes</td>\n",
              "      <td>Private</td>\n",
              "      <td>Urban</td>\n",
              "      <td>172</td>\n",
              "      <td>Active_Smoker</td>\n",
              "      <td>1</td>\n",
              "      <td>0</td>\n",
              "    </tr>\n",
              "    <tr>\n",
              "      <th>1665</th>\n",
              "      <td>Female</td>\n",
              "      <td>79</td>\n",
              "      <td>Yes</td>\n",
              "      <td>Self_Employed</td>\n",
              "      <td>Rural</td>\n",
              "      <td>175</td>\n",
              "      <td>Never_Smoked</td>\n",
              "      <td>1</td>\n",
              "      <td>1</td>\n",
              "    </tr>\n",
              "  </tbody>\n",
              "</table>\n",
              "</div>\n",
              "      <button class=\"colab-df-convert\" onclick=\"convertToInteractive('df-ff161139-cd35-43b3-8854-6815cc69497f')\"\n",
              "              title=\"Convert this dataframe to an interactive table.\"\n",
              "              style=\"display:none;\">\n",
              "        \n",
              "  <svg xmlns=\"http://www.w3.org/2000/svg\" height=\"24px\"viewBox=\"0 0 24 24\"\n",
              "       width=\"24px\">\n",
              "    <path d=\"M0 0h24v24H0V0z\" fill=\"none\"/>\n",
              "    <path d=\"M18.56 5.44l.94 2.06.94-2.06 2.06-.94-2.06-.94-.94-2.06-.94 2.06-2.06.94zm-11 1L8.5 8.5l.94-2.06 2.06-.94-2.06-.94L8.5 2.5l-.94 2.06-2.06.94zm10 10l.94 2.06.94-2.06 2.06-.94-2.06-.94-.94-2.06-.94 2.06-2.06.94z\"/><path d=\"M17.41 7.96l-1.37-1.37c-.4-.4-.92-.59-1.43-.59-.52 0-1.04.2-1.43.59L10.3 9.45l-7.72 7.72c-.78.78-.78 2.05 0 2.83L4 21.41c.39.39.9.59 1.41.59.51 0 1.02-.2 1.41-.59l7.78-7.78 2.81-2.81c.8-.78.8-2.07 0-2.86zM5.41 20L4 18.59l7.72-7.72 1.47 1.35L5.41 20z\"/>\n",
              "  </svg>\n",
              "      </button>\n",
              "      \n",
              "  <style>\n",
              "    .colab-df-container {\n",
              "      display:flex;\n",
              "      flex-wrap:wrap;\n",
              "      gap: 12px;\n",
              "    }\n",
              "\n",
              "    .colab-df-convert {\n",
              "      background-color: #E8F0FE;\n",
              "      border: none;\n",
              "      border-radius: 50%;\n",
              "      cursor: pointer;\n",
              "      display: none;\n",
              "      fill: #1967D2;\n",
              "      height: 32px;\n",
              "      padding: 0 0 0 0;\n",
              "      width: 32px;\n",
              "    }\n",
              "\n",
              "    .colab-df-convert:hover {\n",
              "      background-color: #E2EBFA;\n",
              "      box-shadow: 0px 1px 2px rgba(60, 64, 67, 0.3), 0px 1px 3px 1px rgba(60, 64, 67, 0.15);\n",
              "      fill: #174EA6;\n",
              "    }\n",
              "\n",
              "    [theme=dark] .colab-df-convert {\n",
              "      background-color: #3B4455;\n",
              "      fill: #D2E3FC;\n",
              "    }\n",
              "\n",
              "    [theme=dark] .colab-df-convert:hover {\n",
              "      background-color: #434B5C;\n",
              "      box-shadow: 0px 1px 3px 1px rgba(0, 0, 0, 0.15);\n",
              "      filter: drop-shadow(0px 1px 2px rgba(0, 0, 0, 0.3));\n",
              "      fill: #FFFFFF;\n",
              "    }\n",
              "  </style>\n",
              "\n",
              "      <script>\n",
              "        const buttonEl =\n",
              "          document.querySelector('#df-ff161139-cd35-43b3-8854-6815cc69497f button.colab-df-convert');\n",
              "        buttonEl.style.display =\n",
              "          google.colab.kernel.accessAllowed ? 'block' : 'none';\n",
              "\n",
              "        async function convertToInteractive(key) {\n",
              "          const element = document.querySelector('#df-ff161139-cd35-43b3-8854-6815cc69497f');\n",
              "          const dataTable =\n",
              "            await google.colab.kernel.invokeFunction('convertToInteractive',\n",
              "                                                     [key], {});\n",
              "          if (!dataTable) return;\n",
              "\n",
              "          const docLinkHtml = 'Like what you see? Visit the ' +\n",
              "            '<a target=\"_blank\" href=https://colab.research.google.com/notebooks/data_table.ipynb>data table notebook</a>'\n",
              "            + ' to learn more about interactive tables.';\n",
              "          element.innerHTML = '';\n",
              "          dataTable['output_type'] = 'display_data';\n",
              "          await google.colab.output.renderOutput(dataTable, element);\n",
              "          const docLink = document.createElement('div');\n",
              "          docLink.innerHTML = docLinkHtml;\n",
              "          element.appendChild(docLink);\n",
              "        }\n",
              "      </script>\n",
              "    </div>\n",
              "  </div>\n",
              "  "
            ]
          },
          "metadata": {},
          "execution_count": 493
        }
      ]
    },
    {
      "cell_type": "code",
      "source": [
        "# Check values for the Hyptension_and_Heart_Disease column\n",
        "df2['Hyptension_and_Heart_Disease'].unique()"
      ],
      "metadata": {
        "colab": {
          "base_uri": "https://localhost:8080/"
        },
        "id": "jiietoa0duma",
        "outputId": "9b4d4c92-f1ef-4ad3-b9df-22d4a86eaa5e"
      },
      "execution_count": 494,
      "outputs": [
        {
          "output_type": "execute_result",
          "data": {
            "text/plain": [
              "array([1, 0, 2])"
            ]
          },
          "metadata": {},
          "execution_count": 494
        }
      ]
    },
    {
      "cell_type": "code",
      "source": [
        "# Define features (X) and target (y)\n",
        "X = df2.drop(columns = 'Stroke', axis=1)\n",
        "y = df2['Stroke']"
      ],
      "metadata": {
        "id": "HktHh7GDgjSr"
      },
      "execution_count": 495,
      "outputs": []
    },
    {
      "cell_type": "code",
      "source": [
        "# Train-Test-Split\n",
        "X_train, X_test, y_train, y_test = train_test_split(X_over,y_over,test_size=0.3,stratify=y_over,random_state=42)\n",
        "X_train.isna().any()"
      ],
      "metadata": {
        "colab": {
          "base_uri": "https://localhost:8080/"
        },
        "id": "CJaaaNPzoUB3",
        "outputId": "052d096c-37d5-4a34-e5aa-f83a79ba2c52"
      },
      "execution_count": 496,
      "outputs": [
        {
          "output_type": "execute_result",
          "data": {
            "text/plain": [
              "Gender               False\n",
              "Age                  False\n",
              "Hypertension         False\n",
              "Heart_Disease        False\n",
              "Ever_Married         False\n",
              "Work_Type            False\n",
              "Residence_Type       False\n",
              "Avg_Glucose_Level    False\n",
              "Smoking_Status       False\n",
              "dtype: bool"
            ]
          },
          "metadata": {},
          "execution_count": 496
        }
      ]
    },
    {
      "cell_type": "code",
      "source": [
        "#Create Selector\n",
        "cat_selector = make_column_selector(dtype_include='object')\n",
        "num_selector = make_column_selector(dtype_include='float')\n",
        "# Scaler\n",
        "scaler = StandardScaler()\n",
        "# One-hot encoder\n",
        "ohe = OneHotEncoder(handle_unknown='ignore', sparse=False)\n",
        "# Numeric pipeline\n",
        "numeric_pipe = make_pipeline(scaler)\n",
        "# Categorical pipeline\n",
        "categorical_pipe = make_pipeline(ohe)\n",
        "# Tuples for Column Transformer\n",
        "num_tuple = (numeric_pipe, num_selector)\n",
        "cat_tuple = (categorical_pipe, cat_selector)\n",
        "# ColumnTransformer\n",
        "col_transformer = make_column_transformer(num_tuple, cat_tuple, remainder='passthrough')\n",
        "# fit ColumnTransformer on the training data\n",
        "col_transformer.fit(X_train)"
      ],
      "metadata": {
        "colab": {
          "base_uri": "https://localhost:8080/",
          "height": 0
        },
        "id": "d3BdbeFTg7TH",
        "outputId": "e654b131-a7da-4915-fbaa-091b54439a6a"
      },
      "execution_count": 497,
      "outputs": [
        {
          "output_type": "execute_result",
          "data": {
            "text/plain": [
              "ColumnTransformer(remainder='passthrough',\n",
              "                  transformers=[('pipeline-1',\n",
              "                                 Pipeline(steps=[('standardscaler',\n",
              "                                                  StandardScaler())]),\n",
              "                                 <sklearn.compose._column_transformer.make_column_selector object at 0x7f668f530710>),\n",
              "                                ('pipeline-2',\n",
              "                                 Pipeline(steps=[('onehotencoder',\n",
              "                                                  OneHotEncoder(handle_unknown='ignore',\n",
              "                                                                sparse=False))]),\n",
              "                                 <sklearn.compose._column_transformer.make_column_selector object at 0x7f668f530fd0>)])"
            ],
            "text/html": [
              "<style>#sk-6011f975-67e1-4f2e-8851-0730453d14c4 {color: black;background-color: white;}#sk-6011f975-67e1-4f2e-8851-0730453d14c4 pre{padding: 0;}#sk-6011f975-67e1-4f2e-8851-0730453d14c4 div.sk-toggleable {background-color: white;}#sk-6011f975-67e1-4f2e-8851-0730453d14c4 label.sk-toggleable__label {cursor: pointer;display: block;width: 100%;margin-bottom: 0;padding: 0.3em;box-sizing: border-box;text-align: center;}#sk-6011f975-67e1-4f2e-8851-0730453d14c4 label.sk-toggleable__label-arrow:before {content: \"▸\";float: left;margin-right: 0.25em;color: #696969;}#sk-6011f975-67e1-4f2e-8851-0730453d14c4 label.sk-toggleable__label-arrow:hover:before {color: black;}#sk-6011f975-67e1-4f2e-8851-0730453d14c4 div.sk-estimator:hover label.sk-toggleable__label-arrow:before {color: black;}#sk-6011f975-67e1-4f2e-8851-0730453d14c4 div.sk-toggleable__content {max-height: 0;max-width: 0;overflow: hidden;text-align: left;background-color: #f0f8ff;}#sk-6011f975-67e1-4f2e-8851-0730453d14c4 div.sk-toggleable__content pre {margin: 0.2em;color: black;border-radius: 0.25em;background-color: #f0f8ff;}#sk-6011f975-67e1-4f2e-8851-0730453d14c4 input.sk-toggleable__control:checked~div.sk-toggleable__content {max-height: 200px;max-width: 100%;overflow: auto;}#sk-6011f975-67e1-4f2e-8851-0730453d14c4 input.sk-toggleable__control:checked~label.sk-toggleable__label-arrow:before {content: \"▾\";}#sk-6011f975-67e1-4f2e-8851-0730453d14c4 div.sk-estimator input.sk-toggleable__control:checked~label.sk-toggleable__label {background-color: #d4ebff;}#sk-6011f975-67e1-4f2e-8851-0730453d14c4 div.sk-label input.sk-toggleable__control:checked~label.sk-toggleable__label {background-color: #d4ebff;}#sk-6011f975-67e1-4f2e-8851-0730453d14c4 input.sk-hidden--visually {border: 0;clip: rect(1px 1px 1px 1px);clip: rect(1px, 1px, 1px, 1px);height: 1px;margin: -1px;overflow: hidden;padding: 0;position: absolute;width: 1px;}#sk-6011f975-67e1-4f2e-8851-0730453d14c4 div.sk-estimator {font-family: monospace;background-color: #f0f8ff;border: 1px dotted black;border-radius: 0.25em;box-sizing: border-box;margin-bottom: 0.5em;}#sk-6011f975-67e1-4f2e-8851-0730453d14c4 div.sk-estimator:hover {background-color: #d4ebff;}#sk-6011f975-67e1-4f2e-8851-0730453d14c4 div.sk-parallel-item::after {content: \"\";width: 100%;border-bottom: 1px solid gray;flex-grow: 1;}#sk-6011f975-67e1-4f2e-8851-0730453d14c4 div.sk-label:hover label.sk-toggleable__label {background-color: #d4ebff;}#sk-6011f975-67e1-4f2e-8851-0730453d14c4 div.sk-serial::before {content: \"\";position: absolute;border-left: 1px solid gray;box-sizing: border-box;top: 2em;bottom: 0;left: 50%;}#sk-6011f975-67e1-4f2e-8851-0730453d14c4 div.sk-serial {display: flex;flex-direction: column;align-items: center;background-color: white;padding-right: 0.2em;padding-left: 0.2em;}#sk-6011f975-67e1-4f2e-8851-0730453d14c4 div.sk-item {z-index: 1;}#sk-6011f975-67e1-4f2e-8851-0730453d14c4 div.sk-parallel {display: flex;align-items: stretch;justify-content: center;background-color: white;}#sk-6011f975-67e1-4f2e-8851-0730453d14c4 div.sk-parallel::before {content: \"\";position: absolute;border-left: 1px solid gray;box-sizing: border-box;top: 2em;bottom: 0;left: 50%;}#sk-6011f975-67e1-4f2e-8851-0730453d14c4 div.sk-parallel-item {display: flex;flex-direction: column;position: relative;background-color: white;}#sk-6011f975-67e1-4f2e-8851-0730453d14c4 div.sk-parallel-item:first-child::after {align-self: flex-end;width: 50%;}#sk-6011f975-67e1-4f2e-8851-0730453d14c4 div.sk-parallel-item:last-child::after {align-self: flex-start;width: 50%;}#sk-6011f975-67e1-4f2e-8851-0730453d14c4 div.sk-parallel-item:only-child::after {width: 0;}#sk-6011f975-67e1-4f2e-8851-0730453d14c4 div.sk-dashed-wrapped {border: 1px dashed gray;margin: 0 0.4em 0.5em 0.4em;box-sizing: border-box;padding-bottom: 0.4em;background-color: white;position: relative;}#sk-6011f975-67e1-4f2e-8851-0730453d14c4 div.sk-label label {font-family: monospace;font-weight: bold;background-color: white;display: inline-block;line-height: 1.2em;}#sk-6011f975-67e1-4f2e-8851-0730453d14c4 div.sk-label-container {position: relative;z-index: 2;text-align: center;}#sk-6011f975-67e1-4f2e-8851-0730453d14c4 div.sk-container {/* jupyter's `normalize.less` sets `[hidden] { display: none; }` but bootstrap.min.css set `[hidden] { display: none !important; }` so we also need the `!important` here to be able to override the default hidden behavior on the sphinx rendered scikit-learn.org. See: https://github.com/scikit-learn/scikit-learn/issues/21755 */display: inline-block !important;position: relative;}#sk-6011f975-67e1-4f2e-8851-0730453d14c4 div.sk-text-repr-fallback {display: none;}</style><div id=\"sk-6011f975-67e1-4f2e-8851-0730453d14c4\" class=\"sk-top-container\"><div class=\"sk-text-repr-fallback\"><pre>ColumnTransformer(remainder=&#x27;passthrough&#x27;,\n",
              "                  transformers=[(&#x27;pipeline-1&#x27;,\n",
              "                                 Pipeline(steps=[(&#x27;standardscaler&#x27;,\n",
              "                                                  StandardScaler())]),\n",
              "                                 &lt;sklearn.compose._column_transformer.make_column_selector object at 0x7f668f530710&gt;),\n",
              "                                (&#x27;pipeline-2&#x27;,\n",
              "                                 Pipeline(steps=[(&#x27;onehotencoder&#x27;,\n",
              "                                                  OneHotEncoder(handle_unknown=&#x27;ignore&#x27;,\n",
              "                                                                sparse=False))]),\n",
              "                                 &lt;sklearn.compose._column_transformer.make_column_selector object at 0x7f668f530fd0&gt;)])</pre><b>Please rerun this cell to show the HTML repr or trust the notebook.</b></div><div class=\"sk-container\" hidden><div class=\"sk-item sk-dashed-wrapped\"><div class=\"sk-label-container\"><div class=\"sk-label sk-toggleable\"><input class=\"sk-toggleable__control sk-hidden--visually\" id=\"811ca211-8a31-4b81-92d6-9c188860b16b\" type=\"checkbox\" ><label for=\"811ca211-8a31-4b81-92d6-9c188860b16b\" class=\"sk-toggleable__label sk-toggleable__label-arrow\">ColumnTransformer</label><div class=\"sk-toggleable__content\"><pre>ColumnTransformer(remainder=&#x27;passthrough&#x27;,\n",
              "                  transformers=[(&#x27;pipeline-1&#x27;,\n",
              "                                 Pipeline(steps=[(&#x27;standardscaler&#x27;,\n",
              "                                                  StandardScaler())]),\n",
              "                                 &lt;sklearn.compose._column_transformer.make_column_selector object at 0x7f668f530710&gt;),\n",
              "                                (&#x27;pipeline-2&#x27;,\n",
              "                                 Pipeline(steps=[(&#x27;onehotencoder&#x27;,\n",
              "                                                  OneHotEncoder(handle_unknown=&#x27;ignore&#x27;,\n",
              "                                                                sparse=False))]),\n",
              "                                 &lt;sklearn.compose._column_transformer.make_column_selector object at 0x7f668f530fd0&gt;)])</pre></div></div></div><div class=\"sk-parallel\"><div class=\"sk-parallel-item\"><div class=\"sk-item\"><div class=\"sk-label-container\"><div class=\"sk-label sk-toggleable\"><input class=\"sk-toggleable__control sk-hidden--visually\" id=\"8edaea5e-419a-4a4d-bdb7-3227b6e6dbf7\" type=\"checkbox\" ><label for=\"8edaea5e-419a-4a4d-bdb7-3227b6e6dbf7\" class=\"sk-toggleable__label sk-toggleable__label-arrow\">pipeline-1</label><div class=\"sk-toggleable__content\"><pre>&lt;sklearn.compose._column_transformer.make_column_selector object at 0x7f668f530710&gt;</pre></div></div></div><div class=\"sk-serial\"><div class=\"sk-item\"><div class=\"sk-serial\"><div class=\"sk-item\"><div class=\"sk-estimator sk-toggleable\"><input class=\"sk-toggleable__control sk-hidden--visually\" id=\"97037814-9d51-4584-ac84-a8c804996ea9\" type=\"checkbox\" ><label for=\"97037814-9d51-4584-ac84-a8c804996ea9\" class=\"sk-toggleable__label sk-toggleable__label-arrow\">StandardScaler</label><div class=\"sk-toggleable__content\"><pre>StandardScaler()</pre></div></div></div></div></div></div></div></div><div class=\"sk-parallel-item\"><div class=\"sk-item\"><div class=\"sk-label-container\"><div class=\"sk-label sk-toggleable\"><input class=\"sk-toggleable__control sk-hidden--visually\" id=\"5c1d6251-e92b-4a93-abea-1e21189d4a02\" type=\"checkbox\" ><label for=\"5c1d6251-e92b-4a93-abea-1e21189d4a02\" class=\"sk-toggleable__label sk-toggleable__label-arrow\">pipeline-2</label><div class=\"sk-toggleable__content\"><pre>&lt;sklearn.compose._column_transformer.make_column_selector object at 0x7f668f530fd0&gt;</pre></div></div></div><div class=\"sk-serial\"><div class=\"sk-item\"><div class=\"sk-serial\"><div class=\"sk-item\"><div class=\"sk-estimator sk-toggleable\"><input class=\"sk-toggleable__control sk-hidden--visually\" id=\"2c45c5d3-9f6e-47fb-89e7-6917146cbcad\" type=\"checkbox\" ><label for=\"2c45c5d3-9f6e-47fb-89e7-6917146cbcad\" class=\"sk-toggleable__label sk-toggleable__label-arrow\">OneHotEncoder</label><div class=\"sk-toggleable__content\"><pre>OneHotEncoder(handle_unknown=&#x27;ignore&#x27;, sparse=False)</pre></div></div></div></div></div></div></div></div><div class=\"sk-parallel-item\"><div class=\"sk-item\"><div class=\"sk-label-container\"><div class=\"sk-label sk-toggleable\"><input class=\"sk-toggleable__control sk-hidden--visually\" id=\"28765396-f0e5-4520-8e99-bcbba11dd205\" type=\"checkbox\" ><label for=\"28765396-f0e5-4520-8e99-bcbba11dd205\" class=\"sk-toggleable__label sk-toggleable__label-arrow\">remainder</label><div class=\"sk-toggleable__content\"><pre>[&#x27;Age&#x27;, &#x27;Hypertension&#x27;, &#x27;Heart_Disease&#x27;, &#x27;Avg_Glucose_Level&#x27;]</pre></div></div></div><div class=\"sk-serial\"><div class=\"sk-item\"><div class=\"sk-estimator sk-toggleable\"><input class=\"sk-toggleable__control sk-hidden--visually\" id=\"f8796718-3737-497c-be0c-d15aeaca9c69\" type=\"checkbox\" ><label for=\"f8796718-3737-497c-be0c-d15aeaca9c69\" class=\"sk-toggleable__label sk-toggleable__label-arrow\">passthrough</label><div class=\"sk-toggleable__content\"><pre>passthrough</pre></div></div></div></div></div></div></div></div></div></div>"
            ]
          },
          "metadata": {},
          "execution_count": 497
        }
      ]
    },
    {
      "cell_type": "code",
      "source": [
        "# Transform train and test\n",
        "X_train_processed_df2 = col_transformer.transform(X_train)\n",
        "X_test_processed_df2 = col_transformer.transform(X_test)"
      ],
      "metadata": {
        "id": "KHeWYX-Dg7TJ"
      },
      "execution_count": 498,
      "outputs": []
    },
    {
      "cell_type": "code",
      "source": [
        "# Make a new DataFrame with inputed missing values\n",
        "X_test_df2 = pd.DataFrame(X_test_processed)\n",
        "X_train_df2 = pd.DataFrame(X_train_processed)"
      ],
      "metadata": {
        "id": "0kMqlEbTg7TJ"
      },
      "execution_count": 499,
      "outputs": []
    },
    {
      "cell_type": "code",
      "source": [
        "# Check the data for sanity check to verify all changes have been made\n",
        "display(X_train_df2.info())\n",
        "X_train_df2.head()"
      ],
      "metadata": {
        "colab": {
          "base_uri": "https://localhost:8080/",
          "height": 0
        },
        "outputId": "55dad7de-c971-4f26-962c-67ad17f04e31",
        "id": "jvx3jdcQg7TJ"
      },
      "execution_count": 500,
      "outputs": [
        {
          "output_type": "stream",
          "name": "stdout",
          "text": [
            "<class 'pandas.core.frame.DataFrame'>\n",
            "RangeIndex: 6805 entries, 0 to 6804\n",
            "Data columns (total 20 columns):\n",
            " #   Column  Non-Null Count  Dtype  \n",
            "---  ------  --------------  -----  \n",
            " 0   0       6805 non-null   float64\n",
            " 1   1       6805 non-null   float64\n",
            " 2   2       6805 non-null   float64\n",
            " 3   3       6805 non-null   float64\n",
            " 4   4       6805 non-null   float64\n",
            " 5   5       6805 non-null   float64\n",
            " 6   6       6805 non-null   float64\n",
            " 7   7       6805 non-null   float64\n",
            " 8   8       6805 non-null   float64\n",
            " 9   9       6805 non-null   float64\n",
            " 10  10      6805 non-null   float64\n",
            " 11  11      6805 non-null   float64\n",
            " 12  12      6805 non-null   float64\n",
            " 13  13      6805 non-null   float64\n",
            " 14  14      6805 non-null   float64\n",
            " 15  15      6805 non-null   float64\n",
            " 16  16      6805 non-null   float64\n",
            " 17  17      6805 non-null   float64\n",
            " 18  18      6805 non-null   float64\n",
            " 19  19      6805 non-null   float64\n",
            "dtypes: float64(20)\n",
            "memory usage: 1.0 MB\n"
          ]
        },
        {
          "output_type": "display_data",
          "data": {
            "text/plain": [
              "None"
            ]
          },
          "metadata": {}
        },
        {
          "output_type": "execute_result",
          "data": {
            "text/plain": [
              "    0    1    2    3    4    5    6    7    8    9    10   11   12   13   14  \\\n",
              "0  0.0  1.0  0.0  0.0  1.0  0.0  0.0  0.0  0.0  1.0  0.0  1.0  0.0  1.0  0.0   \n",
              "1  1.0  0.0  0.0  0.0  1.0  0.0  0.0  0.0  1.0  0.0  0.0  1.0  1.0  0.0  0.0   \n",
              "2  1.0  0.0  0.0  0.0  1.0  0.0  1.0  0.0  0.0  0.0  0.0  1.0  0.0  0.0  1.0   \n",
              "3  0.0  1.0  0.0  0.0  1.0  0.0  1.0  0.0  0.0  0.0  0.0  1.0  0.0  0.0  0.0   \n",
              "4  0.0  1.0  0.0  0.0  1.0  0.0  0.0  0.0  1.0  0.0  1.0  0.0  0.0  0.0  1.0   \n",
              "\n",
              "    15    16   17   18     19  \n",
              "0  0.0  80.0  0.0  1.0  253.0  \n",
              "1  0.0  54.0  0.0  0.0  105.0  \n",
              "2  0.0  81.0  1.0  0.0  217.0  \n",
              "3  1.0  62.0  0.0  0.0   92.0  \n",
              "4  0.0  57.0  0.0  0.0  234.0  "
            ],
            "text/html": [
              "\n",
              "  <div id=\"df-fd0b5b96-abdf-4d74-b5b5-1968c969568a\">\n",
              "    <div class=\"colab-df-container\">\n",
              "      <div>\n",
              "<style scoped>\n",
              "    .dataframe tbody tr th:only-of-type {\n",
              "        vertical-align: middle;\n",
              "    }\n",
              "\n",
              "    .dataframe tbody tr th {\n",
              "        vertical-align: top;\n",
              "    }\n",
              "\n",
              "    .dataframe thead th {\n",
              "        text-align: right;\n",
              "    }\n",
              "</style>\n",
              "<table border=\"1\" class=\"dataframe\">\n",
              "  <thead>\n",
              "    <tr style=\"text-align: right;\">\n",
              "      <th></th>\n",
              "      <th>0</th>\n",
              "      <th>1</th>\n",
              "      <th>2</th>\n",
              "      <th>3</th>\n",
              "      <th>4</th>\n",
              "      <th>5</th>\n",
              "      <th>6</th>\n",
              "      <th>7</th>\n",
              "      <th>8</th>\n",
              "      <th>9</th>\n",
              "      <th>10</th>\n",
              "      <th>11</th>\n",
              "      <th>12</th>\n",
              "      <th>13</th>\n",
              "      <th>14</th>\n",
              "      <th>15</th>\n",
              "      <th>16</th>\n",
              "      <th>17</th>\n",
              "      <th>18</th>\n",
              "      <th>19</th>\n",
              "    </tr>\n",
              "  </thead>\n",
              "  <tbody>\n",
              "    <tr>\n",
              "      <th>0</th>\n",
              "      <td>0.0</td>\n",
              "      <td>1.0</td>\n",
              "      <td>0.0</td>\n",
              "      <td>0.0</td>\n",
              "      <td>1.0</td>\n",
              "      <td>0.0</td>\n",
              "      <td>0.0</td>\n",
              "      <td>0.0</td>\n",
              "      <td>0.0</td>\n",
              "      <td>1.0</td>\n",
              "      <td>0.0</td>\n",
              "      <td>1.0</td>\n",
              "      <td>0.0</td>\n",
              "      <td>1.0</td>\n",
              "      <td>0.0</td>\n",
              "      <td>0.0</td>\n",
              "      <td>80.0</td>\n",
              "      <td>0.0</td>\n",
              "      <td>1.0</td>\n",
              "      <td>253.0</td>\n",
              "    </tr>\n",
              "    <tr>\n",
              "      <th>1</th>\n",
              "      <td>1.0</td>\n",
              "      <td>0.0</td>\n",
              "      <td>0.0</td>\n",
              "      <td>0.0</td>\n",
              "      <td>1.0</td>\n",
              "      <td>0.0</td>\n",
              "      <td>0.0</td>\n",
              "      <td>0.0</td>\n",
              "      <td>1.0</td>\n",
              "      <td>0.0</td>\n",
              "      <td>0.0</td>\n",
              "      <td>1.0</td>\n",
              "      <td>1.0</td>\n",
              "      <td>0.0</td>\n",
              "      <td>0.0</td>\n",
              "      <td>0.0</td>\n",
              "      <td>54.0</td>\n",
              "      <td>0.0</td>\n",
              "      <td>0.0</td>\n",
              "      <td>105.0</td>\n",
              "    </tr>\n",
              "    <tr>\n",
              "      <th>2</th>\n",
              "      <td>1.0</td>\n",
              "      <td>0.0</td>\n",
              "      <td>0.0</td>\n",
              "      <td>0.0</td>\n",
              "      <td>1.0</td>\n",
              "      <td>0.0</td>\n",
              "      <td>1.0</td>\n",
              "      <td>0.0</td>\n",
              "      <td>0.0</td>\n",
              "      <td>0.0</td>\n",
              "      <td>0.0</td>\n",
              "      <td>1.0</td>\n",
              "      <td>0.0</td>\n",
              "      <td>0.0</td>\n",
              "      <td>1.0</td>\n",
              "      <td>0.0</td>\n",
              "      <td>81.0</td>\n",
              "      <td>1.0</td>\n",
              "      <td>0.0</td>\n",
              "      <td>217.0</td>\n",
              "    </tr>\n",
              "    <tr>\n",
              "      <th>3</th>\n",
              "      <td>0.0</td>\n",
              "      <td>1.0</td>\n",
              "      <td>0.0</td>\n",
              "      <td>0.0</td>\n",
              "      <td>1.0</td>\n",
              "      <td>0.0</td>\n",
              "      <td>1.0</td>\n",
              "      <td>0.0</td>\n",
              "      <td>0.0</td>\n",
              "      <td>0.0</td>\n",
              "      <td>0.0</td>\n",
              "      <td>1.0</td>\n",
              "      <td>0.0</td>\n",
              "      <td>0.0</td>\n",
              "      <td>0.0</td>\n",
              "      <td>1.0</td>\n",
              "      <td>62.0</td>\n",
              "      <td>0.0</td>\n",
              "      <td>0.0</td>\n",
              "      <td>92.0</td>\n",
              "    </tr>\n",
              "    <tr>\n",
              "      <th>4</th>\n",
              "      <td>0.0</td>\n",
              "      <td>1.0</td>\n",
              "      <td>0.0</td>\n",
              "      <td>0.0</td>\n",
              "      <td>1.0</td>\n",
              "      <td>0.0</td>\n",
              "      <td>0.0</td>\n",
              "      <td>0.0</td>\n",
              "      <td>1.0</td>\n",
              "      <td>0.0</td>\n",
              "      <td>1.0</td>\n",
              "      <td>0.0</td>\n",
              "      <td>0.0</td>\n",
              "      <td>0.0</td>\n",
              "      <td>1.0</td>\n",
              "      <td>0.0</td>\n",
              "      <td>57.0</td>\n",
              "      <td>0.0</td>\n",
              "      <td>0.0</td>\n",
              "      <td>234.0</td>\n",
              "    </tr>\n",
              "  </tbody>\n",
              "</table>\n",
              "</div>\n",
              "      <button class=\"colab-df-convert\" onclick=\"convertToInteractive('df-fd0b5b96-abdf-4d74-b5b5-1968c969568a')\"\n",
              "              title=\"Convert this dataframe to an interactive table.\"\n",
              "              style=\"display:none;\">\n",
              "        \n",
              "  <svg xmlns=\"http://www.w3.org/2000/svg\" height=\"24px\"viewBox=\"0 0 24 24\"\n",
              "       width=\"24px\">\n",
              "    <path d=\"M0 0h24v24H0V0z\" fill=\"none\"/>\n",
              "    <path d=\"M18.56 5.44l.94 2.06.94-2.06 2.06-.94-2.06-.94-.94-2.06-.94 2.06-2.06.94zm-11 1L8.5 8.5l.94-2.06 2.06-.94-2.06-.94L8.5 2.5l-.94 2.06-2.06.94zm10 10l.94 2.06.94-2.06 2.06-.94-2.06-.94-.94-2.06-.94 2.06-2.06.94z\"/><path d=\"M17.41 7.96l-1.37-1.37c-.4-.4-.92-.59-1.43-.59-.52 0-1.04.2-1.43.59L10.3 9.45l-7.72 7.72c-.78.78-.78 2.05 0 2.83L4 21.41c.39.39.9.59 1.41.59.51 0 1.02-.2 1.41-.59l7.78-7.78 2.81-2.81c.8-.78.8-2.07 0-2.86zM5.41 20L4 18.59l7.72-7.72 1.47 1.35L5.41 20z\"/>\n",
              "  </svg>\n",
              "      </button>\n",
              "      \n",
              "  <style>\n",
              "    .colab-df-container {\n",
              "      display:flex;\n",
              "      flex-wrap:wrap;\n",
              "      gap: 12px;\n",
              "    }\n",
              "\n",
              "    .colab-df-convert {\n",
              "      background-color: #E8F0FE;\n",
              "      border: none;\n",
              "      border-radius: 50%;\n",
              "      cursor: pointer;\n",
              "      display: none;\n",
              "      fill: #1967D2;\n",
              "      height: 32px;\n",
              "      padding: 0 0 0 0;\n",
              "      width: 32px;\n",
              "    }\n",
              "\n",
              "    .colab-df-convert:hover {\n",
              "      background-color: #E2EBFA;\n",
              "      box-shadow: 0px 1px 2px rgba(60, 64, 67, 0.3), 0px 1px 3px 1px rgba(60, 64, 67, 0.15);\n",
              "      fill: #174EA6;\n",
              "    }\n",
              "\n",
              "    [theme=dark] .colab-df-convert {\n",
              "      background-color: #3B4455;\n",
              "      fill: #D2E3FC;\n",
              "    }\n",
              "\n",
              "    [theme=dark] .colab-df-convert:hover {\n",
              "      background-color: #434B5C;\n",
              "      box-shadow: 0px 1px 3px 1px rgba(0, 0, 0, 0.15);\n",
              "      filter: drop-shadow(0px 1px 2px rgba(0, 0, 0, 0.3));\n",
              "      fill: #FFFFFF;\n",
              "    }\n",
              "  </style>\n",
              "\n",
              "      <script>\n",
              "        const buttonEl =\n",
              "          document.querySelector('#df-fd0b5b96-abdf-4d74-b5b5-1968c969568a button.colab-df-convert');\n",
              "        buttonEl.style.display =\n",
              "          google.colab.kernel.accessAllowed ? 'block' : 'none';\n",
              "\n",
              "        async function convertToInteractive(key) {\n",
              "          const element = document.querySelector('#df-fd0b5b96-abdf-4d74-b5b5-1968c969568a');\n",
              "          const dataTable =\n",
              "            await google.colab.kernel.invokeFunction('convertToInteractive',\n",
              "                                                     [key], {});\n",
              "          if (!dataTable) return;\n",
              "\n",
              "          const docLinkHtml = 'Like what you see? Visit the ' +\n",
              "            '<a target=\"_blank\" href=https://colab.research.google.com/notebooks/data_table.ipynb>data table notebook</a>'\n",
              "            + ' to learn more about interactive tables.';\n",
              "          element.innerHTML = '';\n",
              "          dataTable['output_type'] = 'display_data';\n",
              "          await google.colab.output.renderOutput(dataTable, element);\n",
              "          const docLink = document.createElement('div');\n",
              "          docLink.innerHTML = docLinkHtml;\n",
              "          element.appendChild(docLink);\n",
              "        }\n",
              "      </script>\n",
              "    </div>\n",
              "  </div>\n",
              "  "
            ]
          },
          "metadata": {},
          "execution_count": 500
        }
      ]
    },
    {
      "cell_type": "code",
      "source": [
        "# Build Random Forest Classifier and Evaluate the Model\n",
        "clf_rf2 = RandomForestClassifier(random_state=777)\n",
        "clf_rf2 = clf_rf.fit(X_train_df2,y_train)\n",
        "y_pred_rf2 = clf_rf2.predict(X_test_df)\n",
        "acc = accuracy_score(y_test, y_pred_rf2)\n",
        "print('Testing-set Accuracy score is:', acc)\n",
        "print('Training-set Accuracy score is:',accuracy_score(y_train,clf_rf2.predict(X_train_df2)))\n",
        "cm = confusion_matrix(y_test, y_pred_rf)\n",
        "sns.heatmap(cm, annot = True, fmt = \"d\")\n",
        "target_names = ['No Stroke', 'Stroke']\n",
        "print(classification_report(y_test, y_pred_rf2, target_names=target_names))"
      ],
      "metadata": {
        "colab": {
          "base_uri": "https://localhost:8080/",
          "height": 0
        },
        "id": "KdJ15weBgjCa",
        "outputId": "0043db38-7423-49ac-ec72-e43a5b48a2a9"
      },
      "execution_count": 501,
      "outputs": [
        {
          "output_type": "stream",
          "name": "stdout",
          "text": [
            "Testing-set Accuracy score is: 0.9838875557079191\n",
            "Training-set Accuracy score is: 1.0\n",
            "              precision    recall  f1-score   support\n",
            "\n",
            "   No Stroke       1.00      0.97      0.98      1459\n",
            "      Stroke       0.97      1.00      0.98      1458\n",
            "\n",
            "    accuracy                           0.98      2917\n",
            "   macro avg       0.98      0.98      0.98      2917\n",
            "weighted avg       0.98      0.98      0.98      2917\n",
            "\n"
          ]
        },
        {
          "output_type": "display_data",
          "data": {
            "text/plain": [
              "<Figure size 432x288 with 2 Axes>"
            ],
            "image/png": "[encoded data removed]"
          },
          "metadata": {
            "needs_background": "light"
          }
        }
      ]
    },
    {
      "cell_type": "code",
      "source": [
        "# Build Gradient Boosting Classifier and Evaluate the Model\n",
        "gb2 = GradientBoostingClassifier()\n",
        "gb2.fit(X_train_df2, y_train)\n",
        "gb_pred2 = gb2.predict(X_test_df2)\n",
        "acc = accuracy_score(y_test, gb_pred2)\n",
        "print(\"Gradient Boosting Classifier Model Accuracy score is:\", acc)\n",
        "cm = confusion_matrix(y_test, gb_pred2)\n",
        "sns.heatmap(cm, annot = True, fmt=\"d\")\n",
        "target_names = ['No Stroke', 'Stroke']\n",
        "print(classification_report(y_test, gb_pred2, target_names=target_names))"
      ],
      "metadata": {
        "colab": {
          "base_uri": "https://localhost:8080/",
          "height": 0
        },
        "id": "5i8U0-1-iKat",
        "outputId": "f7452476-fa09-4a87-e585-7664097ca7ac"
      },
      "execution_count": 502,
      "outputs": [
        {
          "output_type": "stream",
          "name": "stdout",
          "text": [
            "Gradient Boosting Classifier Model Accuracy score is: 0.8306479259513199\n",
            "              precision    recall  f1-score   support\n",
            "\n",
            "   No Stroke       0.88      0.77      0.82      1459\n",
            "      Stroke       0.79      0.90      0.84      1458\n",
            "\n",
            "    accuracy                           0.83      2917\n",
            "   macro avg       0.84      0.83      0.83      2917\n",
            "weighted avg       0.84      0.83      0.83      2917\n",
            "\n"
          ]
        },
        {
          "output_type": "display_data",
          "data": {
            "text/plain": [
              "<Figure size 432x288 with 2 Axes>"
            ],
            "image/png": "[encoded data removed]"
          },
          "metadata": {
            "needs_background": "light"
          }
        }
      ]
    },
    {
      "cell_type": "markdown",
      "source": [
        "# Results"
      ],
      "metadata": {
        "id": "QOzHkrK3vJJf"
      }
    },
    {
      "cell_type": "markdown",
      "source": [
        "All models tested performed very similiarly, with accuracy scores at or around 93.7%, before oversampling was applied.\n",
        "\n",
        "After oversampling was applied all models preformed very differently, giving a better outcome of results. \n",
        "\n",
        "The Random Forest Classifier had an accuracy of 98.3% with a recall of 97% and a precision of 100%.\n",
        "\n",
        "Therefore for my production model I will choose the Random Forest Classifier Model, since it preformed the best on all metrics.\n",
        "\n",
        "\n"
      ],
      "metadata": {
        "id": "6krD9GxpkFjR"
      }
    },
    {
      "cell_type": "markdown",
      "source": [
        "The data shows that if you're a 65+ y/o Male, Smoker, with Hypertension and Heart Disease with elevated Avg Glucose Level, has been married and had kids, and worked in the Private Sector then you would be an indivdual with the absolute highest risk to have a stroke.\n",
        "\n"
      ],
      "metadata": {
        "id": "RCru4kTpmG8N"
      }
    },
    {
      "cell_type": "code",
      "source": [
        "# Random Forest Classifier and Evaluate the Model\n",
        "clf_rf = RandomForestClassifier(random_state=777)\n",
        "clf_rf = clf_rf.fit(X_train_df,y_train)\n",
        "y_pred_rf = clf_rf.predict(X_test_df)\n",
        "acc = accuracy_score(y_test, y_pred_rf)\n",
        "print('Testing-set Accuracy score is:', acc)\n",
        "print('Training-set Accuracy score is:',accuracy_score(y_train,clf_rf.predict(X_train_df)))\n",
        "cm = confusion_matrix(y_test, y_pred_rf)\n",
        "sns.heatmap(cm, annot = True, fmt = \"d\")\n",
        "target_names = ['No Stroke', 'Stroke']\n",
        "print(classification_report(y_test, y_pred_rf, target_names=target_names))"
      ],
      "metadata": {
        "colab": {
          "base_uri": "https://localhost:8080/",
          "height": 0
        },
        "outputId": "1a20ef81-1c37-4fff-91cc-861443ccbabc",
        "id": "iZ5Scmj9qBvz"
      },
      "execution_count": 503,
      "outputs": [
        {
          "output_type": "stream",
          "name": "stdout",
          "text": [
            "Testing-set Accuracy score is: 0.9838875557079191\n",
            "Training-set Accuracy score is: 1.0\n",
            "              precision    recall  f1-score   support\n",
            "\n",
            "   No Stroke       1.00      0.97      0.98      1459\n",
            "      Stroke       0.97      1.00      0.98      1458\n",
            "\n",
            "    accuracy                           0.98      2917\n",
            "   macro avg       0.98      0.98      0.98      2917\n",
            "weighted avg       0.98      0.98      0.98      2917\n",
            "\n"
          ]
        },
        {
          "output_type": "display_data",
          "data": {
            "text/plain": [
              "<Figure size 432x288 with 2 Axes>"
            ],
            "image/png": "[encoded data removed]"
          },
          "metadata": {
            "needs_background": "light"
          }
        }
      ]
    }
  ]
}